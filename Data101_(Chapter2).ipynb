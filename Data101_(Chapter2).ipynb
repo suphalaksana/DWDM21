{
  "nbformat": 4,
  "nbformat_minor": 0,
  "metadata": {
    "colab": {
      "name": "Data101 (Chapter2).ipynb",
      "provenance": [],
      "toc_visible": true,
      "authorship_tag": "ABX9TyMUHllWkXW853+Uov4m91S/",
      "include_colab_link": true
    },
    "kernelspec": {
      "name": "python3",
      "display_name": "Python 3"
    },
    "language_info": {
      "name": "python"
    }
  },
  "cells": [
    {
      "cell_type": "markdown",
      "metadata": {
        "id": "view-in-github",
        "colab_type": "text"
      },
      "source": [
        "<a href=\"https://colab.research.google.com/github/suphalaksana/DWDM21/blob/main/Data101_(Chapter2).ipynb\" target=\"_parent\"><img src=\"https://colab.research.google.com/assets/colab-badge.svg\" alt=\"Open In Colab\"/></a>"
      ]
    },
    {
      "cell_type": "markdown",
      "metadata": {
        "id": "kRQAWrzWzVHI"
      },
      "source": [
        "ข้อความที่อยู่ใน textbook จะเป็นภาษา markdown"
      ]
    },
    {
      "cell_type": "markdown",
      "metadata": {
        "id": "S1TB1YprtEV6"
      },
      "source": [
        "ข้อดีหนึ่งของ python  คือมี package  สำหรับทำงานมากมากมาย  ซึ่ง pandas \n",
        "\n",
        "เป็น package สำหรับการทำงานกับข้อมูลที่อยู่ในรูปแบบตาราง โดย pandas \n",
        "\n",
        "จะเรียกตารางว่า dataframe"
      ]
    },
    {
      "cell_type": "code",
      "metadata": {
        "id": "5c9WNVhTrco_"
      },
      "source": [
        "import  pandas #ใช้ในการจัดการข้อมูลเเพ็คเกจนี้ ชื่อ pandas  #วิธีเรียกใช้ package คือ import ตามด้วยชื่อ package"
      ],
      "execution_count": 1,
      "outputs": []
    },
    {
      "cell_type": "code",
      "metadata": {
        "id": "A2iF10IasdPT"
      },
      "source": [
        "import pandas as pd  #เหมือนกับตัวข้างบนแต่ตั้งชื่อให้กับ package ที่โหลดมาใหม่ว่า pd"
      ],
      "execution_count": 2,
      "outputs": []
    },
    {
      "cell_type": "markdown",
      "metadata": {
        "id": "gWG8NbS4uI2X"
      },
      "source": [
        "ไฟล์ .csv  (csv = comma separated  values)  เป็นไฟล์หลักที่เข้าจะใช้ในวิชานี้\n",
        "\n",
        "เป็นไฟล์ที่เก็บข้อมูลแบบตาราง  คอมอ่านง่าย คนก็อ่านง่าย"
      ]
    },
    {
      "cell_type": "markdown",
      "metadata": {
        "id": "3ITYGVGsuu7M"
      },
      "source": [
        "##ตัวอย่าง"
      ]
    },
    {
      "cell_type": "markdown",
      "metadata": {
        "id": "a2qP_wBrvDCP"
      },
      "source": [
        "สร้างไฟล์  csv -- \n",
        "1.คลิกตรงไฟล์ทางซ้าย\n",
        "\n",
        "2.กดคลิกขวาที่ว่างตรงทางซ้าย เลือก new file\n",
        "\n",
        "3. เปลี่ยนชื่อไฟล์ ยังไม่ต้องใส่.csv\n",
        "\n",
        "4. double click ที่ ไฟล์ทางซ้าย มันจะเด้งช่องทางขวาให้ใส่ข้อมูลที่เราจะสร้าง พอพิมพ์เสร็จกดกาช่องออกเลย\n",
        "\n",
        "5.เปลี่ยนชื่อไฟล์ทางซ้าย ใส่.csv"
      ]
    },
    {
      "cell_type": "code",
      "metadata": {
        "id": "8sN8nSN_t6Tv"
      },
      "source": [
        "data_df = pd.read_csv('data.csv')"
      ],
      "execution_count": 4,
      "outputs": []
    },
    {
      "cell_type": "code",
      "metadata": {
        "colab": {
          "base_uri": "https://localhost:8080/",
          "height": 141
        },
        "id": "jjUUS1BEwpDn",
        "outputId": "edddd73b-683a-476b-ab3c-c53774bda181"
      },
      "source": [
        "data_df  #โหลดตารางเข้ามาใน memory ของ python"
      ],
      "execution_count": 5,
      "outputs": [
        {
          "output_type": "execute_result",
          "data": {
            "text/html": [
              "<div>\n",
              "<style scoped>\n",
              "    .dataframe tbody tr th:only-of-type {\n",
              "        vertical-align: middle;\n",
              "    }\n",
              "\n",
              "    .dataframe tbody tr th {\n",
              "        vertical-align: top;\n",
              "    }\n",
              "\n",
              "    .dataframe thead th {\n",
              "        text-align: right;\n",
              "    }\n",
              "</style>\n",
              "<table border=\"1\" class=\"dataframe\">\n",
              "  <thead>\n",
              "    <tr style=\"text-align: right;\">\n",
              "      <th></th>\n",
              "      <th>name</th>\n",
              "      <th>age</th>\n",
              "      <th>city</th>\n",
              "    </tr>\n",
              "  </thead>\n",
              "  <tbody>\n",
              "    <tr>\n",
              "      <th>0</th>\n",
              "      <td>Tom</td>\n",
              "      <td>27</td>\n",
              "      <td>Khon Kaen</td>\n",
              "    </tr>\n",
              "    <tr>\n",
              "      <th>1</th>\n",
              "      <td>Paul</td>\n",
              "      <td>15</td>\n",
              "      <td>Bangkok</td>\n",
              "    </tr>\n",
              "    <tr>\n",
              "      <th>2</th>\n",
              "      <td>Sarah</td>\n",
              "      <td>49</td>\n",
              "      <td>London</td>\n",
              "    </tr>\n",
              "  </tbody>\n",
              "</table>\n",
              "</div>"
            ],
            "text/plain": [
              "    name  age       city\n",
              "0    Tom   27  Khon Kaen\n",
              "1   Paul   15    Bangkok\n",
              "2  Sarah   49     London"
            ]
          },
          "metadata": {
            "tags": []
          },
          "execution_count": 5
        }
      ]
    },
    {
      "cell_type": "code",
      "metadata": {
        "colab": {
          "base_uri": "https://localhost:8080/",
          "height": 141
        },
        "id": "K4Pxc_EDwsN_",
        "outputId": "041bce52-70ad-4f6a-e8ff-875aca678d0b"
      },
      "source": [
        "data_df2 = pandas.read_csv('data.csv') #เหมือนกันกับข้างบน\n",
        "data_df2"
      ],
      "execution_count": 6,
      "outputs": [
        {
          "output_type": "execute_result",
          "data": {
            "text/html": [
              "<div>\n",
              "<style scoped>\n",
              "    .dataframe tbody tr th:only-of-type {\n",
              "        vertical-align: middle;\n",
              "    }\n",
              "\n",
              "    .dataframe tbody tr th {\n",
              "        vertical-align: top;\n",
              "    }\n",
              "\n",
              "    .dataframe thead th {\n",
              "        text-align: right;\n",
              "    }\n",
              "</style>\n",
              "<table border=\"1\" class=\"dataframe\">\n",
              "  <thead>\n",
              "    <tr style=\"text-align: right;\">\n",
              "      <th></th>\n",
              "      <th>name</th>\n",
              "      <th>age</th>\n",
              "      <th>city</th>\n",
              "    </tr>\n",
              "  </thead>\n",
              "  <tbody>\n",
              "    <tr>\n",
              "      <th>0</th>\n",
              "      <td>Tom</td>\n",
              "      <td>27</td>\n",
              "      <td>Khon Kaen</td>\n",
              "    </tr>\n",
              "    <tr>\n",
              "      <th>1</th>\n",
              "      <td>Paul</td>\n",
              "      <td>15</td>\n",
              "      <td>Bangkok</td>\n",
              "    </tr>\n",
              "    <tr>\n",
              "      <th>2</th>\n",
              "      <td>Sarah</td>\n",
              "      <td>49</td>\n",
              "      <td>London</td>\n",
              "    </tr>\n",
              "  </tbody>\n",
              "</table>\n",
              "</div>"
            ],
            "text/plain": [
              "    name  age       city\n",
              "0    Tom   27  Khon Kaen\n",
              "1   Paul   15    Bangkok\n",
              "2  Sarah   49     London"
            ]
          },
          "metadata": {
            "tags": []
          },
          "execution_count": 6
        }
      ]
    },
    {
      "cell_type": "markdown",
      "metadata": {
        "id": "M9ty_lbQzBZq"
      },
      "source": [
        "# Basic Python\n",
        "\n",
        "##variable  ตัวแปร"
      ]
    },
    {
      "cell_type": "markdown",
      "metadata": {
        "id": "AkbxLxSQ1CQn"
      },
      "source": [
        "ข้อกำหนดในการตั้งชื่อตัวแปร\n",
        "\n",
        "1.ชื่อห้ามมีเว้นวรรค\n",
        "\n",
        "2.(พยายาม)ใช้ภาษาอังกฤษ\n",
        "\n",
        "3.ตัวเล็กกับตัวใหญ่แตกต่างกัน (case sensitive)\n",
        "\n",
        "4.ห้ามใช้ตัวเลขเป็นตัวหน้า"
      ]
    },
    {
      "cell_type": "code",
      "metadata": {
        "id": "0V4v-lSTxhgV"
      },
      "source": [
        "variable_a = 12    #ไม่มี quote\n",
        "variable_b = 'abcde'  # เรียกว่า quote (โค้ด)  เป็น string หรือตัวหนังสือ\n",
        "variable_c = variable_a   #ค่าตัวนี้ คือ 12"
      ],
      "execution_count": 7,
      "outputs": []
    },
    {
      "cell_type": "code",
      "metadata": {
        "colab": {
          "base_uri": "https://localhost:8080/"
        },
        "id": "j3RQt3l1z7bQ",
        "outputId": "54255d80-7692-471c-baa1-91ca9db9ee57"
      },
      "source": [
        "variable_a"
      ],
      "execution_count": 8,
      "outputs": [
        {
          "output_type": "execute_result",
          "data": {
            "text/plain": [
              "12"
            ]
          },
          "metadata": {
            "tags": []
          },
          "execution_count": 8
        }
      ]
    },
    {
      "cell_type": "code",
      "metadata": {
        "colab": {
          "base_uri": "https://localhost:8080/",
          "height": 35
        },
        "id": "WXtVH10I0m34",
        "outputId": "69b1271a-7e73-4e58-c4d4-41f994954be1"
      },
      "source": [
        "variable_b"
      ],
      "execution_count": 9,
      "outputs": [
        {
          "output_type": "execute_result",
          "data": {
            "application/vnd.google.colaboratory.intrinsic+json": {
              "type": "string"
            },
            "text/plain": [
              "'abcde'"
            ]
          },
          "metadata": {
            "tags": []
          },
          "execution_count": 9
        }
      ]
    },
    {
      "cell_type": "code",
      "metadata": {
        "colab": {
          "base_uri": "https://localhost:8080/"
        },
        "id": "qwtuZuQe0pJa",
        "outputId": "8370b810-087d-4e23-e931-23de16a6da0e"
      },
      "source": [
        "variable_c  #รันค่าออกมาดู"
      ],
      "execution_count": 10,
      "outputs": [
        {
          "output_type": "execute_result",
          "data": {
            "text/plain": [
              "12"
            ]
          },
          "metadata": {
            "tags": []
          },
          "execution_count": 10
        }
      ]
    },
    {
      "cell_type": "code",
      "metadata": {
        "colab": {
          "base_uri": "https://localhost:8080/",
          "height": 129
        },
        "id": "QInRYT1z0rLn",
        "outputId": "07de1b44-3ef9-42c4-f519-e200b346b7c3"
      },
      "source": [
        "#ชื่อห้ามมีเว้นวรรค\n",
        "variable a  = 6"
      ],
      "execution_count": 11,
      "outputs": [
        {
          "output_type": "error",
          "ename": "SyntaxError",
          "evalue": "ignored",
          "traceback": [
            "\u001b[0;36m  File \u001b[0;32m\"<ipython-input-11-99d606655a06>\"\u001b[0;36m, line \u001b[0;32m2\u001b[0m\n\u001b[0;31m    variable a  = 6\u001b[0m\n\u001b[0m             ^\u001b[0m\n\u001b[0;31mSyntaxError\u001b[0m\u001b[0;31m:\u001b[0m invalid syntax\n"
          ]
        }
      ]
    },
    {
      "cell_type": "code",
      "metadata": {
        "colab": {
          "base_uri": "https://localhost:8080/"
        },
        "id": "w8I3U6WP1_dR",
        "outputId": "a0042ccd-8693-459f-b1a3-88a98319351c"
      },
      "source": [
        "#colab ใช้ภาษาไทยตั้งชื่อตัวแปรได้แต่ไม่ควรใช้\n",
        "#(พยายาม)ใช้ภาษาอังกฤษ\n",
        "\n",
        "ตัวแปร = 3\n",
        "ตัวแปร"
      ],
      "execution_count": 12,
      "outputs": [
        {
          "output_type": "execute_result",
          "data": {
            "text/plain": [
              "3"
            ]
          },
          "metadata": {
            "tags": []
          },
          "execution_count": 12
        }
      ]
    },
    {
      "cell_type": "code",
      "metadata": {
        "colab": {
          "base_uri": "https://localhost:8080/"
        },
        "id": "333Tm7tb2KzN",
        "outputId": "85f64538-875a-402c-f987-eab953654ee3"
      },
      "source": [
        "#ตัวเล็กกับตัวใหญ่แตกต่างกัน (case sensitive)\n",
        "v_a = 1\n",
        "V_a =2 \n",
        "print(v_a)\n",
        "print(V_a)"
      ],
      "execution_count": 13,
      "outputs": [
        {
          "output_type": "stream",
          "text": [
            "1\n",
            "2\n"
          ],
          "name": "stdout"
        }
      ]
    },
    {
      "cell_type": "code",
      "metadata": {
        "colab": {
          "base_uri": "https://localhost:8080/"
        },
        "id": "XIPpHzvI2sjZ",
        "outputId": "61a5c441-9330-4b50-a3bd-52091b68bff6"
      },
      "source": [
        "#ตัวเล็กกับตัวใหญ่แตกต่างกัน (case sensitive)\n",
        "v_a = 1\n",
        "v_a =2 \n",
        "print(v_a)\n",
        "print(v_a)"
      ],
      "execution_count": 14,
      "outputs": [
        {
          "output_type": "stream",
          "text": [
            "2\n",
            "2\n"
          ],
          "name": "stdout"
        }
      ]
    },
    {
      "cell_type": "code",
      "metadata": {
        "colab": {
          "base_uri": "https://localhost:8080/"
        },
        "id": "j8UOFM9s3CV4",
        "outputId": "9324a364-1318-452a-dec0-67c0f1ad345c"
      },
      "source": [
        "#ห้ามใช้ตัวเลขเป็นตัวหน้า\n",
        "variable = 1\n",
        "print(variable)"
      ],
      "execution_count": 15,
      "outputs": [
        {
          "output_type": "stream",
          "text": [
            "1\n"
          ],
          "name": "stdout"
        }
      ]
    },
    {
      "cell_type": "code",
      "metadata": {
        "id": "b4fMAi1i3brO"
      },
      "source": [
        "#ตัวอย่างการตั้งชื่อที่ถูก\n",
        "variable_a = 12    #ไม่มี quote\n",
        "variable_b = 'abcde'  # เรียกว่า quote (โค้ด)  เป็น string หรือตัวหนังสือ\n",
        "variable_c = variable_a   #ค่าตัวนี้ คือ 12\n",
        "variable_d = -41.2\n",
        "variable_4 = \"KKU\"  # \"\"  เรียกว่า double quote"
      ],
      "execution_count": 16,
      "outputs": []
    },
    {
      "cell_type": "code",
      "metadata": {
        "colab": {
          "base_uri": "https://localhost:8080/"
        },
        "id": "AuJzPfIu39_m",
        "outputId": "170a2516-8ae1-42c6-9ea4-e6bdabf1fba7"
      },
      "source": [
        "variable_x =variable_c + variable_d  #นำตัวแปรมา + - * หาร กันได้\n",
        "print(variable_x) "
      ],
      "execution_count": 17,
      "outputs": [
        {
          "output_type": "stream",
          "text": [
            "-29.200000000000003\n"
          ],
          "name": "stdout"
        }
      ]
    },
    {
      "cell_type": "code",
      "metadata": {
        "colab": {
          "base_uri": "https://localhost:8080/",
          "height": 162
        },
        "id": "o16r9y8r4Ii8",
        "outputId": "77909a67-bb46-4556-b5fe-a499d7bb370f"
      },
      "source": [
        "variable_a + variable_b #เอาตัวเลขไปบวกตัวหนังสือไม่ได้"
      ],
      "execution_count": 18,
      "outputs": [
        {
          "output_type": "error",
          "ename": "TypeError",
          "evalue": "ignored",
          "traceback": [
            "\u001b[0;31m---------------------------------------------------------------------------\u001b[0m",
            "\u001b[0;31mTypeError\u001b[0m                                 Traceback (most recent call last)",
            "\u001b[0;32m<ipython-input-18-800914d06722>\u001b[0m in \u001b[0;36m<module>\u001b[0;34m()\u001b[0m\n\u001b[0;32m----> 1\u001b[0;31m \u001b[0mvariable_a\u001b[0m \u001b[0;34m+\u001b[0m \u001b[0mvariable_b\u001b[0m \u001b[0;31m#เอาตัวเลขไปบวกตัวหนังสือไม่ได้\u001b[0m\u001b[0;34m\u001b[0m\u001b[0;34m\u001b[0m\u001b[0m\n\u001b[0m",
            "\u001b[0;31mTypeError\u001b[0m: unsupported operand type(s) for +: 'int' and 'str'"
          ]
        }
      ]
    },
    {
      "cell_type": "code",
      "metadata": {
        "colab": {
          "base_uri": "https://localhost:8080/"
        },
        "id": "yb_WhUys5uh7",
        "outputId": "17b58d48-045f-47c2-d02f-b1b649561464"
      },
      "source": [
        "print(variable_b + variable_4)  #ตัวหนังสือ+ ตัวหนังสือได้ string  เอามาต่อกัน "
      ],
      "execution_count": 19,
      "outputs": [
        {
          "output_type": "stream",
          "text": [
            "abcdeKKU\n"
          ],
          "name": "stdout"
        }
      ]
    },
    {
      "cell_type": "markdown",
      "metadata": {
        "id": "8HMagNxf6gy4"
      },
      "source": [
        "##Casting   int() float()  str()\n",
        "\n",
        "เราสามารถเปลี่ยนชนิดของตัวแปรได้"
      ]
    },
    {
      "cell_type": "code",
      "metadata": {
        "colab": {
          "base_uri": "https://localhost:8080/"
        },
        "id": "Bibe3V8559I8",
        "outputId": "123d022d-016e-4dc5-98b6-e52ecc97b4e1"
      },
      "source": [
        "print(variable_x)\n",
        "print(int(variable_x))  #ตัดทศนิยมออกให้เหลือจำนวนเต็ม"
      ],
      "execution_count": 20,
      "outputs": [
        {
          "output_type": "stream",
          "text": [
            "-29.200000000000003\n",
            "-29\n"
          ],
          "name": "stdout"
        }
      ]
    },
    {
      "cell_type": "code",
      "metadata": {
        "colab": {
          "base_uri": "https://localhost:8080/"
        },
        "id": "yyqZ2JAk7Gxt",
        "outputId": "1aed21b3-7e43-4a15-a54f-13efa4d1e458"
      },
      "source": [
        "v_x = str(variable_x)\n",
        "print(v_x)"
      ],
      "execution_count": 21,
      "outputs": [
        {
          "output_type": "stream",
          "text": [
            "-29.200000000000003\n"
          ],
          "name": "stdout"
        }
      ]
    },
    {
      "cell_type": "code",
      "metadata": {
        "colab": {
          "base_uri": "https://localhost:8080/",
          "height": 162
        },
        "id": "bg9lCpll7W-P",
        "outputId": "085ad663-86dc-4b1c-d710-d75219217c97"
      },
      "source": [
        "v_x + variable_a  #เราทำให้ v_x เป็น string เลยทำให้บวกกับตัวเลขไม่ได้"
      ],
      "execution_count": 22,
      "outputs": [
        {
          "output_type": "error",
          "ename": "TypeError",
          "evalue": "ignored",
          "traceback": [
            "\u001b[0;31m---------------------------------------------------------------------------\u001b[0m",
            "\u001b[0;31mTypeError\u001b[0m                                 Traceback (most recent call last)",
            "\u001b[0;32m<ipython-input-22-e839cc33061d>\u001b[0m in \u001b[0;36m<module>\u001b[0;34m()\u001b[0m\n\u001b[0;32m----> 1\u001b[0;31m \u001b[0mv_x\u001b[0m \u001b[0;34m+\u001b[0m \u001b[0mvariable_a\u001b[0m  \u001b[0;31m#เราทำให้ v_x เป็น string เลยทำให้บวกกับตัวเลขไม่ได้\u001b[0m\u001b[0;34m\u001b[0m\u001b[0;34m\u001b[0m\u001b[0m\n\u001b[0m",
            "\u001b[0;31mTypeError\u001b[0m: can only concatenate str (not \"int\") to str"
          ]
        }
      ]
    },
    {
      "cell_type": "code",
      "metadata": {
        "colab": {
          "base_uri": "https://localhost:8080/",
          "height": 162
        },
        "id": "bqWx6_4B7f26",
        "outputId": "7f3206f9-56de-436e-cc9d-aa737c81a58b"
      },
      "source": [
        "variable_a + v_x  #เหมือนกับข้างบน แต่โปรแกรมน่าจะอ่านค่าข้างหน้าก่อนว่าจะเอาไปบวกกับอะไร"
      ],
      "execution_count": 23,
      "outputs": [
        {
          "output_type": "error",
          "ename": "TypeError",
          "evalue": "ignored",
          "traceback": [
            "\u001b[0;31m---------------------------------------------------------------------------\u001b[0m",
            "\u001b[0;31mTypeError\u001b[0m                                 Traceback (most recent call last)",
            "\u001b[0;32m<ipython-input-23-359be35df4d7>\u001b[0m in \u001b[0;36m<module>\u001b[0;34m()\u001b[0m\n\u001b[0;32m----> 1\u001b[0;31m \u001b[0mvariable_a\u001b[0m \u001b[0;34m+\u001b[0m \u001b[0mv_x\u001b[0m  \u001b[0;31m#เหมือนกับข้างบน แต่โปรแกรมน่าจะอ่านค่าข้างหน้าก่อนว่าจะเอาไปบวกกับอะไร\u001b[0m\u001b[0;34m\u001b[0m\u001b[0;34m\u001b[0m\u001b[0m\n\u001b[0m",
            "\u001b[0;31mTypeError\u001b[0m: unsupported operand type(s) for +: 'int' and 'str'"
          ]
        }
      ]
    },
    {
      "cell_type": "code",
      "metadata": {
        "colab": {
          "base_uri": "https://localhost:8080/",
          "height": 35
        },
        "id": "I5f0moWA7tEB",
        "outputId": "729f86a4-09e2-4df8-de83-e0cf33d076af"
      },
      "source": [
        "v_x  #พิมพ์ชื่อตัวแปรธรรมดา จะแสดงว่าในmemory หน้าตาเป็นแบบนี้เลย มี quote"
      ],
      "execution_count": 24,
      "outputs": [
        {
          "output_type": "execute_result",
          "data": {
            "application/vnd.google.colaboratory.intrinsic+json": {
              "type": "string"
            },
            "text/plain": [
              "'-29.200000000000003'"
            ]
          },
          "metadata": {
            "tags": []
          },
          "execution_count": 24
        }
      ]
    },
    {
      "cell_type": "code",
      "metadata": {
        "colab": {
          "base_uri": "https://localhost:8080/"
        },
        "id": "X-s6Xzi97zD9",
        "outputId": "edc7c1e8-f368-4019-bfb4-d7e5346451ee"
      },
      "source": [
        "float(v_x)  #เปลี่ยนมาเป็นตัวเลข"
      ],
      "execution_count": 25,
      "outputs": [
        {
          "output_type": "execute_result",
          "data": {
            "text/plain": [
              "-29.200000000000003"
            ]
          },
          "metadata": {
            "tags": []
          },
          "execution_count": 25
        }
      ]
    },
    {
      "cell_type": "markdown",
      "metadata": {
        "id": "WRE0KuEh8h4p"
      },
      "source": [
        "##Data structure\n",
        "\n",
        "###list()  เอามาเรียงต่อกัน  ลำดับมีความสำคัญ"
      ]
    },
    {
      "cell_type": "code",
      "metadata": {
        "id": "VFplZpss8DuT"
      },
      "source": [
        "list_a = [1,2,0.2,'abs,'] # square brackets\n",
        "list_b = [2,'xyz',list_a,[1,2,0.0]]"
      ],
      "execution_count": 26,
      "outputs": []
    },
    {
      "cell_type": "code",
      "metadata": {
        "colab": {
          "base_uri": "https://localhost:8080/"
        },
        "id": "kRqQBV_Z9Yw9",
        "outputId": "7b7f5ce6-1175-4e6b-87df-409fed8432d1"
      },
      "source": [
        "list_a"
      ],
      "execution_count": 27,
      "outputs": [
        {
          "output_type": "execute_result",
          "data": {
            "text/plain": [
              "[1, 2, 0.2, 'abs,']"
            ]
          },
          "metadata": {
            "tags": []
          },
          "execution_count": 27
        }
      ]
    },
    {
      "cell_type": "code",
      "metadata": {
        "colab": {
          "base_uri": "https://localhost:8080/"
        },
        "id": "uTNCON9U9n--",
        "outputId": "8c1e7ea9-8ded-40f4-e696-b8cf52c71a54"
      },
      "source": [
        "list_b"
      ],
      "execution_count": 28,
      "outputs": [
        {
          "output_type": "execute_result",
          "data": {
            "text/plain": [
              "[2, 'xyz', [1, 2, 0.2, 'abs,'], [1, 2, 0.0]]"
            ]
          },
          "metadata": {
            "tags": []
          },
          "execution_count": 28
        }
      ]
    },
    {
      "cell_type": "code",
      "metadata": {
        "colab": {
          "base_uri": "https://localhost:8080/"
        },
        "id": "znk2q4Lg9qnO",
        "outputId": "8cb34b2d-4621-4f7a-c92b-f2c31618e999"
      },
      "source": [
        "len(list_a)  #ดูว่ามีสมาชิกกี่ตัว"
      ],
      "execution_count": 29,
      "outputs": [
        {
          "output_type": "execute_result",
          "data": {
            "text/plain": [
              "4"
            ]
          },
          "metadata": {
            "tags": []
          },
          "execution_count": 29
        }
      ]
    },
    {
      "cell_type": "code",
      "metadata": {
        "colab": {
          "base_uri": "https://localhost:8080/"
        },
        "id": "jeshC7lG9x0_",
        "outputId": "0264bc05-bee3-46ca-f459-7df566ac35ff"
      },
      "source": [
        "len(list_b)"
      ],
      "execution_count": 30,
      "outputs": [
        {
          "output_type": "execute_result",
          "data": {
            "text/plain": [
              "4"
            ]
          },
          "metadata": {
            "tags": []
          },
          "execution_count": 30
        }
      ]
    },
    {
      "cell_type": "code",
      "metadata": {
        "colab": {
          "base_uri": "https://localhost:8080/"
        },
        "id": "PK1PMTZP93B8",
        "outputId": "8d5caca6-f814-4909-92f7-bcd902e746cc"
      },
      "source": [
        "list_b[3]  #ชี้สมาชิกตัวที่3  เริ่มนับจาก 0 ก่อน"
      ],
      "execution_count": 31,
      "outputs": [
        {
          "output_type": "execute_result",
          "data": {
            "text/plain": [
              "[1, 2, 0.0]"
            ]
          },
          "metadata": {
            "tags": []
          },
          "execution_count": 31
        }
      ]
    },
    {
      "cell_type": "code",
      "metadata": {
        "colab": {
          "base_uri": "https://localhost:8080/"
        },
        "id": "zAT29oPq-BXi",
        "outputId": "17bf2583-e7b6-4137-a472-5826a0330a42"
      },
      "source": [
        "list_b[3][1]"
      ],
      "execution_count": 32,
      "outputs": [
        {
          "output_type": "execute_result",
          "data": {
            "text/plain": [
              "2"
            ]
          },
          "metadata": {
            "tags": []
          },
          "execution_count": 32
        }
      ]
    },
    {
      "cell_type": "markdown",
      "metadata": {
        "id": "pn71dpWv-Th7"
      },
      "source": [
        "string คือ list  ของตัวหนังสือ"
      ]
    },
    {
      "cell_type": "code",
      "metadata": {
        "id": "Vlcd7inq-QQO"
      },
      "source": [
        "a = 'Stat KKU'"
      ],
      "execution_count": 33,
      "outputs": []
    },
    {
      "cell_type": "code",
      "metadata": {
        "colab": {
          "base_uri": "https://localhost:8080/",
          "height": 35
        },
        "id": "YljANhur-kcU",
        "outputId": "fe2f3d5f-b9ae-47c0-f7b7-03fd9ed8178b"
      },
      "source": [
        "a[4]"
      ],
      "execution_count": 34,
      "outputs": [
        {
          "output_type": "execute_result",
          "data": {
            "application/vnd.google.colaboratory.intrinsic+json": {
              "type": "string"
            },
            "text/plain": [
              "' '"
            ]
          },
          "metadata": {
            "tags": []
          },
          "execution_count": 34
        }
      ]
    },
    {
      "cell_type": "markdown",
      "metadata": {
        "id": "wyqcaS9m_AxW"
      },
      "source": [
        "##วิธีสร้าง list ว่าง"
      ]
    },
    {
      "cell_type": "code",
      "metadata": {
        "id": "_9XLEz_5-oZW"
      },
      "source": [
        "list_c = list() #แบบที่ 1\n",
        "list_d = []  #แบบที่ 2"
      ],
      "execution_count": 44,
      "outputs": []
    },
    {
      "cell_type": "code",
      "metadata": {
        "colab": {
          "base_uri": "https://localhost:8080/"
        },
        "id": "lTfUOJFj_Y9y",
        "outputId": "926fde3a-9918-4a69-b3bb-6566badbbedc"
      },
      "source": [
        "list_c"
      ],
      "execution_count": 45,
      "outputs": [
        {
          "output_type": "execute_result",
          "data": {
            "text/plain": [
              "[]"
            ]
          },
          "metadata": {
            "tags": []
          },
          "execution_count": 45
        }
      ]
    },
    {
      "cell_type": "code",
      "metadata": {
        "colab": {
          "base_uri": "https://localhost:8080/"
        },
        "id": "d0A1_2t2_d15",
        "outputId": "5428c0d3-6efd-496e-8419-ab5665fdc53f"
      },
      "source": [
        "list_d"
      ],
      "execution_count": 46,
      "outputs": [
        {
          "output_type": "execute_result",
          "data": {
            "text/plain": [
              "[]"
            ]
          },
          "metadata": {
            "tags": []
          },
          "execution_count": 46
        }
      ]
    },
    {
      "cell_type": "markdown",
      "metadata": {
        "id": "UuWHruuiAAbY"
      },
      "source": [
        "เติมค่าลงไปใน list(.append())"
      ]
    },
    {
      "cell_type": "code",
      "metadata": {
        "id": "H79kLf7C_gX_"
      },
      "source": [
        "list_d.append('a')"
      ],
      "execution_count": 47,
      "outputs": []
    },
    {
      "cell_type": "code",
      "metadata": {
        "colab": {
          "base_uri": "https://localhost:8080/"
        },
        "id": "gjGQIX1HAPLx",
        "outputId": "de2ca50c-a582-4dc9-f17e-63edacf06067"
      },
      "source": [
        "list_d"
      ],
      "execution_count": 48,
      "outputs": [
        {
          "output_type": "execute_result",
          "data": {
            "text/plain": [
              "['a']"
            ]
          },
          "metadata": {
            "tags": []
          },
          "execution_count": 48
        }
      ]
    },
    {
      "cell_type": "code",
      "metadata": {
        "id": "6wKOsVLMARRD"
      },
      "source": [
        "list_d.append('56')"
      ],
      "execution_count": 49,
      "outputs": []
    },
    {
      "cell_type": "code",
      "metadata": {
        "colab": {
          "base_uri": "https://localhost:8080/"
        },
        "id": "rautwTZ2Acyh",
        "outputId": "6bbd07fb-0ce4-4136-ceee-3feda286c58e"
      },
      "source": [
        "list_d"
      ],
      "execution_count": 50,
      "outputs": [
        {
          "output_type": "execute_result",
          "data": {
            "text/plain": [
              "['a', '56']"
            ]
          },
          "metadata": {
            "tags": []
          },
          "execution_count": 50
        }
      ]
    },
    {
      "cell_type": "markdown",
      "metadata": {
        "id": "RnVUWSM_Ag6B"
      },
      "source": [
        "การชี้ค่าใน list (indexing)\n",
        "\n",
        "1.ใช้ลำดับในการชี้\n",
        "\n",
        "2.ลำดับเริ่มจาก 0 \n",
        "\n",
        "3.สามารถชี้จากข้างหลังได้โดยใช้ negativeindex"
      ]
    },
    {
      "cell_type": "code",
      "metadata": {
        "colab": {
          "base_uri": "https://localhost:8080/"
        },
        "id": "JiJXtz4yAeh3",
        "outputId": "3b1ec4a4-0325-428b-948c-39e1796ec6af"
      },
      "source": [
        "list_b"
      ],
      "execution_count": 51,
      "outputs": [
        {
          "output_type": "execute_result",
          "data": {
            "text/plain": [
              "[2, 'xyz', [1, 2, 0.2, 'abs,'], [1, 2, 0.0]]"
            ]
          },
          "metadata": {
            "tags": []
          },
          "execution_count": 51
        }
      ]
    },
    {
      "cell_type": "code",
      "metadata": {
        "colab": {
          "base_uri": "https://localhost:8080/"
        },
        "id": "BDi7EgoLA4kc",
        "outputId": "7ea632f4-831a-4a31-a585-b4953ec3c6d4"
      },
      "source": [
        "list_b[-1]  #ชี้ตัวหลังสุด"
      ],
      "execution_count": 52,
      "outputs": [
        {
          "output_type": "execute_result",
          "data": {
            "text/plain": [
              "[1, 2, 0.0]"
            ]
          },
          "metadata": {
            "tags": []
          },
          "execution_count": 52
        }
      ]
    },
    {
      "cell_type": "markdown",
      "metadata": {
        "id": "Avocsbb8BnsT"
      },
      "source": [
        "##list slicing  การตัด list"
      ]
    },
    {
      "cell_type": "code",
      "metadata": {
        "id": "0nycxWYPA7RR"
      },
      "source": [
        "list_ex = [1,2,3,5,6,8,-1,20,50,0]"
      ],
      "execution_count": 53,
      "outputs": []
    },
    {
      "cell_type": "markdown",
      "metadata": {
        "id": "h5cwFAPFCcKu"
      },
      "source": [
        "เราจะตัด list โดยเอาตั้งแต่ [ตัวหน้า:ตัวก่อนตัวหลัง]\n",
        "\n",
        "ถ้าเป็นสัญลักษณ์คณิตศาสตร์ [ตัวหน้า:ตัวหลัง]->[ตัวหน้า:ตัวหลัง)"
      ]
    },
    {
      "cell_type": "code",
      "metadata": {
        "colab": {
          "base_uri": "https://localhost:8080/"
        },
        "id": "10w0t24SB4Pp",
        "outputId": "9c04f5db-f2bd-451a-d760-4fd0f32892ab"
      },
      "source": [
        "list_ex[1:6] #เราจะตัด list โดยเอาตั้งแต่ [ตัวหน้า:ตัวก่อนตัวหลัง]"
      ],
      "execution_count": 54,
      "outputs": [
        {
          "output_type": "execute_result",
          "data": {
            "text/plain": [
              "[2, 3, 5, 6, 8]"
            ]
          },
          "metadata": {
            "tags": []
          },
          "execution_count": 54
        }
      ]
    },
    {
      "cell_type": "code",
      "metadata": {
        "colab": {
          "base_uri": "https://localhost:8080/"
        },
        "id": "9GVhM69oCBCb",
        "outputId": "6fcfcbfd-3f77-4d17-baac-3c040dfebe96"
      },
      "source": [
        "list_ex[4:]  #เอาตั้งแต่ตัวที่ 4 ไปถึงตัวสุดท้าย"
      ],
      "execution_count": 55,
      "outputs": [
        {
          "output_type": "execute_result",
          "data": {
            "text/plain": [
              "[6, 8, -1, 20, 50, 0]"
            ]
          },
          "metadata": {
            "tags": []
          },
          "execution_count": 55
        }
      ]
    },
    {
      "cell_type": "code",
      "metadata": {
        "colab": {
          "base_uri": "https://localhost:8080/"
        },
        "id": "v49U63TnC6Ov",
        "outputId": "9bf49de4-19df-42cb-bf18-69a3b2d4b55f"
      },
      "source": [
        "list_ex[:6]  #เอาตั้งแต่ตัวแรกไปถึงก่อนตัววที่ 6"
      ],
      "execution_count": 56,
      "outputs": [
        {
          "output_type": "execute_result",
          "data": {
            "text/plain": [
              "[1, 2, 3, 5, 6, 8]"
            ]
          },
          "metadata": {
            "tags": []
          },
          "execution_count": 56
        }
      ]
    },
    {
      "cell_type": "markdown",
      "metadata": {
        "id": "fdYG0we4DoM6"
      },
      "source": [
        "[จุดเริ่มต้น:จุดสุดท้าย:step]"
      ]
    },
    {
      "cell_type": "code",
      "metadata": {
        "colab": {
          "base_uri": "https://localhost:8080/"
        },
        "id": "3PRp3DaZD1HK",
        "outputId": "b43b14d7-d8f7-4dd7-d09b-a5a8c91ca12e"
      },
      "source": [
        "list_ex"
      ],
      "execution_count": 57,
      "outputs": [
        {
          "output_type": "execute_result",
          "data": {
            "text/plain": [
              "[1, 2, 3, 5, 6, 8, -1, 20, 50, 0]"
            ]
          },
          "metadata": {
            "tags": []
          },
          "execution_count": 57
        }
      ]
    },
    {
      "cell_type": "code",
      "metadata": {
        "colab": {
          "base_uri": "https://localhost:8080/"
        },
        "id": "P41EJCznDJgK",
        "outputId": "b119ba6b-6349-4194-e822-685adc326bf2"
      },
      "source": [
        "list_ex[::2]  #โดดไปทีละ 2"
      ],
      "execution_count": 58,
      "outputs": [
        {
          "output_type": "execute_result",
          "data": {
            "text/plain": [
              "[1, 3, 6, -1, 50]"
            ]
          },
          "metadata": {
            "tags": []
          },
          "execution_count": 58
        }
      ]
    },
    {
      "cell_type": "code",
      "metadata": {
        "colab": {
          "base_uri": "https://localhost:8080/"
        },
        "id": "eYqLzylNDcGu",
        "outputId": "2d3bfc08-077a-4f40-9d9a-6520583c8270"
      },
      "source": [
        "list_ex[::-1]  #การกลับ list"
      ],
      "execution_count": 59,
      "outputs": [
        {
          "output_type": "execute_result",
          "data": {
            "text/plain": [
              "[0, 50, 20, -1, 8, 6, 5, 3, 2, 1]"
            ]
          },
          "metadata": {
            "tags": []
          },
          "execution_count": 59
        }
      ]
    },
    {
      "cell_type": "code",
      "metadata": {
        "colab": {
          "base_uri": "https://localhost:8080/",
          "height": 35
        },
        "id": "HpxBL3EtEH2X",
        "outputId": "e98fc395-3706-465e-b85b-3ad232468408"
      },
      "source": [
        "a"
      ],
      "execution_count": 60,
      "outputs": [
        {
          "output_type": "execute_result",
          "data": {
            "application/vnd.google.colaboratory.intrinsic+json": {
              "type": "string"
            },
            "text/plain": [
              "'Stat KKU'"
            ]
          },
          "metadata": {
            "tags": []
          },
          "execution_count": 60
        }
      ]
    },
    {
      "cell_type": "code",
      "metadata": {
        "id": "FjKSMkEtBrpe",
        "outputId": "4c48be5a-34da-497b-d3fa-fb0b7b8d8b60",
        "colab": {
          "base_uri": "https://localhost:8080/",
          "height": 35
        }
      },
      "source": [
        "a[5:]"
      ],
      "execution_count": 67,
      "outputs": [
        {
          "output_type": "execute_result",
          "data": {
            "application/vnd.google.colaboratory.intrinsic+json": {
              "type": "string"
            },
            "text/plain": [
              "'KKU'"
            ]
          },
          "metadata": {
            "tags": []
          },
          "execution_count": 67
        }
      ]
    },
    {
      "cell_type": "code",
      "metadata": {
        "colab": {
          "base_uri": "https://localhost:8080/",
          "height": 35
        },
        "id": "VH-OTE3EEVF7",
        "outputId": "f0d136b3-122b-4960-8a09-e4a211f3bfb1"
      },
      "source": [
        "a[5::]"
      ],
      "execution_count": 61,
      "outputs": [
        {
          "output_type": "execute_result",
          "data": {
            "application/vnd.google.colaboratory.intrinsic+json": {
              "type": "string"
            },
            "text/plain": [
              "'KKU'"
            ]
          },
          "metadata": {
            "tags": []
          },
          "execution_count": 61
        }
      ]
    },
    {
      "cell_type": "code",
      "metadata": {
        "colab": {
          "base_uri": "https://localhost:8080/",
          "height": 35
        },
        "id": "Q6bURClqEer0",
        "outputId": "6bb6466f-3e00-47bc-8f62-67985b902cc3"
      },
      "source": [
        "a[5:8]"
      ],
      "execution_count": 62,
      "outputs": [
        {
          "output_type": "execute_result",
          "data": {
            "application/vnd.google.colaboratory.intrinsic+json": {
              "type": "string"
            },
            "text/plain": [
              "'KKU'"
            ]
          },
          "metadata": {
            "tags": []
          },
          "execution_count": 62
        }
      ]
    },
    {
      "cell_type": "code",
      "metadata": {
        "colab": {
          "base_uri": "https://localhost:8080/",
          "height": 35
        },
        "id": "FDYhBzCzGAUU",
        "outputId": "747643ce-7245-4982-bce5-82c49b066303"
      },
      "source": [
        "a[-3::1]"
      ],
      "execution_count": 63,
      "outputs": [
        {
          "output_type": "execute_result",
          "data": {
            "application/vnd.google.colaboratory.intrinsic+json": {
              "type": "string"
            },
            "text/plain": [
              "'KKU'"
            ]
          },
          "metadata": {
            "tags": []
          },
          "execution_count": 63
        }
      ]
    },
    {
      "cell_type": "code",
      "metadata": {
        "colab": {
          "base_uri": "https://localhost:8080/",
          "height": 35
        },
        "id": "Y-WZ-XxSGF4Q",
        "outputId": "5a388398-e8cf-4226-ee96-8363833c4114"
      },
      "source": [
        "a[-3::]"
      ],
      "execution_count": 64,
      "outputs": [
        {
          "output_type": "execute_result",
          "data": {
            "application/vnd.google.colaboratory.intrinsic+json": {
              "type": "string"
            },
            "text/plain": [
              "'KKU'"
            ]
          },
          "metadata": {
            "tags": []
          },
          "execution_count": 64
        }
      ]
    },
    {
      "cell_type": "markdown",
      "metadata": {
        "id": "KvX8qJqxGPE9"
      },
      "source": [
        "##list + list "
      ]
    },
    {
      "cell_type": "code",
      "metadata": {
        "colab": {
          "base_uri": "https://localhost:8080/"
        },
        "id": "xJX6dGBxGJ6u",
        "outputId": "42f0fc82-a048-4d1d-c058-c63e0b660de3"
      },
      "source": [
        "print(list_a)\n",
        "print(list_b)"
      ],
      "execution_count": 65,
      "outputs": [
        {
          "output_type": "stream",
          "text": [
            "[1, 2, 0.2, 'abs,']\n",
            "[2, 'xyz', [1, 2, 0.2, 'abs,'], [1, 2, 0.0]]\n"
          ],
          "name": "stdout"
        }
      ]
    },
    {
      "cell_type": "code",
      "metadata": {
        "colab": {
          "base_uri": "https://localhost:8080/"
        },
        "id": "7Xh99bGIGcG7",
        "outputId": "dfb80753-7478-4958-819a-f01a3d7ca8f5"
      },
      "source": [
        "list_a + list_b   #เอาstring มาเรียงต่อกัน"
      ],
      "execution_count": 66,
      "outputs": [
        {
          "output_type": "execute_result",
          "data": {
            "text/plain": [
              "[1, 2, 0.2, 'abs,', 2, 'xyz', [1, 2, 0.2, 'abs,'], [1, 2, 0.0]]"
            ]
          },
          "metadata": {
            "tags": []
          },
          "execution_count": 66
        }
      ]
    },
    {
      "cell_type": "markdown",
      "metadata": {
        "id": "rAF2T9iYK9lm"
      },
      "source": [
        "format string"
      ]
    },
    {
      "cell_type": "markdown",
      "metadata": {
        "id": "oYMLyO80Lth1"
      },
      "source": [
        "```python\n",
        "f'string{ตัวแปร}' \n",
        "```\n",
        "{} เรียกว่า curly brackets"
      ]
    },
    {
      "cell_type": "code",
      "metadata": {
        "colab": {
          "base_uri": "https://localhost:8080/",
          "height": 35
        },
        "id": "Xm7XWwcsLC3E",
        "outputId": "bbe613cf-70cb-4210-9686-c1b7aa3c4360"
      },
      "source": [
        "f'ตัวแปร list_a  มีค่าคือ {list_a}'"
      ],
      "execution_count": 68,
      "outputs": [
        {
          "output_type": "execute_result",
          "data": {
            "application/vnd.google.colaboratory.intrinsic+json": {
              "type": "string"
            },
            "text/plain": [
              "\"ตัวแปร list_a  มีค่าคือ [1, 2, 0.2, 'abs,']\""
            ]
          },
          "metadata": {
            "tags": []
          },
          "execution_count": 68
        }
      ]
    },
    {
      "cell_type": "markdown",
      "metadata": {
        "id": "CnS_jAW6IisT"
      },
      "source": [
        "#Loop"
      ]
    },
    {
      "cell_type": "code",
      "metadata": {
        "id": "cn87irh7CjJj"
      },
      "source": [
        ""
      ],
      "execution_count": null,
      "outputs": []
    },
    {
      "cell_type": "markdown",
      "metadata": {
        "id": "rnUZEmRyKVKZ"
      },
      "source": [
        "```python\n",
        "for ตัวแปรที่จะรับค่าจากลิสต์ in ลิสต์ที่จะนำมาวนลูป:\n",
        "    do something\n",
        "```"
      ]
    },
    {
      "cell_type": "code",
      "metadata": {
        "colab": {
          "base_uri": "https://localhost:8080/"
        },
        "id": "BXyT6Gg0JKhv",
        "outputId": "9d1e5c0e-cab7-4958-cff5-92c7ae11e17b"
      },
      "source": [
        "for i in [1,2,3,4,5]:   #i คือ 1 2 3 4 5\n",
        "    print(i+1)\n",
        "\n"
      ],
      "execution_count": 69,
      "outputs": [
        {
          "output_type": "stream",
          "text": [
            "2\n",
            "3\n",
            "4\n",
            "5\n",
            "6\n"
          ],
          "name": "stdout"
        }
      ]
    },
    {
      "cell_type": "code",
      "metadata": {
        "colab": {
          "base_uri": "https://localhost:8080/"
        },
        "id": "VMHv-XV9MTuP",
        "outputId": "3502ee96-413a-4caf-f10f-84c66985d249"
      },
      "source": [
        "for x in [1,2,3,4,5]:\n",
        "    print(f'ค่าตัวแปร x คือ {x} และ x+2={x+2}')"
      ],
      "execution_count": 70,
      "outputs": [
        {
          "output_type": "stream",
          "text": [
            "ค่าตัวแปร x คือ 1 และ x+2=3\n",
            "ค่าตัวแปร x คือ 2 และ x+2=4\n",
            "ค่าตัวแปร x คือ 3 และ x+2=5\n",
            "ค่าตัวแปร x คือ 4 และ x+2=6\n",
            "ค่าตัวแปร x คือ 5 และ x+2=7\n"
          ],
          "name": "stdout"
        }
      ]
    },
    {
      "cell_type": "code",
      "metadata": {
        "colab": {
          "base_uri": "https://localhost:8080/"
        },
        "id": "cwffpb_vMxzw",
        "outputId": "e4fa14ad-d66a-4587-e101-8509a52e0882"
      },
      "source": [
        "list5=[1,2,3,4,5]\n",
        "for x in list5:\n",
        "    print(f'ค่าตัวแปร x คือ {x} และ x+2={x+2}')"
      ],
      "execution_count": 71,
      "outputs": [
        {
          "output_type": "stream",
          "text": [
            "ค่าตัวแปร x คือ 1 และ x+2=3\n",
            "ค่าตัวแปร x คือ 2 และ x+2=4\n",
            "ค่าตัวแปร x คือ 3 และ x+2=5\n",
            "ค่าตัวแปร x คือ 4 และ x+2=6\n",
            "ค่าตัวแปร x คือ 5 และ x+2=7\n"
          ],
          "name": "stdout"
        }
      ]
    },
    {
      "cell_type": "code",
      "metadata": {
        "colab": {
          "base_uri": "https://localhost:8080/"
        },
        "id": "MxhvlXDbMwYK",
        "outputId": "e331e3d5-0c70-4977-ff07-3c40163cb722"
      },
      "source": [
        "list(range(10)) #สร้างlistตั้งแต่ 0 ไม่ถึงเลข 10"
      ],
      "execution_count": 72,
      "outputs": [
        {
          "output_type": "execute_result",
          "data": {
            "text/plain": [
              "[0, 1, 2, 3, 4, 5, 6, 7, 8, 9]"
            ]
          },
          "metadata": {
            "tags": []
          },
          "execution_count": 72
        }
      ]
    },
    {
      "cell_type": "code",
      "metadata": {
        "colab": {
          "base_uri": "https://localhost:8080/"
        },
        "id": "tbr4DUcmNKKa",
        "outputId": "c33ac122-ca76-4622-a6b7-a8962a35874a"
      },
      "source": [
        "for i in range(2,7):\n",
        "  print(i)"
      ],
      "execution_count": 73,
      "outputs": [
        {
          "output_type": "stream",
          "text": [
            "2\n",
            "3\n",
            "4\n",
            "5\n",
            "6\n"
          ],
          "name": "stdout"
        }
      ]
    },
    {
      "cell_type": "code",
      "metadata": {
        "colab": {
          "base_uri": "https://localhost:8080/"
        },
        "id": "SGA-Lu46Nxaz",
        "outputId": "b7ea1f9d-21bc-491b-80f6-448499d6f58d"
      },
      "source": [
        "for i in range(2,7,2):\n",
        "  print(i)"
      ],
      "execution_count": 74,
      "outputs": [
        {
          "output_type": "stream",
          "text": [
            "2\n",
            "4\n",
            "6\n"
          ],
          "name": "stdout"
        }
      ]
    },
    {
      "cell_type": "code",
      "metadata": {
        "colab": {
          "base_uri": "https://localhost:8080/"
        },
        "id": "zOykZGgHOPQp",
        "outputId": "3b97b04a-6fa6-4147-ec64-ab2753ad8c23"
      },
      "source": [
        "for i in range(5):\n",
        "    print('hahaha')"
      ],
      "execution_count": 75,
      "outputs": [
        {
          "output_type": "stream",
          "text": [
            "hahaha\n",
            "hahaha\n",
            "hahaha\n",
            "hahaha\n",
            "hahaha\n"
          ],
          "name": "stdout"
        }
      ]
    },
    {
      "cell_type": "code",
      "metadata": {
        "colab": {
          "base_uri": "https://localhost:8080/"
        },
        "id": "bZqefgBNOd4E",
        "outputId": "2915069b-2169-4537-f61e-89ef784b2835"
      },
      "source": [
        "for i in range(5):\n",
        "    print('hahaha')\n",
        "    x = i + 3\n",
        "    print(f'i={i} x={x}')"
      ],
      "execution_count": 76,
      "outputs": [
        {
          "output_type": "stream",
          "text": [
            "hahaha\n",
            "i=0 x=3\n",
            "hahaha\n",
            "i=1 x=4\n",
            "hahaha\n",
            "i=2 x=5\n",
            "hahaha\n",
            "i=3 x=6\n",
            "hahaha\n",
            "i=4 x=7\n"
          ],
          "name": "stdout"
        }
      ]
    },
    {
      "cell_type": "markdown",
      "metadata": {
        "id": "Zq0fYCsROm_h"
      },
      "source": [
        "##Nested loop  ลูปซ้อนลูป"
      ]
    },
    {
      "cell_type": "code",
      "metadata": {
        "colab": {
          "base_uri": "https://localhost:8080/"
        },
        "id": "dHJHUdmTO_5s",
        "outputId": "2e4bd20c-838a-4700-d841-3a3fffc1a6d5"
      },
      "source": [
        "for i in range(3):\n",
        "    print(f'now i = {i}')\n",
        "    print('start j loop')\n",
        "    for j in range(4):\n",
        "        print(f'i = {i} j = {j} i+j = {i+j}')\n",
        "    print('end j loop')"
      ],
      "execution_count": 77,
      "outputs": [
        {
          "output_type": "stream",
          "text": [
            "now i = 0\n",
            "start j loop\n",
            "i = 0 j = 0 i+j = 0\n",
            "i = 0 j = 1 i+j = 1\n",
            "i = 0 j = 2 i+j = 2\n",
            "i = 0 j = 3 i+j = 3\n",
            "end j loop\n",
            "now i = 1\n",
            "start j loop\n",
            "i = 1 j = 0 i+j = 1\n",
            "i = 1 j = 1 i+j = 2\n",
            "i = 1 j = 2 i+j = 3\n",
            "i = 1 j = 3 i+j = 4\n",
            "end j loop\n",
            "now i = 2\n",
            "start j loop\n",
            "i = 2 j = 0 i+j = 2\n",
            "i = 2 j = 1 i+j = 3\n",
            "i = 2 j = 2 i+j = 4\n",
            "i = 2 j = 3 i+j = 5\n",
            "end j loop\n"
          ],
          "name": "stdout"
        }
      ]
    },
    {
      "cell_type": "markdown",
      "metadata": {
        "id": "Jmj2h6mdIqtJ"
      },
      "source": [
        "#Condition\n",
        "\n"
      ]
    },
    {
      "cell_type": "markdown",
      "metadata": {
        "id": "Qy8i_Y6tItw_"
      },
      "source": [
        "###Function"
      ]
    },
    {
      "cell_type": "code",
      "metadata": {
        "id": "_VCa_g07Gk8s"
      },
      "source": [
        ""
      ],
      "execution_count": null,
      "outputs": []
    },
    {
      "cell_type": "code",
      "metadata": {
        "id": "dTlePe6mIpCX"
      },
      "source": [
        ""
      ],
      "execution_count": null,
      "outputs": []
    }
  ]
}