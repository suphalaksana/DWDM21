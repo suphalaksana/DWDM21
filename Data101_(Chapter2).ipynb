{
  "nbformat": 4,
  "nbformat_minor": 0,
  "metadata": {
    "colab": {
      "name": "Data101 (Chapter2).ipynb",
      "provenance": [],
      "authorship_tag": "ABX9TyNfc3dAunH3dLYwb2DdwDe8",
      "include_colab_link": true
    },
    "kernelspec": {
      "name": "python3",
      "display_name": "Python 3"
    },
    "language_info": {
      "name": "python"
    }
  },
  "cells": [
    {
      "cell_type": "markdown",
      "metadata": {
        "id": "view-in-github",
        "colab_type": "text"
      },
      "source": [
        "<a href=\"https://colab.research.google.com/github/suphalaksana/DWDM21/blob/main/Data101_(Chapter2).ipynb\" target=\"_parent\"><img src=\"https://colab.research.google.com/assets/colab-badge.svg\" alt=\"Open In Colab\"/></a>"
      ]
    },
    {
      "cell_type": "markdown",
      "metadata": {
        "id": "kRQAWrzWzVHI"
      },
      "source": [
        "ข้อความที่อยู่ใน textbook จะเป็นภาษา markdown"
      ]
    },
    {
      "cell_type": "markdown",
      "metadata": {
        "id": "S1TB1YprtEV6"
      },
      "source": [
        "ข้อดีหนึ่งของ python  คือมี package  สำหรับทำงานมากมากมาย  ซึ่ง pandas \n",
        "\n",
        "เป็น package สำหรับการทำงานกับข้อมูลที่อยู่ในรูปแบบตาราง โดย pandas \n",
        "\n",
        "จะเรียกตารางว่า dataframe"
      ]
    },
    {
      "cell_type": "code",
      "metadata": {
        "id": "5c9WNVhTrco_"
      },
      "source": [
        "import  pandas #ใช้ในการจัดการข้อมูลเเพ็คเกจนี้ ชื่อ pandas  #วิธีเรียกใช้ package คือ import ตามด้วยชื่อ package"
      ],
      "execution_count": null,
      "outputs": []
    },
    {
      "cell_type": "code",
      "metadata": {
        "id": "A2iF10IasdPT"
      },
      "source": [
        "import pandas as pd  #เหมือนกับตัวข้างบนแต่ตั้งชื่อให้กับ package ที่โหลดมาใหม่ว่า pd"
      ],
      "execution_count": null,
      "outputs": []
    },
    {
      "cell_type": "markdown",
      "metadata": {
        "id": "gWG8NbS4uI2X"
      },
      "source": [
        "ไฟล์ .csv  (csv = comma separated  values)  เป็นไฟล์หลักที่เข้าจะใช้ในวิชานี้\n",
        "\n",
        "เป็นไฟล์ที่เก็บข้อมูลแบบตาราง  คอมอ่านง่าย คนก็อ่านง่าย"
      ]
    },
    {
      "cell_type": "markdown",
      "metadata": {
        "id": "3ITYGVGsuu7M"
      },
      "source": [
        "##ตัวอย่าง"
      ]
    },
    {
      "cell_type": "markdown",
      "metadata": {
        "id": "a2qP_wBrvDCP"
      },
      "source": [
        "สร้างไฟล์  csv -- \n",
        "1.คลิกตรงไฟล์ทางซ้าย\n",
        "\n",
        "2.กดคลิกขวาที่ว่างตรงทางซ้าย เลือก new file\n",
        "\n",
        "3. เปลี่ยนชื่อไฟล์ ยังไม่ต้องใส่.csv\n",
        "\n",
        "4. double click ที่ ไฟล์ทางซ้าย มันจะเด้งช่องทางขวาให้ใส่ข้อมูลที่เราจะสร้าง พอพิมพ์เสร็จกดกาช่องออกเลย\n",
        "\n",
        "5.เปลี่ยนชื่อไฟล์ทางซ้าย ใส่.csv"
      ]
    },
    {
      "cell_type": "code",
      "metadata": {
        "id": "8sN8nSN_t6Tv"
      },
      "source": [
        "data_df = pd.read_csv('data.csv')"
      ],
      "execution_count": null,
      "outputs": []
    },
    {
      "cell_type": "code",
      "metadata": {
        "colab": {
          "base_uri": "https://localhost:8080/",
          "height": 141
        },
        "id": "jjUUS1BEwpDn",
        "outputId": "de96bbf9-bd8a-4932-9dee-6a0be1755873"
      },
      "source": [
        "data_df  #โหลดตารางเข้ามาใน memory ของ python"
      ],
      "execution_count": null,
      "outputs": [
        {
          "output_type": "execute_result",
          "data": {
            "text/html": [
              "<div>\n",
              "<style scoped>\n",
              "    .dataframe tbody tr th:only-of-type {\n",
              "        vertical-align: middle;\n",
              "    }\n",
              "\n",
              "    .dataframe tbody tr th {\n",
              "        vertical-align: top;\n",
              "    }\n",
              "\n",
              "    .dataframe thead th {\n",
              "        text-align: right;\n",
              "    }\n",
              "</style>\n",
              "<table border=\"1\" class=\"dataframe\">\n",
              "  <thead>\n",
              "    <tr style=\"text-align: right;\">\n",
              "      <th></th>\n",
              "      <th>name</th>\n",
              "      <th>age</th>\n",
              "      <th>city</th>\n",
              "    </tr>\n",
              "  </thead>\n",
              "  <tbody>\n",
              "    <tr>\n",
              "      <th>0</th>\n",
              "      <td>Tom</td>\n",
              "      <td>27</td>\n",
              "      <td>Khon Kaen</td>\n",
              "    </tr>\n",
              "    <tr>\n",
              "      <th>1</th>\n",
              "      <td>Paul</td>\n",
              "      <td>15</td>\n",
              "      <td>Bangkok</td>\n",
              "    </tr>\n",
              "    <tr>\n",
              "      <th>2</th>\n",
              "      <td>Sarah</td>\n",
              "      <td>49</td>\n",
              "      <td>London</td>\n",
              "    </tr>\n",
              "  </tbody>\n",
              "</table>\n",
              "</div>"
            ],
            "text/plain": [
              "    name  age       city\n",
              "0    Tom   27  Khon Kaen\n",
              "1   Paul   15    Bangkok\n",
              "2  Sarah   49     London"
            ]
          },
          "metadata": {
            "tags": []
          },
          "execution_count": 17
        }
      ]
    },
    {
      "cell_type": "code",
      "metadata": {
        "colab": {
          "base_uri": "https://localhost:8080/",
          "height": 141
        },
        "id": "K4Pxc_EDwsN_",
        "outputId": "349d69a0-ba40-4cca-b22d-200d4428f866"
      },
      "source": [
        "data_df2 = pandas.read_csv('data.csv') #เหมือนกันกับข้างบน\n",
        "data_df2"
      ],
      "execution_count": null,
      "outputs": [
        {
          "output_type": "execute_result",
          "data": {
            "text/html": [
              "<div>\n",
              "<style scoped>\n",
              "    .dataframe tbody tr th:only-of-type {\n",
              "        vertical-align: middle;\n",
              "    }\n",
              "\n",
              "    .dataframe tbody tr th {\n",
              "        vertical-align: top;\n",
              "    }\n",
              "\n",
              "    .dataframe thead th {\n",
              "        text-align: right;\n",
              "    }\n",
              "</style>\n",
              "<table border=\"1\" class=\"dataframe\">\n",
              "  <thead>\n",
              "    <tr style=\"text-align: right;\">\n",
              "      <th></th>\n",
              "      <th>name</th>\n",
              "      <th>age</th>\n",
              "      <th>city</th>\n",
              "    </tr>\n",
              "  </thead>\n",
              "  <tbody>\n",
              "    <tr>\n",
              "      <th>0</th>\n",
              "      <td>Tom</td>\n",
              "      <td>27</td>\n",
              "      <td>Khon Kaen</td>\n",
              "    </tr>\n",
              "    <tr>\n",
              "      <th>1</th>\n",
              "      <td>Paul</td>\n",
              "      <td>15</td>\n",
              "      <td>Bangkok</td>\n",
              "    </tr>\n",
              "    <tr>\n",
              "      <th>2</th>\n",
              "      <td>Sarah</td>\n",
              "      <td>49</td>\n",
              "      <td>London</td>\n",
              "    </tr>\n",
              "  </tbody>\n",
              "</table>\n",
              "</div>"
            ],
            "text/plain": [
              "    name  age       city\n",
              "0    Tom   27  Khon Kaen\n",
              "1   Paul   15    Bangkok\n",
              "2  Sarah   49     London"
            ]
          },
          "metadata": {
            "tags": []
          },
          "execution_count": 18
        }
      ]
    },
    {
      "cell_type": "markdown",
      "metadata": {
        "id": "M9ty_lbQzBZq"
      },
      "source": [
        "# Basic Python\n",
        "\n",
        "##variable  ตัวแปร"
      ]
    },
    {
      "cell_type": "markdown",
      "metadata": {
        "id": "AkbxLxSQ1CQn"
      },
      "source": [
        "ข้อกำหนดในการตั้งชื่อตัวแปร\n",
        "\n",
        "1.ชื่อห้ามมีเว้นวรรค\n",
        "\n",
        "2.(พยายาม)ใช้ภาษาอังกฤษ\n",
        "\n",
        "3.ตัวเล็กกับตัวใหญ่แตกต่างกัน (case sensitive)\n",
        "\n",
        "4.ห้ามใช้ตัวเลขเป็นตัวหน้า"
      ]
    },
    {
      "cell_type": "code",
      "metadata": {
        "id": "0V4v-lSTxhgV"
      },
      "source": [
        "variable_a = 12    #ไม่มี quote\n",
        "variable_b = 'abcde'  # เรียกว่า quote (โค้ด)  เป็น string หรือตัวหนังสือ\n",
        "variable_c = variable_a   #ค่าตัวนี้ คือ 12"
      ],
      "execution_count": null,
      "outputs": []
    },
    {
      "cell_type": "code",
      "metadata": {
        "colab": {
          "base_uri": "https://localhost:8080/"
        },
        "id": "j3RQt3l1z7bQ",
        "outputId": "70e46a30-787a-4470-80bf-2124d590a2a1"
      },
      "source": [
        "variable_a"
      ],
      "execution_count": null,
      "outputs": [
        {
          "output_type": "execute_result",
          "data": {
            "text/plain": [
              "12"
            ]
          },
          "metadata": {
            "tags": []
          },
          "execution_count": 20
        }
      ]
    },
    {
      "cell_type": "code",
      "metadata": {
        "colab": {
          "base_uri": "https://localhost:8080/",
          "height": 35
        },
        "id": "WXtVH10I0m34",
        "outputId": "7e930e21-81ea-40bc-b687-5e055f54fada"
      },
      "source": [
        "variable_b"
      ],
      "execution_count": null,
      "outputs": [
        {
          "output_type": "execute_result",
          "data": {
            "application/vnd.google.colaboratory.intrinsic+json": {
              "type": "string"
            },
            "text/plain": [
              "'abcde'"
            ]
          },
          "metadata": {
            "tags": []
          },
          "execution_count": 21
        }
      ]
    },
    {
      "cell_type": "code",
      "metadata": {
        "colab": {
          "base_uri": "https://localhost:8080/"
        },
        "id": "qwtuZuQe0pJa",
        "outputId": "e433b6b0-bf20-4936-b2b5-dd669f57a71c"
      },
      "source": [
        "variable_c  #รันค่าออกมาดู"
      ],
      "execution_count": null,
      "outputs": [
        {
          "output_type": "execute_result",
          "data": {
            "text/plain": [
              "12"
            ]
          },
          "metadata": {
            "tags": []
          },
          "execution_count": 22
        }
      ]
    },
    {
      "cell_type": "code",
      "metadata": {
        "colab": {
          "base_uri": "https://localhost:8080/",
          "height": 129
        },
        "id": "QInRYT1z0rLn",
        "outputId": "89d070a9-134d-4a73-e525-134aad3b5d46"
      },
      "source": [
        "#ชื่อห้ามมีเว้นวรรค\n",
        "variable a  = 6"
      ],
      "execution_count": null,
      "outputs": [
        {
          "output_type": "error",
          "ename": "SyntaxError",
          "evalue": "ignored",
          "traceback": [
            "\u001b[0;36m  File \u001b[0;32m\"<ipython-input-23-99d606655a06>\"\u001b[0;36m, line \u001b[0;32m2\u001b[0m\n\u001b[0;31m    variable a  = 6\u001b[0m\n\u001b[0m             ^\u001b[0m\n\u001b[0;31mSyntaxError\u001b[0m\u001b[0;31m:\u001b[0m invalid syntax\n"
          ]
        }
      ]
    },
    {
      "cell_type": "code",
      "metadata": {
        "colab": {
          "base_uri": "https://localhost:8080/"
        },
        "id": "w8I3U6WP1_dR",
        "outputId": "23a2b634-60f5-49eb-bb5d-22193e2f7fc7"
      },
      "source": [
        "#colab ใช้ภาษาไทยตั้งชื่อตัวแปรได้แต่ไม่ควรใช้\n",
        "#(พยายาม)ใช้ภาษาอังกฤษ\n",
        "\n",
        "ตัวแปร = 3\n",
        "ตัวแปร"
      ],
      "execution_count": null,
      "outputs": [
        {
          "output_type": "execute_result",
          "data": {
            "text/plain": [
              "3"
            ]
          },
          "metadata": {
            "tags": []
          },
          "execution_count": 25
        }
      ]
    },
    {
      "cell_type": "code",
      "metadata": {
        "colab": {
          "base_uri": "https://localhost:8080/"
        },
        "id": "333Tm7tb2KzN",
        "outputId": "01b571cb-379f-4fe0-e7e6-e9edff11d3f7"
      },
      "source": [
        "#ตัวเล็กกับตัวใหญ่แตกต่างกัน (case sensitive)\n",
        "v_a = 1\n",
        "V_a =2 \n",
        "print(v_a)\n",
        "print(V_a)"
      ],
      "execution_count": null,
      "outputs": [
        {
          "output_type": "stream",
          "text": [
            "1\n",
            "2\n"
          ],
          "name": "stdout"
        }
      ]
    },
    {
      "cell_type": "code",
      "metadata": {
        "colab": {
          "base_uri": "https://localhost:8080/"
        },
        "id": "XIPpHzvI2sjZ",
        "outputId": "054566b1-05bc-4773-d8a8-726a46d6438e"
      },
      "source": [
        "#ตัวเล็กกับตัวใหญ่แตกต่างกัน (case sensitive)\n",
        "v_a = 1\n",
        "v_a =2 \n",
        "print(v_a)\n",
        "print(v_a)"
      ],
      "execution_count": null,
      "outputs": [
        {
          "output_type": "stream",
          "text": [
            "2\n",
            "2\n"
          ],
          "name": "stdout"
        }
      ]
    },
    {
      "cell_type": "code",
      "metadata": {
        "colab": {
          "base_uri": "https://localhost:8080/"
        },
        "id": "j8UOFM9s3CV4",
        "outputId": "885313d9-53ad-4b57-dde6-78e06f846e6a"
      },
      "source": [
        "#ห้ามใช้ตัวเลขเป็นตัวหน้า\n",
        "variable = 1\n",
        "print(variable)"
      ],
      "execution_count": null,
      "outputs": [
        {
          "output_type": "stream",
          "text": [
            "1\n"
          ],
          "name": "stdout"
        }
      ]
    },
    {
      "cell_type": "code",
      "metadata": {
        "id": "b4fMAi1i3brO"
      },
      "source": [
        "#ตัวอย่างการตั้งชื่อที่ถูก\n",
        "variable_a = 12    #ไม่มี quote\n",
        "variable_b = 'abcde'  # เรียกว่า quote (โค้ด)  เป็น string หรือตัวหนังสือ\n",
        "variable_c = variable_a   #ค่าตัวนี้ คือ 12\n",
        "variable_d = -41.2\n",
        "variable_4 = \"KKU\"  # \"\"  เรียกว่า double quote"
      ],
      "execution_count": null,
      "outputs": []
    },
    {
      "cell_type": "code",
      "metadata": {
        "colab": {
          "base_uri": "https://localhost:8080/"
        },
        "id": "AuJzPfIu39_m",
        "outputId": "65936b75-aaa2-4317-dbcd-72e8ceea9da7"
      },
      "source": [
        "variable_x =variable_c + variable_d  #นำตัวแปรมา + - * หาร กันได้\n",
        "print(variable_x) "
      ],
      "execution_count": null,
      "outputs": [
        {
          "output_type": "stream",
          "text": [
            "-29.200000000000003\n"
          ],
          "name": "stdout"
        }
      ]
    },
    {
      "cell_type": "code",
      "metadata": {
        "colab": {
          "base_uri": "https://localhost:8080/",
          "height": 162
        },
        "id": "o16r9y8r4Ii8",
        "outputId": "2e2906f6-dfb8-4b3e-c541-423fd4da1d07"
      },
      "source": [
        "variable_a + variable_b #เอาตัวเลขไปบวกตัวหนังสือไม่ได้"
      ],
      "execution_count": null,
      "outputs": [
        {
          "output_type": "error",
          "ename": "TypeError",
          "evalue": "ignored",
          "traceback": [
            "\u001b[0;31m---------------------------------------------------------------------------\u001b[0m",
            "\u001b[0;31mTypeError\u001b[0m                                 Traceback (most recent call last)",
            "\u001b[0;32m<ipython-input-31-800914d06722>\u001b[0m in \u001b[0;36m<module>\u001b[0;34m()\u001b[0m\n\u001b[0;32m----> 1\u001b[0;31m \u001b[0mvariable_a\u001b[0m \u001b[0;34m+\u001b[0m \u001b[0mvariable_b\u001b[0m \u001b[0;31m#เอาตัวเลขไปบวกตัวหนังสือไม่ได้\u001b[0m\u001b[0;34m\u001b[0m\u001b[0;34m\u001b[0m\u001b[0m\n\u001b[0m",
            "\u001b[0;31mTypeError\u001b[0m: unsupported operand type(s) for +: 'int' and 'str'"
          ]
        }
      ]
    },
    {
      "cell_type": "code",
      "metadata": {
        "colab": {
          "base_uri": "https://localhost:8080/"
        },
        "id": "yb_WhUys5uh7",
        "outputId": "d3b280ed-df94-405c-e707-67b7a1b2e122"
      },
      "source": [
        "print(variable_b + variable_4)  #ตัวหนังสือ+ ตัวหนังสือได้ string  เอามาต่อกัน "
      ],
      "execution_count": null,
      "outputs": [
        {
          "output_type": "stream",
          "text": [
            "abcdeKKU\n"
          ],
          "name": "stdout"
        }
      ]
    },
    {
      "cell_type": "markdown",
      "metadata": {
        "id": "8HMagNxf6gy4"
      },
      "source": [
        "##Casting   int() float()  str()\n",
        "\n",
        "เราสามารถเปลี่ยนชนิดของตัวแปรได้"
      ]
    },
    {
      "cell_type": "code",
      "metadata": {
        "colab": {
          "base_uri": "https://localhost:8080/"
        },
        "id": "Bibe3V8559I8",
        "outputId": "c9774d4f-4ef0-45ac-8821-8bb716840b08"
      },
      "source": [
        "print(variable_x)\n",
        "print(int(variable_x))  #ตัดทศนิยมออกให้เหลือจำนวนเต็ม"
      ],
      "execution_count": null,
      "outputs": [
        {
          "output_type": "stream",
          "text": [
            "-29.200000000000003\n",
            "-29\n"
          ],
          "name": "stdout"
        }
      ]
    },
    {
      "cell_type": "code",
      "metadata": {
        "colab": {
          "base_uri": "https://localhost:8080/"
        },
        "id": "yyqZ2JAk7Gxt",
        "outputId": "9d9357e5-9671-4512-ed2c-1057c1a218e7"
      },
      "source": [
        "v_x = str(variable_x)\n",
        "print(v_x)"
      ],
      "execution_count": null,
      "outputs": [
        {
          "output_type": "stream",
          "text": [
            "-29.200000000000003\n"
          ],
          "name": "stdout"
        }
      ]
    },
    {
      "cell_type": "code",
      "metadata": {
        "colab": {
          "base_uri": "https://localhost:8080/",
          "height": 162
        },
        "id": "bg9lCpll7W-P",
        "outputId": "f5b63cb3-90d1-4e75-eed8-c14bd4c532e5"
      },
      "source": [
        "v_x + variable_a  #เราทำให้ v_x เป็น string เลยทำให้บวกกับตัวเลขไม่ได้"
      ],
      "execution_count": null,
      "outputs": [
        {
          "output_type": "error",
          "ename": "TypeError",
          "evalue": "ignored",
          "traceback": [
            "\u001b[0;31m---------------------------------------------------------------------------\u001b[0m",
            "\u001b[0;31mTypeError\u001b[0m                                 Traceback (most recent call last)",
            "\u001b[0;32m<ipython-input-35-e839cc33061d>\u001b[0m in \u001b[0;36m<module>\u001b[0;34m()\u001b[0m\n\u001b[0;32m----> 1\u001b[0;31m \u001b[0mv_x\u001b[0m \u001b[0;34m+\u001b[0m \u001b[0mvariable_a\u001b[0m  \u001b[0;31m#เราทำให้ v_x เป็น string เลยทำให้บวกกับตัวเลขไม่ได้\u001b[0m\u001b[0;34m\u001b[0m\u001b[0;34m\u001b[0m\u001b[0m\n\u001b[0m",
            "\u001b[0;31mTypeError\u001b[0m: can only concatenate str (not \"int\") to str"
          ]
        }
      ]
    },
    {
      "cell_type": "code",
      "metadata": {
        "colab": {
          "base_uri": "https://localhost:8080/",
          "height": 162
        },
        "id": "bqWx6_4B7f26",
        "outputId": "10a11480-a47e-4360-8461-332e873ddba6"
      },
      "source": [
        "variable_a + v_x  #เหมือนกับข้างบน แต่โปรแกรมน่าจะอ่านค่าข้างหน้าก่อนว่าจะเอาไปบวกกับอะไร"
      ],
      "execution_count": null,
      "outputs": [
        {
          "output_type": "error",
          "ename": "TypeError",
          "evalue": "ignored",
          "traceback": [
            "\u001b[0;31m---------------------------------------------------------------------------\u001b[0m",
            "\u001b[0;31mTypeError\u001b[0m                                 Traceback (most recent call last)",
            "\u001b[0;32m<ipython-input-37-359be35df4d7>\u001b[0m in \u001b[0;36m<module>\u001b[0;34m()\u001b[0m\n\u001b[0;32m----> 1\u001b[0;31m \u001b[0mvariable_a\u001b[0m \u001b[0;34m+\u001b[0m \u001b[0mv_x\u001b[0m  \u001b[0;31m#เหมือนกับข้างบน แต่โปรแกรมน่าจะอ่านค่าข้างหน้าก่อนว่าจะเอาไปบวกกับอะไร\u001b[0m\u001b[0;34m\u001b[0m\u001b[0;34m\u001b[0m\u001b[0m\n\u001b[0m",
            "\u001b[0;31mTypeError\u001b[0m: unsupported operand type(s) for +: 'int' and 'str'"
          ]
        }
      ]
    },
    {
      "cell_type": "code",
      "metadata": {
        "colab": {
          "base_uri": "https://localhost:8080/",
          "height": 35
        },
        "id": "I5f0moWA7tEB",
        "outputId": "4095261b-be9a-43b8-b207-8021d76d1a61"
      },
      "source": [
        "v_x  #พิมพ์ชื่อตัวแปรธรรมดา จะแสดงว่าในmemory หน้าตาเป็นแบบนี้เลย มี quote"
      ],
      "execution_count": null,
      "outputs": [
        {
          "output_type": "execute_result",
          "data": {
            "application/vnd.google.colaboratory.intrinsic+json": {
              "type": "string"
            },
            "text/plain": [
              "'-29.200000000000003'"
            ]
          },
          "metadata": {
            "tags": []
          },
          "execution_count": 38
        }
      ]
    },
    {
      "cell_type": "code",
      "metadata": {
        "colab": {
          "base_uri": "https://localhost:8080/"
        },
        "id": "X-s6Xzi97zD9",
        "outputId": "da187a23-1aa1-435f-99f8-95d5eafa370b"
      },
      "source": [
        "float(v_x)  #เปลี่ยนมาเป็นตัวเลข"
      ],
      "execution_count": null,
      "outputs": [
        {
          "output_type": "execute_result",
          "data": {
            "text/plain": [
              "-29.200000000000003"
            ]
          },
          "metadata": {
            "tags": []
          },
          "execution_count": 39
        }
      ]
    },
    {
      "cell_type": "markdown",
      "metadata": {
        "id": "WRE0KuEh8h4p"
      },
      "source": [
        "##Data structure\n",
        "\n",
        "###list()  เอามาเรียงต่อกัน  ลำดับมีความสำคัญ"
      ]
    },
    {
      "cell_type": "code",
      "metadata": {
        "id": "VFplZpss8DuT"
      },
      "source": [
        "list_a = [1,2,0.2,'abs,'] # square brackets\n",
        "list_b = [2,'xyz',list_a,[1,2,0.0]]"
      ],
      "execution_count": null,
      "outputs": []
    },
    {
      "cell_type": "code",
      "metadata": {
        "colab": {
          "base_uri": "https://localhost:8080/"
        },
        "id": "kRqQBV_Z9Yw9",
        "outputId": "9954f5da-73b1-4a91-cc19-693225ddf19e"
      },
      "source": [
        "list_a"
      ],
      "execution_count": null,
      "outputs": [
        {
          "output_type": "execute_result",
          "data": {
            "text/plain": [
              "[1, 2, 0.2, 'abs,']"
            ]
          },
          "metadata": {
            "tags": []
          },
          "execution_count": 41
        }
      ]
    },
    {
      "cell_type": "code",
      "metadata": {
        "colab": {
          "base_uri": "https://localhost:8080/"
        },
        "id": "uTNCON9U9n--",
        "outputId": "17f8c22d-ae84-4998-979b-1f655716ea42"
      },
      "source": [
        "list_b"
      ],
      "execution_count": null,
      "outputs": [
        {
          "output_type": "execute_result",
          "data": {
            "text/plain": [
              "[2, 'xyz', [1, 2, 0.2, 'abs,'], [1, 2, 0.0]]"
            ]
          },
          "metadata": {
            "tags": []
          },
          "execution_count": 42
        }
      ]
    },
    {
      "cell_type": "code",
      "metadata": {
        "colab": {
          "base_uri": "https://localhost:8080/"
        },
        "id": "znk2q4Lg9qnO",
        "outputId": "a92ce966-bfeb-43cb-bcf7-0c6c4ae1335b"
      },
      "source": [
        "len(list_a)  #ดูว่ามีสมาชิกกี่ตัว"
      ],
      "execution_count": null,
      "outputs": [
        {
          "output_type": "execute_result",
          "data": {
            "text/plain": [
              "4"
            ]
          },
          "metadata": {
            "tags": []
          },
          "execution_count": 43
        }
      ]
    },
    {
      "cell_type": "code",
      "metadata": {
        "colab": {
          "base_uri": "https://localhost:8080/"
        },
        "id": "jeshC7lG9x0_",
        "outputId": "bf7ffeed-cfee-48ab-e5d3-e78565a39a73"
      },
      "source": [
        "len(list_b)"
      ],
      "execution_count": null,
      "outputs": [
        {
          "output_type": "execute_result",
          "data": {
            "text/plain": [
              "4"
            ]
          },
          "metadata": {
            "tags": []
          },
          "execution_count": 44
        }
      ]
    },
    {
      "cell_type": "code",
      "metadata": {
        "colab": {
          "base_uri": "https://localhost:8080/"
        },
        "id": "PK1PMTZP93B8",
        "outputId": "8af3e7d2-ed5a-41b0-fb23-967df2e74d13"
      },
      "source": [
        "list_b[3]  #ชี้สมาชิกตัวที่3  เริ่มนับจาก 0 ก่อน"
      ],
      "execution_count": null,
      "outputs": [
        {
          "output_type": "execute_result",
          "data": {
            "text/plain": [
              "[1, 2, 0.0]"
            ]
          },
          "metadata": {
            "tags": []
          },
          "execution_count": 45
        }
      ]
    },
    {
      "cell_type": "code",
      "metadata": {
        "colab": {
          "base_uri": "https://localhost:8080/"
        },
        "id": "zAT29oPq-BXi",
        "outputId": "00a31432-567e-497a-d04d-4631cd21517f"
      },
      "source": [
        "list_b[3][1]"
      ],
      "execution_count": null,
      "outputs": [
        {
          "output_type": "execute_result",
          "data": {
            "text/plain": [
              "2"
            ]
          },
          "metadata": {
            "tags": []
          },
          "execution_count": 46
        }
      ]
    },
    {
      "cell_type": "markdown",
      "metadata": {
        "id": "pn71dpWv-Th7"
      },
      "source": [
        "string คือ list  ของตัวหนังสือ"
      ]
    },
    {
      "cell_type": "code",
      "metadata": {
        "id": "Vlcd7inq-QQO"
      },
      "source": [
        "a = 'Stat KKU'"
      ],
      "execution_count": null,
      "outputs": []
    },
    {
      "cell_type": "code",
      "metadata": {
        "colab": {
          "base_uri": "https://localhost:8080/",
          "height": 35
        },
        "id": "YljANhur-kcU",
        "outputId": "f3073588-3c0b-4951-be2d-5db1f4e86075"
      },
      "source": [
        "a[4]"
      ],
      "execution_count": null,
      "outputs": [
        {
          "output_type": "execute_result",
          "data": {
            "application/vnd.google.colaboratory.intrinsic+json": {
              "type": "string"
            },
            "text/plain": [
              "' '"
            ]
          },
          "metadata": {
            "tags": []
          },
          "execution_count": 48
        }
      ]
    },
    {
      "cell_type": "markdown",
      "metadata": {
        "id": "wyqcaS9m_AxW"
      },
      "source": [
        "##วิธีสร้าง list ว่าง"
      ]
    },
    {
      "cell_type": "code",
      "metadata": {
        "id": "_9XLEz_5-oZW"
      },
      "source": [
        "list_c = list() #แบบที่ 1\n",
        "list_d = []  #แบบที่ 2"
      ],
      "execution_count": null,
      "outputs": []
    },
    {
      "cell_type": "code",
      "metadata": {
        "colab": {
          "base_uri": "https://localhost:8080/"
        },
        "id": "lTfUOJFj_Y9y",
        "outputId": "1f36a03f-5f0f-4359-ed9f-36b9156f0539"
      },
      "source": [
        "list_c"
      ],
      "execution_count": null,
      "outputs": [
        {
          "output_type": "execute_result",
          "data": {
            "text/plain": [
              "[]"
            ]
          },
          "metadata": {
            "tags": []
          },
          "execution_count": 50
        }
      ]
    },
    {
      "cell_type": "code",
      "metadata": {
        "colab": {
          "base_uri": "https://localhost:8080/"
        },
        "id": "d0A1_2t2_d15",
        "outputId": "eb7cf763-f9d6-4f8e-922d-0936baa105aa"
      },
      "source": [
        "list_d"
      ],
      "execution_count": null,
      "outputs": [
        {
          "output_type": "execute_result",
          "data": {
            "text/plain": [
              "[]"
            ]
          },
          "metadata": {
            "tags": []
          },
          "execution_count": 51
        }
      ]
    },
    {
      "cell_type": "markdown",
      "metadata": {
        "id": "UuWHruuiAAbY"
      },
      "source": [
        "เติมค่าลงไปใน list(.append())"
      ]
    },
    {
      "cell_type": "code",
      "metadata": {
        "id": "H79kLf7C_gX_"
      },
      "source": [
        "list_d.append('a')"
      ],
      "execution_count": null,
      "outputs": []
    },
    {
      "cell_type": "code",
      "metadata": {
        "colab": {
          "base_uri": "https://localhost:8080/"
        },
        "id": "gjGQIX1HAPLx",
        "outputId": "43741ce2-4ecd-43f7-8977-e01b9130c277"
      },
      "source": [
        "list_d"
      ],
      "execution_count": null,
      "outputs": [
        {
          "output_type": "execute_result",
          "data": {
            "text/plain": [
              "['a']"
            ]
          },
          "metadata": {
            "tags": []
          },
          "execution_count": 53
        }
      ]
    },
    {
      "cell_type": "code",
      "metadata": {
        "id": "6wKOsVLMARRD"
      },
      "source": [
        "list_d.append('56')"
      ],
      "execution_count": null,
      "outputs": []
    },
    {
      "cell_type": "code",
      "metadata": {
        "colab": {
          "base_uri": "https://localhost:8080/"
        },
        "id": "rautwTZ2Acyh",
        "outputId": "548df406-4e2b-4866-da64-b4737d00c804"
      },
      "source": [
        "list_d"
      ],
      "execution_count": null,
      "outputs": [
        {
          "output_type": "execute_result",
          "data": {
            "text/plain": [
              "['a', '56']"
            ]
          },
          "metadata": {
            "tags": []
          },
          "execution_count": 55
        }
      ]
    },
    {
      "cell_type": "markdown",
      "metadata": {
        "id": "RnVUWSM_Ag6B"
      },
      "source": [
        "การชี้ค่าใน list (indexing)\n",
        "\n",
        "1.ใช้ลำดับในการชี้\n",
        "\n",
        "2.ลำดับเริ่มจาก 0 \n",
        "\n",
        "3.สามารถชี้จากข้างหลังได้โดยใช้ negativeindex"
      ]
    },
    {
      "cell_type": "code",
      "metadata": {
        "colab": {
          "base_uri": "https://localhost:8080/"
        },
        "id": "JiJXtz4yAeh3",
        "outputId": "68bfc590-e4a4-4748-d61d-baa243fdd287"
      },
      "source": [
        "list_b"
      ],
      "execution_count": null,
      "outputs": [
        {
          "output_type": "execute_result",
          "data": {
            "text/plain": [
              "[2, 'xyz', [1, 2, 0.2, 'abs,'], [1, 2, 0.0]]"
            ]
          },
          "metadata": {
            "tags": []
          },
          "execution_count": 56
        }
      ]
    },
    {
      "cell_type": "code",
      "metadata": {
        "colab": {
          "base_uri": "https://localhost:8080/"
        },
        "id": "BDi7EgoLA4kc",
        "outputId": "83718c7e-e3a0-4660-d6bb-983f8f73e785"
      },
      "source": [
        "list_b[-1]  #ชี้ตัวหลังสุด"
      ],
      "execution_count": null,
      "outputs": [
        {
          "output_type": "execute_result",
          "data": {
            "text/plain": [
              "[1, 2, 0.0]"
            ]
          },
          "metadata": {
            "tags": []
          },
          "execution_count": 57
        }
      ]
    },
    {
      "cell_type": "markdown",
      "metadata": {
        "id": "Avocsbb8BnsT"
      },
      "source": [
        "##list slicing  การตัด list"
      ]
    },
    {
      "cell_type": "code",
      "metadata": {
        "id": "0nycxWYPA7RR"
      },
      "source": [
        "list_ex = [1,2,3,5,6,8,-1,20,50,0]"
      ],
      "execution_count": null,
      "outputs": []
    },
    {
      "cell_type": "markdown",
      "metadata": {
        "id": "h5cwFAPFCcKu"
      },
      "source": [
        "เราจะตัด list โดยเอาตั้งแต่ [ตัวหน้า:ตัวก่อนตัวหลัง]\n",
        "\n",
        "ถ้าเป็นสัญลักษณ์คณิตศาสตร์ [ตัวหน้า:ตัวหลัง]->[ตัวหน้า:ตัวหลัง)"
      ]
    },
    {
      "cell_type": "code",
      "metadata": {
        "colab": {
          "base_uri": "https://localhost:8080/"
        },
        "id": "10w0t24SB4Pp",
        "outputId": "5947373f-9491-4d73-a1fa-9a5d41893bcb"
      },
      "source": [
        "list_ex[1:6] #เราจะตัด list โดยเอาตั้งแต่ [ตัวหน้า:ตัวก่อนตัวหลัง]"
      ],
      "execution_count": null,
      "outputs": [
        {
          "output_type": "execute_result",
          "data": {
            "text/plain": [
              "[2, 3, 5, 6, 8]"
            ]
          },
          "metadata": {
            "tags": []
          },
          "execution_count": 59
        }
      ]
    },
    {
      "cell_type": "code",
      "metadata": {
        "colab": {
          "base_uri": "https://localhost:8080/"
        },
        "id": "9GVhM69oCBCb",
        "outputId": "8155bd17-95a1-4f6b-a80f-6b217b81724f"
      },
      "source": [
        "list_ex[4:]  #เอาตั้งแต่ตัวที่ 4 ไปถึงตัวสุดท้าย"
      ],
      "execution_count": null,
      "outputs": [
        {
          "output_type": "execute_result",
          "data": {
            "text/plain": [
              "[6, 8, -1, 20, 50, 0]"
            ]
          },
          "metadata": {
            "tags": []
          },
          "execution_count": 60
        }
      ]
    },
    {
      "cell_type": "code",
      "metadata": {
        "colab": {
          "base_uri": "https://localhost:8080/"
        },
        "id": "v49U63TnC6Ov",
        "outputId": "dd6ed086-2479-4d04-ce51-54e154cde94b"
      },
      "source": [
        "list_ex[:6]  #เอาตั้งแต่ตัวแรกไปถึงก่อนตัววที่ 6"
      ],
      "execution_count": null,
      "outputs": [
        {
          "output_type": "execute_result",
          "data": {
            "text/plain": [
              "[1, 2, 3, 5, 6, 8]"
            ]
          },
          "metadata": {
            "tags": []
          },
          "execution_count": 61
        }
      ]
    },
    {
      "cell_type": "markdown",
      "metadata": {
        "id": "fdYG0we4DoM6"
      },
      "source": [
        "[จุดเริ่มต้น:จุดสุดท้าย:step]"
      ]
    },
    {
      "cell_type": "code",
      "metadata": {
        "colab": {
          "base_uri": "https://localhost:8080/"
        },
        "id": "3PRp3DaZD1HK",
        "outputId": "b55de6cf-b1de-4142-9fa8-133cfb2e084b"
      },
      "source": [
        "list_ex"
      ],
      "execution_count": null,
      "outputs": [
        {
          "output_type": "execute_result",
          "data": {
            "text/plain": [
              "[1, 2, 3, 5, 6, 8, -1, 20, 50, 0]"
            ]
          },
          "metadata": {
            "tags": []
          },
          "execution_count": 62
        }
      ]
    },
    {
      "cell_type": "code",
      "metadata": {
        "colab": {
          "base_uri": "https://localhost:8080/"
        },
        "id": "P41EJCznDJgK",
        "outputId": "4901e5ac-6c0d-486c-d947-40bb588ce030"
      },
      "source": [
        "list_ex[::2]  #โดดไปทีละ 2"
      ],
      "execution_count": null,
      "outputs": [
        {
          "output_type": "execute_result",
          "data": {
            "text/plain": [
              "[1, 3, 6, -1, 50]"
            ]
          },
          "metadata": {
            "tags": []
          },
          "execution_count": 63
        }
      ]
    },
    {
      "cell_type": "code",
      "metadata": {
        "colab": {
          "base_uri": "https://localhost:8080/"
        },
        "id": "eYqLzylNDcGu",
        "outputId": "0f17fb83-827a-4e03-f736-5bb7f87fdb96"
      },
      "source": [
        "list_ex[::-1]  #การกลับ list"
      ],
      "execution_count": null,
      "outputs": [
        {
          "output_type": "execute_result",
          "data": {
            "text/plain": [
              "[0, 50, 20, -1, 8, 6, 5, 3, 2, 1]"
            ]
          },
          "metadata": {
            "tags": []
          },
          "execution_count": 64
        }
      ]
    },
    {
      "cell_type": "code",
      "metadata": {
        "colab": {
          "base_uri": "https://localhost:8080/",
          "height": 35
        },
        "id": "HpxBL3EtEH2X",
        "outputId": "29473fb9-4b96-471f-9eea-7bf23843082d"
      },
      "source": [
        "a"
      ],
      "execution_count": null,
      "outputs": [
        {
          "output_type": "execute_result",
          "data": {
            "application/vnd.google.colaboratory.intrinsic+json": {
              "type": "string"
            },
            "text/plain": [
              "'Stat KKU'"
            ]
          },
          "metadata": {
            "tags": []
          },
          "execution_count": 65
        }
      ]
    },
    {
      "cell_type": "code",
      "metadata": {
        "id": "FjKSMkEtBrpe",
        "colab": {
          "base_uri": "https://localhost:8080/",
          "height": 35
        },
        "outputId": "fc8fd171-cb60-4319-b3c5-77e9e3cf24c7"
      },
      "source": [
        "a[5:]"
      ],
      "execution_count": null,
      "outputs": [
        {
          "output_type": "execute_result",
          "data": {
            "application/vnd.google.colaboratory.intrinsic+json": {
              "type": "string"
            },
            "text/plain": [
              "'KKU'"
            ]
          },
          "metadata": {
            "tags": []
          },
          "execution_count": 66
        }
      ]
    },
    {
      "cell_type": "code",
      "metadata": {
        "colab": {
          "base_uri": "https://localhost:8080/",
          "height": 35
        },
        "id": "VH-OTE3EEVF7",
        "outputId": "f0f6dc74-f3c4-40a1-ec10-226164ce7baf"
      },
      "source": [
        "a[5::]"
      ],
      "execution_count": null,
      "outputs": [
        {
          "output_type": "execute_result",
          "data": {
            "application/vnd.google.colaboratory.intrinsic+json": {
              "type": "string"
            },
            "text/plain": [
              "'KKU'"
            ]
          },
          "metadata": {
            "tags": []
          },
          "execution_count": 67
        }
      ]
    },
    {
      "cell_type": "code",
      "metadata": {
        "colab": {
          "base_uri": "https://localhost:8080/",
          "height": 35
        },
        "id": "Q6bURClqEer0",
        "outputId": "699e623e-5bc3-42c4-f488-925a84b62126"
      },
      "source": [
        "a[5:8]"
      ],
      "execution_count": null,
      "outputs": [
        {
          "output_type": "execute_result",
          "data": {
            "application/vnd.google.colaboratory.intrinsic+json": {
              "type": "string"
            },
            "text/plain": [
              "'KKU'"
            ]
          },
          "metadata": {
            "tags": []
          },
          "execution_count": 68
        }
      ]
    },
    {
      "cell_type": "code",
      "metadata": {
        "colab": {
          "base_uri": "https://localhost:8080/",
          "height": 35
        },
        "id": "FDYhBzCzGAUU",
        "outputId": "595b9c28-fb76-4fdb-a6a8-26c850c1a77b"
      },
      "source": [
        "a[-3::1]"
      ],
      "execution_count": null,
      "outputs": [
        {
          "output_type": "execute_result",
          "data": {
            "application/vnd.google.colaboratory.intrinsic+json": {
              "type": "string"
            },
            "text/plain": [
              "'KKU'"
            ]
          },
          "metadata": {
            "tags": []
          },
          "execution_count": 69
        }
      ]
    },
    {
      "cell_type": "code",
      "metadata": {
        "colab": {
          "base_uri": "https://localhost:8080/",
          "height": 35
        },
        "id": "Y-WZ-XxSGF4Q",
        "outputId": "edf40cab-3d4f-4318-baac-c875a401a450"
      },
      "source": [
        "a[-3::]"
      ],
      "execution_count": null,
      "outputs": [
        {
          "output_type": "execute_result",
          "data": {
            "application/vnd.google.colaboratory.intrinsic+json": {
              "type": "string"
            },
            "text/plain": [
              "'KKU'"
            ]
          },
          "metadata": {
            "tags": []
          },
          "execution_count": 70
        }
      ]
    },
    {
      "cell_type": "markdown",
      "metadata": {
        "id": "KvX8qJqxGPE9"
      },
      "source": [
        "##list + list "
      ]
    },
    {
      "cell_type": "code",
      "metadata": {
        "colab": {
          "base_uri": "https://localhost:8080/"
        },
        "id": "xJX6dGBxGJ6u",
        "outputId": "1a3a98f9-7fb6-4e8b-849d-facd4d62fede"
      },
      "source": [
        "print(list_a)\n",
        "print(list_b)"
      ],
      "execution_count": null,
      "outputs": [
        {
          "output_type": "stream",
          "text": [
            "[1, 2, 0.2, 'abs,']\n",
            "[2, 'xyz', [1, 2, 0.2, 'abs,'], [1, 2, 0.0]]\n"
          ],
          "name": "stdout"
        }
      ]
    },
    {
      "cell_type": "code",
      "metadata": {
        "colab": {
          "base_uri": "https://localhost:8080/"
        },
        "id": "7Xh99bGIGcG7",
        "outputId": "195a39a7-46cf-4703-ab98-fb545aa4ab21"
      },
      "source": [
        "list_a + list_b   #เอาstring มาเรียงต่อกัน"
      ],
      "execution_count": null,
      "outputs": [
        {
          "output_type": "execute_result",
          "data": {
            "text/plain": [
              "[1, 2, 0.2, 'abs,', 2, 'xyz', [1, 2, 0.2, 'abs,'], [1, 2, 0.0]]"
            ]
          },
          "metadata": {
            "tags": []
          },
          "execution_count": 72
        }
      ]
    },
    {
      "cell_type": "markdown",
      "metadata": {
        "id": "rAF2T9iYK9lm"
      },
      "source": [
        "format string"
      ]
    },
    {
      "cell_type": "markdown",
      "metadata": {
        "id": "oYMLyO80Lth1"
      },
      "source": [
        "```python\n",
        "f'string{ตัวแปร}' \n",
        "```\n",
        "{} เรียกว่า curly brackets"
      ]
    },
    {
      "cell_type": "code",
      "metadata": {
        "colab": {
          "base_uri": "https://localhost:8080/",
          "height": 35
        },
        "id": "Xm7XWwcsLC3E",
        "outputId": "8c94d299-564a-4191-d59c-941704150a3b"
      },
      "source": [
        "f'ตัวแปร list_a  มีค่าคือ {list_a}'"
      ],
      "execution_count": null,
      "outputs": [
        {
          "output_type": "execute_result",
          "data": {
            "application/vnd.google.colaboratory.intrinsic+json": {
              "type": "string"
            },
            "text/plain": [
              "\"ตัวแปร list_a  มีค่าคือ [1, 2, 0.2, 'abs,']\""
            ]
          },
          "metadata": {
            "tags": []
          },
          "execution_count": 73
        }
      ]
    },
    {
      "cell_type": "markdown",
      "metadata": {
        "id": "CnS_jAW6IisT"
      },
      "source": [
        "#Loop"
      ]
    },
    {
      "cell_type": "markdown",
      "metadata": {
        "id": "_Mizv52pBEpj"
      },
      "source": [
        "ทำงานซ้ำๆ หรือทำงานคล้ายๆกัน"
      ]
    },
    {
      "cell_type": "markdown",
      "metadata": {
        "id": "QKzmOtcRBtAv"
      },
      "source": [
        "indent  ตัวเว้น"
      ]
    },
    {
      "cell_type": "markdown",
      "metadata": {
        "id": "rnUZEmRyKVKZ"
      },
      "source": [
        "```python\n",
        "for ตัวแปรที่จะรับค่าจากลิสต์ in ลิสต์ที่จะนำมาวนลูป:\n",
        "    do something  #in_loop\n",
        "    do another thing #in_loop\n",
        "do other things#out side loop\n",
        "```"
      ]
    },
    {
      "cell_type": "code",
      "metadata": {
        "colab": {
          "base_uri": "https://localhost:8080/"
        },
        "id": "BXyT6Gg0JKhv",
        "outputId": "90e4e261-f590-498d-b108-9df975e2caab"
      },
      "source": [
        "for i in [1,2,3,4,5]:   #i คือ 1 2 3 4 5\n",
        "    print(i+1)\n",
        "\n"
      ],
      "execution_count": 4,
      "outputs": [
        {
          "output_type": "stream",
          "text": [
            "2\n",
            "3\n",
            "4\n",
            "5\n",
            "6\n"
          ],
          "name": "stdout"
        }
      ]
    },
    {
      "cell_type": "code",
      "metadata": {
        "colab": {
          "base_uri": "https://localhost:8080/"
        },
        "id": "VMHv-XV9MTuP",
        "outputId": "917a80ca-8185-48e5-d1e0-4fccebaf1948"
      },
      "source": [
        "for x in [1,2,3,4,5]:\n",
        "    print(f'ค่าตัวแปร x คือ {x} และ x+2={x+2}')"
      ],
      "execution_count": 5,
      "outputs": [
        {
          "output_type": "stream",
          "text": [
            "ค่าตัวแปร x คือ 1 และ x+2=3\n",
            "ค่าตัวแปร x คือ 2 และ x+2=4\n",
            "ค่าตัวแปร x คือ 3 และ x+2=5\n",
            "ค่าตัวแปร x คือ 4 และ x+2=6\n",
            "ค่าตัวแปร x คือ 5 และ x+2=7\n"
          ],
          "name": "stdout"
        }
      ]
    },
    {
      "cell_type": "code",
      "metadata": {
        "colab": {
          "base_uri": "https://localhost:8080/"
        },
        "id": "cwffpb_vMxzw",
        "outputId": "7014a6b1-f60a-4c59-f97a-d6820edb0c8d"
      },
      "source": [
        "list5=[1,2,3,4,5]\n",
        "for x in list5:\n",
        "    print(f'ค่าตัวแปร x คือ {x} และ x+2={x+2}')"
      ],
      "execution_count": 6,
      "outputs": [
        {
          "output_type": "stream",
          "text": [
            "ค่าตัวแปร x คือ 1 และ x+2=3\n",
            "ค่าตัวแปร x คือ 2 และ x+2=4\n",
            "ค่าตัวแปร x คือ 3 และ x+2=5\n",
            "ค่าตัวแปร x คือ 4 และ x+2=6\n",
            "ค่าตัวแปร x คือ 5 และ x+2=7\n"
          ],
          "name": "stdout"
        }
      ]
    },
    {
      "cell_type": "code",
      "metadata": {
        "colab": {
          "base_uri": "https://localhost:8080/"
        },
        "id": "MxhvlXDbMwYK",
        "outputId": "609feda3-5138-4bb4-a448-ab9c3102df52"
      },
      "source": [
        "list(range(10)) #สร้างlistตั้งแต่ 0 ไม่ถึงเลข 10"
      ],
      "execution_count": 7,
      "outputs": [
        {
          "output_type": "execute_result",
          "data": {
            "text/plain": [
              "[0, 1, 2, 3, 4, 5, 6, 7, 8, 9]"
            ]
          },
          "metadata": {
            "tags": []
          },
          "execution_count": 7
        }
      ]
    },
    {
      "cell_type": "code",
      "metadata": {
        "colab": {
          "base_uri": "https://localhost:8080/"
        },
        "id": "tbr4DUcmNKKa",
        "outputId": "2eb78f97-8c73-461c-99c1-d4d378b3a665"
      },
      "source": [
        "for i in range(2,7): #จุดเริ่มต้น,จุดสุดท้าย\n",
        "  print(i)"
      ],
      "execution_count": 8,
      "outputs": [
        {
          "output_type": "stream",
          "text": [
            "2\n",
            "3\n",
            "4\n",
            "5\n",
            "6\n"
          ],
          "name": "stdout"
        }
      ]
    },
    {
      "cell_type": "code",
      "metadata": {
        "colab": {
          "base_uri": "https://localhost:8080/"
        },
        "id": "SGA-Lu46Nxaz",
        "outputId": "037442c2-53f9-4cf4-81f9-b3925035b457"
      },
      "source": [
        "for i in range(2,7,2):#จุดเริ่มต้น,จุดสุดท้าย,stepโดดทีละ 2\n",
        "  print(i)"
      ],
      "execution_count": 9,
      "outputs": [
        {
          "output_type": "stream",
          "text": [
            "2\n",
            "4\n",
            "6\n"
          ],
          "name": "stdout"
        }
      ]
    },
    {
      "cell_type": "code",
      "metadata": {
        "colab": {
          "base_uri": "https://localhost:8080/"
        },
        "id": "zOykZGgHOPQp",
        "outputId": "6e127103-a7a2-461b-abe3-53eff3d99c7a"
      },
      "source": [
        "for i in range(5):\n",
        "    print('hahaha')  #วนลูปทำซ้ำ"
      ],
      "execution_count": 10,
      "outputs": [
        {
          "output_type": "stream",
          "text": [
            "hahaha\n",
            "hahaha\n",
            "hahaha\n",
            "hahaha\n",
            "hahaha\n"
          ],
          "name": "stdout"
        }
      ]
    },
    {
      "cell_type": "code",
      "metadata": {
        "colab": {
          "base_uri": "https://localhost:8080/"
        },
        "id": "bZqefgBNOd4E",
        "outputId": "0f74546d-26e4-4f1d-e20c-0699fa949a93"
      },
      "source": [
        "for i in range(5):\n",
        "    print('hahaha')\n",
        "    x = i + 3\n",
        "    print(f'i={i} x={x}')"
      ],
      "execution_count": 11,
      "outputs": [
        {
          "output_type": "stream",
          "text": [
            "hahaha\n",
            "i=0 x=3\n",
            "hahaha\n",
            "i=1 x=4\n",
            "hahaha\n",
            "i=2 x=5\n",
            "hahaha\n",
            "i=3 x=6\n",
            "hahaha\n",
            "i=4 x=7\n"
          ],
          "name": "stdout"
        }
      ]
    },
    {
      "cell_type": "markdown",
      "metadata": {
        "id": "Zq0fYCsROm_h"
      },
      "source": [
        "##Nested loop  ลูปซ้อนลูป"
      ]
    },
    {
      "cell_type": "code",
      "metadata": {
        "colab": {
          "base_uri": "https://localhost:8080/"
        },
        "id": "dHJHUdmTO_5s",
        "outputId": "a2aef5f0-b26c-40a2-b1ac-9a6c7d3d7a71"
      },
      "source": [
        "for i in range(3):\n",
        "    print(f'now i = {i}')\n",
        "    print('start j loop')\n",
        "    for j in range(4):\n",
        "        print(f'i = {i} j = {j} i+j = {i+j}')\n",
        "    print('end j loop')"
      ],
      "execution_count": 12,
      "outputs": [
        {
          "output_type": "stream",
          "text": [
            "now i = 0\n",
            "start j loop\n",
            "i = 0 j = 0 i+j = 0\n",
            "i = 0 j = 1 i+j = 1\n",
            "i = 0 j = 2 i+j = 2\n",
            "i = 0 j = 3 i+j = 3\n",
            "end j loop\n",
            "now i = 1\n",
            "start j loop\n",
            "i = 1 j = 0 i+j = 1\n",
            "i = 1 j = 1 i+j = 2\n",
            "i = 1 j = 2 i+j = 3\n",
            "i = 1 j = 3 i+j = 4\n",
            "end j loop\n",
            "now i = 2\n",
            "start j loop\n",
            "i = 2 j = 0 i+j = 2\n",
            "i = 2 j = 1 i+j = 3\n",
            "i = 2 j = 2 i+j = 4\n",
            "i = 2 j = 3 i+j = 5\n",
            "end j loop\n"
          ],
          "name": "stdout"
        }
      ]
    },
    {
      "cell_type": "markdown",
      "metadata": {
        "id": "Jmj2h6mdIqtJ"
      },
      "source": [
        "#Condition เงื่อนไข\n",
        "\n"
      ]
    },
    {
      "cell_type": "markdown",
      "metadata": {
        "id": "_LqyNHlYFJJw"
      },
      "source": [
        "```python\n",
        "if เงื่อนไขที่จะตรวจสอบ: (โดยใช้สัญลักษณ์ ==,!=,>,<,<=,>=):\n",
        "  ถ้าเงื่อนไขเป็นจริง ทำงาน 1\n",
        "  ถ้าเงื่อนไขเป็นจริง ทำงาน 2\n",
        "elif เงื่อนไขที่จะตรวจสอบต่อไป\n",
        "else #ตรวจสอบเงื่อนไขข้างบนแล้วไม่เป็นจริง\n",
        "  ทำงานที่ x\n",
        "\n",
        "```\n"
      ]
    },
    {
      "cell_type": "code",
      "metadata": {
        "colab": {
          "base_uri": "https://localhost:8080/"
        },
        "id": "86SOh6esFoC3",
        "outputId": "1fa4d453-8b97-4d2d-d9a3-f885d76bdf48"
      },
      "source": [
        "stringx = 'kgfjhgnfkgjfkghhfdjdlfjghhfkhghgjfhkjkgdfsghlkk'  #พิมพ์มั่ว อะไรก็ได้\n",
        "\n",
        "if len(stringx) > 100:\n",
        "  print(f'{stringx} is longer than 30 characters')\n",
        "else:\n",
        "  print(f'{stringx} in {len(stringx)} characters long')#ถ้าไม่เป็นจริงให้แสดงจำนวนตัวอักษร\n",
        "\n",
        " "
      ],
      "execution_count": 13,
      "outputs": [
        {
          "output_type": "stream",
          "text": [
            "kgfjhgnfkgjfkghhfdjdlfjghhfkhghgjfhkjkgdfsghlkk in 47 characters long\n"
          ],
          "name": "stdout"
        }
      ]
    },
    {
      "cell_type": "code",
      "metadata": {
        "colab": {
          "base_uri": "https://localhost:8080/"
        },
        "id": "Lv5aku_uKj2p",
        "outputId": "1119a7e3-37c7-4b4a-fc9b-c0ec0d7268eb"
      },
      "source": [
        "password = '12345'\n",
        "\n",
        "input_pass = '123sf'\n",
        "if input_pass == password: #input ที่ใส่เข้ามาตรงกับ password มั้ย\n",
        "  print('welcome!')#เข้ามาได้จะ welcome\n",
        "elif len(input_pass) > len(password): #เช็คความยาวของรหัส\n",
        "  print('Too long, try again')  #บอกใบ้ว่ารหัสที่ใส่มายาวไป\n",
        "elif len(input_pass) < len(password):\n",
        "  print('Too short, try again')#บอกใบ้ว่ารหัสที่ใส่มาสั้นไปไป\n",
        "else:\n",
        "  print('Wrong password, try again!')\n",
        "\n"
      ],
      "execution_count": 14,
      "outputs": [
        {
          "output_type": "stream",
          "text": [
            "Wrong password, try again!\n"
          ],
          "name": "stdout"
        }
      ]
    },
    {
      "cell_type": "markdown",
      "metadata": {
        "id": "rxXhau43KdGm"
      },
      "source": [
        "Quiz 1 หา min\n",
        "\n",
        "\n"
      ]
    },
    {
      "cell_type": "code",
      "metadata": {
        "id": "bozt7rM_NOpu"
      },
      "source": [
        "list_ex = [1,5,9,-19,-2,0] #หาค่าน้อยที่สุดใน list_ex โดยไม่ใช้ function min ( commit ก่อน 10.30  : Quiz 1)"
      ],
      "execution_count": 15,
      "outputs": []
    },
    {
      "cell_type": "code",
      "metadata": {
        "colab": {
          "base_uri": "https://localhost:8080/"
        },
        "id": "7SB5Kc-7P0oT",
        "outputId": "4b8d46bd-8759-4de6-be4e-5416fd42ba7c"
      },
      "source": [
        "list_ex[-3]#ผิดนะ555"
      ],
      "execution_count": 16,
      "outputs": [
        {
          "output_type": "execute_result",
          "data": {
            "text/plain": [
              "-19"
            ]
          },
          "metadata": {
            "tags": []
          },
          "execution_count": 16
        }
      ]
    },
    {
      "cell_type": "code",
      "metadata": {
        "colab": {
          "base_uri": "https://localhost:8080/"
        },
        "id": "kW6ZbufNSJEc",
        "outputId": "2ae45f0b-1d12-4273-abbe-fa3d0856a81c"
      },
      "source": [
        "min = 100000000 #ตั้งค่าน้อยสุดแบบปลอมๆ ให้ค่าเยอะๆไว้\n",
        "for i in list_ex: #เข้าไปดูว่าตัวไหนน้อยสุด\n",
        "  if i < min: \n",
        "    min = i #ดูว่าเลขแต่ละตัวน้อยกว่า min มั้ย ถ้าน้อยกว่า\n",
        "print(min)"
      ],
      "execution_count": 17,
      "outputs": [
        {
          "output_type": "stream",
          "text": [
            "-19\n"
          ],
          "name": "stdout"
        }
      ]
    },
    {
      "cell_type": "code",
      "metadata": {
        "colab": {
          "base_uri": "https://localhost:8080/"
        },
        "id": "ITtDo7MaTp9r",
        "outputId": "c1c15e20-2882-4188-b96c-3346cb805dd2"
      },
      "source": [
        "min = 100000000 \n",
        "print(list_ex)\n",
        "for i in list_ex: \n",
        "  print(f'now i = {i},  min = {min}')\n",
        "  print('start condition')\n",
        "  if i < min: \n",
        "    print('i >= min, update min -> {i}')\n",
        "    \n",
        "    min = i \n",
        "  else:\n",
        "    print('i >= min, not update')\n",
        "  print('end condition,go to next i')\n",
        "\n",
        "print(min)"
      ],
      "execution_count": 18,
      "outputs": [
        {
          "output_type": "stream",
          "text": [
            "[1, 5, 9, -19, -2, 0]\n",
            "now i = 1,  min = 100000000\n",
            "start condition\n",
            "i >= min, update min -> {i}\n",
            "end condition,go to next i\n",
            "now i = 5,  min = 1\n",
            "start condition\n",
            "i >= min, not update\n",
            "end condition,go to next i\n",
            "now i = 9,  min = 1\n",
            "start condition\n",
            "i >= min, not update\n",
            "end condition,go to next i\n",
            "now i = -19,  min = 1\n",
            "start condition\n",
            "i >= min, update min -> {i}\n",
            "end condition,go to next i\n",
            "now i = -2,  min = -19\n",
            "start condition\n",
            "i >= min, not update\n",
            "end condition,go to next i\n",
            "now i = 0,  min = -19\n",
            "start condition\n",
            "i >= min, not update\n",
            "end condition,go to next i\n",
            "-19\n"
          ],
          "name": "stdout"
        }
      ]
    },
    {
      "cell_type": "markdown",
      "metadata": {
        "id": "2EUmI7nIYsNB"
      },
      "source": [
        "HW3 ตัดเกรด"
      ]
    },
    {
      "cell_type": "code",
      "metadata": {
        "id": "j1GwpH8uYumm"
      },
      "source": [
        "score = [49,65,70,95,82,55,89,20,77,77,81,59,10] #การตัดเกรด คะแนนใน list score  ใช้ if , for"
      ],
      "execution_count": 19,
      "outputs": []
    },
    {
      "cell_type": "code",
      "metadata": {
        "id": "s5vpEodEZir7",
        "colab": {
          "base_uri": "https://localhost:8080/"
        },
        "outputId": "69256986-8e23-4d85-81ac-1db1ce67a42c"
      },
      "source": [
        "for i in score:  #เข้าไปดูใน score ก่อน\n",
        "\n",
        "  if i >= 80:\n",
        "    print(f'{i} คะแนน = เกรด A')\n",
        "  elif i >= 75 and i < 80:\n",
        "    print(f'{i} คะแนน = เกรด B+')\n",
        "  elif i >= 70 and i < 75:\n",
        "    print(f'{i} คะแนน = เกรด B')\n",
        "  elif i >= 65 and i < 70:\n",
        "    print(f'{i} คะแนน = เกรด C+')\n",
        "  elif i >= 60 and i < 65:\n",
        "    print(f'{i} คะแนน = เกรด C')\n",
        "  elif i >= 55 and i < 60:\n",
        "    print(f'{i} คะแนน = เกรด D+')\n",
        "  elif i >= 50 and i < 55:\n",
        "    print(f'{i} คะแนน = เกรด D')\n",
        "  else:\n",
        "    print(f'{i} คะแนน = เกรด F')"
      ],
      "execution_count": 20,
      "outputs": [
        {
          "output_type": "stream",
          "text": [
            "49 คะแนน = เกรด F\n",
            "65 คะแนน = เกรด C+\n",
            "70 คะแนน = เกรด B\n",
            "95 คะแนน = เกรด A\n",
            "82 คะแนน = เกรด A\n",
            "55 คะแนน = เกรด D+\n",
            "89 คะแนน = เกรด A\n",
            "20 คะแนน = เกรด F\n",
            "77 คะแนน = เกรด B+\n",
            "77 คะแนน = เกรด B+\n",
            "81 คะแนน = เกรด A\n",
            "59 คะแนน = เกรด D+\n",
            "10 คะแนน = เกรด F\n"
          ],
          "name": "stdout"
        }
      ]
    },
    {
      "cell_type": "markdown",
      "metadata": {
        "id": "Qy8i_Y6tItw_"
      },
      "source": [
        "###Function"
      ]
    },
    {
      "cell_type": "markdown",
      "metadata": {
        "id": "4kHFUa2RwIQU"
      },
      "source": [
        "\n",
        "\n",
        "```python\n",
        "def ชื่อฟังก์ชัน(input1,input2,...):\n",
        "  งานxxx\n",
        "  งานyyy\n",
        "  return output\n",
        "```\n",
        "\n",
        "ส่วนประกอบสำคัญ\n",
        "*   input\n",
        "*   process(ไม่มีไม่ได้)\n",
        "*   output\n",
        "\n",
        "\n",
        "\n",
        "\n",
        "\n",
        "\n",
        "\n",
        "\n",
        "\n"
      ]
    },
    {
      "cell_type": "markdown",
      "metadata": {
        "id": "3FI9Op3EyK-I"
      },
      "source": [
        "![ดาวน์โหลด.png](data:image/png;base64,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)"
      ]
    },
    {
      "cell_type": "markdown",
      "metadata": {
        "id": "P2PgBwsNyPdC"
      },
      "source": [
        "###Example 1"
      ]
    },
    {
      "cell_type": "code",
      "metadata": {
        "id": "VtD0k3OsweoU"
      },
      "source": [
        "def grading(score):\n",
        "    if score >= 80:\n",
        "        grade = 'A'\n",
        "    elif score >= 75:\n",
        "        grade = 'B+'\n",
        "    elif score >= 70:\n",
        "        grade = 'B' \n",
        "    elif score >= 65:\n",
        "        grade = 'C+' \n",
        "    elif score >= 60:\n",
        "        grade = 'C' \n",
        "    elif score >= 55:\n",
        "        grade = 'D+' \n",
        "    elif score >= 50:\n",
        "        grade = 'D' \n",
        "    else:\n",
        "        grade = 'F'\n",
        "\n",
        "    return grade \n"
      ],
      "execution_count": 28,
      "outputs": []
    },
    {
      "cell_type": "code",
      "metadata": {
        "colab": {
          "base_uri": "https://localhost:8080/"
        },
        "id": "8jN-ga-M0dOH",
        "outputId": "ce205c09-899c-4260-f2e7-924309d3bb1f"
      },
      "source": [
        "score =[49,65,70,95,82,55,89,20,77,77,81,59,10]\n",
        "for i  in score:\n",
        "   print(f'คะแนน {i} ได้เกรด {grading(i)}')"
      ],
      "execution_count": 29,
      "outputs": [
        {
          "output_type": "stream",
          "text": [
            "คะแนน 49 ได้เกรด F\n",
            "คะแนน 65 ได้เกรด C+\n",
            "คะแนน 70 ได้เกรด B\n",
            "คะแนน 95 ได้เกรด A\n",
            "คะแนน 82 ได้เกรด A\n",
            "คะแนน 55 ได้เกรด D+\n",
            "คะแนน 89 ได้เกรด A\n",
            "คะแนน 20 ได้เกรด F\n",
            "คะแนน 77 ได้เกรด B+\n",
            "คะแนน 77 ได้เกรด B+\n",
            "คะแนน 81 ได้เกรด A\n",
            "คะแนน 59 ได้เกรด D+\n",
            "คะแนน 10 ได้เกรด F\n"
          ],
          "name": "stdout"
        }
      ]
    },
    {
      "cell_type": "code",
      "metadata": {
        "id": "bwnujHyz67wX"
      },
      "source": [
        "def grading2(score): #เหมือนกันกับข้างบนแต่อันนี้ return เลย\n",
        "    if score >= 80:\n",
        "        return 'A'\n",
        "    elif score >= 75:\n",
        "        return 'B+'\n",
        "    elif score >= 70:\n",
        "        return 'B' \n",
        "    elif score >= 65:\n",
        "        return 'C+' \n",
        "    elif score >= 60:\n",
        "        return 'C' \n",
        "    elif score >= 55:\n",
        "        return 'D+' \n",
        "    elif score >= 50:\n",
        "        return 'D' \n",
        "    else:\n",
        "        return 'F'\n",
        "\n",
        "    \n"
      ],
      "execution_count": 33,
      "outputs": []
    },
    {
      "cell_type": "code",
      "metadata": {
        "colab": {
          "base_uri": "https://localhost:8080/"
        },
        "id": "allOD3XR7XUR",
        "outputId": "200dcca7-0a9a-4421-c562-1d9378d30222"
      },
      "source": [
        "score =[49,65,70,95,82,55,89,20,77,77,81,59,10]#เหมือนกัน\n",
        "for i  in score:\n",
        "   print(f'คะแนน {i} ได้เกรด {grading2(i)}')"
      ],
      "execution_count": 34,
      "outputs": [
        {
          "output_type": "stream",
          "text": [
            "คะแนน 49 ได้เกรด F\n",
            "คะแนน 65 ได้เกรด C+\n",
            "คะแนน 70 ได้เกรด B\n",
            "คะแนน 95 ได้เกรด A\n",
            "คะแนน 82 ได้เกรด A\n",
            "คะแนน 55 ได้เกรด D+\n",
            "คะแนน 89 ได้เกรด A\n",
            "คะแนน 20 ได้เกรด F\n",
            "คะแนน 77 ได้เกรด B+\n",
            "คะแนน 77 ได้เกรด B+\n",
            "คะแนน 81 ได้เกรด A\n",
            "คะแนน 59 ได้เกรด D+\n",
            "คะแนน 10 ได้เกรด F\n"
          ],
          "name": "stdout"
        }
      ]
    },
    {
      "cell_type": "code",
      "metadata": {
        "id": "y_sMDNPW1i2V"
      },
      "source": [
        "def  grading_list(list_score):\n",
        "        grade_list = []\n",
        "        for score in list_score:\n",
        "            if score >= 80:\n",
        "                grade = 'A'\n",
        "            elif score >= 75:\n",
        "                grade = 'B+'\n",
        "            elif score >= 70:\n",
        "                grade = 'B' \n",
        "            elif score >= 65:\n",
        "                grade = 'C+' \n",
        "            elif score >= 60:\n",
        "                grade = 'C' \n",
        "            elif score >= 55:\n",
        "                grade = 'D+' \n",
        "            elif score >= 50:\n",
        "                grade = 'D' \n",
        "            else:\n",
        "                grade = 'F'\n",
        "            grade_list.append([score,grade])\n",
        "        return grade_list"
      ],
      "execution_count": 31,
      "outputs": []
    },
    {
      "cell_type": "code",
      "metadata": {
        "id": "F9exBusR5qvU",
        "outputId": "9af2fbae-1d92-4924-aa16-7a2fbeff1a9e",
        "colab": {
          "base_uri": "https://localhost:8080/"
        }
      },
      "source": [
        "g = grading_list(score)\n",
        "g"
      ],
      "execution_count": 32,
      "outputs": [
        {
          "output_type": "execute_result",
          "data": {
            "text/plain": [
              "[[49, 'F'],\n",
              " [65, 'C+'],\n",
              " [70, 'B'],\n",
              " [95, 'A'],\n",
              " [82, 'A'],\n",
              " [55, 'D+'],\n",
              " [89, 'A'],\n",
              " [20, 'F'],\n",
              " [77, 'B+'],\n",
              " [77, 'B+'],\n",
              " [81, 'A'],\n",
              " [59, 'D+'],\n",
              " [10, 'F']]"
            ]
          },
          "metadata": {
            "tags": []
          },
          "execution_count": 32
        }
      ]
    },
    {
      "cell_type": "markdown",
      "metadata": {
        "id": "lHV3MF0K8XVZ"
      },
      "source": [
        "###Example 2 (ไม่มี input)"
      ]
    },
    {
      "cell_type": "code",
      "metadata": {
        "id": "MQdGGaOS8eIH"
      },
      "source": [
        "def mypi():\n",
        "    return 3.14 #อันนี้คือ process"
      ],
      "execution_count": 35,
      "outputs": []
    },
    {
      "cell_type": "code",
      "metadata": {
        "id": "Iu36uInR8k7-",
        "outputId": "c4305ae6-25ed-438e-9195-f1a2c64d5800",
        "colab": {
          "base_uri": "https://localhost:8080/"
        }
      },
      "source": [
        "r=10\n",
        "print(f'รัศมี={r} จะมีเส้นรอบวง={2*mypi()*r}')"
      ],
      "execution_count": 38,
      "outputs": [
        {
          "output_type": "stream",
          "text": [
            "รัศมี=10 จะมีเส้นรอบวง=62.800000000000004\n"
          ],
          "name": "stdout"
        }
      ]
    },
    {
      "cell_type": "markdown",
      "metadata": {
        "id": "lCLkNj6R9O-L"
      },
      "source": [
        "###Example 2 (ไม่มี output)"
      ]
    },
    {
      "cell_type": "code",
      "metadata": {
        "id": "zzpGDZk495TE"
      },
      "source": [
        "def grading_nooutput(score):\n",
        "  if i >= 80:\n",
        "     print('ได้เกรด A')\n",
        "  elif i >= 75:\n",
        "      print('ได้เกรด B+')\n",
        "  elif i >= 70:\n",
        "      print('ได้เกรด B')\n",
        "  elif i >= 65:\n",
        "      print('ได้เกรด C+')\n",
        "  elif i >= 60:\n",
        "      print('ได้เกรด C')\n",
        "  elif i >= 55:\n",
        "      print('ได้เกรด D+')\n",
        "  elif i >= 50:\n",
        "      print('ได้เกรด D')\n",
        "  else:\n",
        "      print('ได้เกรด F')"
      ],
      "execution_count": 40,
      "outputs": []
    },
    {
      "cell_type": "code",
      "metadata": {
        "id": "0m28D3IR97ib",
        "outputId": "6ed0eea7-39e9-49f5-b3f2-250e681c87ec",
        "colab": {
          "base_uri": "https://localhost:8080/"
        }
      },
      "source": [
        "score =[49,65,70,95,82,55,89,20,77,77,81,59,10]\n",
        "for i  in score:\n",
        "   print(f'คะแนน {i}', end=' ')\n",
        "   grading_nooutput(i)"
      ],
      "execution_count": 41,
      "outputs": [
        {
          "output_type": "stream",
          "text": [
            "คะแนน 49 ได้เกรด F\n",
            "คะแนน 65 ได้เกรด C+\n",
            "คะแนน 70 ได้เกรด B\n",
            "คะแนน 95 ได้เกรด A\n",
            "คะแนน 82 ได้เกรด A\n",
            "คะแนน 55 ได้เกรด D+\n",
            "คะแนน 89 ได้เกรด A\n",
            "คะแนน 20 ได้เกรด F\n",
            "คะแนน 77 ได้เกรด B+\n",
            "คะแนน 77 ได้เกรด B+\n",
            "คะแนน 81 ได้เกรด A\n",
            "คะแนน 59 ได้เกรด D+\n",
            "คะแนน 10 ได้เกรด F\n"
          ],
          "name": "stdout"
        }
      ]
    },
    {
      "cell_type": "markdown",
      "metadata": {
        "id": "A-4Jf8Gn_YSr"
      },
      "source": [
        "###Example 3 (ไม่มี input output)"
      ]
    },
    {
      "cell_type": "code",
      "metadata": {
        "id": "tYTLMbez_bu3"
      },
      "source": [
        "def draw_rect(): #ข้อดีจะพิมพ์รูปกระต่ายก็ไม่ต้องก็อปโค้ดมา\n",
        "        print('=============')\n",
        "        print('|                            |')\n",
        "        print('|                            |')\n",
        "        print('=============')"
      ],
      "execution_count": 57,
      "outputs": []
    },
    {
      "cell_type": "code",
      "metadata": {
        "id": "Z6ZFZjMEFC00",
        "outputId": "a35f6805-e0ec-499b-c464-42c96a60c3ef",
        "colab": {
          "base_uri": "https://localhost:8080/"
        }
      },
      "source": [
        "draw_rect()\n",
        "draw_rect()"
      ],
      "execution_count": 58,
      "outputs": [
        {
          "output_type": "stream",
          "text": [
            "=============\n",
            "|                            |\n",
            "|                            |\n",
            "=============\n",
            "=============\n",
            "|                            |\n",
            "|                            |\n",
            "=============\n"
          ],
          "name": "stdout"
        }
      ]
    },
    {
      "cell_type": "markdown",
      "metadata": {
        "id": "a_ykM1dqAfqA"
      },
      "source": [
        "#### ลักษณะของ input(parameter)(argument)\n",
        "\n",
        "\n",
        "\n",
        "*   จำเป็นต้องใส่  (จะไม่มีค่า default มาให้)\n",
        "*   ไม่จำเป็นต้องใส่ ()\n",
        "\n"
      ]
    },
    {
      "cell_type": "code",
      "metadata": {
        "id": "g2FEjr8sAuqu"
      },
      "source": [
        "def A(input1, input2 = 3):\n",
        "    return input1+input2"
      ],
      "execution_count": 43,
      "outputs": []
    },
    {
      "cell_type": "code",
      "metadata": {
        "id": "rQNEcPX1BXO5",
        "outputId": "71d4a3f3-1d95-4cc8-a3e1-6e171591db79",
        "colab": {
          "base_uri": "https://localhost:8080/"
        }
      },
      "source": [
        "A(1)"
      ],
      "execution_count": 46,
      "outputs": [
        {
          "output_type": "execute_result",
          "data": {
            "text/plain": [
              "4"
            ]
          },
          "metadata": {
            "tags": []
          },
          "execution_count": 46
        }
      ]
    },
    {
      "cell_type": "code",
      "metadata": {
        "id": "wzor6exPBg1f",
        "outputId": "4ebc0a65-c5a9-4d89-987d-883d6b8eb4cc",
        "colab": {
          "base_uri": "https://localhost:8080/"
        }
      },
      "source": [
        "A(1,6)  #input1 = 1  , input2 =6  เอามาบวกกันได้ 7  ลำดับการใส่มีความสำคัญ"
      ],
      "execution_count": 45,
      "outputs": [
        {
          "output_type": "execute_result",
          "data": {
            "text/plain": [
              "7"
            ]
          },
          "metadata": {
            "tags": []
          },
          "execution_count": 45
        }
      ]
    },
    {
      "cell_type": "code",
      "metadata": {
        "id": "pnz0jkBVCPjW"
      },
      "source": [
        "def printlove(input1, input2 = 'stat', input3 = 'KKU'):"
      ],
      "execution_count": 53,
      "outputs": []
    },
    {
      "cell_type": "code",
      "metadata": {
        "colab": {
          "base_uri": "https://localhost:8080/"
        },
        "id": "r70MVhQ7CxeG",
        "outputId": "5cc51ebf-25b4-43ba-8d48-5d339b35686d"
      },
      "source": [
        "printlove('Suphalaksana')   #เรียง input ที่จำเป็น ก่อน input ที่ไม่จำเป็น"
      ],
      "execution_count": 54,
      "outputs": [
        {
          "output_type": "stream",
          "text": [
            "Suphalaksana  love  stat  KKU\n"
          ],
          "name": "stdout"
        }
      ]
    },
    {
      "cell_type": "code",
      "metadata": {
        "colab": {
          "base_uri": "https://localhost:8080/"
        },
        "id": "cHy0qT40D4-j",
        "outputId": "01f5a378-abe5-48b8-c8c2-d89196ef05be"
      },
      "source": [
        "printlove('Suphalaksana','SI','stat')   "
      ],
      "execution_count": 55,
      "outputs": [
        {
          "output_type": "stream",
          "text": [
            "Suphalaksana  love  SI  stat\n"
          ],
          "name": "stdout"
        }
      ]
    },
    {
      "cell_type": "code",
      "metadata": {
        "colab": {
          "base_uri": "https://localhost:8080/"
        },
        "id": "BwtYgQw6EE11",
        "outputId": "ca72b94a-cd7a-4994-da42-010dd6da6adf"
      },
      "source": [
        "printlove(input3 ='Suphalaksana',input2 = 'SI',input1 = 'Stat')"
      ],
      "execution_count": 56,
      "outputs": [
        {
          "output_type": "stream",
          "text": [
            "Stat  love  SI  Suphalaksana\n"
          ],
          "name": "stdout"
        }
      ]
    },
    {
      "cell_type": "code",
      "metadata": {
        "id": "cEVqIRbnC6yL",
        "outputId": "a3bc27d5-d73d-4fda-a808-b90c1c52da0f",
        "colab": {
          "base_uri": "https://localhost:8080/",
          "height": 129
        }
      },
      "source": [
        "def printlove(input2 =  'Stat', input1, input3 = 'KKU'):  #เอา input ที่ไม่มีค่า default  หรือไม่มีเครื่องหมาย = มาเรียงขึ้นก่อน\n",
        "    print(f'{input1}  love  {input2}  {input3}')"
      ],
      "execution_count": 61,
      "outputs": [
        {
          "output_type": "error",
          "ename": "SyntaxError",
          "evalue": "ignored",
          "traceback": [
            "\u001b[0;36m  File \u001b[0;32m\"<ipython-input-61-775908a85056>\"\u001b[0;36m, line \u001b[0;32m1\u001b[0m\n\u001b[0;31m    def printlove(input2 =  'Stat', input1, input3 = 'KKU'):  #เอา input ที่ไม่มีค่า default  หรือไม่มีเครื่องหมาย = มาเรียงขึ้นก่อน\u001b[0m\n\u001b[0m                 ^\u001b[0m\n\u001b[0;31mSyntaxError\u001b[0m\u001b[0;31m:\u001b[0m non-default argument follows default argument\n"
          ]
        }
      ]
    },
    {
      "cell_type": "markdown",
      "metadata": {
        "id": "DPNTgBlbGJJk"
      },
      "source": [
        "##Quiz 4 \n",
        "\n",
        "สร้างฟังก์ชัน\n",
        "\n",
        "\n",
        "*  วาดรูปบ้าน\n",
        "*  วาดรูปต้นไม้\n",
        "\n"
      ]
    },
    {
      "cell_type": "code",
      "metadata": {
        "id": "CRoLHjqdF8Sf"
      },
      "source": [
        "def draw_house():\n",
        "    print('--------------------------')\n",
        "    print('|                            |')"
      ],
      "execution_count": 65,
      "outputs": []
    },
    {
      "cell_type": "code",
      "metadata": {
        "id": "kABs8TT4He9U",
        "outputId": "5512a802-7637-4663-83fa-0b829fe90f4b",
        "colab": {
          "base_uri": "https://localhost:8080/"
        }
      },
      "source": [
        "draw_house()"
      ],
      "execution_count": 66,
      "outputs": [
        {
          "output_type": "stream",
          "text": [
            "--------------------------\n",
            "|                            |\n"
          ],
          "name": "stdout"
        }
      ]
    },
    {
      "cell_type": "code",
      "metadata": {
        "id": "zXJ67kl5Hhgo"
      },
      "source": [
        ""
      ],
      "execution_count": null,
      "outputs": []
    }
  ]
}