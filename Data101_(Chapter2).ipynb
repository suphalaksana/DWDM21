{
  "nbformat": 4,
  "nbformat_minor": 0,
  "metadata": {
    "colab": {
      "name": "Data101 (Chapter2).ipynb",
      "provenance": [],
      "authorship_tag": "ABX9TyNUslfYP8DyHPZ/pm1agkWe",
      "include_colab_link": true
    },
    "kernelspec": {
      "name": "python3",
      "display_name": "Python 3"
    },
    "language_info": {
      "name": "python"
    }
  },
  "cells": [
    {
      "cell_type": "markdown",
      "metadata": {
        "id": "view-in-github",
        "colab_type": "text"
      },
      "source": [
        "<a href=\"https://colab.research.google.com/github/suphalaksana/DWDM21/blob/main/Data101_(Chapter2).ipynb\" target=\"_parent\"><img src=\"https://colab.research.google.com/assets/colab-badge.svg\" alt=\"Open In Colab\"/></a>"
      ]
    },
    {
      "cell_type": "markdown",
      "metadata": {
        "id": "kRQAWrzWzVHI"
      },
      "source": [
        "ข้อความที่อยู่ใน textbook จะเป็นภาษา markdown"
      ]
    },
    {
      "cell_type": "markdown",
      "metadata": {
        "id": "S1TB1YprtEV6"
      },
      "source": [
        "ข้อดีหนึ่งของ python  คือมี package  สำหรับทำงานมากมากมาย  ซึ่ง pandas \n",
        "\n",
        "เป็น package สำหรับการทำงานกับข้อมูลที่อยู่ในรูปแบบตาราง โดย pandas \n",
        "\n",
        "จะเรียกตารางว่า dataframe"
      ]
    },
    {
      "cell_type": "code",
      "metadata": {
        "id": "5c9WNVhTrco_"
      },
      "source": [
        "import  pandas #ใช้ในการจัดการข้อมูลเเพ็คเกจนี้ ชื่อ pandas  #วิธีเรียกใช้ package คือ import ตามด้วยชื่อ package"
      ],
      "execution_count": 1,
      "outputs": []
    },
    {
      "cell_type": "code",
      "metadata": {
        "id": "A2iF10IasdPT"
      },
      "source": [
        "import pandas as pd  #เหมือนกับตัวข้างบนแต่ตั้งชื่อให้กับ package ที่โหลดมาใหม่ว่า pd"
      ],
      "execution_count": 2,
      "outputs": []
    },
    {
      "cell_type": "markdown",
      "metadata": {
        "id": "gWG8NbS4uI2X"
      },
      "source": [
        "ไฟล์ .csv  (csv = comma separated  values)  เป็นไฟล์หลักที่เข้าจะใช้ในวิชานี้\n",
        "\n",
        "เป็นไฟล์ที่เก็บข้อมูลแบบตาราง  คอมอ่านง่าย คนก็อ่านง่าย"
      ]
    },
    {
      "cell_type": "markdown",
      "metadata": {
        "id": "3ITYGVGsuu7M"
      },
      "source": [
        "##ตัวอย่าง"
      ]
    },
    {
      "cell_type": "markdown",
      "metadata": {
        "id": "a2qP_wBrvDCP"
      },
      "source": [
        "สร้างไฟล์  csv -- \n",
        "1.คลิกตรงไฟล์ทางซ้าย\n",
        "\n",
        "2.กดคลิกขวาที่ว่างตรงทางซ้าย เลือก new file\n",
        "\n",
        "3. เปลี่ยนชื่อไฟล์ ยังไม่ต้องใส่.csv\n",
        "\n",
        "4. double click ที่ ไฟล์ทางซ้าย มันจะเด้งช่องทางขวาให้ใส่ข้อมูลที่เราจะสร้าง พอพิมพ์เสร็จกดกาช่องออกเลย\n",
        "\n",
        "5.เปลี่ยนชื่อไฟล์ทางซ้าย ใส่.csv"
      ]
    },
    {
      "cell_type": "code",
      "metadata": {
        "id": "8sN8nSN_t6Tv"
      },
      "source": [
        "data_df = pd.read_csv('data.csv')"
      ],
      "execution_count": 3,
      "outputs": []
    },
    {
      "cell_type": "code",
      "metadata": {
        "colab": {
          "base_uri": "https://localhost:8080/",
          "height": 141
        },
        "id": "jjUUS1BEwpDn",
        "outputId": "c3ccbaf5-ddcd-4ab2-dcd5-38926b6ed63a"
      },
      "source": [
        "data_df  #โหลดตารางเข้ามาใน memory ของ python"
      ],
      "execution_count": 5,
      "outputs": [
        {
          "output_type": "execute_result",
          "data": {
            "text/html": [
              "<div>\n",
              "<style scoped>\n",
              "    .dataframe tbody tr th:only-of-type {\n",
              "        vertical-align: middle;\n",
              "    }\n",
              "\n",
              "    .dataframe tbody tr th {\n",
              "        vertical-align: top;\n",
              "    }\n",
              "\n",
              "    .dataframe thead th {\n",
              "        text-align: right;\n",
              "    }\n",
              "</style>\n",
              "<table border=\"1\" class=\"dataframe\">\n",
              "  <thead>\n",
              "    <tr style=\"text-align: right;\">\n",
              "      <th></th>\n",
              "      <th>name</th>\n",
              "      <th>age</th>\n",
              "      <th>city</th>\n",
              "    </tr>\n",
              "  </thead>\n",
              "  <tbody>\n",
              "    <tr>\n",
              "      <th>0</th>\n",
              "      <td>Tom</td>\n",
              "      <td>27</td>\n",
              "      <td>Khon Kaen</td>\n",
              "    </tr>\n",
              "    <tr>\n",
              "      <th>1</th>\n",
              "      <td>Paul</td>\n",
              "      <td>15</td>\n",
              "      <td>Bangkok</td>\n",
              "    </tr>\n",
              "    <tr>\n",
              "      <th>2</th>\n",
              "      <td>Sarah</td>\n",
              "      <td>49</td>\n",
              "      <td>London</td>\n",
              "    </tr>\n",
              "  </tbody>\n",
              "</table>\n",
              "</div>"
            ],
            "text/plain": [
              "    name  age       city\n",
              "0    Tom   27  Khon Kaen\n",
              "1   Paul   15    Bangkok\n",
              "2  Sarah   49     London"
            ]
          },
          "metadata": {
            "tags": []
          },
          "execution_count": 5
        }
      ]
    },
    {
      "cell_type": "code",
      "metadata": {
        "colab": {
          "base_uri": "https://localhost:8080/",
          "height": 141
        },
        "id": "K4Pxc_EDwsN_",
        "outputId": "d58206fa-261b-48a0-b815-ed4dc734b8d0"
      },
      "source": [
        "data_df2 = pandas.read_csv('data.csv') #เหมือนกันกับข้างบน\n",
        "data_df2"
      ],
      "execution_count": 8,
      "outputs": [
        {
          "output_type": "execute_result",
          "data": {
            "text/html": [
              "<div>\n",
              "<style scoped>\n",
              "    .dataframe tbody tr th:only-of-type {\n",
              "        vertical-align: middle;\n",
              "    }\n",
              "\n",
              "    .dataframe tbody tr th {\n",
              "        vertical-align: top;\n",
              "    }\n",
              "\n",
              "    .dataframe thead th {\n",
              "        text-align: right;\n",
              "    }\n",
              "</style>\n",
              "<table border=\"1\" class=\"dataframe\">\n",
              "  <thead>\n",
              "    <tr style=\"text-align: right;\">\n",
              "      <th></th>\n",
              "      <th>name</th>\n",
              "      <th>age</th>\n",
              "      <th>city</th>\n",
              "    </tr>\n",
              "  </thead>\n",
              "  <tbody>\n",
              "    <tr>\n",
              "      <th>0</th>\n",
              "      <td>Tom</td>\n",
              "      <td>27</td>\n",
              "      <td>Khon Kaen</td>\n",
              "    </tr>\n",
              "    <tr>\n",
              "      <th>1</th>\n",
              "      <td>Paul</td>\n",
              "      <td>15</td>\n",
              "      <td>Bangkok</td>\n",
              "    </tr>\n",
              "    <tr>\n",
              "      <th>2</th>\n",
              "      <td>Sarah</td>\n",
              "      <td>49</td>\n",
              "      <td>London</td>\n",
              "    </tr>\n",
              "  </tbody>\n",
              "</table>\n",
              "</div>"
            ],
            "text/plain": [
              "    name  age       city\n",
              "0    Tom   27  Khon Kaen\n",
              "1   Paul   15    Bangkok\n",
              "2  Sarah   49     London"
            ]
          },
          "metadata": {
            "tags": []
          },
          "execution_count": 8
        }
      ]
    },
    {
      "cell_type": "markdown",
      "metadata": {
        "id": "M9ty_lbQzBZq"
      },
      "source": [
        "# Basic Python\n",
        "\n",
        "##variable  ตัวแปร"
      ]
    },
    {
      "cell_type": "markdown",
      "metadata": {
        "id": "AkbxLxSQ1CQn"
      },
      "source": [
        "ข้อกำหนดในการตั้งชื่อตัวแปร\n",
        "\n",
        "1.ชื่อห้ามมีเว้นวรรค\n",
        "\n",
        "2.(พยายาม)ใช้ภาษาอังกฤษ\n",
        "\n",
        "3.ตัวเล็กกับตัวใหญ่แตกต่างกัน (case sensitive)\n",
        "\n",
        "4.ห้ามใช้ตัวเลขเป็นตัวหน้า"
      ]
    },
    {
      "cell_type": "code",
      "metadata": {
        "id": "0V4v-lSTxhgV"
      },
      "source": [
        "variable_a = 12    #ไม่มี quote\n",
        "variable_b = 'abcde'  # เรียกว่า quote (โค้ด)  เป็น string หรือตัวหนังสือ\n",
        "variable_c = variable_a   #ค่าตัวนี้ คือ 12"
      ],
      "execution_count": 10,
      "outputs": []
    },
    {
      "cell_type": "code",
      "metadata": {
        "colab": {
          "base_uri": "https://localhost:8080/"
        },
        "id": "j3RQt3l1z7bQ",
        "outputId": "9f63bccc-aacc-496e-945f-cf23292a5921"
      },
      "source": [
        "variable_a"
      ],
      "execution_count": 11,
      "outputs": [
        {
          "output_type": "execute_result",
          "data": {
            "text/plain": [
              "12"
            ]
          },
          "metadata": {
            "tags": []
          },
          "execution_count": 11
        }
      ]
    },
    {
      "cell_type": "code",
      "metadata": {
        "colab": {
          "base_uri": "https://localhost:8080/",
          "height": 35
        },
        "id": "WXtVH10I0m34",
        "outputId": "15c987c8-6748-4e35-9e6c-669cbc499e29"
      },
      "source": [
        "variable_b"
      ],
      "execution_count": 12,
      "outputs": [
        {
          "output_type": "execute_result",
          "data": {
            "application/vnd.google.colaboratory.intrinsic+json": {
              "type": "string"
            },
            "text/plain": [
              "'abcde'"
            ]
          },
          "metadata": {
            "tags": []
          },
          "execution_count": 12
        }
      ]
    },
    {
      "cell_type": "code",
      "metadata": {
        "colab": {
          "base_uri": "https://localhost:8080/"
        },
        "id": "qwtuZuQe0pJa",
        "outputId": "dd2f3c09-c5b3-4d41-ebe6-66dd67a3671e"
      },
      "source": [
        "variable_c  #รันค่าออกมาดู"
      ],
      "execution_count": 14,
      "outputs": [
        {
          "output_type": "execute_result",
          "data": {
            "text/plain": [
              "12"
            ]
          },
          "metadata": {
            "tags": []
          },
          "execution_count": 14
        }
      ]
    },
    {
      "cell_type": "code",
      "metadata": {
        "colab": {
          "base_uri": "https://localhost:8080/",
          "height": 129
        },
        "id": "QInRYT1z0rLn",
        "outputId": "f2e9c1fa-8a3c-42c2-922c-9e2589041441"
      },
      "source": [
        "#ชื่อห้ามมีเว้นวรรค\n",
        "variable a  = 6"
      ],
      "execution_count": 19,
      "outputs": [
        {
          "output_type": "error",
          "ename": "SyntaxError",
          "evalue": "ignored",
          "traceback": [
            "\u001b[0;36m  File \u001b[0;32m\"<ipython-input-19-99d606655a06>\"\u001b[0;36m, line \u001b[0;32m2\u001b[0m\n\u001b[0;31m    variable a  = 6\u001b[0m\n\u001b[0m             ^\u001b[0m\n\u001b[0;31mSyntaxError\u001b[0m\u001b[0;31m:\u001b[0m invalid syntax\n"
          ]
        }
      ]
    },
    {
      "cell_type": "code",
      "metadata": {
        "colab": {
          "base_uri": "https://localhost:8080/"
        },
        "id": "w8I3U6WP1_dR",
        "outputId": "098b0015-ea27-4e94-eea7-d594cf24c699"
      },
      "source": [
        "#colab ใช้ภาษาไทยตั้งชื่อตัวแปรได้แต่ไม่ควรใช้\n",
        "#(พยายาม)ใช้ภาษาอังกฤษ\n",
        "\n",
        "ตัวแปร = 3\n",
        "ตัวแปร"
      ],
      "execution_count": 17,
      "outputs": [
        {
          "output_type": "execute_result",
          "data": {
            "text/plain": [
              "3"
            ]
          },
          "metadata": {
            "tags": []
          },
          "execution_count": 17
        }
      ]
    },
    {
      "cell_type": "code",
      "metadata": {
        "colab": {
          "base_uri": "https://localhost:8080/"
        },
        "id": "333Tm7tb2KzN",
        "outputId": "51ae91e5-2baf-4ca2-8175-e6ca154e9e98"
      },
      "source": [
        "#ตัวเล็กกับตัวใหญ่แตกต่างกัน (case sensitive)\n",
        "v_a = 1\n",
        "V_a =2 \n",
        "print(v_a)\n",
        "print(V_a)"
      ],
      "execution_count": 18,
      "outputs": [
        {
          "output_type": "stream",
          "text": [
            "1\n",
            "2\n"
          ],
          "name": "stdout"
        }
      ]
    },
    {
      "cell_type": "code",
      "metadata": {
        "colab": {
          "base_uri": "https://localhost:8080/"
        },
        "id": "XIPpHzvI2sjZ",
        "outputId": "651ac920-ab4b-47a6-8872-6dc1ef9e0779"
      },
      "source": [
        "#ตัวเล็กกับตัวใหญ่แตกต่างกัน (case sensitive)\n",
        "v_a = 1\n",
        "v_a =2 \n",
        "print(v_a)\n",
        "print(v_a)"
      ],
      "execution_count": 20,
      "outputs": [
        {
          "output_type": "stream",
          "text": [
            "2\n",
            "2\n"
          ],
          "name": "stdout"
        }
      ]
    },
    {
      "cell_type": "code",
      "metadata": {
        "colab": {
          "base_uri": "https://localhost:8080/"
        },
        "id": "j8UOFM9s3CV4",
        "outputId": "048aaae3-3490-4db7-e6da-ae75c99c56b7"
      },
      "source": [
        "#ห้ามใช้ตัวเลขเป็นตัวหน้า\n",
        "variable = 1\n",
        "print(variable)"
      ],
      "execution_count": 21,
      "outputs": [
        {
          "output_type": "stream",
          "text": [
            "1\n"
          ],
          "name": "stdout"
        }
      ]
    },
    {
      "cell_type": "code",
      "metadata": {
        "id": "b4fMAi1i3brO"
      },
      "source": [
        "#ตัวอย่างการตั้งชื่อที่ถูก\n",
        "variable_a = 12    #ไม่มี quote\n",
        "variable_b = 'abcde'  # เรียกว่า quote (โค้ด)  เป็น string หรือตัวหนังสือ\n",
        "variable_c = variable_a   #ค่าตัวนี้ คือ 12\n",
        "variable_d = -41.2\n",
        "variable_4 = \"KKU\"  # \"\"  เรียกว่า double quote"
      ],
      "execution_count": 24,
      "outputs": []
    },
    {
      "cell_type": "code",
      "metadata": {
        "colab": {
          "base_uri": "https://localhost:8080/"
        },
        "id": "AuJzPfIu39_m",
        "outputId": "6e4c67be-8bd3-4ed4-bd29-3c3c667558d2"
      },
      "source": [
        "variable_x =variable_c + variable_d  #นำตัวแปรมา + - * หาร กันได้\n",
        "print(variable_x) "
      ],
      "execution_count": 25,
      "outputs": [
        {
          "output_type": "stream",
          "text": [
            "-29.200000000000003\n"
          ],
          "name": "stdout"
        }
      ]
    },
    {
      "cell_type": "code",
      "metadata": {
        "colab": {
          "base_uri": "https://localhost:8080/",
          "height": 162
        },
        "id": "o16r9y8r4Ii8",
        "outputId": "97a1d335-60b8-4abb-e089-53edec83d71c"
      },
      "source": [
        "variable_a + variable_b #เอาตัวเลขไปบวกตัวหนังสือไม่ได้"
      ],
      "execution_count": 28,
      "outputs": [
        {
          "output_type": "error",
          "ename": "TypeError",
          "evalue": "ignored",
          "traceback": [
            "\u001b[0;31m---------------------------------------------------------------------------\u001b[0m",
            "\u001b[0;31mTypeError\u001b[0m                                 Traceback (most recent call last)",
            "\u001b[0;32m<ipython-input-28-800914d06722>\u001b[0m in \u001b[0;36m<module>\u001b[0;34m()\u001b[0m\n\u001b[0;32m----> 1\u001b[0;31m \u001b[0mvariable_a\u001b[0m \u001b[0;34m+\u001b[0m \u001b[0mvariable_b\u001b[0m \u001b[0;31m#เอาตัวเลขไปบวกตัวหนังสือไม่ได้\u001b[0m\u001b[0;34m\u001b[0m\u001b[0;34m\u001b[0m\u001b[0m\n\u001b[0m",
            "\u001b[0;31mTypeError\u001b[0m: unsupported operand type(s) for +: 'int' and 'str'"
          ]
        }
      ]
    },
    {
      "cell_type": "code",
      "metadata": {
        "colab": {
          "base_uri": "https://localhost:8080/"
        },
        "id": "yb_WhUys5uh7",
        "outputId": "5b2cb554-2b9b-46fc-e06c-3a7f4bcaff06"
      },
      "source": [
        "print(variable_b + variable_4)  #ตัวหนังสือ+ ตัวหนังสือได้ string  เอามาต่อกัน "
      ],
      "execution_count": 31,
      "outputs": [
        {
          "output_type": "stream",
          "text": [
            "abcdeKKU\n"
          ],
          "name": "stdout"
        }
      ]
    },
    {
      "cell_type": "markdown",
      "metadata": {
        "id": "8HMagNxf6gy4"
      },
      "source": [
        "##Casting   int() float()  str()\n",
        "\n",
        "เราสามารถเปลี่ยนชนิดของตัวแปรได้"
      ]
    },
    {
      "cell_type": "code",
      "metadata": {
        "colab": {
          "base_uri": "https://localhost:8080/"
        },
        "id": "Bibe3V8559I8",
        "outputId": "8ec76431-5f8d-45f7-b64b-8e212fed70c6"
      },
      "source": [
        "print(variable_x)\n",
        "print(int(variable_x))  #ตัดทศนิยมออกให้เหลือจำนวนเต็ม"
      ],
      "execution_count": 32,
      "outputs": [
        {
          "output_type": "stream",
          "text": [
            "-29.200000000000003\n",
            "-29\n"
          ],
          "name": "stdout"
        }
      ]
    },
    {
      "cell_type": "code",
      "metadata": {
        "colab": {
          "base_uri": "https://localhost:8080/"
        },
        "id": "yyqZ2JAk7Gxt",
        "outputId": "c0c7dc62-0ec2-4730-b228-4065cddbb180"
      },
      "source": [
        "v_x = str(variable_x)\n",
        "print(v_x)"
      ],
      "execution_count": 33,
      "outputs": [
        {
          "output_type": "stream",
          "text": [
            "-29.200000000000003\n"
          ],
          "name": "stdout"
        }
      ]
    },
    {
      "cell_type": "code",
      "metadata": {
        "colab": {
          "base_uri": "https://localhost:8080/",
          "height": 162
        },
        "id": "bg9lCpll7W-P",
        "outputId": "99088fcc-cd13-44c6-ce41-230100f4dad4"
      },
      "source": [
        "v_x + variable_a  #เราทำให้ v_x เป็น string เลยทำให้บวกกับตัวเลขไม่ได้"
      ],
      "execution_count": 97,
      "outputs": [
        {
          "output_type": "error",
          "ename": "TypeError",
          "evalue": "ignored",
          "traceback": [
            "\u001b[0;31m---------------------------------------------------------------------------\u001b[0m",
            "\u001b[0;31mTypeError\u001b[0m                                 Traceback (most recent call last)",
            "\u001b[0;32m<ipython-input-97-e839cc33061d>\u001b[0m in \u001b[0;36m<module>\u001b[0;34m()\u001b[0m\n\u001b[0;32m----> 1\u001b[0;31m \u001b[0mv_x\u001b[0m \u001b[0;34m+\u001b[0m \u001b[0mvariable_a\u001b[0m  \u001b[0;31m#เราทำให้ v_x เป็น string เลยทำให้บวกกับตัวเลขไม่ได้\u001b[0m\u001b[0;34m\u001b[0m\u001b[0;34m\u001b[0m\u001b[0m\n\u001b[0m",
            "\u001b[0;31mTypeError\u001b[0m: can only concatenate str (not \"int\") to str"
          ]
        }
      ]
    },
    {
      "cell_type": "code",
      "metadata": {
        "colab": {
          "base_uri": "https://localhost:8080/",
          "height": 162
        },
        "id": "bqWx6_4B7f26",
        "outputId": "a11a318a-c047-4ef2-8957-e91af5a3a243"
      },
      "source": [
        "variable_a + v_x  #เหมือนกับข้างบน แต่โปรแกรมน่าจะอ่านค่าข้างหน้าก่อนว่าจะเอาไปบวกกับอะไร"
      ],
      "execution_count": 35,
      "outputs": [
        {
          "output_type": "error",
          "ename": "TypeError",
          "evalue": "ignored",
          "traceback": [
            "\u001b[0;31m---------------------------------------------------------------------------\u001b[0m",
            "\u001b[0;31mTypeError\u001b[0m                                 Traceback (most recent call last)",
            "\u001b[0;32m<ipython-input-35-a7da86a51b49>\u001b[0m in \u001b[0;36m<module>\u001b[0;34m()\u001b[0m\n\u001b[0;32m----> 1\u001b[0;31m \u001b[0mvariable_a\u001b[0m \u001b[0;34m+\u001b[0m \u001b[0mv_x\u001b[0m\u001b[0;34m\u001b[0m\u001b[0;34m\u001b[0m\u001b[0m\n\u001b[0m",
            "\u001b[0;31mTypeError\u001b[0m: unsupported operand type(s) for +: 'int' and 'str'"
          ]
        }
      ]
    },
    {
      "cell_type": "code",
      "metadata": {
        "colab": {
          "base_uri": "https://localhost:8080/",
          "height": 35
        },
        "id": "I5f0moWA7tEB",
        "outputId": "3ec5f00b-0df3-4d6e-bad6-9135fcb7f58c"
      },
      "source": [
        "v_x  #พิมพ์ชื่อตัวแปรธรรมดา จะแสดงว่าในmemory หน้าตาเป็นแบบนี้เลย มี quote"
      ],
      "execution_count": 37,
      "outputs": [
        {
          "output_type": "execute_result",
          "data": {
            "application/vnd.google.colaboratory.intrinsic+json": {
              "type": "string"
            },
            "text/plain": [
              "'-29.200000000000003'"
            ]
          },
          "metadata": {
            "tags": []
          },
          "execution_count": 37
        }
      ]
    },
    {
      "cell_type": "code",
      "metadata": {
        "colab": {
          "base_uri": "https://localhost:8080/"
        },
        "id": "X-s6Xzi97zD9",
        "outputId": "53c27474-3cfd-4fd5-d6e4-cdd09a05017f"
      },
      "source": [
        "float(v_x)  #เปลี่ยนมาเป็นตัวเลข"
      ],
      "execution_count": 39,
      "outputs": [
        {
          "output_type": "execute_result",
          "data": {
            "text/plain": [
              "-29.200000000000003"
            ]
          },
          "metadata": {
            "tags": []
          },
          "execution_count": 39
        }
      ]
    },
    {
      "cell_type": "markdown",
      "metadata": {
        "id": "WRE0KuEh8h4p"
      },
      "source": [
        "##Data structure\n",
        "\n",
        "###list()  เอามาเรียงต่อกัน  ลำดับมีความสำคัญ"
      ]
    },
    {
      "cell_type": "code",
      "metadata": {
        "id": "VFplZpss8DuT"
      },
      "source": [
        "list_a = [1,2,0.2,'abs,'] # square brackets\n",
        "list_b = [2,'xyz',list_a,[1,2,0.0]]"
      ],
      "execution_count": 41,
      "outputs": []
    },
    {
      "cell_type": "code",
      "metadata": {
        "colab": {
          "base_uri": "https://localhost:8080/"
        },
        "id": "kRqQBV_Z9Yw9",
        "outputId": "c9d6c7e9-88b2-48dc-d7b0-afd420feb293"
      },
      "source": [
        "list_a"
      ],
      "execution_count": 42,
      "outputs": [
        {
          "output_type": "execute_result",
          "data": {
            "text/plain": [
              "[1, 2, 0.2, 'abs,']"
            ]
          },
          "metadata": {
            "tags": []
          },
          "execution_count": 42
        }
      ]
    },
    {
      "cell_type": "code",
      "metadata": {
        "colab": {
          "base_uri": "https://localhost:8080/"
        },
        "id": "uTNCON9U9n--",
        "outputId": "ba634be6-3d7c-4d76-b15c-ba4a6e2991ec"
      },
      "source": [
        "list_b"
      ],
      "execution_count": 43,
      "outputs": [
        {
          "output_type": "execute_result",
          "data": {
            "text/plain": [
              "[2, 'xyz', [1, 2, 0.2, 'abs,'], [1, 2, 0.0]]"
            ]
          },
          "metadata": {
            "tags": []
          },
          "execution_count": 43
        }
      ]
    },
    {
      "cell_type": "code",
      "metadata": {
        "colab": {
          "base_uri": "https://localhost:8080/"
        },
        "id": "znk2q4Lg9qnO",
        "outputId": "dd30894e-6c6d-4a87-e199-0efd90bbdd9e"
      },
      "source": [
        "len(list_a)  #ดูว่ามีสมาชิกกี่ตัว"
      ],
      "execution_count": 44,
      "outputs": [
        {
          "output_type": "execute_result",
          "data": {
            "text/plain": [
              "4"
            ]
          },
          "metadata": {
            "tags": []
          },
          "execution_count": 44
        }
      ]
    },
    {
      "cell_type": "code",
      "metadata": {
        "colab": {
          "base_uri": "https://localhost:8080/"
        },
        "id": "jeshC7lG9x0_",
        "outputId": "37dfbc0e-e351-4745-8517-7c5ebbe33f25"
      },
      "source": [
        "len(list_b)"
      ],
      "execution_count": 46,
      "outputs": [
        {
          "output_type": "execute_result",
          "data": {
            "text/plain": [
              "4"
            ]
          },
          "metadata": {
            "tags": []
          },
          "execution_count": 46
        }
      ]
    },
    {
      "cell_type": "code",
      "metadata": {
        "colab": {
          "base_uri": "https://localhost:8080/"
        },
        "id": "PK1PMTZP93B8",
        "outputId": "3c7b341a-a2f7-4e88-9337-502b77fd55e9"
      },
      "source": [
        "list_b[3]  #ชี้สมาชิกตัวที่3  เริ่มนับจาก 0 ก่อน"
      ],
      "execution_count": 53,
      "outputs": [
        {
          "output_type": "execute_result",
          "data": {
            "text/plain": [
              "[1, 2, 0.0]"
            ]
          },
          "metadata": {
            "tags": []
          },
          "execution_count": 53
        }
      ]
    },
    {
      "cell_type": "code",
      "metadata": {
        "colab": {
          "base_uri": "https://localhost:8080/"
        },
        "id": "zAT29oPq-BXi",
        "outputId": "ace553b5-e56d-4e6b-af47-fa9d834305cb"
      },
      "source": [
        "list_b[3][1]"
      ],
      "execution_count": 49,
      "outputs": [
        {
          "output_type": "execute_result",
          "data": {
            "text/plain": [
              "2"
            ]
          },
          "metadata": {
            "tags": []
          },
          "execution_count": 49
        }
      ]
    },
    {
      "cell_type": "markdown",
      "metadata": {
        "id": "pn71dpWv-Th7"
      },
      "source": [
        "string คือ list  ของตัวหนังสือ"
      ]
    },
    {
      "cell_type": "code",
      "metadata": {
        "id": "Vlcd7inq-QQO"
      },
      "source": [
        "a = 'Stat KKU'"
      ],
      "execution_count": 50,
      "outputs": []
    },
    {
      "cell_type": "code",
      "metadata": {
        "colab": {
          "base_uri": "https://localhost:8080/",
          "height": 35
        },
        "id": "YljANhur-kcU",
        "outputId": "d3f7dea1-2ccc-4e2f-9774-a9532a4e0700"
      },
      "source": [
        "a[4]"
      ],
      "execution_count": 51,
      "outputs": [
        {
          "output_type": "execute_result",
          "data": {
            "application/vnd.google.colaboratory.intrinsic+json": {
              "type": "string"
            },
            "text/plain": [
              "' '"
            ]
          },
          "metadata": {
            "tags": []
          },
          "execution_count": 51
        }
      ]
    },
    {
      "cell_type": "markdown",
      "metadata": {
        "id": "wyqcaS9m_AxW"
      },
      "source": [
        "##วิธีการสร้าง list แบบที่ 2"
      ]
    },
    {
      "cell_type": "code",
      "metadata": {
        "id": "_9XLEz_5-oZW"
      },
      "source": [
        "list_c = list() #แบบที่ 1\n",
        "list_d = []  #แบบที่ 2"
      ],
      "execution_count": 54,
      "outputs": []
    },
    {
      "cell_type": "code",
      "metadata": {
        "colab": {
          "base_uri": "https://localhost:8080/"
        },
        "id": "lTfUOJFj_Y9y",
        "outputId": "02c17b2b-5512-4553-a25b-caba03c18dff"
      },
      "source": [
        "list_c"
      ],
      "execution_count": 55,
      "outputs": [
        {
          "output_type": "execute_result",
          "data": {
            "text/plain": [
              "[]"
            ]
          },
          "metadata": {
            "tags": []
          },
          "execution_count": 55
        }
      ]
    },
    {
      "cell_type": "code",
      "metadata": {
        "colab": {
          "base_uri": "https://localhost:8080/"
        },
        "id": "d0A1_2t2_d15",
        "outputId": "21278a22-7543-4f4f-8d15-a02bc7065e82"
      },
      "source": [
        "list_d"
      ],
      "execution_count": 56,
      "outputs": [
        {
          "output_type": "execute_result",
          "data": {
            "text/plain": [
              "[]"
            ]
          },
          "metadata": {
            "tags": []
          },
          "execution_count": 56
        }
      ]
    },
    {
      "cell_type": "markdown",
      "metadata": {
        "id": "UuWHruuiAAbY"
      },
      "source": [
        "เติมค่าลงไปใน list(.append())"
      ]
    },
    {
      "cell_type": "code",
      "metadata": {
        "id": "H79kLf7C_gX_"
      },
      "source": [
        "list_d.append('a')"
      ],
      "execution_count": 57,
      "outputs": []
    },
    {
      "cell_type": "code",
      "metadata": {
        "colab": {
          "base_uri": "https://localhost:8080/"
        },
        "id": "gjGQIX1HAPLx",
        "outputId": "2cfe86d4-5c77-43e1-d76a-97db92bdc407"
      },
      "source": [
        "list_d"
      ],
      "execution_count": 58,
      "outputs": [
        {
          "output_type": "execute_result",
          "data": {
            "text/plain": [
              "['a']"
            ]
          },
          "metadata": {
            "tags": []
          },
          "execution_count": 58
        }
      ]
    },
    {
      "cell_type": "code",
      "metadata": {
        "id": "6wKOsVLMARRD"
      },
      "source": [
        "list_d.append('56')"
      ],
      "execution_count": 59,
      "outputs": []
    },
    {
      "cell_type": "code",
      "metadata": {
        "colab": {
          "base_uri": "https://localhost:8080/"
        },
        "id": "rautwTZ2Acyh",
        "outputId": "d30604cd-98da-45d4-b474-aba7bd29d857"
      },
      "source": [
        "list_d"
      ],
      "execution_count": 60,
      "outputs": [
        {
          "output_type": "execute_result",
          "data": {
            "text/plain": [
              "['a', '56']"
            ]
          },
          "metadata": {
            "tags": []
          },
          "execution_count": 60
        }
      ]
    },
    {
      "cell_type": "markdown",
      "metadata": {
        "id": "RnVUWSM_Ag6B"
      },
      "source": [
        "การชี้ค่าใน list (indexing)\n",
        "\n",
        "1.ใช้ลำดับในการชี้\n",
        "\n",
        "2.ลำดับเริ่มจาก 0 \n",
        "\n",
        "3.สามารถชี้จากข้างหลังได้โดยใช้ negativeindex"
      ]
    },
    {
      "cell_type": "code",
      "metadata": {
        "colab": {
          "base_uri": "https://localhost:8080/"
        },
        "id": "JiJXtz4yAeh3",
        "outputId": "facff9a6-ac7e-4a3d-d636-1c175a73c7c8"
      },
      "source": [
        "list_b"
      ],
      "execution_count": 61,
      "outputs": [
        {
          "output_type": "execute_result",
          "data": {
            "text/plain": [
              "[2, 'xyz', [1, 2, 0.2, 'abs,'], [1, 2, 0.0]]"
            ]
          },
          "metadata": {
            "tags": []
          },
          "execution_count": 61
        }
      ]
    },
    {
      "cell_type": "code",
      "metadata": {
        "colab": {
          "base_uri": "https://localhost:8080/"
        },
        "id": "BDi7EgoLA4kc",
        "outputId": "f2b0bfbb-62dc-4f8a-b7f2-22ad2a755f7d"
      },
      "source": [
        "list_b[-1]  #ชี้ตัวหลังสุด"
      ],
      "execution_count": 63,
      "outputs": [
        {
          "output_type": "execute_result",
          "data": {
            "text/plain": [
              "[1, 2, 0.0]"
            ]
          },
          "metadata": {
            "tags": []
          },
          "execution_count": 63
        }
      ]
    },
    {
      "cell_type": "markdown",
      "metadata": {
        "id": "Avocsbb8BnsT"
      },
      "source": [
        "##list slicing  การตัด list"
      ]
    },
    {
      "cell_type": "code",
      "metadata": {
        "id": "0nycxWYPA7RR"
      },
      "source": [
        "list_ex = [1,2,3,5,6,8,-1,20,50,0]"
      ],
      "execution_count": 64,
      "outputs": []
    },
    {
      "cell_type": "markdown",
      "metadata": {
        "id": "h5cwFAPFCcKu"
      },
      "source": [
        "เราจะตัด list โดยเอาตั้งแต่ [ตัวหน้า:ตัวก่อนตัวหลัง]\n",
        "\n",
        "ถ้าเป็นสัญลักษณ์คณิตศาสตร์ [ตัวหน้า:ตัวหลัง]->[ตัวหน้า:ตัวหลัง)"
      ]
    },
    {
      "cell_type": "code",
      "metadata": {
        "colab": {
          "base_uri": "https://localhost:8080/"
        },
        "id": "10w0t24SB4Pp",
        "outputId": "9a215225-9bf2-414a-e710-7c4f72921af4"
      },
      "source": [
        "list_ex[1:6] #เราจะตัด list โดยเอาตั้งแต่ [ตัวหน้า:ตัวก่อนตัวหลัง]"
      ],
      "execution_count": 66,
      "outputs": [
        {
          "output_type": "execute_result",
          "data": {
            "text/plain": [
              "[2, 3, 5, 6, 8]"
            ]
          },
          "metadata": {
            "tags": []
          },
          "execution_count": 66
        }
      ]
    },
    {
      "cell_type": "code",
      "metadata": {
        "colab": {
          "base_uri": "https://localhost:8080/"
        },
        "id": "9GVhM69oCBCb",
        "outputId": "8bad405d-46cd-48df-b0f1-4013512a8115"
      },
      "source": [
        "list_ex[4:]  #เอาตั้งแต่ตัวที่ 4 ไปถึงตัวสุดท้าย"
      ],
      "execution_count": 68,
      "outputs": [
        {
          "output_type": "execute_result",
          "data": {
            "text/plain": [
              "[6, 8, -1, 20, 50, 0]"
            ]
          },
          "metadata": {
            "tags": []
          },
          "execution_count": 68
        }
      ]
    },
    {
      "cell_type": "code",
      "metadata": {
        "colab": {
          "base_uri": "https://localhost:8080/"
        },
        "id": "v49U63TnC6Ov",
        "outputId": "5fe9034a-b605-4610-aed5-7dea54d1bdbd"
      },
      "source": [
        "list_ex[:6]  #เอาตั้งแต่ตัวแรกไปถึงก่อนตัววที่ 6"
      ],
      "execution_count": 70,
      "outputs": [
        {
          "output_type": "execute_result",
          "data": {
            "text/plain": [
              "[1, 2, 3, 5, 6, 8]"
            ]
          },
          "metadata": {
            "tags": []
          },
          "execution_count": 70
        }
      ]
    },
    {
      "cell_type": "markdown",
      "metadata": {
        "id": "fdYG0we4DoM6"
      },
      "source": [
        "[จุดเริ่มต้น:จุดสุดท้าย:step]"
      ]
    },
    {
      "cell_type": "code",
      "metadata": {
        "colab": {
          "base_uri": "https://localhost:8080/"
        },
        "id": "3PRp3DaZD1HK",
        "outputId": "44307c66-2610-4d80-ba2c-80e565836b57"
      },
      "source": [
        "list_ex"
      ],
      "execution_count": 73,
      "outputs": [
        {
          "output_type": "execute_result",
          "data": {
            "text/plain": [
              "[1, 2, 3, 5, 6, 8, -1, 20, 50, 0]"
            ]
          },
          "metadata": {
            "tags": []
          },
          "execution_count": 73
        }
      ]
    },
    {
      "cell_type": "code",
      "metadata": {
        "colab": {
          "base_uri": "https://localhost:8080/"
        },
        "id": "P41EJCznDJgK",
        "outputId": "653ee94a-58b9-48ed-fecf-4ba5b1bde948"
      },
      "source": [
        "list_ex[::2]  #โดดไปทีละ 2"
      ],
      "execution_count": 76,
      "outputs": [
        {
          "output_type": "execute_result",
          "data": {
            "text/plain": [
              "[1, 3, 6, -1, 50]"
            ]
          },
          "metadata": {
            "tags": []
          },
          "execution_count": 76
        }
      ]
    },
    {
      "cell_type": "code",
      "metadata": {
        "colab": {
          "base_uri": "https://localhost:8080/"
        },
        "id": "eYqLzylNDcGu",
        "outputId": "de129ea8-9ba0-4e81-8d4f-99eccc5d0b8b"
      },
      "source": [
        "list_ex[::-1]  #การกลับ list"
      ],
      "execution_count": 75,
      "outputs": [
        {
          "output_type": "execute_result",
          "data": {
            "text/plain": [
              "[0, 50, 20, -1, 8, 6, 5, 3, 2, 1]"
            ]
          },
          "metadata": {
            "tags": []
          },
          "execution_count": 75
        }
      ]
    },
    {
      "cell_type": "code",
      "metadata": {
        "colab": {
          "base_uri": "https://localhost:8080/",
          "height": 35
        },
        "id": "HpxBL3EtEH2X",
        "outputId": "93583d5b-8c5b-417c-8330-dbd35cdbba16"
      },
      "source": [
        "a"
      ],
      "execution_count": 77,
      "outputs": [
        {
          "output_type": "execute_result",
          "data": {
            "application/vnd.google.colaboratory.intrinsic+json": {
              "type": "string"
            },
            "text/plain": [
              "'Stat KKU'"
            ]
          },
          "metadata": {
            "tags": []
          },
          "execution_count": 77
        }
      ]
    },
    {
      "cell_type": "code",
      "metadata": {
        "colab": {
          "base_uri": "https://localhost:8080/",
          "height": 35
        },
        "id": "VH-OTE3EEVF7",
        "outputId": "4610ebb2-6fa2-4a0b-b8a2-7070a6098cae"
      },
      "source": [
        "a[5::]"
      ],
      "execution_count": 90,
      "outputs": [
        {
          "output_type": "execute_result",
          "data": {
            "application/vnd.google.colaboratory.intrinsic+json": {
              "type": "string"
            },
            "text/plain": [
              "'KKU'"
            ]
          },
          "metadata": {
            "tags": []
          },
          "execution_count": 90
        }
      ]
    },
    {
      "cell_type": "code",
      "metadata": {
        "colab": {
          "base_uri": "https://localhost:8080/",
          "height": 35
        },
        "id": "Q6bURClqEer0",
        "outputId": "3ebcdcca-ca40-4de5-ed1b-6d4b879b1fb8"
      },
      "source": [
        "a[5:8]"
      ],
      "execution_count": 91,
      "outputs": [
        {
          "output_type": "execute_result",
          "data": {
            "application/vnd.google.colaboratory.intrinsic+json": {
              "type": "string"
            },
            "text/plain": [
              "'KKU'"
            ]
          },
          "metadata": {
            "tags": []
          },
          "execution_count": 91
        }
      ]
    },
    {
      "cell_type": "code",
      "metadata": {
        "colab": {
          "base_uri": "https://localhost:8080/",
          "height": 35
        },
        "id": "FDYhBzCzGAUU",
        "outputId": "6e060afe-460c-4658-dc08-230c4bffaae1"
      },
      "source": [
        "a[-3::1]"
      ],
      "execution_count": 92,
      "outputs": [
        {
          "output_type": "execute_result",
          "data": {
            "application/vnd.google.colaboratory.intrinsic+json": {
              "type": "string"
            },
            "text/plain": [
              "'KKU'"
            ]
          },
          "metadata": {
            "tags": []
          },
          "execution_count": 92
        }
      ]
    },
    {
      "cell_type": "code",
      "metadata": {
        "colab": {
          "base_uri": "https://localhost:8080/",
          "height": 35
        },
        "id": "Y-WZ-XxSGF4Q",
        "outputId": "9fa8f89f-ef85-46f1-d7ad-fc7d2ef1051d"
      },
      "source": [
        "a[-3::]"
      ],
      "execution_count": 93,
      "outputs": [
        {
          "output_type": "execute_result",
          "data": {
            "application/vnd.google.colaboratory.intrinsic+json": {
              "type": "string"
            },
            "text/plain": [
              "'KKU'"
            ]
          },
          "metadata": {
            "tags": []
          },
          "execution_count": 93
        }
      ]
    },
    {
      "cell_type": "markdown",
      "metadata": {
        "id": "KvX8qJqxGPE9"
      },
      "source": [
        "##list + list "
      ]
    },
    {
      "cell_type": "code",
      "metadata": {
        "colab": {
          "base_uri": "https://localhost:8080/"
        },
        "id": "xJX6dGBxGJ6u",
        "outputId": "a8a257e3-899f-43b1-9392-e11c11b83b0c"
      },
      "source": [
        "print(list_a)\n",
        "print(list_b)"
      ],
      "execution_count": 94,
      "outputs": [
        {
          "output_type": "stream",
          "text": [
            "[1, 2, 0.2, 'abs,']\n",
            "[2, 'xyz', [1, 2, 0.2, 'abs,'], [1, 2, 0.0]]\n"
          ],
          "name": "stdout"
        }
      ]
    },
    {
      "cell_type": "code",
      "metadata": {
        "colab": {
          "base_uri": "https://localhost:8080/"
        },
        "id": "7Xh99bGIGcG7",
        "outputId": "a0e16899-81ac-4564-cc2b-a7cf7656f891"
      },
      "source": [
        "list_a + list_b   #เอาstring มาเรียงต่อกัน"
      ],
      "execution_count": 96,
      "outputs": [
        {
          "output_type": "execute_result",
          "data": {
            "text/plain": [
              "[1, 2, 0.2, 'abs,', 2, 'xyz', [1, 2, 0.2, 'abs,'], [1, 2, 0.0]]"
            ]
          },
          "metadata": {
            "tags": []
          },
          "execution_count": 96
        }
      ]
    },
    {
      "cell_type": "markdown",
      "metadata": {
        "id": "rAF2T9iYK9lm"
      },
      "source": [
        "format string"
      ]
    },
    {
      "cell_type": "markdown",
      "metadata": {
        "id": "hQuZNY_rLyZw"
      },
      "source": [
        "```python\n",
        "f'string{ตัวแปร}'\n",
        "```"
      ]
    },
    {
      "cell_type": "code",
      "metadata": {
        "colab": {
          "base_uri": "https://localhost:8080/",
          "height": 35
        },
        "id": "Xm7XWwcsLC3E",
        "outputId": "b93cc5af-b3b9-462b-92e1-20644213d885"
      },
      "source": [
        "f'ตัวแปร list_a  มีค่าคือ {list_a}'"
      ],
      "execution_count": 106,
      "outputs": [
        {
          "output_type": "execute_result",
          "data": {
            "application/vnd.google.colaboratory.intrinsic+json": {
              "type": "string"
            },
            "text/plain": [
              "\"ตัวแปร list_a  มีค่าคือ [1, 2, 0.2, 'abs,']\""
            ]
          },
          "metadata": {
            "tags": []
          },
          "execution_count": 106
        }
      ]
    },
    {
      "cell_type": "markdown",
      "metadata": {
        "id": "CnS_jAW6IisT"
      },
      "source": [
        "#Loop"
      ]
    },
    {
      "cell_type": "markdown",
      "metadata": {
        "id": "1_AYDgLJJ0f8"
      },
      "source": [
        "``` for``` ตัวแปรที่จะรับค่าจากลิสต์ inลิสต์ที่จะนำมาวนลูป:\n",
        "  \n",
        "     do something"
      ]
    },
    {
      "cell_type": "code",
      "metadata": {
        "colab": {
          "base_uri": "https://localhost:8080/"
        },
        "id": "BXyT6Gg0JKhv",
        "outputId": "d478b6e6-f763-411b-ef25-955bfd1b02d2"
      },
      "source": [
        "for i in [1,2,3,4,5]:   #i คือ 1 2 3 4 5\n",
        "    print(i+1)\n",
        "\n"
      ],
      "execution_count": 102,
      "outputs": [
        {
          "output_type": "stream",
          "text": [
            "2\n",
            "3\n",
            "4\n",
            "5\n",
            "6\n"
          ],
          "name": "stdout"
        }
      ]
    },
    {
      "cell_type": "code",
      "metadata": {
        "colab": {
          "base_uri": "https://localhost:8080/",
          "height": 196
        },
        "id": "TIvuy582MZMy",
        "outputId": "a1ab0ac9-5752-4093-875a-d7593259b3a7"
      },
      "source": [
        "list5=[1,2,3,4,5]\n",
        "for x in list5:\n",
        "  print(ด)"
      ],
      "execution_count": 107,
      "outputs": [
        {
          "output_type": "error",
          "ename": "NameError",
          "evalue": "ignored",
          "traceback": [
            "\u001b[0;31m---------------------------------------------------------------------------\u001b[0m",
            "\u001b[0;31mNameError\u001b[0m                                 Traceback (most recent call last)",
            "\u001b[0;32m<ipython-input-107-295a74a780c7>\u001b[0m in \u001b[0;36m<module>\u001b[0;34m()\u001b[0m\n\u001b[1;32m      1\u001b[0m \u001b[0mlist5\u001b[0m\u001b[0;34m=\u001b[0m\u001b[0;34m[\u001b[0m\u001b[0;36m1\u001b[0m\u001b[0;34m,\u001b[0m\u001b[0;36m2\u001b[0m\u001b[0;34m,\u001b[0m\u001b[0;36m3\u001b[0m\u001b[0;34m,\u001b[0m\u001b[0;36m4\u001b[0m\u001b[0;34m,\u001b[0m\u001b[0;36m5\u001b[0m\u001b[0;34m]\u001b[0m\u001b[0;34m\u001b[0m\u001b[0;34m\u001b[0m\u001b[0m\n\u001b[1;32m      2\u001b[0m \u001b[0;32mfor\u001b[0m \u001b[0mx\u001b[0m \u001b[0;32min\u001b[0m \u001b[0mlist5\u001b[0m\u001b[0;34m:\u001b[0m\u001b[0;34m\u001b[0m\u001b[0;34m\u001b[0m\u001b[0m\n\u001b[0;32m----> 3\u001b[0;31m   \u001b[0mprint\u001b[0m\u001b[0;34m(\u001b[0m\u001b[0mด\u001b[0m\u001b[0;34m)\u001b[0m\u001b[0;34m\u001b[0m\u001b[0;34m\u001b[0m\u001b[0m\n\u001b[0m",
            "\u001b[0;31mNameError\u001b[0m: name 'ด' is not defined"
          ]
        }
      ]
    },
    {
      "cell_type": "code",
      "metadata": {
        "colab": {
          "base_uri": "https://localhost:8080/"
        },
        "id": "MxhvlXDbMwYK",
        "outputId": "96ac30f9-dbbc-43e9-9279-e25c0feab5ac"
      },
      "source": [
        "list(range(10)) #สร้างlistตั้งแต่ 0 ไม่ถึงเลข 10"
      ],
      "execution_count": 109,
      "outputs": [
        {
          "output_type": "execute_result",
          "data": {
            "text/plain": [
              "[0, 1, 2, 3, 4, 5, 6, 7, 8, 9]"
            ]
          },
          "metadata": {
            "tags": []
          },
          "execution_count": 109
        }
      ]
    },
    {
      "cell_type": "code",
      "metadata": {
        "colab": {
          "base_uri": "https://localhost:8080/"
        },
        "id": "tbr4DUcmNKKa",
        "outputId": "41612542-0a74-4a89-da0a-a35b57ec9b5e"
      },
      "source": [
        "for i in range(2,7):\n",
        "  print(i)"
      ],
      "execution_count": 110,
      "outputs": [
        {
          "output_type": "stream",
          "text": [
            "2\n",
            "3\n",
            "4\n",
            "5\n",
            "6\n"
          ],
          "name": "stdout"
        }
      ]
    },
    {
      "cell_type": "code",
      "metadata": {
        "colab": {
          "base_uri": "https://localhost:8080/"
        },
        "id": "SGA-Lu46Nxaz",
        "outputId": "f4e97305-144a-48ee-a23a-07239113c303"
      },
      "source": [
        "for i in range(2,7,2):\n",
        "  print(i)"
      ],
      "execution_count": 111,
      "outputs": [
        {
          "output_type": "stream",
          "text": [
            "2\n",
            "4\n",
            "6\n"
          ],
          "name": "stdout"
        }
      ]
    },
    {
      "cell_type": "markdown",
      "metadata": {
        "id": "Zq0fYCsROm_h"
      },
      "source": [
        "##Nested loop  ลูปซ้อนลูป"
      ]
    },
    {
      "cell_type": "markdown",
      "metadata": {
        "id": "Jmj2h6mdIqtJ"
      },
      "source": [
        "#Condition\n",
        "\n"
      ]
    },
    {
      "cell_type": "markdown",
      "metadata": {
        "id": "Qy8i_Y6tItw_"
      },
      "source": [
        "###Function"
      ]
    },
    {
      "cell_type": "code",
      "metadata": {
        "id": "_VCa_g07Gk8s"
      },
      "source": [
        ""
      ],
      "execution_count": 98,
      "outputs": []
    },
    {
      "cell_type": "code",
      "metadata": {
        "id": "dTlePe6mIpCX"
      },
      "source": [
        ""
      ],
      "execution_count": null,
      "outputs": []
    }
  ]
}