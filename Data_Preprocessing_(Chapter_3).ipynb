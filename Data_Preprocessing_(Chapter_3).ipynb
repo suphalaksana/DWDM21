{
  "nbformat": 4,
  "nbformat_minor": 0,
  "metadata": {
    "colab": {
      "name": "Data Preprocessing (Chapter 3).ipynb",
      "provenance": [],
      "authorship_tag": "ABX9TyPl1Kys94WPtA4CHDPHqXX1",
      "include_colab_link": true
    },
    "kernelspec": {
      "name": "python3",
      "display_name": "Python 3"
    },
    "language_info": {
      "name": "python"
    }
  },
  "cells": [
    {
      "cell_type": "markdown",
      "metadata": {
        "id": "view-in-github",
        "colab_type": "text"
      },
      "source": [
        "<a href=\"https://colab.research.google.com/github/suphalaksana/DWDM21/blob/main/Data_Preprocessing_(Chapter_3).ipynb\" target=\"_parent\"><img src=\"https://colab.research.google.com/assets/colab-badge.svg\" alt=\"Open In Colab\"/></a>"
      ]
    },
    {
      "cell_type": "code",
      "metadata": {
        "id": "eCgcZB-aJ6OX"
      },
      "source": [
        "import pandas as pd  #ข้อมูลลักษณะตาราง"
      ],
      "execution_count": 439,
      "outputs": []
    },
    {
      "cell_type": "code",
      "metadata": {
        "colab": {
          "base_uri": "https://localhost:8080/"
        },
        "id": "g12BpVAjPTSy",
        "outputId": "7d17a5d0-51bb-45a3-96f0-450498930813"
      },
      "source": [
        "from google.colab import drive\n",
        "drive.mount('/content/drive')"
      ],
      "execution_count": 440,
      "outputs": [
        {
          "output_type": "stream",
          "text": [
            "Drive already mounted at /content/drive; to attempt to forcibly remount, call drive.mount(\"/content/drive\", force_remount=True).\n"
          ],
          "name": "stdout"
        }
      ]
    },
    {
      "cell_type": "code",
      "metadata": {
        "colab": {
          "base_uri": "https://localhost:8080/"
        },
        "id": "EWOuJlfXQPNF",
        "outputId": "dd6f8b6a-1008-4461-d318-9182a11dc7b1"
      },
      "source": [
        "ls  #เช็คดูว่าเชื่อมได้มั้ย"
      ],
      "execution_count": 441,
      "outputs": [
        {
          "output_type": "stream",
          "text": [
            "\u001b[0m\u001b[01;34mdrive\u001b[0m/  \u001b[01;34msample_data\u001b[0m/\n"
          ],
          "name": "stdout"
        }
      ]
    },
    {
      "cell_type": "code",
      "metadata": {
        "id": "hdp93rEbQiiE"
      },
      "source": [
        "import os #จัดการไฟล์ และ path"
      ],
      "execution_count": 442,
      "outputs": []
    },
    {
      "cell_type": "code",
      "metadata": {
        "id": "V_Aevp6kQtF4"
      },
      "source": [
        "path = '/content/drive/My Drive/DWDM2021_DATA'  #สร้างตัวแปรเชื่อมไปที่ drive"
      ],
      "execution_count": 443,
      "outputs": []
    },
    {
      "cell_type": "code",
      "metadata": {
        "id": "sIpdF8VpRqQn",
        "colab": {
          "base_uri": "https://localhost:8080/",
          "height": 415
        },
        "outputId": "70d106ad-ff4c-4532-a234-a31ff99cf73a"
      },
      "source": [
        "data_cases = pd.read_csv(os.path.join(path,'confirmed-cases.csv'))\n",
        "data_cases"
      ],
      "execution_count": 444,
      "outputs": [
        {
          "output_type": "execute_result",
          "data": {
            "text/html": [
              "<div>\n",
              "<style scoped>\n",
              "    .dataframe tbody tr th:only-of-type {\n",
              "        vertical-align: middle;\n",
              "    }\n",
              "\n",
              "    .dataframe tbody tr th {\n",
              "        vertical-align: top;\n",
              "    }\n",
              "\n",
              "    .dataframe thead th {\n",
              "        text-align: right;\n",
              "    }\n",
              "</style>\n",
              "<table border=\"1\" class=\"dataframe\">\n",
              "  <thead>\n",
              "    <tr style=\"text-align: right;\">\n",
              "      <th></th>\n",
              "      <th>No.</th>\n",
              "      <th>announce_date</th>\n",
              "      <th>Notified date</th>\n",
              "      <th>sex</th>\n",
              "      <th>age</th>\n",
              "      <th>Unit</th>\n",
              "      <th>nationality</th>\n",
              "      <th>province_of_isolation</th>\n",
              "      <th>risk</th>\n",
              "      <th>province_of_onset</th>\n",
              "      <th>district_of_onset</th>\n",
              "    </tr>\n",
              "  </thead>\n",
              "  <tbody>\n",
              "    <tr>\n",
              "      <th>0</th>\n",
              "      <td>1</td>\n",
              "      <td>12/1/2020</td>\n",
              "      <td>NaN</td>\n",
              "      <td>หญิง</td>\n",
              "      <td>61.0</td>\n",
              "      <td>ปี</td>\n",
              "      <td>China</td>\n",
              "      <td>กรุงเทพมหานคร</td>\n",
              "      <td>คนต่างชาติเดินทางมาจากต่างประเทศ</td>\n",
              "      <td>กรุงเทพมหานคร</td>\n",
              "      <td>NaN</td>\n",
              "    </tr>\n",
              "    <tr>\n",
              "      <th>1</th>\n",
              "      <td>2</td>\n",
              "      <td>17/1/2020</td>\n",
              "      <td>NaN</td>\n",
              "      <td>หญิง</td>\n",
              "      <td>74.0</td>\n",
              "      <td>ปี</td>\n",
              "      <td>China</td>\n",
              "      <td>กรุงเทพมหานคร</td>\n",
              "      <td>คนต่างชาติเดินทางมาจากต่างประเทศ</td>\n",
              "      <td>กรุงเทพมหานคร</td>\n",
              "      <td>NaN</td>\n",
              "    </tr>\n",
              "    <tr>\n",
              "      <th>2</th>\n",
              "      <td>3</td>\n",
              "      <td>22/1/2020</td>\n",
              "      <td>NaN</td>\n",
              "      <td>หญิง</td>\n",
              "      <td>73.0</td>\n",
              "      <td>ปี</td>\n",
              "      <td>Thailand</td>\n",
              "      <td>นครปฐม</td>\n",
              "      <td>คนต่างชาติเดินทางมาจากต่างประเทศ</td>\n",
              "      <td>นครปฐม</td>\n",
              "      <td>เมือง</td>\n",
              "    </tr>\n",
              "    <tr>\n",
              "      <th>3</th>\n",
              "      <td>4</td>\n",
              "      <td>22/1/2020</td>\n",
              "      <td>NaN</td>\n",
              "      <td>ชาย</td>\n",
              "      <td>68.0</td>\n",
              "      <td>ปี</td>\n",
              "      <td>China</td>\n",
              "      <td>กรุงเทพมหานคร</td>\n",
              "      <td>คนต่างชาติเดินทางมาจากต่างประเทศ</td>\n",
              "      <td>กรุงเทพมหานคร</td>\n",
              "      <td>NaN</td>\n",
              "    </tr>\n",
              "    <tr>\n",
              "      <th>4</th>\n",
              "      <td>5</td>\n",
              "      <td>24/1/2020</td>\n",
              "      <td>NaN</td>\n",
              "      <td>หญิง</td>\n",
              "      <td>66.0</td>\n",
              "      <td>ปี</td>\n",
              "      <td>China</td>\n",
              "      <td>นนทบุรี</td>\n",
              "      <td>คนต่างชาติเดินทางมาจากต่างประเทศ</td>\n",
              "      <td>กรุงเทพมหานคร</td>\n",
              "      <td>NaN</td>\n",
              "    </tr>\n",
              "    <tr>\n",
              "      <th>...</th>\n",
              "      <td>...</td>\n",
              "      <td>...</td>\n",
              "      <td>...</td>\n",
              "      <td>...</td>\n",
              "      <td>...</td>\n",
              "      <td>...</td>\n",
              "      <td>...</td>\n",
              "      <td>...</td>\n",
              "      <td>...</td>\n",
              "      <td>...</td>\n",
              "      <td>...</td>\n",
              "    </tr>\n",
              "    <tr>\n",
              "      <th>512617</th>\n",
              "      <td>512618</td>\n",
              "      <td>26/7/2021</td>\n",
              "      <td>25/7/2021</td>\n",
              "      <td>ชาย</td>\n",
              "      <td>NaN</td>\n",
              "      <td>NaN</td>\n",
              "      <td>NaN</td>\n",
              "      <td>ชลบุรี</td>\n",
              "      <td>ทัณฑสถาน/เรือนจำ</td>\n",
              "      <td>NaN</td>\n",
              "      <td>NaN</td>\n",
              "    </tr>\n",
              "    <tr>\n",
              "      <th>512618</th>\n",
              "      <td>512619</td>\n",
              "      <td>26/7/2021</td>\n",
              "      <td>25/7/2021</td>\n",
              "      <td>ชาย</td>\n",
              "      <td>NaN</td>\n",
              "      <td>NaN</td>\n",
              "      <td>NaN</td>\n",
              "      <td>ชลบุรี</td>\n",
              "      <td>ทัณฑสถาน/เรือนจำ</td>\n",
              "      <td>NaN</td>\n",
              "      <td>NaN</td>\n",
              "    </tr>\n",
              "    <tr>\n",
              "      <th>512619</th>\n",
              "      <td>512620</td>\n",
              "      <td>26/7/2021</td>\n",
              "      <td>25/7/2021</td>\n",
              "      <td>ชาย</td>\n",
              "      <td>NaN</td>\n",
              "      <td>NaN</td>\n",
              "      <td>NaN</td>\n",
              "      <td>ชลบุรี</td>\n",
              "      <td>ทัณฑสถาน/เรือนจำ</td>\n",
              "      <td>NaN</td>\n",
              "      <td>NaN</td>\n",
              "    </tr>\n",
              "    <tr>\n",
              "      <th>512620</th>\n",
              "      <td>512621</td>\n",
              "      <td>26/7/2021</td>\n",
              "      <td>25/7/2021</td>\n",
              "      <td>ชาย</td>\n",
              "      <td>NaN</td>\n",
              "      <td>NaN</td>\n",
              "      <td>NaN</td>\n",
              "      <td>ชลบุรี</td>\n",
              "      <td>ทัณฑสถาน/เรือนจำ</td>\n",
              "      <td>NaN</td>\n",
              "      <td>NaN</td>\n",
              "    </tr>\n",
              "    <tr>\n",
              "      <th>512621</th>\n",
              "      <td>512622</td>\n",
              "      <td>26/7/2021</td>\n",
              "      <td>25/7/2021</td>\n",
              "      <td>ชาย</td>\n",
              "      <td>NaN</td>\n",
              "      <td>NaN</td>\n",
              "      <td>NaN</td>\n",
              "      <td>ชลบุรี</td>\n",
              "      <td>ทัณฑสถาน/เรือนจำ</td>\n",
              "      <td>NaN</td>\n",
              "      <td>NaN</td>\n",
              "    </tr>\n",
              "  </tbody>\n",
              "</table>\n",
              "<p>512622 rows × 11 columns</p>\n",
              "</div>"
            ],
            "text/plain": [
              "           No. announce_date  ... province_of_onset district_of_onset\n",
              "0            1     12/1/2020  ...     กรุงเทพมหานคร               NaN\n",
              "1            2     17/1/2020  ...     กรุงเทพมหานคร               NaN\n",
              "2            3     22/1/2020  ...            นครปฐม             เมือง\n",
              "3            4     22/1/2020  ...     กรุงเทพมหานคร               NaN\n",
              "4            5     24/1/2020  ...     กรุงเทพมหานคร               NaN\n",
              "...        ...           ...  ...               ...               ...\n",
              "512617  512618     26/7/2021  ...               NaN               NaN\n",
              "512618  512619     26/7/2021  ...               NaN               NaN\n",
              "512619  512620     26/7/2021  ...               NaN               NaN\n",
              "512620  512621     26/7/2021  ...               NaN               NaN\n",
              "512621  512622     26/7/2021  ...               NaN               NaN\n",
              "\n",
              "[512622 rows x 11 columns]"
            ]
          },
          "metadata": {
            "tags": []
          },
          "execution_count": 444
        }
      ]
    },
    {
      "cell_type": "markdown",
      "metadata": {
        "id": "gfWevl5x-ZWK"
      },
      "source": [
        "## Meta Data (Data ที่ใช้อธิบาย Data)"
      ]
    },
    {
      "cell_type": "markdown",
      "metadata": {
        "id": "2YHKhEshAMIQ"
      },
      "source": [
        "##  ชี้ข้อมูลในตาราง"
      ]
    },
    {
      "cell_type": "markdown",
      "metadata": {
        "id": "eggCAysSDZA8"
      },
      "source": [
        "### ชี้แบบธรรมดา ใช้ [ชื่อ column][index]"
      ]
    },
    {
      "cell_type": "code",
      "metadata": {
        "colab": {
          "base_uri": "https://localhost:8080/"
        },
        "id": "eU5Twus38U0Q",
        "outputId": "f00dd30f-0c01-421d-fd68-9a8b7dc0d537"
      },
      "source": [
        "data_cases['risk']  #ชี้คอลัมน์ "
      ],
      "execution_count": 445,
      "outputs": [
        {
          "output_type": "execute_result",
          "data": {
            "text/plain": [
              "0         คนต่างชาติเดินทางมาจากต่างประเทศ\n",
              "1         คนต่างชาติเดินทางมาจากต่างประเทศ\n",
              "2         คนต่างชาติเดินทางมาจากต่างประเทศ\n",
              "3         คนต่างชาติเดินทางมาจากต่างประเทศ\n",
              "4         คนต่างชาติเดินทางมาจากต่างประเทศ\n",
              "                        ...               \n",
              "512617                    ทัณฑสถาน/เรือนจำ\n",
              "512618                    ทัณฑสถาน/เรือนจำ\n",
              "512619                    ทัณฑสถาน/เรือนจำ\n",
              "512620                    ทัณฑสถาน/เรือนจำ\n",
              "512621                    ทัณฑสถาน/เรือนจำ\n",
              "Name: risk, Length: 512622, dtype: object"
            ]
          },
          "metadata": {
            "tags": []
          },
          "execution_count": 445
        }
      ]
    },
    {
      "cell_type": "code",
      "metadata": {
        "colab": {
          "base_uri": "https://localhost:8080/",
          "height": 35
        },
        "id": "R9pTQXJpAd67",
        "outputId": "328e9987-cf93-4bf2-bb56-ffeae38dfc1f"
      },
      "source": [
        "data_cases['risk'][678] #ชี้คอลัมน์ #แล้วค่อยเลือก index เพื่อชี้"
      ],
      "execution_count": 446,
      "outputs": [
        {
          "output_type": "execute_result",
          "data": {
            "application/vnd.google.colaboratory.intrinsic+json": {
              "type": "string"
            },
            "text/plain": [
              "'สัมผัสใกล้ชิดกับผู้ป่วยยืนยันรายก่อนหน้านี้'"
            ]
          },
          "metadata": {
            "tags": []
          },
          "execution_count": 446
        }
      ]
    },
    {
      "cell_type": "code",
      "metadata": {
        "colab": {
          "base_uri": "https://localhost:8080/",
          "height": 415
        },
        "id": "AgypXfm1AmzZ",
        "outputId": "f01851f5-717a-49fa-d2c5-51a189c4d99c"
      },
      "source": [
        "data_cases[['age','risk','sex' ]]"
      ],
      "execution_count": 447,
      "outputs": [
        {
          "output_type": "execute_result",
          "data": {
            "text/html": [
              "<div>\n",
              "<style scoped>\n",
              "    .dataframe tbody tr th:only-of-type {\n",
              "        vertical-align: middle;\n",
              "    }\n",
              "\n",
              "    .dataframe tbody tr th {\n",
              "        vertical-align: top;\n",
              "    }\n",
              "\n",
              "    .dataframe thead th {\n",
              "        text-align: right;\n",
              "    }\n",
              "</style>\n",
              "<table border=\"1\" class=\"dataframe\">\n",
              "  <thead>\n",
              "    <tr style=\"text-align: right;\">\n",
              "      <th></th>\n",
              "      <th>age</th>\n",
              "      <th>risk</th>\n",
              "      <th>sex</th>\n",
              "    </tr>\n",
              "  </thead>\n",
              "  <tbody>\n",
              "    <tr>\n",
              "      <th>0</th>\n",
              "      <td>61.0</td>\n",
              "      <td>คนต่างชาติเดินทางมาจากต่างประเทศ</td>\n",
              "      <td>หญิง</td>\n",
              "    </tr>\n",
              "    <tr>\n",
              "      <th>1</th>\n",
              "      <td>74.0</td>\n",
              "      <td>คนต่างชาติเดินทางมาจากต่างประเทศ</td>\n",
              "      <td>หญิง</td>\n",
              "    </tr>\n",
              "    <tr>\n",
              "      <th>2</th>\n",
              "      <td>73.0</td>\n",
              "      <td>คนต่างชาติเดินทางมาจากต่างประเทศ</td>\n",
              "      <td>หญิง</td>\n",
              "    </tr>\n",
              "    <tr>\n",
              "      <th>3</th>\n",
              "      <td>68.0</td>\n",
              "      <td>คนต่างชาติเดินทางมาจากต่างประเทศ</td>\n",
              "      <td>ชาย</td>\n",
              "    </tr>\n",
              "    <tr>\n",
              "      <th>4</th>\n",
              "      <td>66.0</td>\n",
              "      <td>คนต่างชาติเดินทางมาจากต่างประเทศ</td>\n",
              "      <td>หญิง</td>\n",
              "    </tr>\n",
              "    <tr>\n",
              "      <th>...</th>\n",
              "      <td>...</td>\n",
              "      <td>...</td>\n",
              "      <td>...</td>\n",
              "    </tr>\n",
              "    <tr>\n",
              "      <th>512617</th>\n",
              "      <td>NaN</td>\n",
              "      <td>ทัณฑสถาน/เรือนจำ</td>\n",
              "      <td>ชาย</td>\n",
              "    </tr>\n",
              "    <tr>\n",
              "      <th>512618</th>\n",
              "      <td>NaN</td>\n",
              "      <td>ทัณฑสถาน/เรือนจำ</td>\n",
              "      <td>ชาย</td>\n",
              "    </tr>\n",
              "    <tr>\n",
              "      <th>512619</th>\n",
              "      <td>NaN</td>\n",
              "      <td>ทัณฑสถาน/เรือนจำ</td>\n",
              "      <td>ชาย</td>\n",
              "    </tr>\n",
              "    <tr>\n",
              "      <th>512620</th>\n",
              "      <td>NaN</td>\n",
              "      <td>ทัณฑสถาน/เรือนจำ</td>\n",
              "      <td>ชาย</td>\n",
              "    </tr>\n",
              "    <tr>\n",
              "      <th>512621</th>\n",
              "      <td>NaN</td>\n",
              "      <td>ทัณฑสถาน/เรือนจำ</td>\n",
              "      <td>ชาย</td>\n",
              "    </tr>\n",
              "  </tbody>\n",
              "</table>\n",
              "<p>512622 rows × 3 columns</p>\n",
              "</div>"
            ],
            "text/plain": [
              "         age                              risk   sex\n",
              "0       61.0  คนต่างชาติเดินทางมาจากต่างประเทศ  หญิง\n",
              "1       74.0  คนต่างชาติเดินทางมาจากต่างประเทศ  หญิง\n",
              "2       73.0  คนต่างชาติเดินทางมาจากต่างประเทศ  หญิง\n",
              "3       68.0  คนต่างชาติเดินทางมาจากต่างประเทศ   ชาย\n",
              "4       66.0  คนต่างชาติเดินทางมาจากต่างประเทศ  หญิง\n",
              "...      ...                               ...   ...\n",
              "512617   NaN                  ทัณฑสถาน/เรือนจำ   ชาย\n",
              "512618   NaN                  ทัณฑสถาน/เรือนจำ   ชาย\n",
              "512619   NaN                  ทัณฑสถาน/เรือนจำ   ชาย\n",
              "512620   NaN                  ทัณฑสถาน/เรือนจำ   ชาย\n",
              "512621   NaN                  ทัณฑสถาน/เรือนจำ   ชาย\n",
              "\n",
              "[512622 rows x 3 columns]"
            ]
          },
          "metadata": {
            "tags": []
          },
          "execution_count": 447
        }
      ]
    },
    {
      "cell_type": "markdown",
      "metadata": {
        "id": "Fepp77QSBrPz"
      },
      "source": [
        "### ชี้แบบ .iloc[] (มองข้อมูล เป็น matrix)"
      ]
    },
    {
      "cell_type": "code",
      "metadata": {
        "colab": {
          "base_uri": "https://localhost:8080/",
          "height": 35
        },
        "id": "wtoGN2tyBRLW",
        "outputId": "3f8859ef-b8b4-4293-f217-922c0731692a"
      },
      "source": [
        "data_cases.iloc[678,8]   # แถว,คอลัมน์"
      ],
      "execution_count": 448,
      "outputs": [
        {
          "output_type": "execute_result",
          "data": {
            "application/vnd.google.colaboratory.intrinsic+json": {
              "type": "string"
            },
            "text/plain": [
              "'สัมผัสใกล้ชิดกับผู้ป่วยยืนยันรายก่อนหน้านี้'"
            ]
          },
          "metadata": {
            "tags": []
          },
          "execution_count": 448
        }
      ]
    },
    {
      "cell_type": "code",
      "metadata": {
        "colab": {
          "base_uri": "https://localhost:8080/",
          "height": 356
        },
        "id": "CL7VexK6CGzb",
        "outputId": "232aba4b-650c-4f25-d639-591111c1b036"
      },
      "source": [
        "data_cases.iloc[-10:,4:9:2]#แถว-10 เป็นต้นไป   #หลัง, ไปเป็น list  #เอา 10 วันล่าสุด"
      ],
      "execution_count": 449,
      "outputs": [
        {
          "output_type": "execute_result",
          "data": {
            "text/html": [
              "<div>\n",
              "<style scoped>\n",
              "    .dataframe tbody tr th:only-of-type {\n",
              "        vertical-align: middle;\n",
              "    }\n",
              "\n",
              "    .dataframe tbody tr th {\n",
              "        vertical-align: top;\n",
              "    }\n",
              "\n",
              "    .dataframe thead th {\n",
              "        text-align: right;\n",
              "    }\n",
              "</style>\n",
              "<table border=\"1\" class=\"dataframe\">\n",
              "  <thead>\n",
              "    <tr style=\"text-align: right;\">\n",
              "      <th></th>\n",
              "      <th>age</th>\n",
              "      <th>nationality</th>\n",
              "      <th>risk</th>\n",
              "    </tr>\n",
              "  </thead>\n",
              "  <tbody>\n",
              "    <tr>\n",
              "      <th>512612</th>\n",
              "      <td>NaN</td>\n",
              "      <td>NaN</td>\n",
              "      <td>ทัณฑสถาน/เรือนจำ</td>\n",
              "    </tr>\n",
              "    <tr>\n",
              "      <th>512613</th>\n",
              "      <td>NaN</td>\n",
              "      <td>NaN</td>\n",
              "      <td>ทัณฑสถาน/เรือนจำ</td>\n",
              "    </tr>\n",
              "    <tr>\n",
              "      <th>512614</th>\n",
              "      <td>NaN</td>\n",
              "      <td>NaN</td>\n",
              "      <td>ทัณฑสถาน/เรือนจำ</td>\n",
              "    </tr>\n",
              "    <tr>\n",
              "      <th>512615</th>\n",
              "      <td>NaN</td>\n",
              "      <td>NaN</td>\n",
              "      <td>ทัณฑสถาน/เรือนจำ</td>\n",
              "    </tr>\n",
              "    <tr>\n",
              "      <th>512616</th>\n",
              "      <td>NaN</td>\n",
              "      <td>NaN</td>\n",
              "      <td>ทัณฑสถาน/เรือนจำ</td>\n",
              "    </tr>\n",
              "    <tr>\n",
              "      <th>512617</th>\n",
              "      <td>NaN</td>\n",
              "      <td>NaN</td>\n",
              "      <td>ทัณฑสถาน/เรือนจำ</td>\n",
              "    </tr>\n",
              "    <tr>\n",
              "      <th>512618</th>\n",
              "      <td>NaN</td>\n",
              "      <td>NaN</td>\n",
              "      <td>ทัณฑสถาน/เรือนจำ</td>\n",
              "    </tr>\n",
              "    <tr>\n",
              "      <th>512619</th>\n",
              "      <td>NaN</td>\n",
              "      <td>NaN</td>\n",
              "      <td>ทัณฑสถาน/เรือนจำ</td>\n",
              "    </tr>\n",
              "    <tr>\n",
              "      <th>512620</th>\n",
              "      <td>NaN</td>\n",
              "      <td>NaN</td>\n",
              "      <td>ทัณฑสถาน/เรือนจำ</td>\n",
              "    </tr>\n",
              "    <tr>\n",
              "      <th>512621</th>\n",
              "      <td>NaN</td>\n",
              "      <td>NaN</td>\n",
              "      <td>ทัณฑสถาน/เรือนจำ</td>\n",
              "    </tr>\n",
              "  </tbody>\n",
              "</table>\n",
              "</div>"
            ],
            "text/plain": [
              "        age nationality              risk\n",
              "512612  NaN         NaN  ทัณฑสถาน/เรือนจำ\n",
              "512613  NaN         NaN  ทัณฑสถาน/เรือนจำ\n",
              "512614  NaN         NaN  ทัณฑสถาน/เรือนจำ\n",
              "512615  NaN         NaN  ทัณฑสถาน/เรือนจำ\n",
              "512616  NaN         NaN  ทัณฑสถาน/เรือนจำ\n",
              "512617  NaN         NaN  ทัณฑสถาน/เรือนจำ\n",
              "512618  NaN         NaN  ทัณฑสถาน/เรือนจำ\n",
              "512619  NaN         NaN  ทัณฑสถาน/เรือนจำ\n",
              "512620  NaN         NaN  ทัณฑสถาน/เรือนจำ\n",
              "512621  NaN         NaN  ทัณฑสถาน/เรือนจำ"
            ]
          },
          "metadata": {
            "tags": []
          },
          "execution_count": 449
        }
      ]
    },
    {
      "cell_type": "code",
      "metadata": {
        "colab": {
          "base_uri": "https://localhost:8080/",
          "height": 356
        },
        "id": "4zgBP0-rCts4",
        "outputId": "97266a0f-5ecc-444f-990d-ad2fb18edec7"
      },
      "source": [
        "data_cases.iloc[-10:,[3,4,8]]"
      ],
      "execution_count": 450,
      "outputs": [
        {
          "output_type": "execute_result",
          "data": {
            "text/html": [
              "<div>\n",
              "<style scoped>\n",
              "    .dataframe tbody tr th:only-of-type {\n",
              "        vertical-align: middle;\n",
              "    }\n",
              "\n",
              "    .dataframe tbody tr th {\n",
              "        vertical-align: top;\n",
              "    }\n",
              "\n",
              "    .dataframe thead th {\n",
              "        text-align: right;\n",
              "    }\n",
              "</style>\n",
              "<table border=\"1\" class=\"dataframe\">\n",
              "  <thead>\n",
              "    <tr style=\"text-align: right;\">\n",
              "      <th></th>\n",
              "      <th>sex</th>\n",
              "      <th>age</th>\n",
              "      <th>risk</th>\n",
              "    </tr>\n",
              "  </thead>\n",
              "  <tbody>\n",
              "    <tr>\n",
              "      <th>512612</th>\n",
              "      <td>หญิง</td>\n",
              "      <td>NaN</td>\n",
              "      <td>ทัณฑสถาน/เรือนจำ</td>\n",
              "    </tr>\n",
              "    <tr>\n",
              "      <th>512613</th>\n",
              "      <td>ชาย</td>\n",
              "      <td>NaN</td>\n",
              "      <td>ทัณฑสถาน/เรือนจำ</td>\n",
              "    </tr>\n",
              "    <tr>\n",
              "      <th>512614</th>\n",
              "      <td>ชาย</td>\n",
              "      <td>NaN</td>\n",
              "      <td>ทัณฑสถาน/เรือนจำ</td>\n",
              "    </tr>\n",
              "    <tr>\n",
              "      <th>512615</th>\n",
              "      <td>ชาย</td>\n",
              "      <td>NaN</td>\n",
              "      <td>ทัณฑสถาน/เรือนจำ</td>\n",
              "    </tr>\n",
              "    <tr>\n",
              "      <th>512616</th>\n",
              "      <td>ชาย</td>\n",
              "      <td>NaN</td>\n",
              "      <td>ทัณฑสถาน/เรือนจำ</td>\n",
              "    </tr>\n",
              "    <tr>\n",
              "      <th>512617</th>\n",
              "      <td>ชาย</td>\n",
              "      <td>NaN</td>\n",
              "      <td>ทัณฑสถาน/เรือนจำ</td>\n",
              "    </tr>\n",
              "    <tr>\n",
              "      <th>512618</th>\n",
              "      <td>ชาย</td>\n",
              "      <td>NaN</td>\n",
              "      <td>ทัณฑสถาน/เรือนจำ</td>\n",
              "    </tr>\n",
              "    <tr>\n",
              "      <th>512619</th>\n",
              "      <td>ชาย</td>\n",
              "      <td>NaN</td>\n",
              "      <td>ทัณฑสถาน/เรือนจำ</td>\n",
              "    </tr>\n",
              "    <tr>\n",
              "      <th>512620</th>\n",
              "      <td>ชาย</td>\n",
              "      <td>NaN</td>\n",
              "      <td>ทัณฑสถาน/เรือนจำ</td>\n",
              "    </tr>\n",
              "    <tr>\n",
              "      <th>512621</th>\n",
              "      <td>ชาย</td>\n",
              "      <td>NaN</td>\n",
              "      <td>ทัณฑสถาน/เรือนจำ</td>\n",
              "    </tr>\n",
              "  </tbody>\n",
              "</table>\n",
              "</div>"
            ],
            "text/plain": [
              "         sex  age              risk\n",
              "512612  หญิง  NaN  ทัณฑสถาน/เรือนจำ\n",
              "512613   ชาย  NaN  ทัณฑสถาน/เรือนจำ\n",
              "512614   ชาย  NaN  ทัณฑสถาน/เรือนจำ\n",
              "512615   ชาย  NaN  ทัณฑสถาน/เรือนจำ\n",
              "512616   ชาย  NaN  ทัณฑสถาน/เรือนจำ\n",
              "512617   ชาย  NaN  ทัณฑสถาน/เรือนจำ\n",
              "512618   ชาย  NaN  ทัณฑสถาน/เรือนจำ\n",
              "512619   ชาย  NaN  ทัณฑสถาน/เรือนจำ\n",
              "512620   ชาย  NaN  ทัณฑสถาน/เรือนจำ\n",
              "512621   ชาย  NaN  ทัณฑสถาน/เรือนจำ"
            ]
          },
          "metadata": {
            "tags": []
          },
          "execution_count": 450
        }
      ]
    },
    {
      "cell_type": "code",
      "metadata": {
        "colab": {
          "base_uri": "https://localhost:8080/",
          "height": 294
        },
        "id": "dgv8EikkDJO0",
        "outputId": "35f56d1b-c667-495d-e3eb-ac9018b153e6"
      },
      "source": [
        "data_cases.describe()#ค่าทางสถิติ\n",
        "#จำนวนทั้งหมด  512622 ใส่อายุเเค่ 462839 คน\n",
        "#เฉลี่ยคนที่ติดอายุประมาณ 35 ปี\n",
        "#std เสี่ยงประมาณ 16 - 19"
      ],
      "execution_count": 451,
      "outputs": [
        {
          "output_type": "execute_result",
          "data": {
            "text/html": [
              "<div>\n",
              "<style scoped>\n",
              "    .dataframe tbody tr th:only-of-type {\n",
              "        vertical-align: middle;\n",
              "    }\n",
              "\n",
              "    .dataframe tbody tr th {\n",
              "        vertical-align: top;\n",
              "    }\n",
              "\n",
              "    .dataframe thead th {\n",
              "        text-align: right;\n",
              "    }\n",
              "</style>\n",
              "<table border=\"1\" class=\"dataframe\">\n",
              "  <thead>\n",
              "    <tr style=\"text-align: right;\">\n",
              "      <th></th>\n",
              "      <th>No.</th>\n",
              "      <th>age</th>\n",
              "    </tr>\n",
              "  </thead>\n",
              "  <tbody>\n",
              "    <tr>\n",
              "      <th>count</th>\n",
              "      <td>512622.000000</td>\n",
              "      <td>462839.000000</td>\n",
              "    </tr>\n",
              "    <tr>\n",
              "      <th>mean</th>\n",
              "      <td>256311.500000</td>\n",
              "      <td>35.529470</td>\n",
              "    </tr>\n",
              "    <tr>\n",
              "      <th>std</th>\n",
              "      <td>147981.369183</td>\n",
              "      <td>16.153885</td>\n",
              "    </tr>\n",
              "    <tr>\n",
              "      <th>min</th>\n",
              "      <td>1.000000</td>\n",
              "      <td>1.000000</td>\n",
              "    </tr>\n",
              "    <tr>\n",
              "      <th>25%</th>\n",
              "      <td>128156.250000</td>\n",
              "      <td>25.000000</td>\n",
              "    </tr>\n",
              "    <tr>\n",
              "      <th>50%</th>\n",
              "      <td>256311.500000</td>\n",
              "      <td>34.000000</td>\n",
              "    </tr>\n",
              "    <tr>\n",
              "      <th>75%</th>\n",
              "      <td>384466.750000</td>\n",
              "      <td>46.000000</td>\n",
              "    </tr>\n",
              "    <tr>\n",
              "      <th>max</th>\n",
              "      <td>512622.000000</td>\n",
              "      <td>108.000000</td>\n",
              "    </tr>\n",
              "  </tbody>\n",
              "</table>\n",
              "</div>"
            ],
            "text/plain": [
              "                 No.            age\n",
              "count  512622.000000  462839.000000\n",
              "mean   256311.500000      35.529470\n",
              "std    147981.369183      16.153885\n",
              "min         1.000000       1.000000\n",
              "25%    128156.250000      25.000000\n",
              "50%    256311.500000      34.000000\n",
              "75%    384466.750000      46.000000\n",
              "max    512622.000000     108.000000"
            ]
          },
          "metadata": {
            "tags": []
          },
          "execution_count": 451
        }
      ]
    },
    {
      "cell_type": "code",
      "metadata": {
        "colab": {
          "base_uri": "https://localhost:8080/",
          "height": 398
        },
        "id": "6zg-EEcUFP4D",
        "outputId": "507269bc-fec7-4647-97d3-5a2fd4209916"
      },
      "source": [
        "from matplotlib import  pyplot as plt\n",
        "plt.boxplot(data_cases['age']) #มีค่า missing เลย plot ไม่ได้"
      ],
      "execution_count": 452,
      "outputs": [
        {
          "output_type": "execute_result",
          "data": {
            "text/plain": [
              "{'boxes': [<matplotlib.lines.Line2D at 0x7ff527db03d0>],\n",
              " 'caps': [<matplotlib.lines.Line2D at 0x7ff527db2450>,\n",
              "  <matplotlib.lines.Line2D at 0x7ff527db2990>],\n",
              " 'fliers': [<matplotlib.lines.Line2D at 0x7ff527db7490>],\n",
              " 'means': [],\n",
              " 'medians': [<matplotlib.lines.Line2D at 0x7ff527db2f10>],\n",
              " 'whiskers': [<matplotlib.lines.Line2D at 0x7ff527db0990>,\n",
              "  <matplotlib.lines.Line2D at 0x7ff527db0ed0>]}"
            ]
          },
          "metadata": {
            "tags": []
          },
          "execution_count": 452
        },
        {
          "output_type": "display_data",
          "data": {
            "image/png": "[encoded data removed]",
            "text/plain": [
              "<Figure size 432x288 with 1 Axes>"
            ]
          },
          "metadata": {
            "tags": [],
            "needs_background": "light"
          }
        }
      ]
    },
    {
      "cell_type": "markdown",
      "metadata": {
        "id": "PqNrSRWdDGQH"
      },
      "source": [
        "##Missing Values"
      ]
    },
    {
      "cell_type": "markdown",
      "metadata": {
        "id": "uTdA320CYt4Z"
      },
      "source": [
        "\n",
        "\n",
        "*   NaN = Not a Number\n",
        "*   Null\n",
        "*   NA = Not Avaliable\n",
        "\n",
        "\n"
      ]
    },
    {
      "cell_type": "code",
      "metadata": {
        "id": "PYNobKPsY0Ga",
        "colab": {
          "base_uri": "https://localhost:8080/",
          "height": 0
        },
        "outputId": "7be9ed5c-caf1-4372-d490-0e8172d42fb0"
      },
      "source": [
        "data_cases"
      ],
      "execution_count": 453,
      "outputs": [
        {
          "output_type": "execute_result",
          "data": {
            "text/html": [
              "<div>\n",
              "<style scoped>\n",
              "    .dataframe tbody tr th:only-of-type {\n",
              "        vertical-align: middle;\n",
              "    }\n",
              "\n",
              "    .dataframe tbody tr th {\n",
              "        vertical-align: top;\n",
              "    }\n",
              "\n",
              "    .dataframe thead th {\n",
              "        text-align: right;\n",
              "    }\n",
              "</style>\n",
              "<table border=\"1\" class=\"dataframe\">\n",
              "  <thead>\n",
              "    <tr style=\"text-align: right;\">\n",
              "      <th></th>\n",
              "      <th>No.</th>\n",
              "      <th>announce_date</th>\n",
              "      <th>Notified date</th>\n",
              "      <th>sex</th>\n",
              "      <th>age</th>\n",
              "      <th>Unit</th>\n",
              "      <th>nationality</th>\n",
              "      <th>province_of_isolation</th>\n",
              "      <th>risk</th>\n",
              "      <th>province_of_onset</th>\n",
              "      <th>district_of_onset</th>\n",
              "    </tr>\n",
              "  </thead>\n",
              "  <tbody>\n",
              "    <tr>\n",
              "      <th>0</th>\n",
              "      <td>1</td>\n",
              "      <td>12/1/2020</td>\n",
              "      <td>NaN</td>\n",
              "      <td>หญิง</td>\n",
              "      <td>61.0</td>\n",
              "      <td>ปี</td>\n",
              "      <td>China</td>\n",
              "      <td>กรุงเทพมหานคร</td>\n",
              "      <td>คนต่างชาติเดินทางมาจากต่างประเทศ</td>\n",
              "      <td>กรุงเทพมหานคร</td>\n",
              "      <td>NaN</td>\n",
              "    </tr>\n",
              "    <tr>\n",
              "      <th>1</th>\n",
              "      <td>2</td>\n",
              "      <td>17/1/2020</td>\n",
              "      <td>NaN</td>\n",
              "      <td>หญิง</td>\n",
              "      <td>74.0</td>\n",
              "      <td>ปี</td>\n",
              "      <td>China</td>\n",
              "      <td>กรุงเทพมหานคร</td>\n",
              "      <td>คนต่างชาติเดินทางมาจากต่างประเทศ</td>\n",
              "      <td>กรุงเทพมหานคร</td>\n",
              "      <td>NaN</td>\n",
              "    </tr>\n",
              "    <tr>\n",
              "      <th>2</th>\n",
              "      <td>3</td>\n",
              "      <td>22/1/2020</td>\n",
              "      <td>NaN</td>\n",
              "      <td>หญิง</td>\n",
              "      <td>73.0</td>\n",
              "      <td>ปี</td>\n",
              "      <td>Thailand</td>\n",
              "      <td>นครปฐม</td>\n",
              "      <td>คนต่างชาติเดินทางมาจากต่างประเทศ</td>\n",
              "      <td>นครปฐม</td>\n",
              "      <td>เมือง</td>\n",
              "    </tr>\n",
              "    <tr>\n",
              "      <th>3</th>\n",
              "      <td>4</td>\n",
              "      <td>22/1/2020</td>\n",
              "      <td>NaN</td>\n",
              "      <td>ชาย</td>\n",
              "      <td>68.0</td>\n",
              "      <td>ปี</td>\n",
              "      <td>China</td>\n",
              "      <td>กรุงเทพมหานคร</td>\n",
              "      <td>คนต่างชาติเดินทางมาจากต่างประเทศ</td>\n",
              "      <td>กรุงเทพมหานคร</td>\n",
              "      <td>NaN</td>\n",
              "    </tr>\n",
              "    <tr>\n",
              "      <th>4</th>\n",
              "      <td>5</td>\n",
              "      <td>24/1/2020</td>\n",
              "      <td>NaN</td>\n",
              "      <td>หญิง</td>\n",
              "      <td>66.0</td>\n",
              "      <td>ปี</td>\n",
              "      <td>China</td>\n",
              "      <td>นนทบุรี</td>\n",
              "      <td>คนต่างชาติเดินทางมาจากต่างประเทศ</td>\n",
              "      <td>กรุงเทพมหานคร</td>\n",
              "      <td>NaN</td>\n",
              "    </tr>\n",
              "    <tr>\n",
              "      <th>...</th>\n",
              "      <td>...</td>\n",
              "      <td>...</td>\n",
              "      <td>...</td>\n",
              "      <td>...</td>\n",
              "      <td>...</td>\n",
              "      <td>...</td>\n",
              "      <td>...</td>\n",
              "      <td>...</td>\n",
              "      <td>...</td>\n",
              "      <td>...</td>\n",
              "      <td>...</td>\n",
              "    </tr>\n",
              "    <tr>\n",
              "      <th>512617</th>\n",
              "      <td>512618</td>\n",
              "      <td>26/7/2021</td>\n",
              "      <td>25/7/2021</td>\n",
              "      <td>ชาย</td>\n",
              "      <td>NaN</td>\n",
              "      <td>NaN</td>\n",
              "      <td>NaN</td>\n",
              "      <td>ชลบุรี</td>\n",
              "      <td>ทัณฑสถาน/เรือนจำ</td>\n",
              "      <td>NaN</td>\n",
              "      <td>NaN</td>\n",
              "    </tr>\n",
              "    <tr>\n",
              "      <th>512618</th>\n",
              "      <td>512619</td>\n",
              "      <td>26/7/2021</td>\n",
              "      <td>25/7/2021</td>\n",
              "      <td>ชาย</td>\n",
              "      <td>NaN</td>\n",
              "      <td>NaN</td>\n",
              "      <td>NaN</td>\n",
              "      <td>ชลบุรี</td>\n",
              "      <td>ทัณฑสถาน/เรือนจำ</td>\n",
              "      <td>NaN</td>\n",
              "      <td>NaN</td>\n",
              "    </tr>\n",
              "    <tr>\n",
              "      <th>512619</th>\n",
              "      <td>512620</td>\n",
              "      <td>26/7/2021</td>\n",
              "      <td>25/7/2021</td>\n",
              "      <td>ชาย</td>\n",
              "      <td>NaN</td>\n",
              "      <td>NaN</td>\n",
              "      <td>NaN</td>\n",
              "      <td>ชลบุรี</td>\n",
              "      <td>ทัณฑสถาน/เรือนจำ</td>\n",
              "      <td>NaN</td>\n",
              "      <td>NaN</td>\n",
              "    </tr>\n",
              "    <tr>\n",
              "      <th>512620</th>\n",
              "      <td>512621</td>\n",
              "      <td>26/7/2021</td>\n",
              "      <td>25/7/2021</td>\n",
              "      <td>ชาย</td>\n",
              "      <td>NaN</td>\n",
              "      <td>NaN</td>\n",
              "      <td>NaN</td>\n",
              "      <td>ชลบุรี</td>\n",
              "      <td>ทัณฑสถาน/เรือนจำ</td>\n",
              "      <td>NaN</td>\n",
              "      <td>NaN</td>\n",
              "    </tr>\n",
              "    <tr>\n",
              "      <th>512621</th>\n",
              "      <td>512622</td>\n",
              "      <td>26/7/2021</td>\n",
              "      <td>25/7/2021</td>\n",
              "      <td>ชาย</td>\n",
              "      <td>NaN</td>\n",
              "      <td>NaN</td>\n",
              "      <td>NaN</td>\n",
              "      <td>ชลบุรี</td>\n",
              "      <td>ทัณฑสถาน/เรือนจำ</td>\n",
              "      <td>NaN</td>\n",
              "      <td>NaN</td>\n",
              "    </tr>\n",
              "  </tbody>\n",
              "</table>\n",
              "<p>512622 rows × 11 columns</p>\n",
              "</div>"
            ],
            "text/plain": [
              "           No. announce_date  ... province_of_onset district_of_onset\n",
              "0            1     12/1/2020  ...     กรุงเทพมหานคร               NaN\n",
              "1            2     17/1/2020  ...     กรุงเทพมหานคร               NaN\n",
              "2            3     22/1/2020  ...            นครปฐม             เมือง\n",
              "3            4     22/1/2020  ...     กรุงเทพมหานคร               NaN\n",
              "4            5     24/1/2020  ...     กรุงเทพมหานคร               NaN\n",
              "...        ...           ...  ...               ...               ...\n",
              "512617  512618     26/7/2021  ...               NaN               NaN\n",
              "512618  512619     26/7/2021  ...               NaN               NaN\n",
              "512619  512620     26/7/2021  ...               NaN               NaN\n",
              "512620  512621     26/7/2021  ...               NaN               NaN\n",
              "512621  512622     26/7/2021  ...               NaN               NaN\n",
              "\n",
              "[512622 rows x 11 columns]"
            ]
          },
          "metadata": {
            "tags": []
          },
          "execution_count": 453
        }
      ]
    },
    {
      "cell_type": "code",
      "metadata": {
        "colab": {
          "base_uri": "https://localhost:8080/",
          "height": 0
        },
        "id": "qnt4Y-5EFx38",
        "outputId": "2a823f44-9f1e-4120-f8a5-d2d2a6d2f62d"
      },
      "source": [
        "data_cases.isnull()  #false คือค่าที่ไม่ใช่ช่องว่าง  # null"
      ],
      "execution_count": 454,
      "outputs": [
        {
          "output_type": "execute_result",
          "data": {
            "text/html": [
              "<div>\n",
              "<style scoped>\n",
              "    .dataframe tbody tr th:only-of-type {\n",
              "        vertical-align: middle;\n",
              "    }\n",
              "\n",
              "    .dataframe tbody tr th {\n",
              "        vertical-align: top;\n",
              "    }\n",
              "\n",
              "    .dataframe thead th {\n",
              "        text-align: right;\n",
              "    }\n",
              "</style>\n",
              "<table border=\"1\" class=\"dataframe\">\n",
              "  <thead>\n",
              "    <tr style=\"text-align: right;\">\n",
              "      <th></th>\n",
              "      <th>No.</th>\n",
              "      <th>announce_date</th>\n",
              "      <th>Notified date</th>\n",
              "      <th>sex</th>\n",
              "      <th>age</th>\n",
              "      <th>Unit</th>\n",
              "      <th>nationality</th>\n",
              "      <th>province_of_isolation</th>\n",
              "      <th>risk</th>\n",
              "      <th>province_of_onset</th>\n",
              "      <th>district_of_onset</th>\n",
              "    </tr>\n",
              "  </thead>\n",
              "  <tbody>\n",
              "    <tr>\n",
              "      <th>0</th>\n",
              "      <td>False</td>\n",
              "      <td>False</td>\n",
              "      <td>True</td>\n",
              "      <td>False</td>\n",
              "      <td>False</td>\n",
              "      <td>False</td>\n",
              "      <td>False</td>\n",
              "      <td>False</td>\n",
              "      <td>False</td>\n",
              "      <td>False</td>\n",
              "      <td>True</td>\n",
              "    </tr>\n",
              "    <tr>\n",
              "      <th>1</th>\n",
              "      <td>False</td>\n",
              "      <td>False</td>\n",
              "      <td>True</td>\n",
              "      <td>False</td>\n",
              "      <td>False</td>\n",
              "      <td>False</td>\n",
              "      <td>False</td>\n",
              "      <td>False</td>\n",
              "      <td>False</td>\n",
              "      <td>False</td>\n",
              "      <td>True</td>\n",
              "    </tr>\n",
              "    <tr>\n",
              "      <th>2</th>\n",
              "      <td>False</td>\n",
              "      <td>False</td>\n",
              "      <td>True</td>\n",
              "      <td>False</td>\n",
              "      <td>False</td>\n",
              "      <td>False</td>\n",
              "      <td>False</td>\n",
              "      <td>False</td>\n",
              "      <td>False</td>\n",
              "      <td>False</td>\n",
              "      <td>False</td>\n",
              "    </tr>\n",
              "    <tr>\n",
              "      <th>3</th>\n",
              "      <td>False</td>\n",
              "      <td>False</td>\n",
              "      <td>True</td>\n",
              "      <td>False</td>\n",
              "      <td>False</td>\n",
              "      <td>False</td>\n",
              "      <td>False</td>\n",
              "      <td>False</td>\n",
              "      <td>False</td>\n",
              "      <td>False</td>\n",
              "      <td>True</td>\n",
              "    </tr>\n",
              "    <tr>\n",
              "      <th>4</th>\n",
              "      <td>False</td>\n",
              "      <td>False</td>\n",
              "      <td>True</td>\n",
              "      <td>False</td>\n",
              "      <td>False</td>\n",
              "      <td>False</td>\n",
              "      <td>False</td>\n",
              "      <td>False</td>\n",
              "      <td>False</td>\n",
              "      <td>False</td>\n",
              "      <td>True</td>\n",
              "    </tr>\n",
              "    <tr>\n",
              "      <th>...</th>\n",
              "      <td>...</td>\n",
              "      <td>...</td>\n",
              "      <td>...</td>\n",
              "      <td>...</td>\n",
              "      <td>...</td>\n",
              "      <td>...</td>\n",
              "      <td>...</td>\n",
              "      <td>...</td>\n",
              "      <td>...</td>\n",
              "      <td>...</td>\n",
              "      <td>...</td>\n",
              "    </tr>\n",
              "    <tr>\n",
              "      <th>512617</th>\n",
              "      <td>False</td>\n",
              "      <td>False</td>\n",
              "      <td>False</td>\n",
              "      <td>False</td>\n",
              "      <td>True</td>\n",
              "      <td>True</td>\n",
              "      <td>True</td>\n",
              "      <td>False</td>\n",
              "      <td>False</td>\n",
              "      <td>True</td>\n",
              "      <td>True</td>\n",
              "    </tr>\n",
              "    <tr>\n",
              "      <th>512618</th>\n",
              "      <td>False</td>\n",
              "      <td>False</td>\n",
              "      <td>False</td>\n",
              "      <td>False</td>\n",
              "      <td>True</td>\n",
              "      <td>True</td>\n",
              "      <td>True</td>\n",
              "      <td>False</td>\n",
              "      <td>False</td>\n",
              "      <td>True</td>\n",
              "      <td>True</td>\n",
              "    </tr>\n",
              "    <tr>\n",
              "      <th>512619</th>\n",
              "      <td>False</td>\n",
              "      <td>False</td>\n",
              "      <td>False</td>\n",
              "      <td>False</td>\n",
              "      <td>True</td>\n",
              "      <td>True</td>\n",
              "      <td>True</td>\n",
              "      <td>False</td>\n",
              "      <td>False</td>\n",
              "      <td>True</td>\n",
              "      <td>True</td>\n",
              "    </tr>\n",
              "    <tr>\n",
              "      <th>512620</th>\n",
              "      <td>False</td>\n",
              "      <td>False</td>\n",
              "      <td>False</td>\n",
              "      <td>False</td>\n",
              "      <td>True</td>\n",
              "      <td>True</td>\n",
              "      <td>True</td>\n",
              "      <td>False</td>\n",
              "      <td>False</td>\n",
              "      <td>True</td>\n",
              "      <td>True</td>\n",
              "    </tr>\n",
              "    <tr>\n",
              "      <th>512621</th>\n",
              "      <td>False</td>\n",
              "      <td>False</td>\n",
              "      <td>False</td>\n",
              "      <td>False</td>\n",
              "      <td>True</td>\n",
              "      <td>True</td>\n",
              "      <td>True</td>\n",
              "      <td>False</td>\n",
              "      <td>False</td>\n",
              "      <td>True</td>\n",
              "      <td>True</td>\n",
              "    </tr>\n",
              "  </tbody>\n",
              "</table>\n",
              "<p>512622 rows × 11 columns</p>\n",
              "</div>"
            ],
            "text/plain": [
              "          No.  announce_date  ...  province_of_onset  district_of_onset\n",
              "0       False          False  ...              False               True\n",
              "1       False          False  ...              False               True\n",
              "2       False          False  ...              False              False\n",
              "3       False          False  ...              False               True\n",
              "4       False          False  ...              False               True\n",
              "...       ...            ...  ...                ...                ...\n",
              "512617  False          False  ...               True               True\n",
              "512618  False          False  ...               True               True\n",
              "512619  False          False  ...               True               True\n",
              "512620  False          False  ...               True               True\n",
              "512621  False          False  ...               True               True\n",
              "\n",
              "[512622 rows x 11 columns]"
            ]
          },
          "metadata": {
            "tags": []
          },
          "execution_count": 454
        }
      ]
    },
    {
      "cell_type": "code",
      "metadata": {
        "colab": {
          "base_uri": "https://localhost:8080/"
        },
        "id": "noNVtcC_GfLd",
        "outputId": "ba711ece-540c-457e-cb42-0943a00b92b4"
      },
      "source": [
        "data_cases.isnull().any()#any สรุปข้อมูลเป็นราย column  #true คือเป็นค่า ที่ missing"
      ],
      "execution_count": 455,
      "outputs": [
        {
          "output_type": "execute_result",
          "data": {
            "text/plain": [
              "No.                      False\n",
              "announce_date            False\n",
              "Notified date             True\n",
              "sex                       True\n",
              "age                       True\n",
              "Unit                      True\n",
              "nationality               True\n",
              "province_of_isolation     True\n",
              "risk                      True\n",
              "province_of_onset         True\n",
              "district_of_onset         True\n",
              "dtype: bool"
            ]
          },
          "metadata": {
            "tags": []
          },
          "execution_count": 455
        }
      ]
    },
    {
      "cell_type": "markdown",
      "metadata": {
        "id": "W7SGHjgjHiZM"
      },
      "source": [
        "##Handling Missing Value 1 (ลบค่า missing)"
      ]
    },
    {
      "cell_type": "code",
      "metadata": {
        "colab": {
          "base_uri": "https://localhost:8080/",
          "height": 0
        },
        "id": "ramwflVvHEii",
        "outputId": "1be05ab7-4105-4c05-833a-6b6d9867edad"
      },
      "source": [
        "plt.boxplot(data_cases['age'].dropna())"
      ],
      "execution_count": 456,
      "outputs": [
        {
          "output_type": "execute_result",
          "data": {
            "text/plain": [
              "{'boxes': [<matplotlib.lines.Line2D at 0x7ff527d67110>],\n",
              " 'caps': [<matplotlib.lines.Line2D at 0x7ff527d6d110>,\n",
              "  <matplotlib.lines.Line2D at 0x7ff527d6d650>],\n",
              " 'fliers': [<matplotlib.lines.Line2D at 0x7ff527d75150>],\n",
              " 'means': [],\n",
              " 'medians': [<matplotlib.lines.Line2D at 0x7ff527d6dbd0>],\n",
              " 'whiskers': [<matplotlib.lines.Line2D at 0x7ff527d67650>,\n",
              "  <matplotlib.lines.Line2D at 0x7ff527d67b90>]}"
            ]
          },
          "metadata": {
            "tags": []
          },
          "execution_count": 456
        },
        {
          "output_type": "display_data",
          "data": {
            "image/png": "[encoded data removed]",
            "text/plain": [
              "<Figure size 432x288 with 1 Axes>"
            ]
          },
          "metadata": {
            "tags": [],
            "needs_background": "light"
          }
        }
      ]
    },
    {
      "cell_type": "code",
      "metadata": {
        "colab": {
          "base_uri": "https://localhost:8080/",
          "height": 0
        },
        "id": "G2E1_-VjDN_7",
        "outputId": "9b0f936a-5eee-49f2-baba-d7e2ced90489"
      },
      "source": [
        "data_cases.dropna()  #ลบแถวที่มี NAN อยู่ #ทำให้ข้อมูลหายไปเยอะ"
      ],
      "execution_count": 457,
      "outputs": [
        {
          "output_type": "execute_result",
          "data": {
            "text/html": [
              "<div>\n",
              "<style scoped>\n",
              "    .dataframe tbody tr th:only-of-type {\n",
              "        vertical-align: middle;\n",
              "    }\n",
              "\n",
              "    .dataframe tbody tr th {\n",
              "        vertical-align: top;\n",
              "    }\n",
              "\n",
              "    .dataframe thead th {\n",
              "        text-align: right;\n",
              "    }\n",
              "</style>\n",
              "<table border=\"1\" class=\"dataframe\">\n",
              "  <thead>\n",
              "    <tr style=\"text-align: right;\">\n",
              "      <th></th>\n",
              "      <th>No.</th>\n",
              "      <th>announce_date</th>\n",
              "      <th>Notified date</th>\n",
              "      <th>sex</th>\n",
              "      <th>age</th>\n",
              "      <th>Unit</th>\n",
              "      <th>nationality</th>\n",
              "      <th>province_of_isolation</th>\n",
              "      <th>risk</th>\n",
              "      <th>province_of_onset</th>\n",
              "      <th>district_of_onset</th>\n",
              "    </tr>\n",
              "  </thead>\n",
              "  <tbody>\n",
              "    <tr>\n",
              "      <th>47</th>\n",
              "      <td>48</td>\n",
              "      <td>6/3/2020</td>\n",
              "      <td>4/3/2020</td>\n",
              "      <td>ชาย</td>\n",
              "      <td>43.0</td>\n",
              "      <td>ปี</td>\n",
              "      <td>United Kingdom</td>\n",
              "      <td>กรุงเทพมหานคร</td>\n",
              "      <td>คนต่างชาติเดินทางมาจากต่างประเทศ</td>\n",
              "      <td>กรุงเทพมหานคร</td>\n",
              "      <td>คลองตัน</td>\n",
              "    </tr>\n",
              "    <tr>\n",
              "      <th>124</th>\n",
              "      <td>125</td>\n",
              "      <td>6/3/2021</td>\n",
              "      <td>5/3/2021</td>\n",
              "      <td>หญิง</td>\n",
              "      <td>55.0</td>\n",
              "      <td>ปี</td>\n",
              "      <td>Thailand</td>\n",
              "      <td>ปทุมธานี</td>\n",
              "      <td>Cluster ตลาดพรพัฒน์</td>\n",
              "      <td>ปทุมธานี</td>\n",
              "      <td>ธัญบุรี</td>\n",
              "    </tr>\n",
              "    <tr>\n",
              "      <th>161</th>\n",
              "      <td>162</td>\n",
              "      <td>17/3/2020</td>\n",
              "      <td>21/3/2020</td>\n",
              "      <td>ชาย</td>\n",
              "      <td>14.0</td>\n",
              "      <td>ปี</td>\n",
              "      <td>Thailand</td>\n",
              "      <td>สุราษฎร์ธานี</td>\n",
              "      <td>สัมผัสใกล้ชิดกับผู้ป่วยยืนยันรายก่อนหน้านี้</td>\n",
              "      <td>สุราษฎร์ธานี</td>\n",
              "      <td>เมือง</td>\n",
              "    </tr>\n",
              "    <tr>\n",
              "      <th>181</th>\n",
              "      <td>182</td>\n",
              "      <td>18/3/2020</td>\n",
              "      <td>15/3/2020</td>\n",
              "      <td>ชาย</td>\n",
              "      <td>33.0</td>\n",
              "      <td>ปี</td>\n",
              "      <td>Thailand</td>\n",
              "      <td>ขอนแก่น</td>\n",
              "      <td>สนามมวย</td>\n",
              "      <td>ขอนแก่น</td>\n",
              "      <td>เมือง</td>\n",
              "    </tr>\n",
              "    <tr>\n",
              "      <th>186</th>\n",
              "      <td>187</td>\n",
              "      <td>18/3/2020</td>\n",
              "      <td>16/3/2020</td>\n",
              "      <td>ชาย</td>\n",
              "      <td>36.0</td>\n",
              "      <td>ปี</td>\n",
              "      <td>Thailand</td>\n",
              "      <td>ร้อยเอ็ด</td>\n",
              "      <td>สนามมวย</td>\n",
              "      <td>ร้อยเอ็ด</td>\n",
              "      <td>เชียงขวัญ</td>\n",
              "    </tr>\n",
              "    <tr>\n",
              "      <th>...</th>\n",
              "      <td>...</td>\n",
              "      <td>...</td>\n",
              "      <td>...</td>\n",
              "      <td>...</td>\n",
              "      <td>...</td>\n",
              "      <td>...</td>\n",
              "      <td>...</td>\n",
              "      <td>...</td>\n",
              "      <td>...</td>\n",
              "      <td>...</td>\n",
              "      <td>...</td>\n",
              "    </tr>\n",
              "    <tr>\n",
              "      <th>511575</th>\n",
              "      <td>511576</td>\n",
              "      <td>26/7/2021</td>\n",
              "      <td>25/7/2021</td>\n",
              "      <td>ชาย</td>\n",
              "      <td>50.0</td>\n",
              "      <td>ปี</td>\n",
              "      <td>Thailand</td>\n",
              "      <td>กรุงเทพมหานคร</td>\n",
              "      <td>การค้นหาผู้ป่วยเชิงรุกและค้นหาผู้ติดเชื้อในชุมชน</td>\n",
              "      <td>กรุงเทพมหานคร</td>\n",
              "      <td>มีนบุรี</td>\n",
              "    </tr>\n",
              "    <tr>\n",
              "      <th>511577</th>\n",
              "      <td>511578</td>\n",
              "      <td>26/7/2021</td>\n",
              "      <td>25/7/2021</td>\n",
              "      <td>หญิง</td>\n",
              "      <td>42.0</td>\n",
              "      <td>ปี</td>\n",
              "      <td>Thailand</td>\n",
              "      <td>กรุงเทพมหานคร</td>\n",
              "      <td>การค้นหาผู้ป่วยเชิงรุกและค้นหาผู้ติดเชื้อในชุมชน</td>\n",
              "      <td>กรุงเทพมหานคร</td>\n",
              "      <td>บางบอน</td>\n",
              "    </tr>\n",
              "    <tr>\n",
              "      <th>511578</th>\n",
              "      <td>511579</td>\n",
              "      <td>26/7/2021</td>\n",
              "      <td>25/7/2021</td>\n",
              "      <td>ชาย</td>\n",
              "      <td>32.0</td>\n",
              "      <td>ปี</td>\n",
              "      <td>Thailand</td>\n",
              "      <td>กรุงเทพมหานคร</td>\n",
              "      <td>การค้นหาผู้ป่วยเชิงรุกและค้นหาผู้ติดเชื้อในชุมชน</td>\n",
              "      <td>กรุงเทพมหานคร</td>\n",
              "      <td>ทุ่งครุ</td>\n",
              "    </tr>\n",
              "    <tr>\n",
              "      <th>511579</th>\n",
              "      <td>511580</td>\n",
              "      <td>26/7/2021</td>\n",
              "      <td>25/7/2021</td>\n",
              "      <td>ชาย</td>\n",
              "      <td>37.0</td>\n",
              "      <td>ปี</td>\n",
              "      <td>Thailand</td>\n",
              "      <td>กรุงเทพมหานคร</td>\n",
              "      <td>การค้นหาผู้ป่วยเชิงรุกและค้นหาผู้ติดเชื้อในชุมชน</td>\n",
              "      <td>กรุงเทพมหานคร</td>\n",
              "      <td>พญาไท</td>\n",
              "    </tr>\n",
              "    <tr>\n",
              "      <th>511580</th>\n",
              "      <td>511581</td>\n",
              "      <td>26/7/2021</td>\n",
              "      <td>25/7/2021</td>\n",
              "      <td>ชาย</td>\n",
              "      <td>44.0</td>\n",
              "      <td>ปี</td>\n",
              "      <td>Thailand</td>\n",
              "      <td>กรุงเทพมหานคร</td>\n",
              "      <td>การค้นหาผู้ป่วยเชิงรุกและค้นหาผู้ติดเชื้อในชุมชน</td>\n",
              "      <td>กรุงเทพมหานคร</td>\n",
              "      <td>มีนบุรี</td>\n",
              "    </tr>\n",
              "  </tbody>\n",
              "</table>\n",
              "<p>362205 rows × 11 columns</p>\n",
              "</div>"
            ],
            "text/plain": [
              "           No. announce_date  ... province_of_onset district_of_onset\n",
              "47          48      6/3/2020  ...     กรุงเทพมหานคร           คลองตัน\n",
              "124        125      6/3/2021  ...          ปทุมธานี           ธัญบุรี\n",
              "161        162     17/3/2020  ...      สุราษฎร์ธานี             เมือง\n",
              "181        182     18/3/2020  ...           ขอนแก่น             เมือง\n",
              "186        187     18/3/2020  ...          ร้อยเอ็ด         เชียงขวัญ\n",
              "...        ...           ...  ...               ...               ...\n",
              "511575  511576     26/7/2021  ...     กรุงเทพมหานคร           มีนบุรี\n",
              "511577  511578     26/7/2021  ...     กรุงเทพมหานคร            บางบอน\n",
              "511578  511579     26/7/2021  ...     กรุงเทพมหานคร           ทุ่งครุ\n",
              "511579  511580     26/7/2021  ...     กรุงเทพมหานคร             พญาไท\n",
              "511580  511581     26/7/2021  ...     กรุงเทพมหานคร           มีนบุรี\n",
              "\n",
              "[362205 rows x 11 columns]"
            ]
          },
          "metadata": {
            "tags": []
          },
          "execution_count": 457
        }
      ]
    },
    {
      "cell_type": "code",
      "metadata": {
        "colab": {
          "base_uri": "https://localhost:8080/"
        },
        "id": "_8k6AZK0NFL7",
        "outputId": "e5ecdb8a-677f-4767-bb1a-dbce99970cb7"
      },
      "source": [
        "data_cases.dropna().shape  #แถว,หลัก"
      ],
      "execution_count": 458,
      "outputs": [
        {
          "output_type": "execute_result",
          "data": {
            "text/plain": [
              "(362205, 11)"
            ]
          },
          "metadata": {
            "tags": []
          },
          "execution_count": 458
        }
      ]
    },
    {
      "cell_type": "code",
      "metadata": {
        "colab": {
          "base_uri": "https://localhost:8080/"
        },
        "id": "xTuHxIcoPIJX",
        "outputId": "e3291633-5736-4308-edeb-fe6980746f6b"
      },
      "source": [
        "data_cases.dropna().shape[0]"
      ],
      "execution_count": 459,
      "outputs": [
        {
          "output_type": "execute_result",
          "data": {
            "text/plain": [
              "362205"
            ]
          },
          "metadata": {
            "tags": []
          },
          "execution_count": 459
        }
      ]
    },
    {
      "cell_type": "markdown",
      "metadata": {
        "id": "qOyOOOPFKXW3"
      },
      "source": [
        "###Quiz 3 ให้หาว่าการทำ dropna() ทำให้ข้อมูลหายไปกี่ %\n",
        "\n",
        "size before drop = 1000\n",
        "\n",
        "size after drop = 10\n",
        "\n",
        "we loss 99% of data"
      ]
    },
    {
      "cell_type": "code",
      "metadata": {
        "colab": {
          "base_uri": "https://localhost:8080/"
        },
        "id": "VwhzBjp1Q2-A",
        "outputId": "674189d0-f8bb-4b46-a294-16b9b783a885"
      },
      "source": [
        "removed = data_cases.shape[0] - data_cases.dropna().shape[0]\n",
        "\n",
        "print(f'size before drop = {data_cases.shape[0]}')\n",
        "print(f'size after drop = {data_cases.dropna().shape[0]}')\n",
        "print(f'we lost {100*(removed/data_cases.shape[0])}% of data')"
      ],
      "execution_count": 460,
      "outputs": [
        {
          "output_type": "stream",
          "text": [
            "size before drop = 512622\n",
            "size after drop = 362205\n",
            "we lost 29.342673548930794% of data\n"
          ],
          "name": "stdout"
        }
      ]
    },
    {
      "cell_type": "markdown",
      "metadata": {
        "id": "dzFOAX-VZwSB"
      },
      "source": [
        "จบ quiz"
      ]
    },
    {
      "cell_type": "markdown",
      "metadata": {
        "id": "SENubN3-Z4jE"
      },
      "source": [
        "##Handling Missing Value 1.5 (ลบค่า missing เฉพาะใน column ที่เราสนใจ)"
      ]
    },
    {
      "cell_type": "code",
      "metadata": {
        "id": "9w_EE9gwO3h7"
      },
      "source": [
        "data_cases_nomissingAge = data_cases.dropna(subset=['age'])  #missing ลบเฉพาะที่ไม่มี age"
      ],
      "execution_count": 461,
      "outputs": []
    },
    {
      "cell_type": "code",
      "metadata": {
        "colab": {
          "base_uri": "https://localhost:8080/",
          "height": 0
        },
        "id": "FGTXU1PxPPBB",
        "outputId": "45e90868-6fcb-44f1-9697-cab3ac9530b1"
      },
      "source": [
        "plt.boxplot(data_cases_nomissingAge['age'])"
      ],
      "execution_count": 462,
      "outputs": [
        {
          "output_type": "execute_result",
          "data": {
            "text/plain": [
              "{'boxes': [<matplotlib.lines.Line2D at 0x7ff527cd1490>],\n",
              " 'caps': [<matplotlib.lines.Line2D at 0x7ff527cd7490>,\n",
              "  <matplotlib.lines.Line2D at 0x7ff527cd79d0>],\n",
              " 'fliers': [<matplotlib.lines.Line2D at 0x7ff527cde4d0>],\n",
              " 'means': [],\n",
              " 'medians': [<matplotlib.lines.Line2D at 0x7ff527cd7f50>],\n",
              " 'whiskers': [<matplotlib.lines.Line2D at 0x7ff527cd19d0>,\n",
              "  <matplotlib.lines.Line2D at 0x7ff527cd1f10>]}"
            ]
          },
          "metadata": {
            "tags": []
          },
          "execution_count": 462
        },
        {
          "output_type": "display_data",
          "data": {
            "image/png": "[encoded data removed]",
            "text/plain": [
              "<Figure size 432x288 with 1 Axes>"
            ]
          },
          "metadata": {
            "tags": [],
            "needs_background": "light"
          }
        }
      ]
    },
    {
      "cell_type": "markdown",
      "metadata": {
        "id": "Ju1ndE5wP2kY"
      },
      "source": [
        "Quiz 3.1 ให้หาว่า  ให้หาว่าการทำ dropna() แบบเลือก drop เฉพาะ column ที่เราสนใจ(age) ทำให้ข้อมูลหายไปกี่ %"
      ]
    },
    {
      "cell_type": "code",
      "metadata": {
        "colab": {
          "base_uri": "https://localhost:8080/"
        },
        "id": "94BD6M5oRDRG",
        "outputId": "5b9813c7-3e9b-4774-c9aa-c708286f93b0"
      },
      "source": [
        "removed = data_cases.shape[0] - data_cases.dropna().shape[0]\n",
        "print(f'size before drop = {data_cases_nomissingAge.shape[0]}')\n",
        "print(f'size after drop = {data_cases_nomissingAge.shape[0]}')\n",
        "print(f'we lost {100*(removed/data_cases_nomissingAge.shape[0])}% of data')"
      ],
      "execution_count": 463,
      "outputs": [
        {
          "output_type": "stream",
          "text": [
            "size before drop = 462839\n",
            "size after drop = 462839\n",
            "we lost 32.49877387169188% of data\n"
          ],
          "name": "stdout"
        }
      ]
    },
    {
      "cell_type": "markdown",
      "metadata": {
        "id": "ZNZfHh31TrW4"
      },
      "source": [
        "แก้ Quiz"
      ]
    },
    {
      "cell_type": "code",
      "metadata": {
        "id": "6odmuGYxRD3B",
        "colab": {
          "base_uri": "https://localhost:8080/"
        },
        "outputId": "71ecf98e-2031-470e-a0ab-3640bc1de48e"
      },
      "source": [
        "removed = data_cases.shape[0] - data_cases_nomissingAge.shape[0]\n",
        "\n",
        "print(f'size before drop = {data_cases.shape[0]}')\n",
        "print(f'size after drop = {data_cases_nomissingAge.shape[0]}')\n",
        "print(f'we lost {100*(removed/data_cases.shape[0])}% of data')"
      ],
      "execution_count": 464,
      "outputs": [
        {
          "output_type": "stream",
          "text": [
            "size before drop = 512622\n",
            "size after drop = 462839\n",
            "we lost 9.711444300088564% of data\n"
          ],
          "name": "stdout"
        }
      ]
    },
    {
      "cell_type": "markdown",
      "metadata": {
        "id": "AZWPplZ3VnEt"
      },
      "source": [
        "##Handling Missing Value 2 (แทนด้วย class ใหม่ (unknow))"
      ]
    },
    {
      "cell_type": "code",
      "metadata": {
        "id": "cxigW80PaG7h",
        "colab": {
          "base_uri": "https://localhost:8080/",
          "height": 0
        },
        "outputId": "bbc77fab-8e6f-45f7-c6f6-779ef28e368d"
      },
      "source": [
        "data_cases"
      ],
      "execution_count": 465,
      "outputs": [
        {
          "output_type": "execute_result",
          "data": {
            "text/html": [
              "<div>\n",
              "<style scoped>\n",
              "    .dataframe tbody tr th:only-of-type {\n",
              "        vertical-align: middle;\n",
              "    }\n",
              "\n",
              "    .dataframe tbody tr th {\n",
              "        vertical-align: top;\n",
              "    }\n",
              "\n",
              "    .dataframe thead th {\n",
              "        text-align: right;\n",
              "    }\n",
              "</style>\n",
              "<table border=\"1\" class=\"dataframe\">\n",
              "  <thead>\n",
              "    <tr style=\"text-align: right;\">\n",
              "      <th></th>\n",
              "      <th>No.</th>\n",
              "      <th>announce_date</th>\n",
              "      <th>Notified date</th>\n",
              "      <th>sex</th>\n",
              "      <th>age</th>\n",
              "      <th>Unit</th>\n",
              "      <th>nationality</th>\n",
              "      <th>province_of_isolation</th>\n",
              "      <th>risk</th>\n",
              "      <th>province_of_onset</th>\n",
              "      <th>district_of_onset</th>\n",
              "    </tr>\n",
              "  </thead>\n",
              "  <tbody>\n",
              "    <tr>\n",
              "      <th>0</th>\n",
              "      <td>1</td>\n",
              "      <td>12/1/2020</td>\n",
              "      <td>NaN</td>\n",
              "      <td>หญิง</td>\n",
              "      <td>61.0</td>\n",
              "      <td>ปี</td>\n",
              "      <td>China</td>\n",
              "      <td>กรุงเทพมหานคร</td>\n",
              "      <td>คนต่างชาติเดินทางมาจากต่างประเทศ</td>\n",
              "      <td>กรุงเทพมหานคร</td>\n",
              "      <td>NaN</td>\n",
              "    </tr>\n",
              "    <tr>\n",
              "      <th>1</th>\n",
              "      <td>2</td>\n",
              "      <td>17/1/2020</td>\n",
              "      <td>NaN</td>\n",
              "      <td>หญิง</td>\n",
              "      <td>74.0</td>\n",
              "      <td>ปี</td>\n",
              "      <td>China</td>\n",
              "      <td>กรุงเทพมหานคร</td>\n",
              "      <td>คนต่างชาติเดินทางมาจากต่างประเทศ</td>\n",
              "      <td>กรุงเทพมหานคร</td>\n",
              "      <td>NaN</td>\n",
              "    </tr>\n",
              "    <tr>\n",
              "      <th>2</th>\n",
              "      <td>3</td>\n",
              "      <td>22/1/2020</td>\n",
              "      <td>NaN</td>\n",
              "      <td>หญิง</td>\n",
              "      <td>73.0</td>\n",
              "      <td>ปี</td>\n",
              "      <td>Thailand</td>\n",
              "      <td>นครปฐม</td>\n",
              "      <td>คนต่างชาติเดินทางมาจากต่างประเทศ</td>\n",
              "      <td>นครปฐม</td>\n",
              "      <td>เมือง</td>\n",
              "    </tr>\n",
              "    <tr>\n",
              "      <th>3</th>\n",
              "      <td>4</td>\n",
              "      <td>22/1/2020</td>\n",
              "      <td>NaN</td>\n",
              "      <td>ชาย</td>\n",
              "      <td>68.0</td>\n",
              "      <td>ปี</td>\n",
              "      <td>China</td>\n",
              "      <td>กรุงเทพมหานคร</td>\n",
              "      <td>คนต่างชาติเดินทางมาจากต่างประเทศ</td>\n",
              "      <td>กรุงเทพมหานคร</td>\n",
              "      <td>NaN</td>\n",
              "    </tr>\n",
              "    <tr>\n",
              "      <th>4</th>\n",
              "      <td>5</td>\n",
              "      <td>24/1/2020</td>\n",
              "      <td>NaN</td>\n",
              "      <td>หญิง</td>\n",
              "      <td>66.0</td>\n",
              "      <td>ปี</td>\n",
              "      <td>China</td>\n",
              "      <td>นนทบุรี</td>\n",
              "      <td>คนต่างชาติเดินทางมาจากต่างประเทศ</td>\n",
              "      <td>กรุงเทพมหานคร</td>\n",
              "      <td>NaN</td>\n",
              "    </tr>\n",
              "    <tr>\n",
              "      <th>...</th>\n",
              "      <td>...</td>\n",
              "      <td>...</td>\n",
              "      <td>...</td>\n",
              "      <td>...</td>\n",
              "      <td>...</td>\n",
              "      <td>...</td>\n",
              "      <td>...</td>\n",
              "      <td>...</td>\n",
              "      <td>...</td>\n",
              "      <td>...</td>\n",
              "      <td>...</td>\n",
              "    </tr>\n",
              "    <tr>\n",
              "      <th>512617</th>\n",
              "      <td>512618</td>\n",
              "      <td>26/7/2021</td>\n",
              "      <td>25/7/2021</td>\n",
              "      <td>ชาย</td>\n",
              "      <td>NaN</td>\n",
              "      <td>NaN</td>\n",
              "      <td>NaN</td>\n",
              "      <td>ชลบุรี</td>\n",
              "      <td>ทัณฑสถาน/เรือนจำ</td>\n",
              "      <td>NaN</td>\n",
              "      <td>NaN</td>\n",
              "    </tr>\n",
              "    <tr>\n",
              "      <th>512618</th>\n",
              "      <td>512619</td>\n",
              "      <td>26/7/2021</td>\n",
              "      <td>25/7/2021</td>\n",
              "      <td>ชาย</td>\n",
              "      <td>NaN</td>\n",
              "      <td>NaN</td>\n",
              "      <td>NaN</td>\n",
              "      <td>ชลบุรี</td>\n",
              "      <td>ทัณฑสถาน/เรือนจำ</td>\n",
              "      <td>NaN</td>\n",
              "      <td>NaN</td>\n",
              "    </tr>\n",
              "    <tr>\n",
              "      <th>512619</th>\n",
              "      <td>512620</td>\n",
              "      <td>26/7/2021</td>\n",
              "      <td>25/7/2021</td>\n",
              "      <td>ชาย</td>\n",
              "      <td>NaN</td>\n",
              "      <td>NaN</td>\n",
              "      <td>NaN</td>\n",
              "      <td>ชลบุรี</td>\n",
              "      <td>ทัณฑสถาน/เรือนจำ</td>\n",
              "      <td>NaN</td>\n",
              "      <td>NaN</td>\n",
              "    </tr>\n",
              "    <tr>\n",
              "      <th>512620</th>\n",
              "      <td>512621</td>\n",
              "      <td>26/7/2021</td>\n",
              "      <td>25/7/2021</td>\n",
              "      <td>ชาย</td>\n",
              "      <td>NaN</td>\n",
              "      <td>NaN</td>\n",
              "      <td>NaN</td>\n",
              "      <td>ชลบุรี</td>\n",
              "      <td>ทัณฑสถาน/เรือนจำ</td>\n",
              "      <td>NaN</td>\n",
              "      <td>NaN</td>\n",
              "    </tr>\n",
              "    <tr>\n",
              "      <th>512621</th>\n",
              "      <td>512622</td>\n",
              "      <td>26/7/2021</td>\n",
              "      <td>25/7/2021</td>\n",
              "      <td>ชาย</td>\n",
              "      <td>NaN</td>\n",
              "      <td>NaN</td>\n",
              "      <td>NaN</td>\n",
              "      <td>ชลบุรี</td>\n",
              "      <td>ทัณฑสถาน/เรือนจำ</td>\n",
              "      <td>NaN</td>\n",
              "      <td>NaN</td>\n",
              "    </tr>\n",
              "  </tbody>\n",
              "</table>\n",
              "<p>512622 rows × 11 columns</p>\n",
              "</div>"
            ],
            "text/plain": [
              "           No. announce_date  ... province_of_onset district_of_onset\n",
              "0            1     12/1/2020  ...     กรุงเทพมหานคร               NaN\n",
              "1            2     17/1/2020  ...     กรุงเทพมหานคร               NaN\n",
              "2            3     22/1/2020  ...            นครปฐม             เมือง\n",
              "3            4     22/1/2020  ...     กรุงเทพมหานคร               NaN\n",
              "4            5     24/1/2020  ...     กรุงเทพมหานคร               NaN\n",
              "...        ...           ...  ...               ...               ...\n",
              "512617  512618     26/7/2021  ...               NaN               NaN\n",
              "512618  512619     26/7/2021  ...               NaN               NaN\n",
              "512619  512620     26/7/2021  ...               NaN               NaN\n",
              "512620  512621     26/7/2021  ...               NaN               NaN\n",
              "512621  512622     26/7/2021  ...               NaN               NaN\n",
              "\n",
              "[512622 rows x 11 columns]"
            ]
          },
          "metadata": {
            "tags": []
          },
          "execution_count": 465
        }
      ]
    },
    {
      "cell_type": "code",
      "metadata": {
        "id": "LYfOKnSiUHzj"
      },
      "source": [
        "data_cases[['risk']] = data_cases[['risk']].fillna('ไม่มีข้อมูล')"
      ],
      "execution_count": 466,
      "outputs": []
    },
    {
      "cell_type": "code",
      "metadata": {
        "id": "gClNDPCdaSnu",
        "colab": {
          "base_uri": "https://localhost:8080/"
        },
        "outputId": "db47448a-8d5a-4771-df32-e8057554dd69"
      },
      "source": [
        "set(data_cases['risk'])"
      ],
      "execution_count": 467,
      "outputs": [
        {
          "output_type": "execute_result",
          "data": {
            "text/plain": [
              "{'2.สัมผัสผู้ติดเชื้อ',\n",
              " 'ACF รองเมือง',\n",
              " 'ACF สนามกีฬาธูปะเตมีย์',\n",
              " 'ACF สนามกีฬาไทย-ญี่ปุ่น',\n",
              " 'ACF สีลม',\n",
              " 'ACF เคหะหลักสี่',\n",
              " 'Cluster Icon siam',\n",
              " \"Cluster Memory 90's กรุงเทพมหานคร\",\n",
              " 'Cluster New Jazz กรุงเทพมหานคร',\n",
              " 'Cluster The Lounge Salaya',\n",
              " 'Cluster กรุงเทพมหานคร. คลองเตย',\n",
              " 'Cluster คลองเตย',\n",
              " 'Cluster งานมอเตอร์ โชว์',\n",
              " 'Cluster จนท. สนามบินสุวรรณภูมิ',\n",
              " 'Cluster จันทบุรี',\n",
              " 'Cluster จันทบุรี (ชาวกินี )',\n",
              " 'Cluster จันทบุรี (ชาวกินี)',\n",
              " 'Cluster ชลบุรี',\n",
              " 'Cluster ชลบุรี บริษัทไดกิ้น',\n",
              " 'Cluster ชลบุรี โรงเบียร์ 90',\n",
              " 'Cluster ตราด',\n",
              " 'Cluster ตราด ',\n",
              " 'Cluster ตลาดนนทบุรี',\n",
              " 'Cluster ตลาดบางพลี',\n",
              " 'Cluster ตลาดบางแค',\n",
              " 'Cluster ตลาดบางแค/คลองขวาง',\n",
              " 'Cluster ตลาดพรพัฒน์',\n",
              " 'Cluster ตลาดสี่มุมเมือง',\n",
              " 'Cluster ทัณฑสถานหญิงกลาง',\n",
              " 'Cluster ทัณฑสถานโรงพยาบาลราชทัณฑ์',\n",
              " 'Cluster ทันฑสถานบำบัดพิเศษกลาง',\n",
              " 'Cluster บริษัทศรีสวัสดิ์',\n",
              " 'Cluster บางแค',\n",
              " 'Cluster บ่อนพัทยา/ชลบุรี',\n",
              " 'Cluster บ่อนเทพารักษ์',\n",
              " 'Cluster บ่อนไก่อ่างทอง',\n",
              " 'Cluster ปากช่อง',\n",
              " 'Cluster ผับ Thonglor',\n",
              " 'Cluster มหาสารคาม',\n",
              " 'Cluster ระยอง',\n",
              " 'Cluster ระยอง วิริยะประกันภัย',\n",
              " 'Cluster สถานบันเทิงย่านทองหล่อ',\n",
              " 'Cluster สมุทรปราการ (โรงงาน บริษัทเมทัล โปรดักส์)',\n",
              " 'Cluster สมุทรปราการ GRP Hightech',\n",
              " 'Cluster สมุทรปราการ ตลาดเคหะบางพลี',\n",
              " 'Cluster สมุทรสาคร',\n",
              " 'Cluster ห้างแสงทอง (สายล่าง)',\n",
              " 'Cluster เครือคัสเซ่อร์พีคโฮลดิ้ง (CPG,CPH)',\n",
              " 'Cluster เรือนจำกลางคลองเปรม',\n",
              " 'Cluster เรือนจำพิเศษกรุงเทพ',\n",
              " 'Cluster เรือนจำพิเศษธนบุรี',\n",
              " 'Cluster เรือนจำพิเศษมีนบุรี',\n",
              " 'Cluster โรงงาน  Big Star',\n",
              " 'Cluster โรงงาน Big Star',\n",
              " 'Cluster โรงงาน QPP ประจวบฯ',\n",
              " 'Cluster โรงงาน standard can',\n",
              " 'Cluster โรงงานทำขนม บางขุนเทียน',\n",
              " 'Refer in',\n",
              " 'SHUI',\n",
              " 'Sandbox',\n",
              " 'State Quarantine',\n",
              " 'cluster ชลบุรี\\n(อยู่ระหว่างการสอบสวน)',\n",
              " 'การค้นหาผู้ป่วยเชิงรุกและค้นหาผู้ติดเชื้อในชุมชน',\n",
              " 'คนต่างชาติเดินทางมาจากต่างประเทศ',\n",
              " 'คนไทยมาจากพื้นที่เสี่ยง',\n",
              " 'คนไทยเดินทางกลับจากต่างประเทศ',\n",
              " 'คนไทยเดินทางมาจากต่างประเทศ',\n",
              " 'ค้นหาเชิงรุก',\n",
              " 'ตรวจก่อนทำหัตถการ',\n",
              " 'ตรวจสุขภาพแรงงานต่างด้าว',\n",
              " 'ตลาด',\n",
              " 'ทัณฑสถาน/เรือนจำ',\n",
              " 'บุคลากรด้านการแพทย์และสาธารณสุข',\n",
              " 'ปอดอักเสบ (Pneumonia)',\n",
              " 'ปอดอักเสบ Pneumonia',\n",
              " 'ผับหัวหิน',\n",
              " 'ผู้ติดเชื้อในประเทศ',\n",
              " 'ผู้ที่เดินทางมาจากต่างประเทศ และเข้า AOQ',\n",
              " 'ผู้ที่เดินทางมาจากต่างประเทศ และเข้า ASQ/ALQ',\n",
              " 'ผู้ที่เดินทางมาจากต่างประเทศ และเข้า HQ/AHQ',\n",
              " 'ผู้ที่เดินทางมาจากต่างประเทศ และเข้า OQ',\n",
              " 'ผู้ป่วย PUI',\n",
              " 'ผู้ป่วย กรุงเทพมหานคร',\n",
              " 'ผู้เดินทางมาจากพื้นที่เสี่ยง กรุงเทพมหานคร.',\n",
              " 'พิธีกรรมทางศาสนา',\n",
              " 'รอประสาน',\n",
              " 'ระบุไม่ได้',\n",
              " 'ระหว่างการสอบสวนโรค',\n",
              " 'ระหว่างสอบสวน',\n",
              " 'รับจ้างขนของที่ตลาดท่ายาง',\n",
              " 'ร้านอาหาร',\n",
              " 'ศูนย์กักกัน ผู้ต้องกัก',\n",
              " 'สถานที่ทำงาน',\n",
              " 'สถานบันเทิง',\n",
              " 'สนามมวย',\n",
              " 'สัมผัสผู้ติดเชื้อยืนยัน\\nอยู่ระหว่างสอบสวน',\n",
              " 'สัมผัสผู้ติดเชื้อยืนยัน อยู่ระหว่างสอบสวน',\n",
              " 'สัมผัสผู้ป่วยที่ติดโควิด',\n",
              " 'สัมผัสผู้ป่วยยืนยัน',\n",
              " 'สัมผัสผู้ป่วยยืนยัน \\n อยู่ระหว่างสอบสวน',\n",
              " 'สัมผัสผู้ป่วยยืนยัน (ยังไม่สามารถระบุได้)',\n",
              " 'สัมผัสผู้ป่วยยืนยัน ภายในครอบครัว/ชุมชน/เพื่อน',\n",
              " 'สัมผัสผู้ป่วยยืนยัน อยุ๋ระหว่างสอบสวน',\n",
              " 'สัมผัสผู้ป่วยยืนยัน อยู่ระหว่างสอบสวน',\n",
              " 'สัมผัสผู้ป่วยยืนยันเพื่อนร่วมงาน',\n",
              " 'สัมผัสผู้เดินทางจากต่างประเทศ',\n",
              " 'สัมผัสสามีสะอาด เขตบ้าน (รพ.มหาชัย 2)',\n",
              " 'สัมผัสใกล้ชิดกับผู้ป่วยยืนยันรายก่อนหน้านี้',\n",
              " 'สัมผัสใกล้ชิดผู้ป่วยยันยันก่อนหน้า',\n",
              " 'สัมผัสใกล้ชิดผู้ป่วยยืนยันก่อนหน้า',\n",
              " 'สัมผัสในสถานพยาบาล',\n",
              " 'อยุ่ระหว่างสอบสวน',\n",
              " 'อยู่ระหว่างการสอบสวน',\n",
              " 'อยู่ระหว่างการสอบสวน\\n',\n",
              " 'อยู่ระหว่างสอบสวน',\n",
              " 'อยู่ระหว่างสอบสวนโรค',\n",
              " 'อาชีพเสี่ยง เช่น ทำงานในสถานที่แออัด หรือทำงานใกล้ชิดสัมผัสชาวต่างชาติ เป็นต้น',\n",
              " 'อาศัย/เดินทางไปในพื้นที่ที่มีการระบาด',\n",
              " 'อื่น',\n",
              " 'อื่นๆ',\n",
              " 'เดินทางมาจากพื้นที่จังหวัดเสี่ยง',\n",
              " 'เดินทางมาจากพื้นที่มีการระบาดของโรค',\n",
              " 'เดินทางมาจากพื้นที่เสี่ยงที่มีการระบาดของโรค',\n",
              " 'แรงงานต่างด้าวตรวจก่อนขึ้นทะเบียน',\n",
              " 'ไปยัง/มาจาก พื้นที่ระบาดกรุงเทพมหานครมหานคร',\n",
              " 'ไปยังพื้นที่ที่มีการระบาด',\n",
              " 'ไปสถานที่ชุมชน เช่น ตลาดนัด สถานที่ท่องเที่ยว',\n",
              " 'ไปสถานที่เสี่ยง เช่น ตลาด สถานที่ชุมชน',\n",
              " 'ไปสถานที่แออัด เช่น งานแฟร์ คอนเสิร์ต',\n",
              " 'ไปเที่ยวสถานบันเทิงในอุบลที่พบการระบาดของโรค Ubar',\n",
              " 'ไปแหล่งชุมชน/สถานที่คนหนาแน่น',\n",
              " 'ไม่มีข้อมูล'}"
            ]
          },
          "metadata": {
            "tags": []
          },
          "execution_count": 467
        }
      ]
    },
    {
      "cell_type": "markdown",
      "metadata": {
        "id": "vl5LKwjnTv6J"
      },
      "source": [
        "##Handling Missing Value 3 (แทนด้วย class ใหม่ (ค่าที่เหมาะสม))\n",
        "\n"
      ]
    },
    {
      "cell_type": "code",
      "metadata": {
        "id": "NTxIGJrbabG1",
        "colab": {
          "base_uri": "https://localhost:8080/"
        },
        "outputId": "899e08ec-27f9-4345-c8d0-4d11105a6cfb"
      },
      "source": [
        "set(data_cases['Unit'])"
      ],
      "execution_count": 468,
      "outputs": [
        {
          "output_type": "execute_result",
          "data": {
            "text/plain": [
              "{' วัน', ' เดือน', nan, 'ปี', 'วัน', 'เดือน'}"
            ]
          },
          "metadata": {
            "tags": []
          },
          "execution_count": 468
        }
      ]
    },
    {
      "cell_type": "code",
      "metadata": {
        "id": "LTtCDjthag5I"
      },
      "source": [
        "data_cases[['Unit']] = data_cases[['Unit']].fillna('ปี?')"
      ],
      "execution_count": 469,
      "outputs": []
    },
    {
      "cell_type": "code",
      "metadata": {
        "id": "uTK0fR0NajFP",
        "colab": {
          "base_uri": "https://localhost:8080/"
        },
        "outputId": "e8bbee6c-6ec7-483f-dd66-b6c2f9d9180b"
      },
      "source": [
        "data_cases.isnull().any()"
      ],
      "execution_count": 470,
      "outputs": [
        {
          "output_type": "execute_result",
          "data": {
            "text/plain": [
              "No.                      False\n",
              "announce_date            False\n",
              "Notified date             True\n",
              "sex                       True\n",
              "age                       True\n",
              "Unit                     False\n",
              "nationality               True\n",
              "province_of_isolation     True\n",
              "risk                     False\n",
              "province_of_onset         True\n",
              "district_of_onset         True\n",
              "dtype: bool"
            ]
          },
          "metadata": {
            "tags": []
          },
          "execution_count": 470
        }
      ]
    },
    {
      "cell_type": "markdown",
      "metadata": {
        "id": "74YHGQe0G00P"
      },
      "source": [
        "Handling Missing Value 4 (แทนด้วยค่ากลาง)"
      ]
    },
    {
      "cell_type": "markdown",
      "metadata": {
        "id": "aM2OVfiJHCMd"
      },
      "source": [
        "ถ้าเป็น numeric ใช้  mean"
      ]
    },
    {
      "cell_type": "code",
      "metadata": {
        "id": "bnVtFoE5alfU",
        "colab": {
          "base_uri": "https://localhost:8080/"
        },
        "outputId": "f6e67693-cdce-41e3-8fc5-4b275b94ca0c"
      },
      "source": [
        "#หา mean\n",
        "data_cases[['age']].mean()  #อยากหา mean คอลัมน์ age\n",
        "#เติม mean ลงไปแทนค่า missing"
      ],
      "execution_count": 471,
      "outputs": [
        {
          "output_type": "execute_result",
          "data": {
            "text/plain": [
              "age    35.52947\n",
              "dtype: float64"
            ]
          },
          "metadata": {
            "tags": []
          },
          "execution_count": 471
        }
      ]
    },
    {
      "cell_type": "code",
      "metadata": {
        "colab": {
          "base_uri": "https://localhost:8080/"
        },
        "id": "JFT2IdJGJUH6",
        "outputId": "88b509dd-577d-42fd-f180-d1e57510ff40"
      },
      "source": [
        "data_cases[['age']].dropna().mean()  #ลบค่าว่างทิ้งไป แล้วค่อยหา mean"
      ],
      "execution_count": 472,
      "outputs": [
        {
          "output_type": "execute_result",
          "data": {
            "text/plain": [
              "age    35.52947\n",
              "dtype: float64"
            ]
          },
          "metadata": {
            "tags": []
          },
          "execution_count": 472
        }
      ]
    },
    {
      "cell_type": "code",
      "metadata": {
        "id": "L4P6EIrAaP5Z"
      },
      "source": [
        "# หา mean\n",
        "avg_age = data_cases[['age']].mean()\n",
        "# เติม mean ลงไปแทนค่า missing โดยใช้ fillna\n",
        "data_cases[['age']] = data_cases[['age']].fillna(avg_age)"
      ],
      "execution_count": 473,
      "outputs": []
    },
    {
      "cell_type": "code",
      "metadata": {
        "colab": {
          "base_uri": "https://localhost:8080/"
        },
        "id": "RUG7BT1lKUo2",
        "outputId": "f6ac489e-3878-4992-f5db-0e3e5b5a6172"
      },
      "source": [
        "data_cases.isnull().any()"
      ],
      "execution_count": 474,
      "outputs": [
        {
          "output_type": "execute_result",
          "data": {
            "text/plain": [
              "No.                      False\n",
              "announce_date            False\n",
              "Notified date             True\n",
              "sex                       True\n",
              "age                      False\n",
              "Unit                     False\n",
              "nationality               True\n",
              "province_of_isolation     True\n",
              "risk                     False\n",
              "province_of_onset         True\n",
              "district_of_onset         True\n",
              "dtype: bool"
            ]
          },
          "metadata": {
            "tags": []
          },
          "execution_count": 474
        }
      ]
    },
    {
      "cell_type": "code",
      "metadata": {
        "colab": {
          "base_uri": "https://localhost:8080/"
        },
        "id": "FTXTjvsKaa1u",
        "outputId": "900384ac-de6e-40dc-d3db-9e6a78f49b78"
      },
      "source": [
        "data_cases[['age']].mean()"
      ],
      "execution_count": 475,
      "outputs": [
        {
          "output_type": "execute_result",
          "data": {
            "text/plain": [
              "age    35.52947\n",
              "dtype: float64"
            ]
          },
          "metadata": {
            "tags": []
          },
          "execution_count": 475
        }
      ]
    },
    {
      "cell_type": "markdown",
      "metadata": {
        "id": "EeLR0nGAKv5C"
      },
      "source": [
        "ถ้าเป็น  norminal (ตัวหนังสือ) ใช้ mode"
      ]
    },
    {
      "cell_type": "code",
      "metadata": {
        "colab": {
          "base_uri": "https://localhost:8080/",
          "height": 0
        },
        "id": "m1VhCDtSL1wt",
        "outputId": "f20fd65e-aae7-4f1c-c497-bf2031b4efca"
      },
      "source": [
        "data_cases[['nationality']].mode()"
      ],
      "execution_count": 476,
      "outputs": [
        {
          "output_type": "execute_result",
          "data": {
            "text/html": [
              "<div>\n",
              "<style scoped>\n",
              "    .dataframe tbody tr th:only-of-type {\n",
              "        vertical-align: middle;\n",
              "    }\n",
              "\n",
              "    .dataframe tbody tr th {\n",
              "        vertical-align: top;\n",
              "    }\n",
              "\n",
              "    .dataframe thead th {\n",
              "        text-align: right;\n",
              "    }\n",
              "</style>\n",
              "<table border=\"1\" class=\"dataframe\">\n",
              "  <thead>\n",
              "    <tr style=\"text-align: right;\">\n",
              "      <th></th>\n",
              "      <th>nationality</th>\n",
              "    </tr>\n",
              "  </thead>\n",
              "  <tbody>\n",
              "    <tr>\n",
              "      <th>0</th>\n",
              "      <td>Thailand</td>\n",
              "    </tr>\n",
              "  </tbody>\n",
              "</table>\n",
              "</div>"
            ],
            "text/plain": [
              "  nationality\n",
              "0    Thailand"
            ]
          },
          "metadata": {
            "tags": []
          },
          "execution_count": 476
        }
      ]
    },
    {
      "cell_type": "code",
      "metadata": {
        "colab": {
          "base_uri": "https://localhost:8080/",
          "height": 0
        },
        "id": "wD-9myyKMWH-",
        "outputId": "7fb21f97-8388-40d6-929d-2127edc64a33"
      },
      "source": [
        "data_cases[['nationality']].mode().iloc[0,0]"
      ],
      "execution_count": 477,
      "outputs": [
        {
          "output_type": "execute_result",
          "data": {
            "application/vnd.google.colaboratory.intrinsic+json": {
              "type": "string"
            },
            "text/plain": [
              "'Thailand'"
            ]
          },
          "metadata": {
            "tags": []
          },
          "execution_count": 477
        }
      ]
    },
    {
      "cell_type": "code",
      "metadata": {
        "colab": {
          "base_uri": "https://localhost:8080/"
        },
        "id": "opr6MoLHPfM9",
        "outputId": "52cd76f9-09fc-42d9-8ec8-71889d629661"
      },
      "source": [
        "data_cases['nationality'].mode()"
      ],
      "execution_count": 478,
      "outputs": [
        {
          "output_type": "execute_result",
          "data": {
            "text/plain": [
              "0    Thailand\n",
              "dtype: object"
            ]
          },
          "metadata": {
            "tags": []
          },
          "execution_count": 478
        }
      ]
    },
    {
      "cell_type": "code",
      "metadata": {
        "id": "JlfhRV_Naqyq"
      },
      "source": [
        "# หา mode\n",
        "mode_nation = data_cases[['nationality']].mode().iloc[0,0]\n",
        "# เติม mean ลงไปแทนค่า missing\n",
        "data_cases[['nationality']] = data_cases[['nationality']].fillna(mode_nation)"
      ],
      "execution_count": 479,
      "outputs": []
    },
    {
      "cell_type": "code",
      "metadata": {
        "colab": {
          "base_uri": "https://localhost:8080/"
        },
        "id": "JnhYAZ9ba5Ns",
        "outputId": "a27f8955-b79e-4b1b-918a-614ac3a51ebc"
      },
      "source": [
        "data_cases.isnull().any()"
      ],
      "execution_count": 480,
      "outputs": [
        {
          "output_type": "execute_result",
          "data": {
            "text/plain": [
              "No.                      False\n",
              "announce_date            False\n",
              "Notified date             True\n",
              "sex                       True\n",
              "age                      False\n",
              "Unit                     False\n",
              "nationality              False\n",
              "province_of_isolation     True\n",
              "risk                     False\n",
              "province_of_onset         True\n",
              "district_of_onset         True\n",
              "dtype: bool"
            ]
          },
          "metadata": {
            "tags": []
          },
          "execution_count": 480
        }
      ]
    },
    {
      "cell_type": "markdown",
      "metadata": {
        "id": "kWOpgfHKa_sG"
      },
      "source": [
        "#เติมด้วยค่าของ column ใกล้เคียง (เดี๋ยวย้อนกลับมา)"
      ]
    },
    {
      "cell_type": "code",
      "metadata": {
        "colab": {
          "base_uri": "https://localhost:8080/",
          "height": 697
        },
        "id": "yKc7emT4bFip",
        "outputId": "e859d3f2-bfff-47b3-e2a3-5f71860f2738"
      },
      "source": [
        "data_cases.head(20)"
      ],
      "execution_count": 481,
      "outputs": [
        {
          "output_type": "execute_result",
          "data": {
            "text/html": [
              "<div>\n",
              "<style scoped>\n",
              "    .dataframe tbody tr th:only-of-type {\n",
              "        vertical-align: middle;\n",
              "    }\n",
              "\n",
              "    .dataframe tbody tr th {\n",
              "        vertical-align: top;\n",
              "    }\n",
              "\n",
              "    .dataframe thead th {\n",
              "        text-align: right;\n",
              "    }\n",
              "</style>\n",
              "<table border=\"1\" class=\"dataframe\">\n",
              "  <thead>\n",
              "    <tr style=\"text-align: right;\">\n",
              "      <th></th>\n",
              "      <th>No.</th>\n",
              "      <th>announce_date</th>\n",
              "      <th>Notified date</th>\n",
              "      <th>sex</th>\n",
              "      <th>age</th>\n",
              "      <th>Unit</th>\n",
              "      <th>nationality</th>\n",
              "      <th>province_of_isolation</th>\n",
              "      <th>risk</th>\n",
              "      <th>province_of_onset</th>\n",
              "      <th>district_of_onset</th>\n",
              "    </tr>\n",
              "  </thead>\n",
              "  <tbody>\n",
              "    <tr>\n",
              "      <th>0</th>\n",
              "      <td>1</td>\n",
              "      <td>12/1/2020</td>\n",
              "      <td>NaN</td>\n",
              "      <td>หญิง</td>\n",
              "      <td>61.0</td>\n",
              "      <td>ปี</td>\n",
              "      <td>China</td>\n",
              "      <td>กรุงเทพมหานคร</td>\n",
              "      <td>คนต่างชาติเดินทางมาจากต่างประเทศ</td>\n",
              "      <td>กรุงเทพมหานคร</td>\n",
              "      <td>NaN</td>\n",
              "    </tr>\n",
              "    <tr>\n",
              "      <th>1</th>\n",
              "      <td>2</td>\n",
              "      <td>17/1/2020</td>\n",
              "      <td>NaN</td>\n",
              "      <td>หญิง</td>\n",
              "      <td>74.0</td>\n",
              "      <td>ปี</td>\n",
              "      <td>China</td>\n",
              "      <td>กรุงเทพมหานคร</td>\n",
              "      <td>คนต่างชาติเดินทางมาจากต่างประเทศ</td>\n",
              "      <td>กรุงเทพมหานคร</td>\n",
              "      <td>NaN</td>\n",
              "    </tr>\n",
              "    <tr>\n",
              "      <th>2</th>\n",
              "      <td>3</td>\n",
              "      <td>22/1/2020</td>\n",
              "      <td>NaN</td>\n",
              "      <td>หญิง</td>\n",
              "      <td>73.0</td>\n",
              "      <td>ปี</td>\n",
              "      <td>Thailand</td>\n",
              "      <td>นครปฐม</td>\n",
              "      <td>คนต่างชาติเดินทางมาจากต่างประเทศ</td>\n",
              "      <td>นครปฐม</td>\n",
              "      <td>เมือง</td>\n",
              "    </tr>\n",
              "    <tr>\n",
              "      <th>3</th>\n",
              "      <td>4</td>\n",
              "      <td>22/1/2020</td>\n",
              "      <td>NaN</td>\n",
              "      <td>ชาย</td>\n",
              "      <td>68.0</td>\n",
              "      <td>ปี</td>\n",
              "      <td>China</td>\n",
              "      <td>กรุงเทพมหานคร</td>\n",
              "      <td>คนต่างชาติเดินทางมาจากต่างประเทศ</td>\n",
              "      <td>กรุงเทพมหานคร</td>\n",
              "      <td>NaN</td>\n",
              "    </tr>\n",
              "    <tr>\n",
              "      <th>4</th>\n",
              "      <td>5</td>\n",
              "      <td>24/1/2020</td>\n",
              "      <td>NaN</td>\n",
              "      <td>หญิง</td>\n",
              "      <td>66.0</td>\n",
              "      <td>ปี</td>\n",
              "      <td>China</td>\n",
              "      <td>นนทบุรี</td>\n",
              "      <td>คนต่างชาติเดินทางมาจากต่างประเทศ</td>\n",
              "      <td>กรุงเทพมหานคร</td>\n",
              "      <td>NaN</td>\n",
              "    </tr>\n",
              "    <tr>\n",
              "      <th>5</th>\n",
              "      <td>6</td>\n",
              "      <td>25/1/2020</td>\n",
              "      <td>NaN</td>\n",
              "      <td>หญิง</td>\n",
              "      <td>33.0</td>\n",
              "      <td>ปี</td>\n",
              "      <td>China</td>\n",
              "      <td>กรุงเทพมหานคร</td>\n",
              "      <td>คนต่างชาติเดินทางมาจากต่างประเทศ</td>\n",
              "      <td>กรุงเทพมหานคร</td>\n",
              "      <td>NaN</td>\n",
              "    </tr>\n",
              "    <tr>\n",
              "      <th>6</th>\n",
              "      <td>7</td>\n",
              "      <td>26/1/2020</td>\n",
              "      <td>NaN</td>\n",
              "      <td>หญิง</td>\n",
              "      <td>57.0</td>\n",
              "      <td>ปี</td>\n",
              "      <td>China</td>\n",
              "      <td>กรุงเทพมหานคร</td>\n",
              "      <td>คนต่างชาติเดินทางมาจากต่างประเทศ</td>\n",
              "      <td>กรุงเทพมหานคร</td>\n",
              "      <td>NaN</td>\n",
              "    </tr>\n",
              "    <tr>\n",
              "      <th>7</th>\n",
              "      <td>8</td>\n",
              "      <td>26/1/2020</td>\n",
              "      <td>NaN</td>\n",
              "      <td>หญิง</td>\n",
              "      <td>73.0</td>\n",
              "      <td>ปี</td>\n",
              "      <td>China</td>\n",
              "      <td>ประจวบคีรีขันธ์</td>\n",
              "      <td>คนต่างชาติเดินทางมาจากต่างประเทศ</td>\n",
              "      <td>ประจวบคีรีขันธ์</td>\n",
              "      <td>หัวหิน</td>\n",
              "    </tr>\n",
              "    <tr>\n",
              "      <th>8</th>\n",
              "      <td>9</td>\n",
              "      <td>28/1/2020</td>\n",
              "      <td>NaN</td>\n",
              "      <td>ชาย</td>\n",
              "      <td>63.0</td>\n",
              "      <td>ปี</td>\n",
              "      <td>China</td>\n",
              "      <td>กรุงเทพมหานคร</td>\n",
              "      <td>คนต่างชาติเดินทางมาจากต่างประเทศ</td>\n",
              "      <td>กรุงเทพมหานคร</td>\n",
              "      <td>NaN</td>\n",
              "    </tr>\n",
              "    <tr>\n",
              "      <th>9</th>\n",
              "      <td>10</td>\n",
              "      <td>28/1/2020</td>\n",
              "      <td>NaN</td>\n",
              "      <td>หญิง</td>\n",
              "      <td>28.0</td>\n",
              "      <td>ปี</td>\n",
              "      <td>China</td>\n",
              "      <td>นนทบุรี</td>\n",
              "      <td>คนต่างชาติเดินทางมาจากต่างประเทศ</td>\n",
              "      <td>นนทบุรี</td>\n",
              "      <td>NaN</td>\n",
              "    </tr>\n",
              "    <tr>\n",
              "      <th>10</th>\n",
              "      <td>11</td>\n",
              "      <td>28/1/2020</td>\n",
              "      <td>NaN</td>\n",
              "      <td>ชาย</td>\n",
              "      <td>33.0</td>\n",
              "      <td>ปี</td>\n",
              "      <td>China</td>\n",
              "      <td>กรุงเทพมหานคร</td>\n",
              "      <td>สัมผัสใกล้ชิดกับผู้ป่วยยืนยันรายก่อนหน้านี้</td>\n",
              "      <td>กรุงเทพมหานคร</td>\n",
              "      <td>NaN</td>\n",
              "    </tr>\n",
              "    <tr>\n",
              "      <th>11</th>\n",
              "      <td>12</td>\n",
              "      <td>28/1/2020</td>\n",
              "      <td>NaN</td>\n",
              "      <td>ชาย</td>\n",
              "      <td>61.0</td>\n",
              "      <td>ปี</td>\n",
              "      <td>China</td>\n",
              "      <td>กรุงเทพมหานคร</td>\n",
              "      <td>สัมผัสใกล้ชิดกับผู้ป่วยยืนยันรายก่อนหน้านี้</td>\n",
              "      <td>กรุงเทพมหานคร</td>\n",
              "      <td>NaN</td>\n",
              "    </tr>\n",
              "    <tr>\n",
              "      <th>12</th>\n",
              "      <td>13</td>\n",
              "      <td>28/1/2020</td>\n",
              "      <td>NaN</td>\n",
              "      <td>ชาย</td>\n",
              "      <td>6.0</td>\n",
              "      <td>ปี</td>\n",
              "      <td>China</td>\n",
              "      <td>กรุงเทพมหานคร</td>\n",
              "      <td>สัมผัสใกล้ชิดกับผู้ป่วยยืนยันรายก่อนหน้านี้</td>\n",
              "      <td>กรุงเทพมหานคร</td>\n",
              "      <td>NaN</td>\n",
              "    </tr>\n",
              "    <tr>\n",
              "      <th>13</th>\n",
              "      <td>14</td>\n",
              "      <td>28/1/2020</td>\n",
              "      <td>NaN</td>\n",
              "      <td>หญิง</td>\n",
              "      <td>32.0</td>\n",
              "      <td>ปี</td>\n",
              "      <td>China</td>\n",
              "      <td>ภูเก็ต</td>\n",
              "      <td>คนต่างชาติเดินทางมาจากต่างประเทศ</td>\n",
              "      <td>ภูเก็ต</td>\n",
              "      <td>เมือง</td>\n",
              "    </tr>\n",
              "    <tr>\n",
              "      <th>14</th>\n",
              "      <td>15</td>\n",
              "      <td>31/1/2020</td>\n",
              "      <td>NaN</td>\n",
              "      <td>ชาย</td>\n",
              "      <td>56.0</td>\n",
              "      <td>ปี</td>\n",
              "      <td>China</td>\n",
              "      <td>กรุงเทพมหานคร</td>\n",
              "      <td>คนต่างชาติเดินทางมาจากต่างประเทศ</td>\n",
              "      <td>กรุงเทพมหานคร</td>\n",
              "      <td>NaN</td>\n",
              "    </tr>\n",
              "    <tr>\n",
              "      <th>15</th>\n",
              "      <td>16</td>\n",
              "      <td>31/1/2020</td>\n",
              "      <td>NaN</td>\n",
              "      <td>ชาย</td>\n",
              "      <td>50.0</td>\n",
              "      <td>ปี</td>\n",
              "      <td>Thailand</td>\n",
              "      <td>กรุงเทพมหานคร</td>\n",
              "      <td>อาชีพเสี่ยง เช่น ทำงานในสถานที่แออัด หรือทำงาน...</td>\n",
              "      <td>กรุงเทพมหานคร</td>\n",
              "      <td>NaN</td>\n",
              "    </tr>\n",
              "    <tr>\n",
              "      <th>16</th>\n",
              "      <td>17</td>\n",
              "      <td>31/1/2020</td>\n",
              "      <td>NaN</td>\n",
              "      <td>ชาย</td>\n",
              "      <td>28.0</td>\n",
              "      <td>ปี</td>\n",
              "      <td>China</td>\n",
              "      <td>เชียงใหม่</td>\n",
              "      <td>คนต่างชาติเดินทางมาจากต่างประเทศ</td>\n",
              "      <td>เชียงใหม่</td>\n",
              "      <td>หางดง</td>\n",
              "    </tr>\n",
              "    <tr>\n",
              "      <th>17</th>\n",
              "      <td>18</td>\n",
              "      <td>31/1/2020</td>\n",
              "      <td>NaN</td>\n",
              "      <td>ชาย</td>\n",
              "      <td>30.0</td>\n",
              "      <td>ปี</td>\n",
              "      <td>China</td>\n",
              "      <td>กรุงเทพมหานคร</td>\n",
              "      <td>คนต่างชาติเดินทางมาจากต่างประเทศ</td>\n",
              "      <td>กรุงเทพมหานคร</td>\n",
              "      <td>NaN</td>\n",
              "    </tr>\n",
              "    <tr>\n",
              "      <th>18</th>\n",
              "      <td>19</td>\n",
              "      <td>31/1/2020</td>\n",
              "      <td>NaN</td>\n",
              "      <td>ชาย</td>\n",
              "      <td>33.0</td>\n",
              "      <td>ปี</td>\n",
              "      <td>China</td>\n",
              "      <td>กรุงเทพมหานคร</td>\n",
              "      <td>คนต่างชาติเดินทางมาจากต่างประเทศ</td>\n",
              "      <td>กรุงเทพมหานคร</td>\n",
              "      <td>NaN</td>\n",
              "    </tr>\n",
              "    <tr>\n",
              "      <th>19</th>\n",
              "      <td>20</td>\n",
              "      <td>4/2/2020</td>\n",
              "      <td>NaN</td>\n",
              "      <td>หญิง</td>\n",
              "      <td>43.0</td>\n",
              "      <td>ปี</td>\n",
              "      <td>Thailand</td>\n",
              "      <td>กรุงเทพมหานคร</td>\n",
              "      <td>คนไทยเดินทางกลับจากต่างประเทศ</td>\n",
              "      <td>กรุงเทพมหานคร</td>\n",
              "      <td>NaN</td>\n",
              "    </tr>\n",
              "  </tbody>\n",
              "</table>\n",
              "</div>"
            ],
            "text/plain": [
              "    No. announce_date  ... province_of_onset district_of_onset\n",
              "0     1     12/1/2020  ...     กรุงเทพมหานคร               NaN\n",
              "1     2     17/1/2020  ...     กรุงเทพมหานคร               NaN\n",
              "2     3     22/1/2020  ...            นครปฐม             เมือง\n",
              "3     4     22/1/2020  ...     กรุงเทพมหานคร               NaN\n",
              "4     5     24/1/2020  ...     กรุงเทพมหานคร               NaN\n",
              "5     6     25/1/2020  ...     กรุงเทพมหานคร               NaN\n",
              "6     7     26/1/2020  ...     กรุงเทพมหานคร               NaN\n",
              "7     8     26/1/2020  ...   ประจวบคีรีขันธ์            หัวหิน\n",
              "8     9     28/1/2020  ...     กรุงเทพมหานคร               NaN\n",
              "9    10     28/1/2020  ...           นนทบุรี               NaN\n",
              "10   11     28/1/2020  ...     กรุงเทพมหานคร               NaN\n",
              "11   12     28/1/2020  ...     กรุงเทพมหานคร               NaN\n",
              "12   13     28/1/2020  ...     กรุงเทพมหานคร               NaN\n",
              "13   14     28/1/2020  ...            ภูเก็ต             เมือง\n",
              "14   15     31/1/2020  ...     กรุงเทพมหานคร               NaN\n",
              "15   16     31/1/2020  ...     กรุงเทพมหานคร               NaN\n",
              "16   17     31/1/2020  ...         เชียงใหม่             หางดง\n",
              "17   18     31/1/2020  ...     กรุงเทพมหานคร               NaN\n",
              "18   19     31/1/2020  ...     กรุงเทพมหานคร               NaN\n",
              "19   20      4/2/2020  ...     กรุงเทพมหานคร               NaN\n",
              "\n",
              "[20 rows x 11 columns]"
            ]
          },
          "metadata": {
            "tags": []
          },
          "execution_count": 481
        }
      ]
    },
    {
      "cell_type": "markdown",
      "metadata": {
        "id": "_taAyUy3RlRt"
      },
      "source": [
        "##Handling Missing Value 5 (แทนด้วย  ค่ากลางของ sample ใน class เดียวกัน)"
      ]
    },
    {
      "cell_type": "code",
      "metadata": {
        "colab": {
          "base_uri": "https://localhost:8080/",
          "height": 0
        },
        "id": "19IoTHQbThBe",
        "outputId": "ba6b94b8-b2ad-4028-e43c-598c76e9e2d1"
      },
      "source": [
        "data_cases2 = pd.read_csv(os.path.join(path,'confirmed-cases.csv'))\n",
        "data_cases2"
      ],
      "execution_count": 482,
      "outputs": [
        {
          "output_type": "execute_result",
          "data": {
            "text/html": [
              "<div>\n",
              "<style scoped>\n",
              "    .dataframe tbody tr th:only-of-type {\n",
              "        vertical-align: middle;\n",
              "    }\n",
              "\n",
              "    .dataframe tbody tr th {\n",
              "        vertical-align: top;\n",
              "    }\n",
              "\n",
              "    .dataframe thead th {\n",
              "        text-align: right;\n",
              "    }\n",
              "</style>\n",
              "<table border=\"1\" class=\"dataframe\">\n",
              "  <thead>\n",
              "    <tr style=\"text-align: right;\">\n",
              "      <th></th>\n",
              "      <th>No.</th>\n",
              "      <th>announce_date</th>\n",
              "      <th>Notified date</th>\n",
              "      <th>sex</th>\n",
              "      <th>age</th>\n",
              "      <th>Unit</th>\n",
              "      <th>nationality</th>\n",
              "      <th>province_of_isolation</th>\n",
              "      <th>risk</th>\n",
              "      <th>province_of_onset</th>\n",
              "      <th>district_of_onset</th>\n",
              "    </tr>\n",
              "  </thead>\n",
              "  <tbody>\n",
              "    <tr>\n",
              "      <th>0</th>\n",
              "      <td>1</td>\n",
              "      <td>12/1/2020</td>\n",
              "      <td>NaN</td>\n",
              "      <td>หญิง</td>\n",
              "      <td>61.0</td>\n",
              "      <td>ปี</td>\n",
              "      <td>China</td>\n",
              "      <td>กรุงเทพมหานคร</td>\n",
              "      <td>คนต่างชาติเดินทางมาจากต่างประเทศ</td>\n",
              "      <td>กรุงเทพมหานคร</td>\n",
              "      <td>NaN</td>\n",
              "    </tr>\n",
              "    <tr>\n",
              "      <th>1</th>\n",
              "      <td>2</td>\n",
              "      <td>17/1/2020</td>\n",
              "      <td>NaN</td>\n",
              "      <td>หญิง</td>\n",
              "      <td>74.0</td>\n",
              "      <td>ปี</td>\n",
              "      <td>China</td>\n",
              "      <td>กรุงเทพมหานคร</td>\n",
              "      <td>คนต่างชาติเดินทางมาจากต่างประเทศ</td>\n",
              "      <td>กรุงเทพมหานคร</td>\n",
              "      <td>NaN</td>\n",
              "    </tr>\n",
              "    <tr>\n",
              "      <th>2</th>\n",
              "      <td>3</td>\n",
              "      <td>22/1/2020</td>\n",
              "      <td>NaN</td>\n",
              "      <td>หญิง</td>\n",
              "      <td>73.0</td>\n",
              "      <td>ปี</td>\n",
              "      <td>Thailand</td>\n",
              "      <td>นครปฐม</td>\n",
              "      <td>คนต่างชาติเดินทางมาจากต่างประเทศ</td>\n",
              "      <td>นครปฐม</td>\n",
              "      <td>เมือง</td>\n",
              "    </tr>\n",
              "    <tr>\n",
              "      <th>3</th>\n",
              "      <td>4</td>\n",
              "      <td>22/1/2020</td>\n",
              "      <td>NaN</td>\n",
              "      <td>ชาย</td>\n",
              "      <td>68.0</td>\n",
              "      <td>ปี</td>\n",
              "      <td>China</td>\n",
              "      <td>กรุงเทพมหานคร</td>\n",
              "      <td>คนต่างชาติเดินทางมาจากต่างประเทศ</td>\n",
              "      <td>กรุงเทพมหานคร</td>\n",
              "      <td>NaN</td>\n",
              "    </tr>\n",
              "    <tr>\n",
              "      <th>4</th>\n",
              "      <td>5</td>\n",
              "      <td>24/1/2020</td>\n",
              "      <td>NaN</td>\n",
              "      <td>หญิง</td>\n",
              "      <td>66.0</td>\n",
              "      <td>ปี</td>\n",
              "      <td>China</td>\n",
              "      <td>นนทบุรี</td>\n",
              "      <td>คนต่างชาติเดินทางมาจากต่างประเทศ</td>\n",
              "      <td>กรุงเทพมหานคร</td>\n",
              "      <td>NaN</td>\n",
              "    </tr>\n",
              "    <tr>\n",
              "      <th>...</th>\n",
              "      <td>...</td>\n",
              "      <td>...</td>\n",
              "      <td>...</td>\n",
              "      <td>...</td>\n",
              "      <td>...</td>\n",
              "      <td>...</td>\n",
              "      <td>...</td>\n",
              "      <td>...</td>\n",
              "      <td>...</td>\n",
              "      <td>...</td>\n",
              "      <td>...</td>\n",
              "    </tr>\n",
              "    <tr>\n",
              "      <th>512617</th>\n",
              "      <td>512618</td>\n",
              "      <td>26/7/2021</td>\n",
              "      <td>25/7/2021</td>\n",
              "      <td>ชาย</td>\n",
              "      <td>NaN</td>\n",
              "      <td>NaN</td>\n",
              "      <td>NaN</td>\n",
              "      <td>ชลบุรี</td>\n",
              "      <td>ทัณฑสถาน/เรือนจำ</td>\n",
              "      <td>NaN</td>\n",
              "      <td>NaN</td>\n",
              "    </tr>\n",
              "    <tr>\n",
              "      <th>512618</th>\n",
              "      <td>512619</td>\n",
              "      <td>26/7/2021</td>\n",
              "      <td>25/7/2021</td>\n",
              "      <td>ชาย</td>\n",
              "      <td>NaN</td>\n",
              "      <td>NaN</td>\n",
              "      <td>NaN</td>\n",
              "      <td>ชลบุรี</td>\n",
              "      <td>ทัณฑสถาน/เรือนจำ</td>\n",
              "      <td>NaN</td>\n",
              "      <td>NaN</td>\n",
              "    </tr>\n",
              "    <tr>\n",
              "      <th>512619</th>\n",
              "      <td>512620</td>\n",
              "      <td>26/7/2021</td>\n",
              "      <td>25/7/2021</td>\n",
              "      <td>ชาย</td>\n",
              "      <td>NaN</td>\n",
              "      <td>NaN</td>\n",
              "      <td>NaN</td>\n",
              "      <td>ชลบุรี</td>\n",
              "      <td>ทัณฑสถาน/เรือนจำ</td>\n",
              "      <td>NaN</td>\n",
              "      <td>NaN</td>\n",
              "    </tr>\n",
              "    <tr>\n",
              "      <th>512620</th>\n",
              "      <td>512621</td>\n",
              "      <td>26/7/2021</td>\n",
              "      <td>25/7/2021</td>\n",
              "      <td>ชาย</td>\n",
              "      <td>NaN</td>\n",
              "      <td>NaN</td>\n",
              "      <td>NaN</td>\n",
              "      <td>ชลบุรี</td>\n",
              "      <td>ทัณฑสถาน/เรือนจำ</td>\n",
              "      <td>NaN</td>\n",
              "      <td>NaN</td>\n",
              "    </tr>\n",
              "    <tr>\n",
              "      <th>512621</th>\n",
              "      <td>512622</td>\n",
              "      <td>26/7/2021</td>\n",
              "      <td>25/7/2021</td>\n",
              "      <td>ชาย</td>\n",
              "      <td>NaN</td>\n",
              "      <td>NaN</td>\n",
              "      <td>NaN</td>\n",
              "      <td>ชลบุรี</td>\n",
              "      <td>ทัณฑสถาน/เรือนจำ</td>\n",
              "      <td>NaN</td>\n",
              "      <td>NaN</td>\n",
              "    </tr>\n",
              "  </tbody>\n",
              "</table>\n",
              "<p>512622 rows × 11 columns</p>\n",
              "</div>"
            ],
            "text/plain": [
              "           No. announce_date  ... province_of_onset district_of_onset\n",
              "0            1     12/1/2020  ...     กรุงเทพมหานคร               NaN\n",
              "1            2     17/1/2020  ...     กรุงเทพมหานคร               NaN\n",
              "2            3     22/1/2020  ...            นครปฐม             เมือง\n",
              "3            4     22/1/2020  ...     กรุงเทพมหานคร               NaN\n",
              "4            5     24/1/2020  ...     กรุงเทพมหานคร               NaN\n",
              "...        ...           ...  ...               ...               ...\n",
              "512617  512618     26/7/2021  ...               NaN               NaN\n",
              "512618  512619     26/7/2021  ...               NaN               NaN\n",
              "512619  512620     26/7/2021  ...               NaN               NaN\n",
              "512620  512621     26/7/2021  ...               NaN               NaN\n",
              "512621  512622     26/7/2021  ...               NaN               NaN\n",
              "\n",
              "[512622 rows x 11 columns]"
            ]
          },
          "metadata": {
            "tags": []
          },
          "execution_count": 482
        }
      ]
    },
    {
      "cell_type": "markdown",
      "metadata": {
        "id": "OJjDZwVjUNB4"
      },
      "source": [
        "##Select data by values [PD]"
      ]
    },
    {
      "cell_type": "markdown",
      "metadata": {
        "id": "-2aRPPBjbLK3"
      },
      "source": [
        "การเลือก record สามารถเลือกโดยใช้ list ของ boolean(ความยาวของ list เท่ากับ จำนวน record)\n",
        "\n",
        "ชื่อตาราง[list ของ boolean]"
      ]
    },
    {
      "cell_type": "markdown",
      "metadata": {
        "id": "IFXaJtwUVqQz"
      },
      "source": [
        "## สร้าง list ของ boolean"
      ]
    },
    {
      "cell_type": "code",
      "metadata": {
        "colab": {
          "base_uri": "https://localhost:8080/"
        },
        "id": "nwPmyMSXUw9n",
        "outputId": "ac99b515-0bbd-43a0-c94f-6c145b64e47c"
      },
      "source": [
        "data_cases2['risk'] == 'ทัณฑสถาน/เรือนจำ'  #true = เอา  flase = ไม่เอา  #เลือกว่าจะเอาหรือไม่เอา record ไหน"
      ],
      "execution_count": 483,
      "outputs": [
        {
          "output_type": "execute_result",
          "data": {
            "text/plain": [
              "0         False\n",
              "1         False\n",
              "2         False\n",
              "3         False\n",
              "4         False\n",
              "          ...  \n",
              "512617     True\n",
              "512618     True\n",
              "512619     True\n",
              "512620     True\n",
              "512621     True\n",
              "Name: risk, Length: 512622, dtype: bool"
            ]
          },
          "metadata": {
            "tags": []
          },
          "execution_count": 483
        }
      ]
    },
    {
      "cell_type": "markdown",
      "metadata": {
        "id": "StsQpf_wbwbk"
      },
      "source": [
        "###นำ list ของ boolean มาเลือกค่าในตาราง"
      ]
    },
    {
      "cell_type": "code",
      "metadata": {
        "colab": {
          "base_uri": "https://localhost:8080/",
          "height": 0
        },
        "id": "I9LnEKQGTvSg",
        "outputId": "4a8d34f8-f74a-4b5f-ef67-28f3f7af54d9"
      },
      "source": [
        "data_cases2[data_cases2['risk'] == 'ทัณฑสถาน/เรือนจำ']"
      ],
      "execution_count": 484,
      "outputs": [
        {
          "output_type": "execute_result",
          "data": {
            "text/html": [
              "<div>\n",
              "<style scoped>\n",
              "    .dataframe tbody tr th:only-of-type {\n",
              "        vertical-align: middle;\n",
              "    }\n",
              "\n",
              "    .dataframe tbody tr th {\n",
              "        vertical-align: top;\n",
              "    }\n",
              "\n",
              "    .dataframe thead th {\n",
              "        text-align: right;\n",
              "    }\n",
              "</style>\n",
              "<table border=\"1\" class=\"dataframe\">\n",
              "  <thead>\n",
              "    <tr style=\"text-align: right;\">\n",
              "      <th></th>\n",
              "      <th>No.</th>\n",
              "      <th>announce_date</th>\n",
              "      <th>Notified date</th>\n",
              "      <th>sex</th>\n",
              "      <th>age</th>\n",
              "      <th>Unit</th>\n",
              "      <th>nationality</th>\n",
              "      <th>province_of_isolation</th>\n",
              "      <th>risk</th>\n",
              "      <th>province_of_onset</th>\n",
              "      <th>district_of_onset</th>\n",
              "    </tr>\n",
              "  </thead>\n",
              "  <tbody>\n",
              "    <tr>\n",
              "      <th>100018</th>\n",
              "      <td>100019</td>\n",
              "      <td>16/5/2021</td>\n",
              "      <td>15/5/2021</td>\n",
              "      <td>หญิง</td>\n",
              "      <td>26.0</td>\n",
              "      <td>ปี</td>\n",
              "      <td>Thailand</td>\n",
              "      <td>ฉะเชิงเทรา</td>\n",
              "      <td>ทัณฑสถาน/เรือนจำ</td>\n",
              "      <td>ฉะเชิงเทรา</td>\n",
              "      <td>เมืองฉะเชิงเทรา‎</td>\n",
              "    </tr>\n",
              "    <tr>\n",
              "      <th>100019</th>\n",
              "      <td>100020</td>\n",
              "      <td>16/5/2021</td>\n",
              "      <td>15/5/2021</td>\n",
              "      <td>หญิง</td>\n",
              "      <td>41.0</td>\n",
              "      <td>ปี</td>\n",
              "      <td>Thailand</td>\n",
              "      <td>ฉะเชิงเทรา</td>\n",
              "      <td>ทัณฑสถาน/เรือนจำ</td>\n",
              "      <td>ฉะเชิงเทรา</td>\n",
              "      <td>เมืองฉะเชิงเทรา‎</td>\n",
              "    </tr>\n",
              "    <tr>\n",
              "      <th>101468</th>\n",
              "      <td>101469</td>\n",
              "      <td>17/5/2021</td>\n",
              "      <td>16/5/2021</td>\n",
              "      <td>NaN</td>\n",
              "      <td>NaN</td>\n",
              "      <td>NaN</td>\n",
              "      <td>NaN</td>\n",
              "      <td>เชียงใหม่</td>\n",
              "      <td>ทัณฑสถาน/เรือนจำ</td>\n",
              "      <td>NaN</td>\n",
              "      <td>NaN</td>\n",
              "    </tr>\n",
              "    <tr>\n",
              "      <th>101469</th>\n",
              "      <td>101470</td>\n",
              "      <td>17/5/2021</td>\n",
              "      <td>16/5/2021</td>\n",
              "      <td>NaN</td>\n",
              "      <td>NaN</td>\n",
              "      <td>NaN</td>\n",
              "      <td>NaN</td>\n",
              "      <td>เชียงใหม่</td>\n",
              "      <td>ทัณฑสถาน/เรือนจำ</td>\n",
              "      <td>NaN</td>\n",
              "      <td>NaN</td>\n",
              "    </tr>\n",
              "    <tr>\n",
              "      <th>101470</th>\n",
              "      <td>101471</td>\n",
              "      <td>17/5/2021</td>\n",
              "      <td>16/5/2021</td>\n",
              "      <td>NaN</td>\n",
              "      <td>NaN</td>\n",
              "      <td>NaN</td>\n",
              "      <td>NaN</td>\n",
              "      <td>เชียงใหม่</td>\n",
              "      <td>ทัณฑสถาน/เรือนจำ</td>\n",
              "      <td>NaN</td>\n",
              "      <td>NaN</td>\n",
              "    </tr>\n",
              "    <tr>\n",
              "      <th>...</th>\n",
              "      <td>...</td>\n",
              "      <td>...</td>\n",
              "      <td>...</td>\n",
              "      <td>...</td>\n",
              "      <td>...</td>\n",
              "      <td>...</td>\n",
              "      <td>...</td>\n",
              "      <td>...</td>\n",
              "      <td>...</td>\n",
              "      <td>...</td>\n",
              "      <td>...</td>\n",
              "    </tr>\n",
              "    <tr>\n",
              "      <th>512617</th>\n",
              "      <td>512618</td>\n",
              "      <td>26/7/2021</td>\n",
              "      <td>25/7/2021</td>\n",
              "      <td>ชาย</td>\n",
              "      <td>NaN</td>\n",
              "      <td>NaN</td>\n",
              "      <td>NaN</td>\n",
              "      <td>ชลบุรี</td>\n",
              "      <td>ทัณฑสถาน/เรือนจำ</td>\n",
              "      <td>NaN</td>\n",
              "      <td>NaN</td>\n",
              "    </tr>\n",
              "    <tr>\n",
              "      <th>512618</th>\n",
              "      <td>512619</td>\n",
              "      <td>26/7/2021</td>\n",
              "      <td>25/7/2021</td>\n",
              "      <td>ชาย</td>\n",
              "      <td>NaN</td>\n",
              "      <td>NaN</td>\n",
              "      <td>NaN</td>\n",
              "      <td>ชลบุรี</td>\n",
              "      <td>ทัณฑสถาน/เรือนจำ</td>\n",
              "      <td>NaN</td>\n",
              "      <td>NaN</td>\n",
              "    </tr>\n",
              "    <tr>\n",
              "      <th>512619</th>\n",
              "      <td>512620</td>\n",
              "      <td>26/7/2021</td>\n",
              "      <td>25/7/2021</td>\n",
              "      <td>ชาย</td>\n",
              "      <td>NaN</td>\n",
              "      <td>NaN</td>\n",
              "      <td>NaN</td>\n",
              "      <td>ชลบุรี</td>\n",
              "      <td>ทัณฑสถาน/เรือนจำ</td>\n",
              "      <td>NaN</td>\n",
              "      <td>NaN</td>\n",
              "    </tr>\n",
              "    <tr>\n",
              "      <th>512620</th>\n",
              "      <td>512621</td>\n",
              "      <td>26/7/2021</td>\n",
              "      <td>25/7/2021</td>\n",
              "      <td>ชาย</td>\n",
              "      <td>NaN</td>\n",
              "      <td>NaN</td>\n",
              "      <td>NaN</td>\n",
              "      <td>ชลบุรี</td>\n",
              "      <td>ทัณฑสถาน/เรือนจำ</td>\n",
              "      <td>NaN</td>\n",
              "      <td>NaN</td>\n",
              "    </tr>\n",
              "    <tr>\n",
              "      <th>512621</th>\n",
              "      <td>512622</td>\n",
              "      <td>26/7/2021</td>\n",
              "      <td>25/7/2021</td>\n",
              "      <td>ชาย</td>\n",
              "      <td>NaN</td>\n",
              "      <td>NaN</td>\n",
              "      <td>NaN</td>\n",
              "      <td>ชลบุรี</td>\n",
              "      <td>ทัณฑสถาน/เรือนจำ</td>\n",
              "      <td>NaN</td>\n",
              "      <td>NaN</td>\n",
              "    </tr>\n",
              "  </tbody>\n",
              "</table>\n",
              "<p>41331 rows × 11 columns</p>\n",
              "</div>"
            ],
            "text/plain": [
              "           No. announce_date  ... province_of_onset district_of_onset\n",
              "100018  100019     16/5/2021  ...        ฉะเชิงเทรา  เมืองฉะเชิงเทรา‎\n",
              "100019  100020     16/5/2021  ...        ฉะเชิงเทรา  เมืองฉะเชิงเทรา‎\n",
              "101468  101469     17/5/2021  ...               NaN               NaN\n",
              "101469  101470     17/5/2021  ...               NaN               NaN\n",
              "101470  101471     17/5/2021  ...               NaN               NaN\n",
              "...        ...           ...  ...               ...               ...\n",
              "512617  512618     26/7/2021  ...               NaN               NaN\n",
              "512618  512619     26/7/2021  ...               NaN               NaN\n",
              "512619  512620     26/7/2021  ...               NaN               NaN\n",
              "512620  512621     26/7/2021  ...               NaN               NaN\n",
              "512621  512622     26/7/2021  ...               NaN               NaN\n",
              "\n",
              "[41331 rows x 11 columns]"
            ]
          },
          "metadata": {
            "tags": []
          },
          "execution_count": 484
        }
      ]
    },
    {
      "cell_type": "markdown",
      "metadata": {
        "id": "VUJ8aPHLb7qT"
      },
      "source": [
        "###สร้าง list ของ boolean"
      ]
    },
    {
      "cell_type": "code",
      "metadata": {
        "colab": {
          "base_uri": "https://localhost:8080/"
        },
        "id": "svRf-o0sU_T2",
        "outputId": "83c7580d-6489-4150-d672-559163e90865"
      },
      "source": [
        "data_cases2['age'] > 70"
      ],
      "execution_count": 485,
      "outputs": [
        {
          "output_type": "execute_result",
          "data": {
            "text/plain": [
              "0         False\n",
              "1          True\n",
              "2          True\n",
              "3         False\n",
              "4         False\n",
              "          ...  \n",
              "512617    False\n",
              "512618    False\n",
              "512619    False\n",
              "512620    False\n",
              "512621    False\n",
              "Name: age, Length: 512622, dtype: bool"
            ]
          },
          "metadata": {
            "tags": []
          },
          "execution_count": 485
        }
      ]
    },
    {
      "cell_type": "markdown",
      "metadata": {
        "id": "-HFqB9ZfcDW6"
      },
      "source": [
        "###เลือก"
      ]
    },
    {
      "cell_type": "code",
      "metadata": {
        "colab": {
          "base_uri": "https://localhost:8080/",
          "height": 0
        },
        "id": "jyvOpvHxWQuF",
        "outputId": "d554674a-cdb5-4f8a-aaa7-3919599b5b2d"
      },
      "source": [
        "data_cases2[data_cases2['age'] > 70]  #คนที่ติดอายุมากกว่า 70 มี 11623 คน"
      ],
      "execution_count": 486,
      "outputs": [
        {
          "output_type": "execute_result",
          "data": {
            "text/html": [
              "<div>\n",
              "<style scoped>\n",
              "    .dataframe tbody tr th:only-of-type {\n",
              "        vertical-align: middle;\n",
              "    }\n",
              "\n",
              "    .dataframe tbody tr th {\n",
              "        vertical-align: top;\n",
              "    }\n",
              "\n",
              "    .dataframe thead th {\n",
              "        text-align: right;\n",
              "    }\n",
              "</style>\n",
              "<table border=\"1\" class=\"dataframe\">\n",
              "  <thead>\n",
              "    <tr style=\"text-align: right;\">\n",
              "      <th></th>\n",
              "      <th>No.</th>\n",
              "      <th>announce_date</th>\n",
              "      <th>Notified date</th>\n",
              "      <th>sex</th>\n",
              "      <th>age</th>\n",
              "      <th>Unit</th>\n",
              "      <th>nationality</th>\n",
              "      <th>province_of_isolation</th>\n",
              "      <th>risk</th>\n",
              "      <th>province_of_onset</th>\n",
              "      <th>district_of_onset</th>\n",
              "    </tr>\n",
              "  </thead>\n",
              "  <tbody>\n",
              "    <tr>\n",
              "      <th>1</th>\n",
              "      <td>2</td>\n",
              "      <td>17/1/2020</td>\n",
              "      <td>NaN</td>\n",
              "      <td>หญิง</td>\n",
              "      <td>74.0</td>\n",
              "      <td>ปี</td>\n",
              "      <td>China</td>\n",
              "      <td>กรุงเทพมหานคร</td>\n",
              "      <td>คนต่างชาติเดินทางมาจากต่างประเทศ</td>\n",
              "      <td>กรุงเทพมหานคร</td>\n",
              "      <td>NaN</td>\n",
              "    </tr>\n",
              "    <tr>\n",
              "      <th>2</th>\n",
              "      <td>3</td>\n",
              "      <td>22/1/2020</td>\n",
              "      <td>NaN</td>\n",
              "      <td>หญิง</td>\n",
              "      <td>73.0</td>\n",
              "      <td>ปี</td>\n",
              "      <td>Thailand</td>\n",
              "      <td>นครปฐม</td>\n",
              "      <td>คนต่างชาติเดินทางมาจากต่างประเทศ</td>\n",
              "      <td>นครปฐม</td>\n",
              "      <td>เมือง</td>\n",
              "    </tr>\n",
              "    <tr>\n",
              "      <th>7</th>\n",
              "      <td>8</td>\n",
              "      <td>26/1/2020</td>\n",
              "      <td>NaN</td>\n",
              "      <td>หญิง</td>\n",
              "      <td>73.0</td>\n",
              "      <td>ปี</td>\n",
              "      <td>China</td>\n",
              "      <td>ประจวบคีรีขันธ์</td>\n",
              "      <td>คนต่างชาติเดินทางมาจากต่างประเทศ</td>\n",
              "      <td>ประจวบคีรีขันธ์</td>\n",
              "      <td>หัวหิน</td>\n",
              "    </tr>\n",
              "    <tr>\n",
              "      <th>82</th>\n",
              "      <td>83</td>\n",
              "      <td>15/3/2020</td>\n",
              "      <td>NaN</td>\n",
              "      <td>ชาย</td>\n",
              "      <td>76.0</td>\n",
              "      <td>ปี</td>\n",
              "      <td>Thailand</td>\n",
              "      <td>กรุงเทพมหานคร</td>\n",
              "      <td>สนามมวย</td>\n",
              "      <td>กรุงเทพมหานคร</td>\n",
              "      <td>NaN</td>\n",
              "    </tr>\n",
              "    <tr>\n",
              "      <th>119</th>\n",
              "      <td>120</td>\n",
              "      <td>16/3/2020</td>\n",
              "      <td>NaN</td>\n",
              "      <td>ชาย</td>\n",
              "      <td>73.0</td>\n",
              "      <td>ปี</td>\n",
              "      <td>Thailand</td>\n",
              "      <td>กรุงเทพมหานคร</td>\n",
              "      <td>สนามมวย</td>\n",
              "      <td>ฉะเชิงเทรา</td>\n",
              "      <td>NaN</td>\n",
              "    </tr>\n",
              "    <tr>\n",
              "      <th>...</th>\n",
              "      <td>...</td>\n",
              "      <td>...</td>\n",
              "      <td>...</td>\n",
              "      <td>...</td>\n",
              "      <td>...</td>\n",
              "      <td>...</td>\n",
              "      <td>...</td>\n",
              "      <td>...</td>\n",
              "      <td>...</td>\n",
              "      <td>...</td>\n",
              "      <td>...</td>\n",
              "    </tr>\n",
              "    <tr>\n",
              "      <th>511418</th>\n",
              "      <td>511419</td>\n",
              "      <td>26/7/2021</td>\n",
              "      <td>25/7/2021</td>\n",
              "      <td>หญิง</td>\n",
              "      <td>73.0</td>\n",
              "      <td>ปี</td>\n",
              "      <td>Thailand</td>\n",
              "      <td>กรุงเทพมหานคร</td>\n",
              "      <td>การค้นหาผู้ป่วยเชิงรุกและค้นหาผู้ติดเชื้อในชุมชน</td>\n",
              "      <td>กรุงเทพมหานคร</td>\n",
              "      <td>ราชเทวี</td>\n",
              "    </tr>\n",
              "    <tr>\n",
              "      <th>511463</th>\n",
              "      <td>511464</td>\n",
              "      <td>26/7/2021</td>\n",
              "      <td>25/7/2021</td>\n",
              "      <td>หญิง</td>\n",
              "      <td>83.0</td>\n",
              "      <td>ปี</td>\n",
              "      <td>NaN</td>\n",
              "      <td>กรุงเทพมหานคร</td>\n",
              "      <td>การค้นหาผู้ป่วยเชิงรุกและค้นหาผู้ติดเชื้อในชุมชน</td>\n",
              "      <td>กรุงเทพมหานคร</td>\n",
              "      <td>บางบอน</td>\n",
              "    </tr>\n",
              "    <tr>\n",
              "      <th>511488</th>\n",
              "      <td>511489</td>\n",
              "      <td>26/7/2021</td>\n",
              "      <td>25/7/2021</td>\n",
              "      <td>ชาย</td>\n",
              "      <td>80.0</td>\n",
              "      <td>ปี</td>\n",
              "      <td>Thailand</td>\n",
              "      <td>กรุงเทพมหานคร</td>\n",
              "      <td>การค้นหาผู้ป่วยเชิงรุกและค้นหาผู้ติดเชื้อในชุมชน</td>\n",
              "      <td>กรุงเทพมหานคร</td>\n",
              "      <td>บางบอน</td>\n",
              "    </tr>\n",
              "    <tr>\n",
              "      <th>511506</th>\n",
              "      <td>511507</td>\n",
              "      <td>26/7/2021</td>\n",
              "      <td>25/7/2021</td>\n",
              "      <td>ชาย</td>\n",
              "      <td>71.0</td>\n",
              "      <td>ปี</td>\n",
              "      <td>Thailand</td>\n",
              "      <td>กรุงเทพมหานคร</td>\n",
              "      <td>การค้นหาผู้ป่วยเชิงรุกและค้นหาผู้ติดเชื้อในชุมชน</td>\n",
              "      <td>กรุงเทพมหานคร</td>\n",
              "      <td>สัมพันธวงศ์</td>\n",
              "    </tr>\n",
              "    <tr>\n",
              "      <th>511561</th>\n",
              "      <td>511562</td>\n",
              "      <td>26/7/2021</td>\n",
              "      <td>25/7/2021</td>\n",
              "      <td>ชาย</td>\n",
              "      <td>75.0</td>\n",
              "      <td>ปี</td>\n",
              "      <td>Thailand</td>\n",
              "      <td>กรุงเทพมหานคร</td>\n",
              "      <td>การค้นหาผู้ป่วยเชิงรุกและค้นหาผู้ติดเชื้อในชุมชน</td>\n",
              "      <td>กรุงเทพมหานคร</td>\n",
              "      <td>ธนบุรี</td>\n",
              "    </tr>\n",
              "  </tbody>\n",
              "</table>\n",
              "<p>11623 rows × 11 columns</p>\n",
              "</div>"
            ],
            "text/plain": [
              "           No. announce_date  ... province_of_onset district_of_onset\n",
              "1            2     17/1/2020  ...     กรุงเทพมหานคร               NaN\n",
              "2            3     22/1/2020  ...            นครปฐม             เมือง\n",
              "7            8     26/1/2020  ...   ประจวบคีรีขันธ์            หัวหิน\n",
              "82          83     15/3/2020  ...     กรุงเทพมหานคร               NaN\n",
              "119        120     16/3/2020  ...        ฉะเชิงเทรา               NaN\n",
              "...        ...           ...  ...               ...               ...\n",
              "511418  511419     26/7/2021  ...     กรุงเทพมหานคร           ราชเทวี\n",
              "511463  511464     26/7/2021  ...     กรุงเทพมหานคร            บางบอน\n",
              "511488  511489     26/7/2021  ...     กรุงเทพมหานคร            บางบอน\n",
              "511506  511507     26/7/2021  ...     กรุงเทพมหานคร       สัมพันธวงศ์\n",
              "511561  511562     26/7/2021  ...     กรุงเทพมหานคร            ธนบุรี\n",
              "\n",
              "[11623 rows x 11 columns]"
            ]
          },
          "metadata": {
            "tags": []
          },
          "execution_count": 486
        }
      ]
    },
    {
      "cell_type": "code",
      "metadata": {
        "id": "8mpn6psgW56g"
      },
      "source": [
        "blist_age70up = data_cases2['age'] > 70"
      ],
      "execution_count": 487,
      "outputs": []
    },
    {
      "cell_type": "code",
      "metadata": {
        "colab": {
          "base_uri": "https://localhost:8080/"
        },
        "id": "a_suJKCAcPbJ",
        "outputId": "31920999-2816-4b72-c3bf-f316162c44b9"
      },
      "source": [
        "blist_female = data_cases2['sex'] == 'หญิง'\n",
        "blist_female"
      ],
      "execution_count": 488,
      "outputs": [
        {
          "output_type": "execute_result",
          "data": {
            "text/plain": [
              "0          True\n",
              "1          True\n",
              "2          True\n",
              "3         False\n",
              "4          True\n",
              "          ...  \n",
              "512617    False\n",
              "512618    False\n",
              "512619    False\n",
              "512620    False\n",
              "512621    False\n",
              "Name: sex, Length: 512622, dtype: bool"
            ]
          },
          "metadata": {
            "tags": []
          },
          "execution_count": 488
        }
      ]
    },
    {
      "cell_type": "code",
      "metadata": {
        "colab": {
          "base_uri": "https://localhost:8080/"
        },
        "id": "1Omj1BwOXWct",
        "outputId": "e63fdafb-a599-48a1-d63d-8b0da1b3248a"
      },
      "source": [
        "blist_female = data_cases2['age'] > 70\n",
        "blist_female"
      ],
      "execution_count": 489,
      "outputs": [
        {
          "output_type": "execute_result",
          "data": {
            "text/plain": [
              "0         False\n",
              "1          True\n",
              "2          True\n",
              "3         False\n",
              "4         False\n",
              "          ...  \n",
              "512617    False\n",
              "512618    False\n",
              "512619    False\n",
              "512620    False\n",
              "512621    False\n",
              "Name: age, Length: 512622, dtype: bool"
            ]
          },
          "metadata": {
            "tags": []
          },
          "execution_count": 489
        }
      ]
    },
    {
      "cell_type": "code",
      "metadata": {
        "colab": {
          "base_uri": "https://localhost:8080/"
        },
        "id": "esHVakPjcfV0",
        "outputId": "5117a5f1-00cc-45be-9499-142d545faeef"
      },
      "source": [
        "blist_age70up & blist_female"
      ],
      "execution_count": 490,
      "outputs": [
        {
          "output_type": "execute_result",
          "data": {
            "text/plain": [
              "0         False\n",
              "1          True\n",
              "2          True\n",
              "3         False\n",
              "4         False\n",
              "          ...  \n",
              "512617    False\n",
              "512618    False\n",
              "512619    False\n",
              "512620    False\n",
              "512621    False\n",
              "Name: age, Length: 512622, dtype: bool"
            ]
          },
          "metadata": {
            "tags": []
          },
          "execution_count": 490
        }
      ]
    },
    {
      "cell_type": "code",
      "metadata": {
        "colab": {
          "base_uri": "https://localhost:8080/",
          "height": 0
        },
        "id": "T4ae6Bf-cjms",
        "outputId": "ecf5ffa4-8129-4b88-f46f-36b12a8a6d72"
      },
      "source": [
        "data_cases2[blist_age70up & blist_female]"
      ],
      "execution_count": 491,
      "outputs": [
        {
          "output_type": "execute_result",
          "data": {
            "text/html": [
              "<div>\n",
              "<style scoped>\n",
              "    .dataframe tbody tr th:only-of-type {\n",
              "        vertical-align: middle;\n",
              "    }\n",
              "\n",
              "    .dataframe tbody tr th {\n",
              "        vertical-align: top;\n",
              "    }\n",
              "\n",
              "    .dataframe thead th {\n",
              "        text-align: right;\n",
              "    }\n",
              "</style>\n",
              "<table border=\"1\" class=\"dataframe\">\n",
              "  <thead>\n",
              "    <tr style=\"text-align: right;\">\n",
              "      <th></th>\n",
              "      <th>No.</th>\n",
              "      <th>announce_date</th>\n",
              "      <th>Notified date</th>\n",
              "      <th>sex</th>\n",
              "      <th>age</th>\n",
              "      <th>Unit</th>\n",
              "      <th>nationality</th>\n",
              "      <th>province_of_isolation</th>\n",
              "      <th>risk</th>\n",
              "      <th>province_of_onset</th>\n",
              "      <th>district_of_onset</th>\n",
              "    </tr>\n",
              "  </thead>\n",
              "  <tbody>\n",
              "    <tr>\n",
              "      <th>1</th>\n",
              "      <td>2</td>\n",
              "      <td>17/1/2020</td>\n",
              "      <td>NaN</td>\n",
              "      <td>หญิง</td>\n",
              "      <td>74.0</td>\n",
              "      <td>ปี</td>\n",
              "      <td>China</td>\n",
              "      <td>กรุงเทพมหานคร</td>\n",
              "      <td>คนต่างชาติเดินทางมาจากต่างประเทศ</td>\n",
              "      <td>กรุงเทพมหานคร</td>\n",
              "      <td>NaN</td>\n",
              "    </tr>\n",
              "    <tr>\n",
              "      <th>2</th>\n",
              "      <td>3</td>\n",
              "      <td>22/1/2020</td>\n",
              "      <td>NaN</td>\n",
              "      <td>หญิง</td>\n",
              "      <td>73.0</td>\n",
              "      <td>ปี</td>\n",
              "      <td>Thailand</td>\n",
              "      <td>นครปฐม</td>\n",
              "      <td>คนต่างชาติเดินทางมาจากต่างประเทศ</td>\n",
              "      <td>นครปฐม</td>\n",
              "      <td>เมือง</td>\n",
              "    </tr>\n",
              "    <tr>\n",
              "      <th>7</th>\n",
              "      <td>8</td>\n",
              "      <td>26/1/2020</td>\n",
              "      <td>NaN</td>\n",
              "      <td>หญิง</td>\n",
              "      <td>73.0</td>\n",
              "      <td>ปี</td>\n",
              "      <td>China</td>\n",
              "      <td>ประจวบคีรีขันธ์</td>\n",
              "      <td>คนต่างชาติเดินทางมาจากต่างประเทศ</td>\n",
              "      <td>ประจวบคีรีขันธ์</td>\n",
              "      <td>หัวหิน</td>\n",
              "    </tr>\n",
              "    <tr>\n",
              "      <th>82</th>\n",
              "      <td>83</td>\n",
              "      <td>15/3/2020</td>\n",
              "      <td>NaN</td>\n",
              "      <td>ชาย</td>\n",
              "      <td>76.0</td>\n",
              "      <td>ปี</td>\n",
              "      <td>Thailand</td>\n",
              "      <td>กรุงเทพมหานคร</td>\n",
              "      <td>สนามมวย</td>\n",
              "      <td>กรุงเทพมหานคร</td>\n",
              "      <td>NaN</td>\n",
              "    </tr>\n",
              "    <tr>\n",
              "      <th>119</th>\n",
              "      <td>120</td>\n",
              "      <td>16/3/2020</td>\n",
              "      <td>NaN</td>\n",
              "      <td>ชาย</td>\n",
              "      <td>73.0</td>\n",
              "      <td>ปี</td>\n",
              "      <td>Thailand</td>\n",
              "      <td>กรุงเทพมหานคร</td>\n",
              "      <td>สนามมวย</td>\n",
              "      <td>ฉะเชิงเทรา</td>\n",
              "      <td>NaN</td>\n",
              "    </tr>\n",
              "    <tr>\n",
              "      <th>...</th>\n",
              "      <td>...</td>\n",
              "      <td>...</td>\n",
              "      <td>...</td>\n",
              "      <td>...</td>\n",
              "      <td>...</td>\n",
              "      <td>...</td>\n",
              "      <td>...</td>\n",
              "      <td>...</td>\n",
              "      <td>...</td>\n",
              "      <td>...</td>\n",
              "      <td>...</td>\n",
              "    </tr>\n",
              "    <tr>\n",
              "      <th>511418</th>\n",
              "      <td>511419</td>\n",
              "      <td>26/7/2021</td>\n",
              "      <td>25/7/2021</td>\n",
              "      <td>หญิง</td>\n",
              "      <td>73.0</td>\n",
              "      <td>ปี</td>\n",
              "      <td>Thailand</td>\n",
              "      <td>กรุงเทพมหานคร</td>\n",
              "      <td>การค้นหาผู้ป่วยเชิงรุกและค้นหาผู้ติดเชื้อในชุมชน</td>\n",
              "      <td>กรุงเทพมหานคร</td>\n",
              "      <td>ราชเทวี</td>\n",
              "    </tr>\n",
              "    <tr>\n",
              "      <th>511463</th>\n",
              "      <td>511464</td>\n",
              "      <td>26/7/2021</td>\n",
              "      <td>25/7/2021</td>\n",
              "      <td>หญิง</td>\n",
              "      <td>83.0</td>\n",
              "      <td>ปี</td>\n",
              "      <td>NaN</td>\n",
              "      <td>กรุงเทพมหานคร</td>\n",
              "      <td>การค้นหาผู้ป่วยเชิงรุกและค้นหาผู้ติดเชื้อในชุมชน</td>\n",
              "      <td>กรุงเทพมหานคร</td>\n",
              "      <td>บางบอน</td>\n",
              "    </tr>\n",
              "    <tr>\n",
              "      <th>511488</th>\n",
              "      <td>511489</td>\n",
              "      <td>26/7/2021</td>\n",
              "      <td>25/7/2021</td>\n",
              "      <td>ชาย</td>\n",
              "      <td>80.0</td>\n",
              "      <td>ปี</td>\n",
              "      <td>Thailand</td>\n",
              "      <td>กรุงเทพมหานคร</td>\n",
              "      <td>การค้นหาผู้ป่วยเชิงรุกและค้นหาผู้ติดเชื้อในชุมชน</td>\n",
              "      <td>กรุงเทพมหานคร</td>\n",
              "      <td>บางบอน</td>\n",
              "    </tr>\n",
              "    <tr>\n",
              "      <th>511506</th>\n",
              "      <td>511507</td>\n",
              "      <td>26/7/2021</td>\n",
              "      <td>25/7/2021</td>\n",
              "      <td>ชาย</td>\n",
              "      <td>71.0</td>\n",
              "      <td>ปี</td>\n",
              "      <td>Thailand</td>\n",
              "      <td>กรุงเทพมหานคร</td>\n",
              "      <td>การค้นหาผู้ป่วยเชิงรุกและค้นหาผู้ติดเชื้อในชุมชน</td>\n",
              "      <td>กรุงเทพมหานคร</td>\n",
              "      <td>สัมพันธวงศ์</td>\n",
              "    </tr>\n",
              "    <tr>\n",
              "      <th>511561</th>\n",
              "      <td>511562</td>\n",
              "      <td>26/7/2021</td>\n",
              "      <td>25/7/2021</td>\n",
              "      <td>ชาย</td>\n",
              "      <td>75.0</td>\n",
              "      <td>ปี</td>\n",
              "      <td>Thailand</td>\n",
              "      <td>กรุงเทพมหานคร</td>\n",
              "      <td>การค้นหาผู้ป่วยเชิงรุกและค้นหาผู้ติดเชื้อในชุมชน</td>\n",
              "      <td>กรุงเทพมหานคร</td>\n",
              "      <td>ธนบุรี</td>\n",
              "    </tr>\n",
              "  </tbody>\n",
              "</table>\n",
              "<p>11623 rows × 11 columns</p>\n",
              "</div>"
            ],
            "text/plain": [
              "           No. announce_date  ... province_of_onset district_of_onset\n",
              "1            2     17/1/2020  ...     กรุงเทพมหานคร               NaN\n",
              "2            3     22/1/2020  ...            นครปฐม             เมือง\n",
              "7            8     26/1/2020  ...   ประจวบคีรีขันธ์            หัวหิน\n",
              "82          83     15/3/2020  ...     กรุงเทพมหานคร               NaN\n",
              "119        120     16/3/2020  ...        ฉะเชิงเทรา               NaN\n",
              "...        ...           ...  ...               ...               ...\n",
              "511418  511419     26/7/2021  ...     กรุงเทพมหานคร           ราชเทวี\n",
              "511463  511464     26/7/2021  ...     กรุงเทพมหานคร            บางบอน\n",
              "511488  511489     26/7/2021  ...     กรุงเทพมหานคร            บางบอน\n",
              "511506  511507     26/7/2021  ...     กรุงเทพมหานคร       สัมพันธวงศ์\n",
              "511561  511562     26/7/2021  ...     กรุงเทพมหานคร            ธนบุรี\n",
              "\n",
              "[11623 rows x 11 columns]"
            ]
          },
          "metadata": {
            "tags": []
          },
          "execution_count": 491
        }
      ]
    },
    {
      "cell_type": "markdown",
      "metadata": {
        "id": "selQfPc-YEC2"
      },
      "source": [
        "## Quiz 4 + HW\n",
        "\n",
        "เลือก records ต่อไปนี้\n",
        "\n",
        "1. records ที่ กักตัวที่ขอนแก่น\n",
        "\n",
        "2. records ที่  กักตัวที่ ขอนแก่น+โคราช+อุดร\n",
        "\n",
        "3. records ที่ เป็นผู้หญิงที่พบเชื้อที่ กทม.\n",
        "\n",
        "4. records ที่ เป้นผู้ชาย อายุ 18-22 ปี ที่กักตัวที่เชียงใหม่\n",
        "\n",
        "    1.หาอายุเฉลี่ยของคนที่พบเชื้อที่ ขอนแก่น\n",
        "\n"
      ]
    },
    {
      "cell_type": "markdown",
      "metadata": {
        "id": "N2w4CiWIdmHe"
      },
      "source": [
        "1.records ที่ **กักตัวที่ขอนแก่น**"
      ]
    },
    {
      "cell_type": "code",
      "metadata": {
        "colab": {
          "base_uri": "https://localhost:8080/"
        },
        "id": "0Xg1Vym8XhAu",
        "outputId": "ad68aab9-93bc-4b57-c609-93f47365c6c2"
      },
      "source": [
        "data_cases2['province_of_isolation'] == 'ขอนแก่น'"
      ],
      "execution_count": 492,
      "outputs": [
        {
          "output_type": "execute_result",
          "data": {
            "text/plain": [
              "0         False\n",
              "1         False\n",
              "2         False\n",
              "3         False\n",
              "4         False\n",
              "          ...  \n",
              "512617    False\n",
              "512618    False\n",
              "512619    False\n",
              "512620    False\n",
              "512621    False\n",
              "Name: province_of_isolation, Length: 512622, dtype: bool"
            ]
          },
          "metadata": {
            "tags": []
          },
          "execution_count": 492
        }
      ]
    },
    {
      "cell_type": "code",
      "metadata": {
        "colab": {
          "base_uri": "https://localhost:8080/",
          "height": 0
        },
        "id": "MJPi7R1Xc8Bo",
        "outputId": "3842c57a-e75e-4717-eaf8-6235fbece5e6"
      },
      "source": [
        "data_cases2[data_cases2['province_of_isolation'] == 'ขอนแก่น' ]"
      ],
      "execution_count": 493,
      "outputs": [
        {
          "output_type": "execute_result",
          "data": {
            "text/html": [
              "<div>\n",
              "<style scoped>\n",
              "    .dataframe tbody tr th:only-of-type {\n",
              "        vertical-align: middle;\n",
              "    }\n",
              "\n",
              "    .dataframe tbody tr th {\n",
              "        vertical-align: top;\n",
              "    }\n",
              "\n",
              "    .dataframe thead th {\n",
              "        text-align: right;\n",
              "    }\n",
              "</style>\n",
              "<table border=\"1\" class=\"dataframe\">\n",
              "  <thead>\n",
              "    <tr style=\"text-align: right;\">\n",
              "      <th></th>\n",
              "      <th>No.</th>\n",
              "      <th>announce_date</th>\n",
              "      <th>Notified date</th>\n",
              "      <th>sex</th>\n",
              "      <th>age</th>\n",
              "      <th>Unit</th>\n",
              "      <th>nationality</th>\n",
              "      <th>province_of_isolation</th>\n",
              "      <th>risk</th>\n",
              "      <th>province_of_onset</th>\n",
              "      <th>district_of_onset</th>\n",
              "    </tr>\n",
              "  </thead>\n",
              "  <tbody>\n",
              "    <tr>\n",
              "      <th>181</th>\n",
              "      <td>182</td>\n",
              "      <td>18/3/2020</td>\n",
              "      <td>15/3/2020</td>\n",
              "      <td>ชาย</td>\n",
              "      <td>33.0</td>\n",
              "      <td>ปี</td>\n",
              "      <td>Thailand</td>\n",
              "      <td>ขอนแก่น</td>\n",
              "      <td>สนามมวย</td>\n",
              "      <td>ขอนแก่น</td>\n",
              "      <td>เมือง</td>\n",
              "    </tr>\n",
              "    <tr>\n",
              "      <th>463</th>\n",
              "      <td>464</td>\n",
              "      <td>22/3/2020</td>\n",
              "      <td>21/3/2020</td>\n",
              "      <td>หญิง</td>\n",
              "      <td>36.0</td>\n",
              "      <td>ปี</td>\n",
              "      <td>Thailand</td>\n",
              "      <td>ขอนแก่น</td>\n",
              "      <td>สัมผัสใกล้ชิดกับผู้ป่วยยืนยันรายก่อนหน้านี้</td>\n",
              "      <td>ขอนแก่น</td>\n",
              "      <td>เมือง</td>\n",
              "    </tr>\n",
              "    <tr>\n",
              "      <th>1467</th>\n",
              "      <td>1468</td>\n",
              "      <td>30/3/2020</td>\n",
              "      <td>26/3/2020</td>\n",
              "      <td>ชาย</td>\n",
              "      <td>19.0</td>\n",
              "      <td>ปี</td>\n",
              "      <td>Thailand</td>\n",
              "      <td>ขอนแก่น</td>\n",
              "      <td>คนไทยเดินทางกลับจากต่างประเทศ</td>\n",
              "      <td>ขอนแก่น</td>\n",
              "      <td>เมือง</td>\n",
              "    </tr>\n",
              "    <tr>\n",
              "      <th>1971</th>\n",
              "      <td>1972</td>\n",
              "      <td>3/4/2020</td>\n",
              "      <td>31/3/2020</td>\n",
              "      <td>หญิง</td>\n",
              "      <td>70.0</td>\n",
              "      <td>ปี</td>\n",
              "      <td>Thailand</td>\n",
              "      <td>ขอนแก่น</td>\n",
              "      <td>ไปสถานที่ชุมชน เช่น ตลาดนัด สถานที่ท่องเที่ยว</td>\n",
              "      <td>ขอนแก่น</td>\n",
              "      <td>เมือง</td>\n",
              "    </tr>\n",
              "    <tr>\n",
              "      <th>2638</th>\n",
              "      <td>2639</td>\n",
              "      <td>15/4/2020</td>\n",
              "      <td>14/4/2020</td>\n",
              "      <td>หญิง</td>\n",
              "      <td>63.0</td>\n",
              "      <td>ปี</td>\n",
              "      <td>Thailand</td>\n",
              "      <td>ขอนแก่น</td>\n",
              "      <td>สัมผัสผู้เดินทางจากต่างประเทศ</td>\n",
              "      <td>ขอนแก่น</td>\n",
              "      <td>น้ำพอง</td>\n",
              "    </tr>\n",
              "    <tr>\n",
              "      <th>...</th>\n",
              "      <td>...</td>\n",
              "      <td>...</td>\n",
              "      <td>...</td>\n",
              "      <td>...</td>\n",
              "      <td>...</td>\n",
              "      <td>...</td>\n",
              "      <td>...</td>\n",
              "      <td>...</td>\n",
              "      <td>...</td>\n",
              "      <td>...</td>\n",
              "      <td>...</td>\n",
              "    </tr>\n",
              "    <tr>\n",
              "      <th>505598</th>\n",
              "      <td>505599</td>\n",
              "      <td>26/7/2021</td>\n",
              "      <td>25/7/2021</td>\n",
              "      <td>ชาย</td>\n",
              "      <td>19.0</td>\n",
              "      <td>ปี</td>\n",
              "      <td>Thailand</td>\n",
              "      <td>ขอนแก่น</td>\n",
              "      <td>การค้นหาผู้ป่วยเชิงรุกและค้นหาผู้ติดเชื้อในชุมชน</td>\n",
              "      <td>ขอนแก่น</td>\n",
              "      <td>ภูเวียง</td>\n",
              "    </tr>\n",
              "    <tr>\n",
              "      <th>505599</th>\n",
              "      <td>505600</td>\n",
              "      <td>26/7/2021</td>\n",
              "      <td>25/7/2021</td>\n",
              "      <td>ชาย</td>\n",
              "      <td>37.0</td>\n",
              "      <td>ปี</td>\n",
              "      <td>Thailand</td>\n",
              "      <td>ขอนแก่น</td>\n",
              "      <td>การค้นหาผู้ป่วยเชิงรุกและค้นหาผู้ติดเชื้อในชุมชน</td>\n",
              "      <td>ขอนแก่น</td>\n",
              "      <td>ภูเวียง</td>\n",
              "    </tr>\n",
              "    <tr>\n",
              "      <th>511809</th>\n",
              "      <td>511810</td>\n",
              "      <td>26/7/2021</td>\n",
              "      <td>25/7/2021</td>\n",
              "      <td>ชาย</td>\n",
              "      <td>NaN</td>\n",
              "      <td>NaN</td>\n",
              "      <td>NaN</td>\n",
              "      <td>ขอนแก่น</td>\n",
              "      <td>ทัณฑสถาน/เรือนจำ</td>\n",
              "      <td>NaN</td>\n",
              "      <td>NaN</td>\n",
              "    </tr>\n",
              "    <tr>\n",
              "      <th>511810</th>\n",
              "      <td>511811</td>\n",
              "      <td>26/7/2021</td>\n",
              "      <td>25/7/2021</td>\n",
              "      <td>ชาย</td>\n",
              "      <td>NaN</td>\n",
              "      <td>NaN</td>\n",
              "      <td>NaN</td>\n",
              "      <td>ขอนแก่น</td>\n",
              "      <td>ทัณฑสถาน/เรือนจำ</td>\n",
              "      <td>NaN</td>\n",
              "      <td>NaN</td>\n",
              "    </tr>\n",
              "    <tr>\n",
              "      <th>511811</th>\n",
              "      <td>511812</td>\n",
              "      <td>26/7/2021</td>\n",
              "      <td>25/7/2021</td>\n",
              "      <td>ชาย</td>\n",
              "      <td>NaN</td>\n",
              "      <td>NaN</td>\n",
              "      <td>NaN</td>\n",
              "      <td>ขอนแก่น</td>\n",
              "      <td>ทัณฑสถาน/เรือนจำ</td>\n",
              "      <td>NaN</td>\n",
              "      <td>NaN</td>\n",
              "    </tr>\n",
              "  </tbody>\n",
              "</table>\n",
              "<p>3707 rows × 11 columns</p>\n",
              "</div>"
            ],
            "text/plain": [
              "           No. announce_date  ... province_of_onset district_of_onset\n",
              "181        182     18/3/2020  ...           ขอนแก่น             เมือง\n",
              "463        464     22/3/2020  ...           ขอนแก่น             เมือง\n",
              "1467      1468     30/3/2020  ...           ขอนแก่น             เมือง\n",
              "1971      1972      3/4/2020  ...           ขอนแก่น             เมือง\n",
              "2638      2639     15/4/2020  ...           ขอนแก่น            น้ำพอง\n",
              "...        ...           ...  ...               ...               ...\n",
              "505598  505599     26/7/2021  ...           ขอนแก่น           ภูเวียง\n",
              "505599  505600     26/7/2021  ...           ขอนแก่น           ภูเวียง\n",
              "511809  511810     26/7/2021  ...               NaN               NaN\n",
              "511810  511811     26/7/2021  ...               NaN               NaN\n",
              "511811  511812     26/7/2021  ...               NaN               NaN\n",
              "\n",
              "[3707 rows x 11 columns]"
            ]
          },
          "metadata": {
            "tags": []
          },
          "execution_count": 493
        }
      ]
    },
    {
      "cell_type": "markdown",
      "metadata": {
        "id": "X18CIpYbdtLc"
      },
      "source": [
        "2.records ที่ กักตัวที่ ขอนแก่น+โคราช+อุดร"
      ]
    },
    {
      "cell_type": "code",
      "metadata": {
        "id": "1pP9valKdKYF",
        "colab": {
          "base_uri": "https://localhost:8080/",
          "height": 0
        },
        "outputId": "29f63f72-b66f-4dfc-fcab-19dce98b08c8"
      },
      "source": [
        "data_cases2[(data_cases2['province_of_isolation']=='ขอนแก่น') | \n",
        "            (data_cases2['province_of_isolation']=='นครราชสีมา') | \n",
        "            (data_cases2['province_of_isolation']=='อุดรธานี')]"
      ],
      "execution_count": 494,
      "outputs": [
        {
          "output_type": "execute_result",
          "data": {
            "text/html": [
              "<div>\n",
              "<style scoped>\n",
              "    .dataframe tbody tr th:only-of-type {\n",
              "        vertical-align: middle;\n",
              "    }\n",
              "\n",
              "    .dataframe tbody tr th {\n",
              "        vertical-align: top;\n",
              "    }\n",
              "\n",
              "    .dataframe thead th {\n",
              "        text-align: right;\n",
              "    }\n",
              "</style>\n",
              "<table border=\"1\" class=\"dataframe\">\n",
              "  <thead>\n",
              "    <tr style=\"text-align: right;\">\n",
              "      <th></th>\n",
              "      <th>No.</th>\n",
              "      <th>announce_date</th>\n",
              "      <th>Notified date</th>\n",
              "      <th>sex</th>\n",
              "      <th>age</th>\n",
              "      <th>Unit</th>\n",
              "      <th>nationality</th>\n",
              "      <th>province_of_isolation</th>\n",
              "      <th>risk</th>\n",
              "      <th>province_of_onset</th>\n",
              "      <th>district_of_onset</th>\n",
              "    </tr>\n",
              "  </thead>\n",
              "  <tbody>\n",
              "    <tr>\n",
              "      <th>181</th>\n",
              "      <td>182</td>\n",
              "      <td>18/3/2020</td>\n",
              "      <td>15/3/2020</td>\n",
              "      <td>ชาย</td>\n",
              "      <td>33.0</td>\n",
              "      <td>ปี</td>\n",
              "      <td>Thailand</td>\n",
              "      <td>ขอนแก่น</td>\n",
              "      <td>สนามมวย</td>\n",
              "      <td>ขอนแก่น</td>\n",
              "      <td>เมือง</td>\n",
              "    </tr>\n",
              "    <tr>\n",
              "      <th>189</th>\n",
              "      <td>190</td>\n",
              "      <td>18/3/2020</td>\n",
              "      <td>16/3/2020</td>\n",
              "      <td>ชาย</td>\n",
              "      <td>57.0</td>\n",
              "      <td>ปี</td>\n",
              "      <td>Thailand</td>\n",
              "      <td>นครราชสีมา</td>\n",
              "      <td>สนามมวย</td>\n",
              "      <td>นครราชสีมา</td>\n",
              "      <td>พิมาย</td>\n",
              "    </tr>\n",
              "    <tr>\n",
              "      <th>207</th>\n",
              "      <td>208</td>\n",
              "      <td>18/3/2020</td>\n",
              "      <td>16/3/2020</td>\n",
              "      <td>หญิง</td>\n",
              "      <td>30.0</td>\n",
              "      <td>ปี</td>\n",
              "      <td>Thailand</td>\n",
              "      <td>นครราชสีมา</td>\n",
              "      <td>สถานบันเทิง</td>\n",
              "      <td>กรุงเทพมหานคร</td>\n",
              "      <td>NaN</td>\n",
              "    </tr>\n",
              "    <tr>\n",
              "      <th>212</th>\n",
              "      <td>213</td>\n",
              "      <td>18/3/2020</td>\n",
              "      <td>14/3/2020</td>\n",
              "      <td>หญิง</td>\n",
              "      <td>22.0</td>\n",
              "      <td>ปี</td>\n",
              "      <td>Thailand</td>\n",
              "      <td>นครราชสีมา</td>\n",
              "      <td>ไปสถานที่ชุมชน เช่น ตลาดนัด สถานที่ท่องเที่ยว</td>\n",
              "      <td>นครราชสีมา</td>\n",
              "      <td>วังน้ำเขียว</td>\n",
              "    </tr>\n",
              "    <tr>\n",
              "      <th>284</th>\n",
              "      <td>285</td>\n",
              "      <td>20/3/2020</td>\n",
              "      <td>17/3/2020</td>\n",
              "      <td>ชาย</td>\n",
              "      <td>42.0</td>\n",
              "      <td>ปี</td>\n",
              "      <td>Thailand</td>\n",
              "      <td>นครราชสีมา</td>\n",
              "      <td>สนามมวย</td>\n",
              "      <td>นครราชสีมา</td>\n",
              "      <td>เมืองนครราชสีมา</td>\n",
              "    </tr>\n",
              "    <tr>\n",
              "      <th>...</th>\n",
              "      <td>...</td>\n",
              "      <td>...</td>\n",
              "      <td>...</td>\n",
              "      <td>...</td>\n",
              "      <td>...</td>\n",
              "      <td>...</td>\n",
              "      <td>...</td>\n",
              "      <td>...</td>\n",
              "      <td>...</td>\n",
              "      <td>...</td>\n",
              "      <td>...</td>\n",
              "    </tr>\n",
              "    <tr>\n",
              "      <th>507218</th>\n",
              "      <td>507219</td>\n",
              "      <td>26/7/2021</td>\n",
              "      <td>25/7/2021</td>\n",
              "      <td>หญิง</td>\n",
              "      <td>NaN</td>\n",
              "      <td>NaN</td>\n",
              "      <td>Thailand</td>\n",
              "      <td>นครราชสีมา</td>\n",
              "      <td>อยู่ระหว่างการสอบสวน</td>\n",
              "      <td>NaN</td>\n",
              "      <td>NaN</td>\n",
              "    </tr>\n",
              "    <tr>\n",
              "      <th>507219</th>\n",
              "      <td>507220</td>\n",
              "      <td>26/7/2021</td>\n",
              "      <td>25/7/2021</td>\n",
              "      <td>ชาย</td>\n",
              "      <td>NaN</td>\n",
              "      <td>NaN</td>\n",
              "      <td>Thailand</td>\n",
              "      <td>นครราชสีมา</td>\n",
              "      <td>อยู่ระหว่างการสอบสวน</td>\n",
              "      <td>NaN</td>\n",
              "      <td>NaN</td>\n",
              "    </tr>\n",
              "    <tr>\n",
              "      <th>511809</th>\n",
              "      <td>511810</td>\n",
              "      <td>26/7/2021</td>\n",
              "      <td>25/7/2021</td>\n",
              "      <td>ชาย</td>\n",
              "      <td>NaN</td>\n",
              "      <td>NaN</td>\n",
              "      <td>NaN</td>\n",
              "      <td>ขอนแก่น</td>\n",
              "      <td>ทัณฑสถาน/เรือนจำ</td>\n",
              "      <td>NaN</td>\n",
              "      <td>NaN</td>\n",
              "    </tr>\n",
              "    <tr>\n",
              "      <th>511810</th>\n",
              "      <td>511811</td>\n",
              "      <td>26/7/2021</td>\n",
              "      <td>25/7/2021</td>\n",
              "      <td>ชาย</td>\n",
              "      <td>NaN</td>\n",
              "      <td>NaN</td>\n",
              "      <td>NaN</td>\n",
              "      <td>ขอนแก่น</td>\n",
              "      <td>ทัณฑสถาน/เรือนจำ</td>\n",
              "      <td>NaN</td>\n",
              "      <td>NaN</td>\n",
              "    </tr>\n",
              "    <tr>\n",
              "      <th>511811</th>\n",
              "      <td>511812</td>\n",
              "      <td>26/7/2021</td>\n",
              "      <td>25/7/2021</td>\n",
              "      <td>ชาย</td>\n",
              "      <td>NaN</td>\n",
              "      <td>NaN</td>\n",
              "      <td>NaN</td>\n",
              "      <td>ขอนแก่น</td>\n",
              "      <td>ทัณฑสถาน/เรือนจำ</td>\n",
              "      <td>NaN</td>\n",
              "      <td>NaN</td>\n",
              "    </tr>\n",
              "  </tbody>\n",
              "</table>\n",
              "<p>10539 rows × 11 columns</p>\n",
              "</div>"
            ],
            "text/plain": [
              "           No. announce_date  ... province_of_onset district_of_onset\n",
              "181        182     18/3/2020  ...           ขอนแก่น             เมือง\n",
              "189        190     18/3/2020  ...        นครราชสีมา             พิมาย\n",
              "207        208     18/3/2020  ...     กรุงเทพมหานคร               NaN\n",
              "212        213     18/3/2020  ...        นครราชสีมา       วังน้ำเขียว\n",
              "284        285     20/3/2020  ...        นครราชสีมา   เมืองนครราชสีมา\n",
              "...        ...           ...  ...               ...               ...\n",
              "507218  507219     26/7/2021  ...               NaN               NaN\n",
              "507219  507220     26/7/2021  ...               NaN               NaN\n",
              "511809  511810     26/7/2021  ...               NaN               NaN\n",
              "511810  511811     26/7/2021  ...               NaN               NaN\n",
              "511811  511812     26/7/2021  ...               NaN               NaN\n",
              "\n",
              "[10539 rows x 11 columns]"
            ]
          },
          "metadata": {
            "tags": []
          },
          "execution_count": 494
        }
      ]
    },
    {
      "cell_type": "markdown",
      "metadata": {
        "id": "bb8y6CRb0T5x"
      },
      "source": [
        "3.records ที่ เป็นผู้หญิงที่พบเชื้อที่ กทม"
      ]
    },
    {
      "cell_type": "code",
      "metadata": {
        "id": "cwJ6ty5M0QMs",
        "colab": {
          "base_uri": "https://localhost:8080/",
          "height": 0
        },
        "outputId": "e96f3753-3032-44cc-d970-534932885bf9"
      },
      "source": [
        "data_cases2[(data_cases2['district_of_onset']=='กรุงเทพมหานคร') & (data_cases2['sex']=='หญิง')]"
      ],
      "execution_count": 495,
      "outputs": [
        {
          "output_type": "execute_result",
          "data": {
            "text/html": [
              "<div>\n",
              "<style scoped>\n",
              "    .dataframe tbody tr th:only-of-type {\n",
              "        vertical-align: middle;\n",
              "    }\n",
              "\n",
              "    .dataframe tbody tr th {\n",
              "        vertical-align: top;\n",
              "    }\n",
              "\n",
              "    .dataframe thead th {\n",
              "        text-align: right;\n",
              "    }\n",
              "</style>\n",
              "<table border=\"1\" class=\"dataframe\">\n",
              "  <thead>\n",
              "    <tr style=\"text-align: right;\">\n",
              "      <th></th>\n",
              "      <th>No.</th>\n",
              "      <th>announce_date</th>\n",
              "      <th>Notified date</th>\n",
              "      <th>sex</th>\n",
              "      <th>age</th>\n",
              "      <th>Unit</th>\n",
              "      <th>nationality</th>\n",
              "      <th>province_of_isolation</th>\n",
              "      <th>risk</th>\n",
              "      <th>province_of_onset</th>\n",
              "      <th>district_of_onset</th>\n",
              "    </tr>\n",
              "  </thead>\n",
              "  <tbody>\n",
              "    <tr>\n",
              "      <th>292</th>\n",
              "      <td>293</td>\n",
              "      <td>20/3/2020</td>\n",
              "      <td>22/3/2020</td>\n",
              "      <td>หญิง</td>\n",
              "      <td>24.0</td>\n",
              "      <td>ปี</td>\n",
              "      <td>Thailand</td>\n",
              "      <td>กรุงเทพมหานคร</td>\n",
              "      <td>สถานบันเทิง</td>\n",
              "      <td>กรุงเทพมหานคร</td>\n",
              "      <td>กรุงเทพมหานคร</td>\n",
              "    </tr>\n",
              "    <tr>\n",
              "      <th>318</th>\n",
              "      <td>319</td>\n",
              "      <td>20/3/2020</td>\n",
              "      <td>20/3/2020</td>\n",
              "      <td>หญิง</td>\n",
              "      <td>35.0</td>\n",
              "      <td>ปี</td>\n",
              "      <td>Thailand</td>\n",
              "      <td>กรุงเทพมหานคร</td>\n",
              "      <td>สถานบันเทิง</td>\n",
              "      <td>กรุงเทพมหานคร</td>\n",
              "      <td>กรุงเทพมหานคร</td>\n",
              "    </tr>\n",
              "    <tr>\n",
              "      <th>1928</th>\n",
              "      <td>1929</td>\n",
              "      <td>3/4/2020</td>\n",
              "      <td>2/4/2020</td>\n",
              "      <td>หญิง</td>\n",
              "      <td>23.0</td>\n",
              "      <td>ปี</td>\n",
              "      <td>Thailand</td>\n",
              "      <td>พิษณุโลก</td>\n",
              "      <td>คนไทยเดินทางกลับจากต่างประเทศ</td>\n",
              "      <td>กรุงเทพมหานคร</td>\n",
              "      <td>กรุงเทพมหานคร</td>\n",
              "    </tr>\n",
              "    <tr>\n",
              "      <th>30541</th>\n",
              "      <td>30542</td>\n",
              "      <td>9/4/2021</td>\n",
              "      <td>8/4/2021</td>\n",
              "      <td>หญิง</td>\n",
              "      <td>31.0</td>\n",
              "      <td>ปี</td>\n",
              "      <td>Thailand</td>\n",
              "      <td>ชลบุรี</td>\n",
              "      <td>อยู่ระหว่างการสอบสวน</td>\n",
              "      <td>ชลบุรี</td>\n",
              "      <td>กรุงเทพมหานคร</td>\n",
              "    </tr>\n",
              "    <tr>\n",
              "      <th>208455</th>\n",
              "      <td>208456</td>\n",
              "      <td>18/6/2021</td>\n",
              "      <td>17/6/2021</td>\n",
              "      <td>หญิง</td>\n",
              "      <td>9.0</td>\n",
              "      <td>ปี</td>\n",
              "      <td>Thailand</td>\n",
              "      <td>สมุทรปราการ</td>\n",
              "      <td>สัมผัสใกล้ชิดกับผู้ป่วยยืนยันรายก่อนหน้านี้</td>\n",
              "      <td>สมุทรปราการ</td>\n",
              "      <td>กรุงเทพมหานคร</td>\n",
              "    </tr>\n",
              "    <tr>\n",
              "      <th>...</th>\n",
              "      <td>...</td>\n",
              "      <td>...</td>\n",
              "      <td>...</td>\n",
              "      <td>...</td>\n",
              "      <td>...</td>\n",
              "      <td>...</td>\n",
              "      <td>...</td>\n",
              "      <td>...</td>\n",
              "      <td>...</td>\n",
              "      <td>...</td>\n",
              "      <td>...</td>\n",
              "    </tr>\n",
              "    <tr>\n",
              "      <th>429001</th>\n",
              "      <td>429002</td>\n",
              "      <td>21/7/2021</td>\n",
              "      <td>20/7/2021</td>\n",
              "      <td>หญิง</td>\n",
              "      <td>29.0</td>\n",
              "      <td>ปี</td>\n",
              "      <td>Thailand</td>\n",
              "      <td>สมุทรสาคร</td>\n",
              "      <td>อื่นๆ</td>\n",
              "      <td>กรุงเทพมหานคร</td>\n",
              "      <td>กรุงเทพมหานคร</td>\n",
              "    </tr>\n",
              "    <tr>\n",
              "      <th>461987</th>\n",
              "      <td>461988</td>\n",
              "      <td>23/7/2021</td>\n",
              "      <td>22/7/2021</td>\n",
              "      <td>หญิง</td>\n",
              "      <td>27.0</td>\n",
              "      <td>ปี</td>\n",
              "      <td>Thailand</td>\n",
              "      <td>มุกดาหาร</td>\n",
              "      <td>อื่นๆ</td>\n",
              "      <td>กรุงเทพมหานคร</td>\n",
              "      <td>กรุงเทพมหานคร</td>\n",
              "    </tr>\n",
              "    <tr>\n",
              "      <th>471588</th>\n",
              "      <td>471589</td>\n",
              "      <td>24/7/2021</td>\n",
              "      <td>23/7/2021</td>\n",
              "      <td>หญิง</td>\n",
              "      <td>37.0</td>\n",
              "      <td>ปี</td>\n",
              "      <td>Thailand</td>\n",
              "      <td>กาญจนบุรี</td>\n",
              "      <td>อื่นๆ</td>\n",
              "      <td>กรุงเทพมหานคร</td>\n",
              "      <td>กรุงเทพมหานคร</td>\n",
              "    </tr>\n",
              "    <tr>\n",
              "      <th>471589</th>\n",
              "      <td>471590</td>\n",
              "      <td>24/7/2021</td>\n",
              "      <td>23/7/2021</td>\n",
              "      <td>หญิง</td>\n",
              "      <td>43.0</td>\n",
              "      <td>ปี</td>\n",
              "      <td>Thailand</td>\n",
              "      <td>กาญจนบุรี</td>\n",
              "      <td>อื่นๆ</td>\n",
              "      <td>กรุงเทพมหานคร</td>\n",
              "      <td>กรุงเทพมหานคร</td>\n",
              "    </tr>\n",
              "    <tr>\n",
              "      <th>488250</th>\n",
              "      <td>488251</td>\n",
              "      <td>25/7/2021</td>\n",
              "      <td>24/7/2021</td>\n",
              "      <td>หญิง</td>\n",
              "      <td>48.0</td>\n",
              "      <td>ปี</td>\n",
              "      <td>Thailand</td>\n",
              "      <td>ฉะเชิงเทรา</td>\n",
              "      <td>สัมผัสใกล้ชิดกับผู้ป่วยยืนยันรายก่อนหน้านี้</td>\n",
              "      <td>ฉะเชิงเทรา</td>\n",
              "      <td>กรุงเทพมหานคร</td>\n",
              "    </tr>\n",
              "  </tbody>\n",
              "</table>\n",
              "<p>77 rows × 11 columns</p>\n",
              "</div>"
            ],
            "text/plain": [
              "           No. announce_date  ... province_of_onset district_of_onset\n",
              "292        293     20/3/2020  ...     กรุงเทพมหานคร     กรุงเทพมหานคร\n",
              "318        319     20/3/2020  ...     กรุงเทพมหานคร     กรุงเทพมหานคร\n",
              "1928      1929      3/4/2020  ...     กรุงเทพมหานคร     กรุงเทพมหานคร\n",
              "30541    30542      9/4/2021  ...            ชลบุรี     กรุงเทพมหานคร\n",
              "208455  208456     18/6/2021  ...       สมุทรปราการ     กรุงเทพมหานคร\n",
              "...        ...           ...  ...               ...               ...\n",
              "429001  429002     21/7/2021  ...     กรุงเทพมหานคร     กรุงเทพมหานคร\n",
              "461987  461988     23/7/2021  ...     กรุงเทพมหานคร     กรุงเทพมหานคร\n",
              "471588  471589     24/7/2021  ...     กรุงเทพมหานคร     กรุงเทพมหานคร\n",
              "471589  471590     24/7/2021  ...     กรุงเทพมหานคร     กรุงเทพมหานคร\n",
              "488250  488251     25/7/2021  ...        ฉะเชิงเทรา     กรุงเทพมหานคร\n",
              "\n",
              "[77 rows x 11 columns]"
            ]
          },
          "metadata": {
            "tags": []
          },
          "execution_count": 495
        }
      ]
    },
    {
      "cell_type": "markdown",
      "metadata": {
        "id": "R85BtGUY0eXJ"
      },
      "source": [
        "4.records ที่ เป็นผู้ชาย อายุ 18-22 ปี ที่กักตัวที่เชียงใหม่"
      ]
    },
    {
      "cell_type": "code",
      "metadata": {
        "colab": {
          "base_uri": "https://localhost:8080/",
          "height": 0
        },
        "id": "Bd8o7FIM-Noi",
        "outputId": "a0b37122-2c4e-4184-813e-ef38a4582b3b"
      },
      "source": [
        "c1 = data_cases2['sex'] == 'ชาย'\n",
        "c2 = data_cases2['age'] >= 18\n",
        "c3 = data_cases2['age'] <= 22\n",
        "c4 = data_cases2['province_of_isolation'] == 'เชียงใหม่'\n",
        "\n",
        "data_cases2[c1 & c2 & c3 & c4]"
      ],
      "execution_count": 496,
      "outputs": [
        {
          "output_type": "execute_result",
          "data": {
            "text/html": [
              "<div>\n",
              "<style scoped>\n",
              "    .dataframe tbody tr th:only-of-type {\n",
              "        vertical-align: middle;\n",
              "    }\n",
              "\n",
              "    .dataframe tbody tr th {\n",
              "        vertical-align: top;\n",
              "    }\n",
              "\n",
              "    .dataframe thead th {\n",
              "        text-align: right;\n",
              "    }\n",
              "</style>\n",
              "<table border=\"1\" class=\"dataframe\">\n",
              "  <thead>\n",
              "    <tr style=\"text-align: right;\">\n",
              "      <th></th>\n",
              "      <th>No.</th>\n",
              "      <th>announce_date</th>\n",
              "      <th>Notified date</th>\n",
              "      <th>sex</th>\n",
              "      <th>age</th>\n",
              "      <th>Unit</th>\n",
              "      <th>nationality</th>\n",
              "      <th>province_of_isolation</th>\n",
              "      <th>risk</th>\n",
              "      <th>province_of_onset</th>\n",
              "      <th>district_of_onset</th>\n",
              "    </tr>\n",
              "  </thead>\n",
              "  <tbody>\n",
              "    <tr>\n",
              "      <th>1407</th>\n",
              "      <td>1408</td>\n",
              "      <td>30/3/2020</td>\n",
              "      <td>29/3/2020</td>\n",
              "      <td>ชาย</td>\n",
              "      <td>21.0</td>\n",
              "      <td>ปี</td>\n",
              "      <td>Thailand</td>\n",
              "      <td>เชียงใหม่</td>\n",
              "      <td>สัมผัสใกล้ชิดกับผู้ป่วยยืนยันรายก่อนหน้านี้</td>\n",
              "      <td>เชียงใหม่</td>\n",
              "      <td>เมือง</td>\n",
              "    </tr>\n",
              "    <tr>\n",
              "      <th>30340</th>\n",
              "      <td>30341</td>\n",
              "      <td>9/4/2021</td>\n",
              "      <td>8/4/2021</td>\n",
              "      <td>ชาย</td>\n",
              "      <td>22.0</td>\n",
              "      <td>ปี</td>\n",
              "      <td>Thailand</td>\n",
              "      <td>เชียงใหม่</td>\n",
              "      <td>สถานบันเทิง</td>\n",
              "      <td>เชียงใหม่</td>\n",
              "      <td>เมืองเชียงใหม่</td>\n",
              "    </tr>\n",
              "    <tr>\n",
              "      <th>31499</th>\n",
              "      <td>31500</td>\n",
              "      <td>10/4/2021</td>\n",
              "      <td>9/4/2021</td>\n",
              "      <td>ชาย</td>\n",
              "      <td>22.0</td>\n",
              "      <td>ปี</td>\n",
              "      <td>Thailand</td>\n",
              "      <td>เชียงใหม่</td>\n",
              "      <td>สถานบันเทิง</td>\n",
              "      <td>เชียงใหม่</td>\n",
              "      <td>NaN</td>\n",
              "    </tr>\n",
              "    <tr>\n",
              "      <th>31500</th>\n",
              "      <td>31501</td>\n",
              "      <td>10/4/2021</td>\n",
              "      <td>9/4/2021</td>\n",
              "      <td>ชาย</td>\n",
              "      <td>22.0</td>\n",
              "      <td>ปี</td>\n",
              "      <td>Thailand</td>\n",
              "      <td>เชียงใหม่</td>\n",
              "      <td>สถานบันเทิง</td>\n",
              "      <td>เชียงใหม่</td>\n",
              "      <td>NaN</td>\n",
              "    </tr>\n",
              "    <tr>\n",
              "      <th>31501</th>\n",
              "      <td>31502</td>\n",
              "      <td>10/4/2021</td>\n",
              "      <td>9/4/2021</td>\n",
              "      <td>ชาย</td>\n",
              "      <td>20.0</td>\n",
              "      <td>ปี</td>\n",
              "      <td>Thailand</td>\n",
              "      <td>เชียงใหม่</td>\n",
              "      <td>สถานบันเทิง</td>\n",
              "      <td>เชียงใหม่</td>\n",
              "      <td>NaN</td>\n",
              "    </tr>\n",
              "    <tr>\n",
              "      <th>...</th>\n",
              "      <td>...</td>\n",
              "      <td>...</td>\n",
              "      <td>...</td>\n",
              "      <td>...</td>\n",
              "      <td>...</td>\n",
              "      <td>...</td>\n",
              "      <td>...</td>\n",
              "      <td>...</td>\n",
              "      <td>...</td>\n",
              "      <td>...</td>\n",
              "      <td>...</td>\n",
              "    </tr>\n",
              "    <tr>\n",
              "      <th>481940</th>\n",
              "      <td>481941</td>\n",
              "      <td>25/7/2021</td>\n",
              "      <td>24/7/2021</td>\n",
              "      <td>ชาย</td>\n",
              "      <td>21.0</td>\n",
              "      <td>ปี</td>\n",
              "      <td>Thailand</td>\n",
              "      <td>เชียงใหม่</td>\n",
              "      <td>สัมผัสใกล้ชิดกับผู้ป่วยยืนยันรายก่อนหน้านี้</td>\n",
              "      <td>เชียงใหม่</td>\n",
              "      <td>หางดง</td>\n",
              "    </tr>\n",
              "    <tr>\n",
              "      <th>481953</th>\n",
              "      <td>481954</td>\n",
              "      <td>25/7/2021</td>\n",
              "      <td>24/7/2021</td>\n",
              "      <td>ชาย</td>\n",
              "      <td>19.0</td>\n",
              "      <td>ปี</td>\n",
              "      <td>Thailand</td>\n",
              "      <td>เชียงใหม่</td>\n",
              "      <td>สัมผัสใกล้ชิดกับผู้ป่วยยืนยันรายก่อนหน้านี้</td>\n",
              "      <td>เชียงใหม่</td>\n",
              "      <td>หางดง</td>\n",
              "    </tr>\n",
              "    <tr>\n",
              "      <th>481961</th>\n",
              "      <td>481962</td>\n",
              "      <td>25/7/2021</td>\n",
              "      <td>24/7/2021</td>\n",
              "      <td>ชาย</td>\n",
              "      <td>22.0</td>\n",
              "      <td>ปี</td>\n",
              "      <td>Thailand</td>\n",
              "      <td>เชียงใหม่</td>\n",
              "      <td>สัมผัสใกล้ชิดกับผู้ป่วยยืนยันรายก่อนหน้านี้</td>\n",
              "      <td>เชียงใหม่</td>\n",
              "      <td>เชียงดาว</td>\n",
              "    </tr>\n",
              "    <tr>\n",
              "      <th>497281</th>\n",
              "      <td>497282</td>\n",
              "      <td>26/7/2021</td>\n",
              "      <td>25/7/2021</td>\n",
              "      <td>ชาย</td>\n",
              "      <td>22.0</td>\n",
              "      <td>ปี</td>\n",
              "      <td>NaN</td>\n",
              "      <td>เชียงใหม่</td>\n",
              "      <td>สัมผัสใกล้ชิดกับผู้ป่วยยืนยันรายก่อนหน้านี้</td>\n",
              "      <td>เชียงใหม่</td>\n",
              "      <td>เชียงดาว</td>\n",
              "    </tr>\n",
              "    <tr>\n",
              "      <th>497302</th>\n",
              "      <td>497303</td>\n",
              "      <td>26/7/2021</td>\n",
              "      <td>25/7/2021</td>\n",
              "      <td>ชาย</td>\n",
              "      <td>22.0</td>\n",
              "      <td>ปี</td>\n",
              "      <td>NaN</td>\n",
              "      <td>เชียงใหม่</td>\n",
              "      <td>สัมผัสใกล้ชิดกับผู้ป่วยยืนยันรายก่อนหน้านี้</td>\n",
              "      <td>เชียงใหม่</td>\n",
              "      <td>หางดง</td>\n",
              "    </tr>\n",
              "  </tbody>\n",
              "</table>\n",
              "<p>411 rows × 11 columns</p>\n",
              "</div>"
            ],
            "text/plain": [
              "           No. announce_date  ... province_of_onset district_of_onset\n",
              "1407      1408     30/3/2020  ...         เชียงใหม่             เมือง\n",
              "30340    30341      9/4/2021  ...         เชียงใหม่    เมืองเชียงใหม่\n",
              "31499    31500     10/4/2021  ...         เชียงใหม่               NaN\n",
              "31500    31501     10/4/2021  ...         เชียงใหม่               NaN\n",
              "31501    31502     10/4/2021  ...         เชียงใหม่               NaN\n",
              "...        ...           ...  ...               ...               ...\n",
              "481940  481941     25/7/2021  ...         เชียงใหม่             หางดง\n",
              "481953  481954     25/7/2021  ...         เชียงใหม่             หางดง\n",
              "481961  481962     25/7/2021  ...         เชียงใหม่          เชียงดาว\n",
              "497281  497282     26/7/2021  ...         เชียงใหม่          เชียงดาว\n",
              "497302  497303     26/7/2021  ...         เชียงใหม่             หางดง\n",
              "\n",
              "[411 rows x 11 columns]"
            ]
          },
          "metadata": {
            "tags": []
          },
          "execution_count": 496
        }
      ]
    },
    {
      "cell_type": "markdown",
      "metadata": {
        "id": "BuU6y2eC0nGN"
      },
      "source": [
        "5.อายุเฉลี่ยของคนที่พบเชื้อที่ขอนแก่น"
      ]
    },
    {
      "cell_type": "code",
      "metadata": {
        "colab": {
          "base_uri": "https://localhost:8080/"
        },
        "id": "jFmlsAms3rRQ",
        "outputId": "c7004433-a4ac-4cc0-aa8d-7b9bc510605b"
      },
      "source": [
        "KK_cases = data_cases2['province_of_onset'] == 'ขอนแก่น'  #ค่า mean\n",
        "KK_mean = data_cases2[KK_cases]['age'].mean()\n",
        "KK_mean"
      ],
      "execution_count": 497,
      "outputs": [
        {
          "output_type": "execute_result",
          "data": {
            "text/plain": [
              "34.0952533675433"
            ]
          },
          "metadata": {
            "tags": []
          },
          "execution_count": 497
        }
      ]
    },
    {
      "cell_type": "markdown",
      "metadata": {
        "id": "_Cn_OFw_4K58"
      },
      "source": [
        "###พบที่ขอนแก่น"
      ]
    },
    {
      "cell_type": "code",
      "metadata": {
        "colab": {
          "base_uri": "https://localhost:8080/",
          "height": 0
        },
        "id": "Rw71kb-94e4P",
        "outputId": "87763b33-1fc1-4ade-e20f-cd39afc0e1ee"
      },
      "source": [
        "data_cases[KK_cases]"
      ],
      "execution_count": 498,
      "outputs": [
        {
          "output_type": "execute_result",
          "data": {
            "text/html": [
              "<div>\n",
              "<style scoped>\n",
              "    .dataframe tbody tr th:only-of-type {\n",
              "        vertical-align: middle;\n",
              "    }\n",
              "\n",
              "    .dataframe tbody tr th {\n",
              "        vertical-align: top;\n",
              "    }\n",
              "\n",
              "    .dataframe thead th {\n",
              "        text-align: right;\n",
              "    }\n",
              "</style>\n",
              "<table border=\"1\" class=\"dataframe\">\n",
              "  <thead>\n",
              "    <tr style=\"text-align: right;\">\n",
              "      <th></th>\n",
              "      <th>No.</th>\n",
              "      <th>announce_date</th>\n",
              "      <th>Notified date</th>\n",
              "      <th>sex</th>\n",
              "      <th>age</th>\n",
              "      <th>Unit</th>\n",
              "      <th>nationality</th>\n",
              "      <th>province_of_isolation</th>\n",
              "      <th>risk</th>\n",
              "      <th>province_of_onset</th>\n",
              "      <th>district_of_onset</th>\n",
              "    </tr>\n",
              "  </thead>\n",
              "  <tbody>\n",
              "    <tr>\n",
              "      <th>181</th>\n",
              "      <td>182</td>\n",
              "      <td>18/3/2020</td>\n",
              "      <td>15/3/2020</td>\n",
              "      <td>ชาย</td>\n",
              "      <td>33.0</td>\n",
              "      <td>ปี</td>\n",
              "      <td>Thailand</td>\n",
              "      <td>ขอนแก่น</td>\n",
              "      <td>สนามมวย</td>\n",
              "      <td>ขอนแก่น</td>\n",
              "      <td>เมือง</td>\n",
              "    </tr>\n",
              "    <tr>\n",
              "      <th>463</th>\n",
              "      <td>464</td>\n",
              "      <td>22/3/2020</td>\n",
              "      <td>21/3/2020</td>\n",
              "      <td>หญิง</td>\n",
              "      <td>36.0</td>\n",
              "      <td>ปี</td>\n",
              "      <td>Thailand</td>\n",
              "      <td>ขอนแก่น</td>\n",
              "      <td>สัมผัสใกล้ชิดกับผู้ป่วยยืนยันรายก่อนหน้านี้</td>\n",
              "      <td>ขอนแก่น</td>\n",
              "      <td>เมือง</td>\n",
              "    </tr>\n",
              "    <tr>\n",
              "      <th>1467</th>\n",
              "      <td>1468</td>\n",
              "      <td>30/3/2020</td>\n",
              "      <td>26/3/2020</td>\n",
              "      <td>ชาย</td>\n",
              "      <td>19.0</td>\n",
              "      <td>ปี</td>\n",
              "      <td>Thailand</td>\n",
              "      <td>ขอนแก่น</td>\n",
              "      <td>คนไทยเดินทางกลับจากต่างประเทศ</td>\n",
              "      <td>ขอนแก่น</td>\n",
              "      <td>เมือง</td>\n",
              "    </tr>\n",
              "    <tr>\n",
              "      <th>1971</th>\n",
              "      <td>1972</td>\n",
              "      <td>3/4/2020</td>\n",
              "      <td>31/3/2020</td>\n",
              "      <td>หญิง</td>\n",
              "      <td>70.0</td>\n",
              "      <td>ปี</td>\n",
              "      <td>Thailand</td>\n",
              "      <td>ขอนแก่น</td>\n",
              "      <td>ไปสถานที่ชุมชน เช่น ตลาดนัด สถานที่ท่องเที่ยว</td>\n",
              "      <td>ขอนแก่น</td>\n",
              "      <td>เมือง</td>\n",
              "    </tr>\n",
              "    <tr>\n",
              "      <th>2638</th>\n",
              "      <td>2639</td>\n",
              "      <td>15/4/2020</td>\n",
              "      <td>14/4/2020</td>\n",
              "      <td>หญิง</td>\n",
              "      <td>63.0</td>\n",
              "      <td>ปี</td>\n",
              "      <td>Thailand</td>\n",
              "      <td>ขอนแก่น</td>\n",
              "      <td>สัมผัสผู้เดินทางจากต่างประเทศ</td>\n",
              "      <td>ขอนแก่น</td>\n",
              "      <td>น้ำพอง</td>\n",
              "    </tr>\n",
              "    <tr>\n",
              "      <th>...</th>\n",
              "      <td>...</td>\n",
              "      <td>...</td>\n",
              "      <td>...</td>\n",
              "      <td>...</td>\n",
              "      <td>...</td>\n",
              "      <td>...</td>\n",
              "      <td>...</td>\n",
              "      <td>...</td>\n",
              "      <td>...</td>\n",
              "      <td>...</td>\n",
              "      <td>...</td>\n",
              "    </tr>\n",
              "    <tr>\n",
              "      <th>507541</th>\n",
              "      <td>507542</td>\n",
              "      <td>26/7/2021</td>\n",
              "      <td>25/7/2021</td>\n",
              "      <td>หญิง</td>\n",
              "      <td>24.0</td>\n",
              "      <td>ปี</td>\n",
              "      <td>Thailand</td>\n",
              "      <td>อุบลราชธานี</td>\n",
              "      <td>อื่นๆ</td>\n",
              "      <td>ขอนแก่น</td>\n",
              "      <td>NaN</td>\n",
              "    </tr>\n",
              "    <tr>\n",
              "      <th>507542</th>\n",
              "      <td>507543</td>\n",
              "      <td>26/7/2021</td>\n",
              "      <td>25/7/2021</td>\n",
              "      <td>หญิง</td>\n",
              "      <td>51.0</td>\n",
              "      <td>ปี</td>\n",
              "      <td>Thailand</td>\n",
              "      <td>อุบลราชธานี</td>\n",
              "      <td>อื่นๆ</td>\n",
              "      <td>ขอนแก่น</td>\n",
              "      <td>NaN</td>\n",
              "    </tr>\n",
              "    <tr>\n",
              "      <th>507543</th>\n",
              "      <td>507544</td>\n",
              "      <td>26/7/2021</td>\n",
              "      <td>25/7/2021</td>\n",
              "      <td>หญิง</td>\n",
              "      <td>13.0</td>\n",
              "      <td>ปี</td>\n",
              "      <td>Thailand</td>\n",
              "      <td>อุบลราชธานี</td>\n",
              "      <td>อื่นๆ</td>\n",
              "      <td>ขอนแก่น</td>\n",
              "      <td>NaN</td>\n",
              "    </tr>\n",
              "    <tr>\n",
              "      <th>507544</th>\n",
              "      <td>507545</td>\n",
              "      <td>26/7/2021</td>\n",
              "      <td>25/7/2021</td>\n",
              "      <td>หญิง</td>\n",
              "      <td>23.0</td>\n",
              "      <td>ปี</td>\n",
              "      <td>Thailand</td>\n",
              "      <td>อุบลราชธานี</td>\n",
              "      <td>อื่นๆ</td>\n",
              "      <td>ขอนแก่น</td>\n",
              "      <td>NaN</td>\n",
              "    </tr>\n",
              "    <tr>\n",
              "      <th>507546</th>\n",
              "      <td>507547</td>\n",
              "      <td>26/7/2021</td>\n",
              "      <td>25/7/2021</td>\n",
              "      <td>ชาย</td>\n",
              "      <td>24.0</td>\n",
              "      <td>ปี</td>\n",
              "      <td>Thailand</td>\n",
              "      <td>อุบลราชธานี</td>\n",
              "      <td>อื่นๆ</td>\n",
              "      <td>ขอนแก่น</td>\n",
              "      <td>NaN</td>\n",
              "    </tr>\n",
              "  </tbody>\n",
              "</table>\n",
              "<p>3149 rows × 11 columns</p>\n",
              "</div>"
            ],
            "text/plain": [
              "           No. announce_date  ... province_of_onset district_of_onset\n",
              "181        182     18/3/2020  ...           ขอนแก่น             เมือง\n",
              "463        464     22/3/2020  ...           ขอนแก่น             เมือง\n",
              "1467      1468     30/3/2020  ...           ขอนแก่น             เมือง\n",
              "1971      1972      3/4/2020  ...           ขอนแก่น             เมือง\n",
              "2638      2639     15/4/2020  ...           ขอนแก่น            น้ำพอง\n",
              "...        ...           ...  ...               ...               ...\n",
              "507541  507542     26/7/2021  ...           ขอนแก่น               NaN\n",
              "507542  507543     26/7/2021  ...           ขอนแก่น               NaN\n",
              "507543  507544     26/7/2021  ...           ขอนแก่น               NaN\n",
              "507544  507545     26/7/2021  ...           ขอนแก่น               NaN\n",
              "507546  507547     26/7/2021  ...           ขอนแก่น               NaN\n",
              "\n",
              "[3149 rows x 11 columns]"
            ]
          },
          "metadata": {
            "tags": []
          },
          "execution_count": 498
        }
      ]
    },
    {
      "cell_type": "markdown",
      "metadata": {
        "id": "U-GCygBB5Dh2"
      },
      "source": [
        "##เอาค่า mean ไปเติมตรง missing column 'age'"
      ]
    },
    {
      "cell_type": "code",
      "metadata": {
        "colab": {
          "base_uri": "https://localhost:8080/"
        },
        "id": "-H6dxL4p5Yrg",
        "outputId": "cbff9236-f4c7-4aa7-d14f-2b2214bd9f27"
      },
      "source": [
        "data_KK = data_cases2[KK_cases]\n",
        "data_KK.isnull().any()"
      ],
      "execution_count": 499,
      "outputs": [
        {
          "output_type": "execute_result",
          "data": {
            "text/plain": [
              "No.                      False\n",
              "announce_date            False\n",
              "Notified date            False\n",
              "sex                       True\n",
              "age                       True\n",
              "Unit                      True\n",
              "nationality               True\n",
              "province_of_isolation    False\n",
              "risk                      True\n",
              "province_of_onset        False\n",
              "district_of_onset         True\n",
              "dtype: bool"
            ]
          },
          "metadata": {
            "tags": []
          },
          "execution_count": 499
        }
      ]
    },
    {
      "cell_type": "code",
      "metadata": {
        "colab": {
          "base_uri": "https://localhost:8080/"
        },
        "id": "6Wgs0CLcNZus",
        "outputId": "a10b8b7f-d6a2-4962-b359-76f95d1410e6"
      },
      "source": [
        "data_KK[['age']] = data_KK[['age']].fillna(KK_mean)"
      ],
      "execution_count": 500,
      "outputs": [
        {
          "output_type": "stream",
          "text": [
            "/usr/local/lib/python3.7/dist-packages/pandas/core/frame.py:3069: SettingWithCopyWarning: \n",
            "A value is trying to be set on a copy of a slice from a DataFrame.\n",
            "Try using .loc[row_indexer,col_indexer] = value instead\n",
            "\n",
            "See the caveats in the documentation: https://pandas.pydata.org/pandas-docs/stable/user_guide/indexing.html#returning-a-view-versus-a-copy\n",
            "  self[k1] = value[k2]\n"
          ],
          "name": "stderr"
        }
      ]
    },
    {
      "cell_type": "code",
      "metadata": {
        "colab": {
          "base_uri": "https://localhost:8080/"
        },
        "id": "PVOx-2i79bB7",
        "outputId": "4683b2c5-adad-4ac8-8693-6a523dd1b1ab"
      },
      "source": [
        "data_KK.isnull().any()"
      ],
      "execution_count": 501,
      "outputs": [
        {
          "output_type": "execute_result",
          "data": {
            "text/plain": [
              "No.                      False\n",
              "announce_date            False\n",
              "Notified date            False\n",
              "sex                       True\n",
              "age                      False\n",
              "Unit                      True\n",
              "nationality               True\n",
              "province_of_isolation    False\n",
              "risk                      True\n",
              "province_of_onset        False\n",
              "district_of_onset         True\n",
              "dtype: bool"
            ]
          },
          "metadata": {
            "tags": []
          },
          "execution_count": 501
        }
      ]
    },
    {
      "cell_type": "code",
      "metadata": {
        "colab": {
          "base_uri": "https://localhost:8080/",
          "height": 0
        },
        "id": "FXwl0eMy9h35",
        "outputId": "01a0a26f-02d1-45d4-c5eb-f1199fa05433"
      },
      "source": [
        "data_KK"
      ],
      "execution_count": 502,
      "outputs": [
        {
          "output_type": "execute_result",
          "data": {
            "text/html": [
              "<div>\n",
              "<style scoped>\n",
              "    .dataframe tbody tr th:only-of-type {\n",
              "        vertical-align: middle;\n",
              "    }\n",
              "\n",
              "    .dataframe tbody tr th {\n",
              "        vertical-align: top;\n",
              "    }\n",
              "\n",
              "    .dataframe thead th {\n",
              "        text-align: right;\n",
              "    }\n",
              "</style>\n",
              "<table border=\"1\" class=\"dataframe\">\n",
              "  <thead>\n",
              "    <tr style=\"text-align: right;\">\n",
              "      <th></th>\n",
              "      <th>No.</th>\n",
              "      <th>announce_date</th>\n",
              "      <th>Notified date</th>\n",
              "      <th>sex</th>\n",
              "      <th>age</th>\n",
              "      <th>Unit</th>\n",
              "      <th>nationality</th>\n",
              "      <th>province_of_isolation</th>\n",
              "      <th>risk</th>\n",
              "      <th>province_of_onset</th>\n",
              "      <th>district_of_onset</th>\n",
              "    </tr>\n",
              "  </thead>\n",
              "  <tbody>\n",
              "    <tr>\n",
              "      <th>181</th>\n",
              "      <td>182</td>\n",
              "      <td>18/3/2020</td>\n",
              "      <td>15/3/2020</td>\n",
              "      <td>ชาย</td>\n",
              "      <td>33.0</td>\n",
              "      <td>ปี</td>\n",
              "      <td>Thailand</td>\n",
              "      <td>ขอนแก่น</td>\n",
              "      <td>สนามมวย</td>\n",
              "      <td>ขอนแก่น</td>\n",
              "      <td>เมือง</td>\n",
              "    </tr>\n",
              "    <tr>\n",
              "      <th>463</th>\n",
              "      <td>464</td>\n",
              "      <td>22/3/2020</td>\n",
              "      <td>21/3/2020</td>\n",
              "      <td>หญิง</td>\n",
              "      <td>36.0</td>\n",
              "      <td>ปี</td>\n",
              "      <td>Thailand</td>\n",
              "      <td>ขอนแก่น</td>\n",
              "      <td>สัมผัสใกล้ชิดกับผู้ป่วยยืนยันรายก่อนหน้านี้</td>\n",
              "      <td>ขอนแก่น</td>\n",
              "      <td>เมือง</td>\n",
              "    </tr>\n",
              "    <tr>\n",
              "      <th>1467</th>\n",
              "      <td>1468</td>\n",
              "      <td>30/3/2020</td>\n",
              "      <td>26/3/2020</td>\n",
              "      <td>ชาย</td>\n",
              "      <td>19.0</td>\n",
              "      <td>ปี</td>\n",
              "      <td>Thailand</td>\n",
              "      <td>ขอนแก่น</td>\n",
              "      <td>คนไทยเดินทางกลับจากต่างประเทศ</td>\n",
              "      <td>ขอนแก่น</td>\n",
              "      <td>เมือง</td>\n",
              "    </tr>\n",
              "    <tr>\n",
              "      <th>1971</th>\n",
              "      <td>1972</td>\n",
              "      <td>3/4/2020</td>\n",
              "      <td>31/3/2020</td>\n",
              "      <td>หญิง</td>\n",
              "      <td>70.0</td>\n",
              "      <td>ปี</td>\n",
              "      <td>Thailand</td>\n",
              "      <td>ขอนแก่น</td>\n",
              "      <td>ไปสถานที่ชุมชน เช่น ตลาดนัด สถานที่ท่องเที่ยว</td>\n",
              "      <td>ขอนแก่น</td>\n",
              "      <td>เมือง</td>\n",
              "    </tr>\n",
              "    <tr>\n",
              "      <th>2638</th>\n",
              "      <td>2639</td>\n",
              "      <td>15/4/2020</td>\n",
              "      <td>14/4/2020</td>\n",
              "      <td>หญิง</td>\n",
              "      <td>63.0</td>\n",
              "      <td>ปี</td>\n",
              "      <td>Thailand</td>\n",
              "      <td>ขอนแก่น</td>\n",
              "      <td>สัมผัสผู้เดินทางจากต่างประเทศ</td>\n",
              "      <td>ขอนแก่น</td>\n",
              "      <td>น้ำพอง</td>\n",
              "    </tr>\n",
              "    <tr>\n",
              "      <th>...</th>\n",
              "      <td>...</td>\n",
              "      <td>...</td>\n",
              "      <td>...</td>\n",
              "      <td>...</td>\n",
              "      <td>...</td>\n",
              "      <td>...</td>\n",
              "      <td>...</td>\n",
              "      <td>...</td>\n",
              "      <td>...</td>\n",
              "      <td>...</td>\n",
              "      <td>...</td>\n",
              "    </tr>\n",
              "    <tr>\n",
              "      <th>507541</th>\n",
              "      <td>507542</td>\n",
              "      <td>26/7/2021</td>\n",
              "      <td>25/7/2021</td>\n",
              "      <td>หญิง</td>\n",
              "      <td>24.0</td>\n",
              "      <td>ปี</td>\n",
              "      <td>Thailand</td>\n",
              "      <td>อุบลราชธานี</td>\n",
              "      <td>อื่นๆ</td>\n",
              "      <td>ขอนแก่น</td>\n",
              "      <td>NaN</td>\n",
              "    </tr>\n",
              "    <tr>\n",
              "      <th>507542</th>\n",
              "      <td>507543</td>\n",
              "      <td>26/7/2021</td>\n",
              "      <td>25/7/2021</td>\n",
              "      <td>หญิง</td>\n",
              "      <td>51.0</td>\n",
              "      <td>ปี</td>\n",
              "      <td>Thailand</td>\n",
              "      <td>อุบลราชธานี</td>\n",
              "      <td>อื่นๆ</td>\n",
              "      <td>ขอนแก่น</td>\n",
              "      <td>NaN</td>\n",
              "    </tr>\n",
              "    <tr>\n",
              "      <th>507543</th>\n",
              "      <td>507544</td>\n",
              "      <td>26/7/2021</td>\n",
              "      <td>25/7/2021</td>\n",
              "      <td>หญิง</td>\n",
              "      <td>13.0</td>\n",
              "      <td>ปี</td>\n",
              "      <td>Thailand</td>\n",
              "      <td>อุบลราชธานี</td>\n",
              "      <td>อื่นๆ</td>\n",
              "      <td>ขอนแก่น</td>\n",
              "      <td>NaN</td>\n",
              "    </tr>\n",
              "    <tr>\n",
              "      <th>507544</th>\n",
              "      <td>507545</td>\n",
              "      <td>26/7/2021</td>\n",
              "      <td>25/7/2021</td>\n",
              "      <td>หญิง</td>\n",
              "      <td>23.0</td>\n",
              "      <td>ปี</td>\n",
              "      <td>Thailand</td>\n",
              "      <td>อุบลราชธานี</td>\n",
              "      <td>อื่นๆ</td>\n",
              "      <td>ขอนแก่น</td>\n",
              "      <td>NaN</td>\n",
              "    </tr>\n",
              "    <tr>\n",
              "      <th>507546</th>\n",
              "      <td>507547</td>\n",
              "      <td>26/7/2021</td>\n",
              "      <td>25/7/2021</td>\n",
              "      <td>ชาย</td>\n",
              "      <td>24.0</td>\n",
              "      <td>ปี</td>\n",
              "      <td>Thailand</td>\n",
              "      <td>อุบลราชธานี</td>\n",
              "      <td>อื่นๆ</td>\n",
              "      <td>ขอนแก่น</td>\n",
              "      <td>NaN</td>\n",
              "    </tr>\n",
              "  </tbody>\n",
              "</table>\n",
              "<p>3149 rows × 11 columns</p>\n",
              "</div>"
            ],
            "text/plain": [
              "           No. announce_date  ... province_of_onset district_of_onset\n",
              "181        182     18/3/2020  ...           ขอนแก่น             เมือง\n",
              "463        464     22/3/2020  ...           ขอนแก่น             เมือง\n",
              "1467      1468     30/3/2020  ...           ขอนแก่น             เมือง\n",
              "1971      1972      3/4/2020  ...           ขอนแก่น             เมือง\n",
              "2638      2639     15/4/2020  ...           ขอนแก่น            น้ำพอง\n",
              "...        ...           ...  ...               ...               ...\n",
              "507541  507542     26/7/2021  ...           ขอนแก่น               NaN\n",
              "507542  507543     26/7/2021  ...           ขอนแก่น               NaN\n",
              "507543  507544     26/7/2021  ...           ขอนแก่น               NaN\n",
              "507544  507545     26/7/2021  ...           ขอนแก่น               NaN\n",
              "507546  507547     26/7/2021  ...           ขอนแก่น               NaN\n",
              "\n",
              "[3149 rows x 11 columns]"
            ]
          },
          "metadata": {
            "tags": []
          },
          "execution_count": 502
        }
      ]
    },
    {
      "cell_type": "markdown",
      "metadata": {
        "id": "1QP9OQ1H7RhM"
      },
      "source": [
        "เติมค่า mean แทน missing ของเชียงใหม่\n"
      ]
    },
    {
      "cell_type": "code",
      "metadata": {
        "colab": {
          "base_uri": "https://localhost:8080/"
        },
        "id": "wz5xgP49NxSO",
        "outputId": "fa13080c-7297-4111-dbad-604aabec93a3"
      },
      "source": [
        "# หาค่า mean ของเชียงใหม่\n",
        "CM_cases = data_cases2['province_of_onset'] == 'เชียงใหม่'\n",
        "CM_mean = data_cases2[CM_cases]['age'].mean()\n",
        "\n",
        "# เลือกมาเฉพาะ data เชียงใหม่\n",
        "data_CM = data_cases2[CM_cases]\n",
        "\n",
        "# เติมค่า mean แทน missing\n",
        "data_CM[['age']] = data_CM[['age']].fillna(CM_mean)"
      ],
      "execution_count": 503,
      "outputs": [
        {
          "output_type": "stream",
          "text": [
            "/usr/local/lib/python3.7/dist-packages/pandas/core/frame.py:3069: SettingWithCopyWarning: \n",
            "A value is trying to be set on a copy of a slice from a DataFrame.\n",
            "Try using .loc[row_indexer,col_indexer] = value instead\n",
            "\n",
            "See the caveats in the documentation: https://pandas.pydata.org/pandas-docs/stable/user_guide/indexing.html#returning-a-view-versus-a-copy\n",
            "  self[k1] = value[k2]\n"
          ],
          "name": "stderr"
        }
      ]
    },
    {
      "cell_type": "code",
      "metadata": {
        "colab": {
          "base_uri": "https://localhost:8080/",
          "height": 0
        },
        "id": "Y9xSM9Aq9osR",
        "outputId": "3c3b8189-4387-46cd-d6ce-aa7d0fe19bae"
      },
      "source": [
        "data_CM"
      ],
      "execution_count": 504,
      "outputs": [
        {
          "output_type": "execute_result",
          "data": {
            "text/html": [
              "<div>\n",
              "<style scoped>\n",
              "    .dataframe tbody tr th:only-of-type {\n",
              "        vertical-align: middle;\n",
              "    }\n",
              "\n",
              "    .dataframe tbody tr th {\n",
              "        vertical-align: top;\n",
              "    }\n",
              "\n",
              "    .dataframe thead th {\n",
              "        text-align: right;\n",
              "    }\n",
              "</style>\n",
              "<table border=\"1\" class=\"dataframe\">\n",
              "  <thead>\n",
              "    <tr style=\"text-align: right;\">\n",
              "      <th></th>\n",
              "      <th>No.</th>\n",
              "      <th>announce_date</th>\n",
              "      <th>Notified date</th>\n",
              "      <th>sex</th>\n",
              "      <th>age</th>\n",
              "      <th>Unit</th>\n",
              "      <th>nationality</th>\n",
              "      <th>province_of_isolation</th>\n",
              "      <th>risk</th>\n",
              "      <th>province_of_onset</th>\n",
              "      <th>district_of_onset</th>\n",
              "    </tr>\n",
              "  </thead>\n",
              "  <tbody>\n",
              "    <tr>\n",
              "      <th>16</th>\n",
              "      <td>17</td>\n",
              "      <td>31/1/2020</td>\n",
              "      <td>NaN</td>\n",
              "      <td>ชาย</td>\n",
              "      <td>28.0</td>\n",
              "      <td>ปี</td>\n",
              "      <td>China</td>\n",
              "      <td>เชียงใหม่</td>\n",
              "      <td>คนต่างชาติเดินทางมาจากต่างประเทศ</td>\n",
              "      <td>เชียงใหม่</td>\n",
              "      <td>หางดง</td>\n",
              "    </tr>\n",
              "    <tr>\n",
              "      <th>91</th>\n",
              "      <td>92</td>\n",
              "      <td>15/3/2020</td>\n",
              "      <td>NaN</td>\n",
              "      <td>ชาย</td>\n",
              "      <td>37.0</td>\n",
              "      <td>ปี</td>\n",
              "      <td>Thailand</td>\n",
              "      <td>เชียงใหม่</td>\n",
              "      <td>สนามมวย</td>\n",
              "      <td>เชียงใหม่</td>\n",
              "      <td>แม่ริม</td>\n",
              "    </tr>\n",
              "    <tr>\n",
              "      <th>185</th>\n",
              "      <td>186</td>\n",
              "      <td>18/3/2020</td>\n",
              "      <td>NaN</td>\n",
              "      <td>ชาย</td>\n",
              "      <td>31.0</td>\n",
              "      <td>ปี</td>\n",
              "      <td>Thailand</td>\n",
              "      <td>เชียงใหม่</td>\n",
              "      <td>สนามมวย</td>\n",
              "      <td>เชียงใหม่</td>\n",
              "      <td>นครพิงค์</td>\n",
              "    </tr>\n",
              "    <tr>\n",
              "      <th>192</th>\n",
              "      <td>193</td>\n",
              "      <td>18/3/2020</td>\n",
              "      <td>NaN</td>\n",
              "      <td>ชาย</td>\n",
              "      <td>32.0</td>\n",
              "      <td>ปี</td>\n",
              "      <td>Thailand</td>\n",
              "      <td>เชียงใหม่</td>\n",
              "      <td>สัมผัสใกล้ชิดกับผู้ป่วยยืนยันรายก่อนหน้านี้</td>\n",
              "      <td>เชียงใหม่</td>\n",
              "      <td>NaN</td>\n",
              "    </tr>\n",
              "    <tr>\n",
              "      <th>252</th>\n",
              "      <td>253</td>\n",
              "      <td>19/3/2020</td>\n",
              "      <td>NaN</td>\n",
              "      <td>ชาย</td>\n",
              "      <td>25.0</td>\n",
              "      <td>ปี</td>\n",
              "      <td>Thailand</td>\n",
              "      <td>เชียงใหม่</td>\n",
              "      <td>สัมผัสใกล้ชิดกับผู้ป่วยยืนยันรายก่อนหน้านี้</td>\n",
              "      <td>เชียงใหม่</td>\n",
              "      <td>NaN</td>\n",
              "    </tr>\n",
              "    <tr>\n",
              "      <th>...</th>\n",
              "      <td>...</td>\n",
              "      <td>...</td>\n",
              "      <td>...</td>\n",
              "      <td>...</td>\n",
              "      <td>...</td>\n",
              "      <td>...</td>\n",
              "      <td>...</td>\n",
              "      <td>...</td>\n",
              "      <td>...</td>\n",
              "      <td>...</td>\n",
              "      <td>...</td>\n",
              "    </tr>\n",
              "    <tr>\n",
              "      <th>497341</th>\n",
              "      <td>497342</td>\n",
              "      <td>26/7/2021</td>\n",
              "      <td>25/7/2021</td>\n",
              "      <td>ชาย</td>\n",
              "      <td>25.0</td>\n",
              "      <td>ปี</td>\n",
              "      <td>NaN</td>\n",
              "      <td>เชียงใหม่</td>\n",
              "      <td>อื่นๆ</td>\n",
              "      <td>เชียงใหม่</td>\n",
              "      <td>สันกำแพง</td>\n",
              "    </tr>\n",
              "    <tr>\n",
              "      <th>497342</th>\n",
              "      <td>497343</td>\n",
              "      <td>26/7/2021</td>\n",
              "      <td>25/7/2021</td>\n",
              "      <td>ชาย</td>\n",
              "      <td>25.0</td>\n",
              "      <td>ปี</td>\n",
              "      <td>NaN</td>\n",
              "      <td>เชียงใหม่</td>\n",
              "      <td>อื่นๆ</td>\n",
              "      <td>เชียงใหม่</td>\n",
              "      <td>NaN</td>\n",
              "    </tr>\n",
              "    <tr>\n",
              "      <th>497343</th>\n",
              "      <td>497344</td>\n",
              "      <td>26/7/2021</td>\n",
              "      <td>25/7/2021</td>\n",
              "      <td>หญิง</td>\n",
              "      <td>35.0</td>\n",
              "      <td>ปี</td>\n",
              "      <td>NaN</td>\n",
              "      <td>เชียงใหม่</td>\n",
              "      <td>อื่นๆ</td>\n",
              "      <td>เชียงใหม่</td>\n",
              "      <td>-เลือกอำเภอ-</td>\n",
              "    </tr>\n",
              "    <tr>\n",
              "      <th>497344</th>\n",
              "      <td>497345</td>\n",
              "      <td>26/7/2021</td>\n",
              "      <td>25/7/2021</td>\n",
              "      <td>ชาย</td>\n",
              "      <td>63.0</td>\n",
              "      <td>ปี</td>\n",
              "      <td>NaN</td>\n",
              "      <td>เชียงใหม่</td>\n",
              "      <td>อื่นๆ</td>\n",
              "      <td>เชียงใหม่</td>\n",
              "      <td>แม่ริม</td>\n",
              "    </tr>\n",
              "    <tr>\n",
              "      <th>497345</th>\n",
              "      <td>497346</td>\n",
              "      <td>26/7/2021</td>\n",
              "      <td>25/7/2021</td>\n",
              "      <td>หญิง</td>\n",
              "      <td>29.0</td>\n",
              "      <td>ปี</td>\n",
              "      <td>NaN</td>\n",
              "      <td>เชียงใหม่</td>\n",
              "      <td>สัมผัสใกล้ชิดกับผู้ป่วยยืนยันรายก่อนหน้านี้</td>\n",
              "      <td>เชียงใหม่</td>\n",
              "      <td>แม่อาย</td>\n",
              "    </tr>\n",
              "  </tbody>\n",
              "</table>\n",
              "<p>4074 rows × 11 columns</p>\n",
              "</div>"
            ],
            "text/plain": [
              "           No. announce_date  ... province_of_onset district_of_onset\n",
              "16          17     31/1/2020  ...         เชียงใหม่             หางดง\n",
              "91          92     15/3/2020  ...         เชียงใหม่            แม่ริม\n",
              "185        186     18/3/2020  ...         เชียงใหม่          นครพิงค์\n",
              "192        193     18/3/2020  ...         เชียงใหม่               NaN\n",
              "252        253     19/3/2020  ...         เชียงใหม่               NaN\n",
              "...        ...           ...  ...               ...               ...\n",
              "497341  497342     26/7/2021  ...         เชียงใหม่          สันกำแพง\n",
              "497342  497343     26/7/2021  ...         เชียงใหม่               NaN\n",
              "497343  497344     26/7/2021  ...         เชียงใหม่      -เลือกอำเภอ-\n",
              "497344  497345     26/7/2021  ...         เชียงใหม่            แม่ริม\n",
              "497345  497346     26/7/2021  ...         เชียงใหม่            แม่อาย\n",
              "\n",
              "[4074 rows x 11 columns]"
            ]
          },
          "metadata": {
            "tags": []
          },
          "execution_count": 504
        }
      ]
    },
    {
      "cell_type": "markdown",
      "metadata": {
        "id": "VTJlsHM47C41"
      },
      "source": [
        "###ต่อตารางแนวแกน Y [PD]   เพิ่ม data เข้าไป"
      ]
    },
    {
      "cell_type": "code",
      "metadata": {
        "colab": {
          "base_uri": "https://localhost:8080/",
          "height": 0
        },
        "id": "hOpyi4AP9t3d",
        "outputId": "d6955483-3da1-41ae-c0a5-8a8f770eb730"
      },
      "source": [
        "data_CMKK = pd.concat([data_CM,data_KK])\n",
        "data_CMKK"
      ],
      "execution_count": 505,
      "outputs": [
        {
          "output_type": "execute_result",
          "data": {
            "text/html": [
              "<div>\n",
              "<style scoped>\n",
              "    .dataframe tbody tr th:only-of-type {\n",
              "        vertical-align: middle;\n",
              "    }\n",
              "\n",
              "    .dataframe tbody tr th {\n",
              "        vertical-align: top;\n",
              "    }\n",
              "\n",
              "    .dataframe thead th {\n",
              "        text-align: right;\n",
              "    }\n",
              "</style>\n",
              "<table border=\"1\" class=\"dataframe\">\n",
              "  <thead>\n",
              "    <tr style=\"text-align: right;\">\n",
              "      <th></th>\n",
              "      <th>No.</th>\n",
              "      <th>announce_date</th>\n",
              "      <th>Notified date</th>\n",
              "      <th>sex</th>\n",
              "      <th>age</th>\n",
              "      <th>Unit</th>\n",
              "      <th>nationality</th>\n",
              "      <th>province_of_isolation</th>\n",
              "      <th>risk</th>\n",
              "      <th>province_of_onset</th>\n",
              "      <th>district_of_onset</th>\n",
              "    </tr>\n",
              "  </thead>\n",
              "  <tbody>\n",
              "    <tr>\n",
              "      <th>16</th>\n",
              "      <td>17</td>\n",
              "      <td>31/1/2020</td>\n",
              "      <td>NaN</td>\n",
              "      <td>ชาย</td>\n",
              "      <td>28.0</td>\n",
              "      <td>ปี</td>\n",
              "      <td>China</td>\n",
              "      <td>เชียงใหม่</td>\n",
              "      <td>คนต่างชาติเดินทางมาจากต่างประเทศ</td>\n",
              "      <td>เชียงใหม่</td>\n",
              "      <td>หางดง</td>\n",
              "    </tr>\n",
              "    <tr>\n",
              "      <th>91</th>\n",
              "      <td>92</td>\n",
              "      <td>15/3/2020</td>\n",
              "      <td>NaN</td>\n",
              "      <td>ชาย</td>\n",
              "      <td>37.0</td>\n",
              "      <td>ปี</td>\n",
              "      <td>Thailand</td>\n",
              "      <td>เชียงใหม่</td>\n",
              "      <td>สนามมวย</td>\n",
              "      <td>เชียงใหม่</td>\n",
              "      <td>แม่ริม</td>\n",
              "    </tr>\n",
              "    <tr>\n",
              "      <th>185</th>\n",
              "      <td>186</td>\n",
              "      <td>18/3/2020</td>\n",
              "      <td>NaN</td>\n",
              "      <td>ชาย</td>\n",
              "      <td>31.0</td>\n",
              "      <td>ปี</td>\n",
              "      <td>Thailand</td>\n",
              "      <td>เชียงใหม่</td>\n",
              "      <td>สนามมวย</td>\n",
              "      <td>เชียงใหม่</td>\n",
              "      <td>นครพิงค์</td>\n",
              "    </tr>\n",
              "    <tr>\n",
              "      <th>192</th>\n",
              "      <td>193</td>\n",
              "      <td>18/3/2020</td>\n",
              "      <td>NaN</td>\n",
              "      <td>ชาย</td>\n",
              "      <td>32.0</td>\n",
              "      <td>ปี</td>\n",
              "      <td>Thailand</td>\n",
              "      <td>เชียงใหม่</td>\n",
              "      <td>สัมผัสใกล้ชิดกับผู้ป่วยยืนยันรายก่อนหน้านี้</td>\n",
              "      <td>เชียงใหม่</td>\n",
              "      <td>NaN</td>\n",
              "    </tr>\n",
              "    <tr>\n",
              "      <th>252</th>\n",
              "      <td>253</td>\n",
              "      <td>19/3/2020</td>\n",
              "      <td>NaN</td>\n",
              "      <td>ชาย</td>\n",
              "      <td>25.0</td>\n",
              "      <td>ปี</td>\n",
              "      <td>Thailand</td>\n",
              "      <td>เชียงใหม่</td>\n",
              "      <td>สัมผัสใกล้ชิดกับผู้ป่วยยืนยันรายก่อนหน้านี้</td>\n",
              "      <td>เชียงใหม่</td>\n",
              "      <td>NaN</td>\n",
              "    </tr>\n",
              "    <tr>\n",
              "      <th>...</th>\n",
              "      <td>...</td>\n",
              "      <td>...</td>\n",
              "      <td>...</td>\n",
              "      <td>...</td>\n",
              "      <td>...</td>\n",
              "      <td>...</td>\n",
              "      <td>...</td>\n",
              "      <td>...</td>\n",
              "      <td>...</td>\n",
              "      <td>...</td>\n",
              "      <td>...</td>\n",
              "    </tr>\n",
              "    <tr>\n",
              "      <th>507541</th>\n",
              "      <td>507542</td>\n",
              "      <td>26/7/2021</td>\n",
              "      <td>25/7/2021</td>\n",
              "      <td>หญิง</td>\n",
              "      <td>24.0</td>\n",
              "      <td>ปี</td>\n",
              "      <td>Thailand</td>\n",
              "      <td>อุบลราชธานี</td>\n",
              "      <td>อื่นๆ</td>\n",
              "      <td>ขอนแก่น</td>\n",
              "      <td>NaN</td>\n",
              "    </tr>\n",
              "    <tr>\n",
              "      <th>507542</th>\n",
              "      <td>507543</td>\n",
              "      <td>26/7/2021</td>\n",
              "      <td>25/7/2021</td>\n",
              "      <td>หญิง</td>\n",
              "      <td>51.0</td>\n",
              "      <td>ปี</td>\n",
              "      <td>Thailand</td>\n",
              "      <td>อุบลราชธานี</td>\n",
              "      <td>อื่นๆ</td>\n",
              "      <td>ขอนแก่น</td>\n",
              "      <td>NaN</td>\n",
              "    </tr>\n",
              "    <tr>\n",
              "      <th>507543</th>\n",
              "      <td>507544</td>\n",
              "      <td>26/7/2021</td>\n",
              "      <td>25/7/2021</td>\n",
              "      <td>หญิง</td>\n",
              "      <td>13.0</td>\n",
              "      <td>ปี</td>\n",
              "      <td>Thailand</td>\n",
              "      <td>อุบลราชธานี</td>\n",
              "      <td>อื่นๆ</td>\n",
              "      <td>ขอนแก่น</td>\n",
              "      <td>NaN</td>\n",
              "    </tr>\n",
              "    <tr>\n",
              "      <th>507544</th>\n",
              "      <td>507545</td>\n",
              "      <td>26/7/2021</td>\n",
              "      <td>25/7/2021</td>\n",
              "      <td>หญิง</td>\n",
              "      <td>23.0</td>\n",
              "      <td>ปี</td>\n",
              "      <td>Thailand</td>\n",
              "      <td>อุบลราชธานี</td>\n",
              "      <td>อื่นๆ</td>\n",
              "      <td>ขอนแก่น</td>\n",
              "      <td>NaN</td>\n",
              "    </tr>\n",
              "    <tr>\n",
              "      <th>507546</th>\n",
              "      <td>507547</td>\n",
              "      <td>26/7/2021</td>\n",
              "      <td>25/7/2021</td>\n",
              "      <td>ชาย</td>\n",
              "      <td>24.0</td>\n",
              "      <td>ปี</td>\n",
              "      <td>Thailand</td>\n",
              "      <td>อุบลราชธานี</td>\n",
              "      <td>อื่นๆ</td>\n",
              "      <td>ขอนแก่น</td>\n",
              "      <td>NaN</td>\n",
              "    </tr>\n",
              "  </tbody>\n",
              "</table>\n",
              "<p>7223 rows × 11 columns</p>\n",
              "</div>"
            ],
            "text/plain": [
              "           No. announce_date  ... province_of_onset district_of_onset\n",
              "16          17     31/1/2020  ...         เชียงใหม่             หางดง\n",
              "91          92     15/3/2020  ...         เชียงใหม่            แม่ริม\n",
              "185        186     18/3/2020  ...         เชียงใหม่          นครพิงค์\n",
              "192        193     18/3/2020  ...         เชียงใหม่               NaN\n",
              "252        253     19/3/2020  ...         เชียงใหม่               NaN\n",
              "...        ...           ...  ...               ...               ...\n",
              "507541  507542     26/7/2021  ...           ขอนแก่น               NaN\n",
              "507542  507543     26/7/2021  ...           ขอนแก่น               NaN\n",
              "507543  507544     26/7/2021  ...           ขอนแก่น               NaN\n",
              "507544  507545     26/7/2021  ...           ขอนแก่น               NaN\n",
              "507546  507547     26/7/2021  ...           ขอนแก่น               NaN\n",
              "\n",
              "[7223 rows x 11 columns]"
            ]
          },
          "metadata": {
            "tags": []
          },
          "execution_count": 505
        }
      ]
    },
    {
      "cell_type": "markdown",
      "metadata": {
        "id": "7yKk7him3T_p"
      },
      "source": [
        "##Handling Missing Value 5 (แทนด้วย  ค่ากลางของ sample ใน class เดียวกัน)(ต่อ)"
      ]
    },
    {
      "cell_type": "code",
      "metadata": {
        "id": "xZBgxLSn0v_N",
        "colab": {
          "base_uri": "https://localhost:8080/",
          "height": 415
        },
        "outputId": "157476c5-2b8f-40f5-caf2-4b0efc1691bd"
      },
      "source": [
        "data_cases2"
      ],
      "execution_count": 506,
      "outputs": [
        {
          "output_type": "execute_result",
          "data": {
            "text/html": [
              "<div>\n",
              "<style scoped>\n",
              "    .dataframe tbody tr th:only-of-type {\n",
              "        vertical-align: middle;\n",
              "    }\n",
              "\n",
              "    .dataframe tbody tr th {\n",
              "        vertical-align: top;\n",
              "    }\n",
              "\n",
              "    .dataframe thead th {\n",
              "        text-align: right;\n",
              "    }\n",
              "</style>\n",
              "<table border=\"1\" class=\"dataframe\">\n",
              "  <thead>\n",
              "    <tr style=\"text-align: right;\">\n",
              "      <th></th>\n",
              "      <th>No.</th>\n",
              "      <th>announce_date</th>\n",
              "      <th>Notified date</th>\n",
              "      <th>sex</th>\n",
              "      <th>age</th>\n",
              "      <th>Unit</th>\n",
              "      <th>nationality</th>\n",
              "      <th>province_of_isolation</th>\n",
              "      <th>risk</th>\n",
              "      <th>province_of_onset</th>\n",
              "      <th>district_of_onset</th>\n",
              "    </tr>\n",
              "  </thead>\n",
              "  <tbody>\n",
              "    <tr>\n",
              "      <th>0</th>\n",
              "      <td>1</td>\n",
              "      <td>12/1/2020</td>\n",
              "      <td>NaN</td>\n",
              "      <td>หญิง</td>\n",
              "      <td>61.0</td>\n",
              "      <td>ปี</td>\n",
              "      <td>China</td>\n",
              "      <td>กรุงเทพมหานคร</td>\n",
              "      <td>คนต่างชาติเดินทางมาจากต่างประเทศ</td>\n",
              "      <td>กรุงเทพมหานคร</td>\n",
              "      <td>NaN</td>\n",
              "    </tr>\n",
              "    <tr>\n",
              "      <th>1</th>\n",
              "      <td>2</td>\n",
              "      <td>17/1/2020</td>\n",
              "      <td>NaN</td>\n",
              "      <td>หญิง</td>\n",
              "      <td>74.0</td>\n",
              "      <td>ปี</td>\n",
              "      <td>China</td>\n",
              "      <td>กรุงเทพมหานคร</td>\n",
              "      <td>คนต่างชาติเดินทางมาจากต่างประเทศ</td>\n",
              "      <td>กรุงเทพมหานคร</td>\n",
              "      <td>NaN</td>\n",
              "    </tr>\n",
              "    <tr>\n",
              "      <th>2</th>\n",
              "      <td>3</td>\n",
              "      <td>22/1/2020</td>\n",
              "      <td>NaN</td>\n",
              "      <td>หญิง</td>\n",
              "      <td>73.0</td>\n",
              "      <td>ปี</td>\n",
              "      <td>Thailand</td>\n",
              "      <td>นครปฐม</td>\n",
              "      <td>คนต่างชาติเดินทางมาจากต่างประเทศ</td>\n",
              "      <td>นครปฐม</td>\n",
              "      <td>เมือง</td>\n",
              "    </tr>\n",
              "    <tr>\n",
              "      <th>3</th>\n",
              "      <td>4</td>\n",
              "      <td>22/1/2020</td>\n",
              "      <td>NaN</td>\n",
              "      <td>ชาย</td>\n",
              "      <td>68.0</td>\n",
              "      <td>ปี</td>\n",
              "      <td>China</td>\n",
              "      <td>กรุงเทพมหานคร</td>\n",
              "      <td>คนต่างชาติเดินทางมาจากต่างประเทศ</td>\n",
              "      <td>กรุงเทพมหานคร</td>\n",
              "      <td>NaN</td>\n",
              "    </tr>\n",
              "    <tr>\n",
              "      <th>4</th>\n",
              "      <td>5</td>\n",
              "      <td>24/1/2020</td>\n",
              "      <td>NaN</td>\n",
              "      <td>หญิง</td>\n",
              "      <td>66.0</td>\n",
              "      <td>ปี</td>\n",
              "      <td>China</td>\n",
              "      <td>นนทบุรี</td>\n",
              "      <td>คนต่างชาติเดินทางมาจากต่างประเทศ</td>\n",
              "      <td>กรุงเทพมหานคร</td>\n",
              "      <td>NaN</td>\n",
              "    </tr>\n",
              "    <tr>\n",
              "      <th>...</th>\n",
              "      <td>...</td>\n",
              "      <td>...</td>\n",
              "      <td>...</td>\n",
              "      <td>...</td>\n",
              "      <td>...</td>\n",
              "      <td>...</td>\n",
              "      <td>...</td>\n",
              "      <td>...</td>\n",
              "      <td>...</td>\n",
              "      <td>...</td>\n",
              "      <td>...</td>\n",
              "    </tr>\n",
              "    <tr>\n",
              "      <th>512617</th>\n",
              "      <td>512618</td>\n",
              "      <td>26/7/2021</td>\n",
              "      <td>25/7/2021</td>\n",
              "      <td>ชาย</td>\n",
              "      <td>NaN</td>\n",
              "      <td>NaN</td>\n",
              "      <td>NaN</td>\n",
              "      <td>ชลบุรี</td>\n",
              "      <td>ทัณฑสถาน/เรือนจำ</td>\n",
              "      <td>NaN</td>\n",
              "      <td>NaN</td>\n",
              "    </tr>\n",
              "    <tr>\n",
              "      <th>512618</th>\n",
              "      <td>512619</td>\n",
              "      <td>26/7/2021</td>\n",
              "      <td>25/7/2021</td>\n",
              "      <td>ชาย</td>\n",
              "      <td>NaN</td>\n",
              "      <td>NaN</td>\n",
              "      <td>NaN</td>\n",
              "      <td>ชลบุรี</td>\n",
              "      <td>ทัณฑสถาน/เรือนจำ</td>\n",
              "      <td>NaN</td>\n",
              "      <td>NaN</td>\n",
              "    </tr>\n",
              "    <tr>\n",
              "      <th>512619</th>\n",
              "      <td>512620</td>\n",
              "      <td>26/7/2021</td>\n",
              "      <td>25/7/2021</td>\n",
              "      <td>ชาย</td>\n",
              "      <td>NaN</td>\n",
              "      <td>NaN</td>\n",
              "      <td>NaN</td>\n",
              "      <td>ชลบุรี</td>\n",
              "      <td>ทัณฑสถาน/เรือนจำ</td>\n",
              "      <td>NaN</td>\n",
              "      <td>NaN</td>\n",
              "    </tr>\n",
              "    <tr>\n",
              "      <th>512620</th>\n",
              "      <td>512621</td>\n",
              "      <td>26/7/2021</td>\n",
              "      <td>25/7/2021</td>\n",
              "      <td>ชาย</td>\n",
              "      <td>NaN</td>\n",
              "      <td>NaN</td>\n",
              "      <td>NaN</td>\n",
              "      <td>ชลบุรี</td>\n",
              "      <td>ทัณฑสถาน/เรือนจำ</td>\n",
              "      <td>NaN</td>\n",
              "      <td>NaN</td>\n",
              "    </tr>\n",
              "    <tr>\n",
              "      <th>512621</th>\n",
              "      <td>512622</td>\n",
              "      <td>26/7/2021</td>\n",
              "      <td>25/7/2021</td>\n",
              "      <td>ชาย</td>\n",
              "      <td>NaN</td>\n",
              "      <td>NaN</td>\n",
              "      <td>NaN</td>\n",
              "      <td>ชลบุรี</td>\n",
              "      <td>ทัณฑสถาน/เรือนจำ</td>\n",
              "      <td>NaN</td>\n",
              "      <td>NaN</td>\n",
              "    </tr>\n",
              "  </tbody>\n",
              "</table>\n",
              "<p>512622 rows × 11 columns</p>\n",
              "</div>"
            ],
            "text/plain": [
              "           No. announce_date  ... province_of_onset district_of_onset\n",
              "0            1     12/1/2020  ...     กรุงเทพมหานคร               NaN\n",
              "1            2     17/1/2020  ...     กรุงเทพมหานคร               NaN\n",
              "2            3     22/1/2020  ...            นครปฐม             เมือง\n",
              "3            4     22/1/2020  ...     กรุงเทพมหานคร               NaN\n",
              "4            5     24/1/2020  ...     กรุงเทพมหานคร               NaN\n",
              "...        ...           ...  ...               ...               ...\n",
              "512617  512618     26/7/2021  ...               NaN               NaN\n",
              "512618  512619     26/7/2021  ...               NaN               NaN\n",
              "512619  512620     26/7/2021  ...               NaN               NaN\n",
              "512620  512621     26/7/2021  ...               NaN               NaN\n",
              "512621  512622     26/7/2021  ...               NaN               NaN\n",
              "\n",
              "[512622 rows x 11 columns]"
            ]
          },
          "metadata": {
            "tags": []
          },
          "execution_count": 506
        }
      ]
    },
    {
      "cell_type": "markdown",
      "metadata": {
        "id": "2WaGcaorB7SX"
      },
      "source": [
        "เติมค่า missing ให้จังหวัดก่อน"
      ]
    },
    {
      "cell_type": "code",
      "metadata": {
        "id": "OcuBnbbkN9Lm"
      },
      "source": [
        "data_cases2[['province_of_onset']] = data_cases2[['province_of_onset']].fillna('ไม่มีข้อมูล')"
      ],
      "execution_count": 507,
      "outputs": []
    },
    {
      "cell_type": "markdown",
      "metadata": {
        "id": "EpON7E0uB_pJ"
      },
      "source": [
        "หาจังหวัดทั้งหมด"
      ]
    },
    {
      "cell_type": "code",
      "metadata": {
        "colab": {
          "base_uri": "https://localhost:8080/"
        },
        "id": "J2PvYATJB0Xy",
        "outputId": "715764a6-242e-4f81-8bc6-2ad41ee3fd5e"
      },
      "source": [
        "all_cities = set(data_cases2['province_of_onset'])\n",
        "all_cities"
      ],
      "execution_count": 508,
      "outputs": [
        {
          "output_type": "execute_result",
          "data": {
            "text/plain": [
              "{'กระบี่',\n",
              " 'กรุงเทพมหานคร',\n",
              " 'กัมพูชา',\n",
              " 'กาญจนบุรี',\n",
              " 'กาฬสินธิ์',\n",
              " 'กาฬสินธุ์',\n",
              " 'กาฬสินธ์ุ',\n",
              " 'กาฬสิินธุ์',\n",
              " 'กำแพงเพชร',\n",
              " 'ขอนแก่น',\n",
              " 'ขอนแก่่น',\n",
              " 'จ.ปัตตานี',\n",
              " 'จังหวัดร้อยเอ็ด',\n",
              " 'จันทบุรี',\n",
              " 'ฉะเชิงเทรา',\n",
              " 'ชลบุรี',\n",
              " 'ชลบุุรี',\n",
              " 'ชัยนาท',\n",
              " 'ชัยภูมิ',\n",
              " 'ชััยภูมิ',\n",
              " 'ชุมพร',\n",
              " 'ชุุมพร',\n",
              " 'ตรัง',\n",
              " 'ตราด',\n",
              " 'ตาก',\n",
              " 'ธารโต',\n",
              " 'นคนปฐม',\n",
              " 'นคปฐม',\n",
              " 'นครนาชสีมา',\n",
              " 'นครนายก',\n",
              " 'นครปฐม',\n",
              " 'นครประฐม',\n",
              " 'นครพนม',\n",
              " 'นครราชธสีมา',\n",
              " 'นครราชสีมา',\n",
              " 'นครศรธรรมาช',\n",
              " 'นครศรี',\n",
              " 'นครศรีธรรมราช',\n",
              " 'นครศรีธรรรมราช',\n",
              " 'นครศรีราชสีมา',\n",
              " 'นครศรีีธรรมราช',\n",
              " 'นครสวรรค์',\n",
              " 'นครสววรค์',\n",
              " 'นตรปฐม',\n",
              " 'นนทบุรี',\n",
              " 'นนทุบรี',\n",
              " 'นราธิวาส',\n",
              " 'นาราธิวาส',\n",
              " 'นาวัง',\n",
              " 'น่าน',\n",
              " 'บางกะปิ',\n",
              " 'บึงกาฬ',\n",
              " 'บึงโขงหลง',\n",
              " 'บึึงกาฬ',\n",
              " 'บุรีรัมย์',\n",
              " 'บ้านหลวง',\n",
              " 'ปทุมทานี',\n",
              " 'ปทุมธานี',\n",
              " 'ปทุมธานีี',\n",
              " 'ปทุุมธานี',\n",
              " 'ประจวบครีขันธ์',\n",
              " 'ประจวบคีรีขันธื',\n",
              " 'ประจวบคีรีขันธ์',\n",
              " 'ปราจีนบุรี',\n",
              " 'ปลายพระยา',\n",
              " 'ปัตตานี',\n",
              " 'ปัตตานี\\u200b',\n",
              " 'ปัว',\n",
              " 'พม่า',\n",
              " 'พระนครศรียุธยา',\n",
              " 'พระนครศรีอยุทธยา',\n",
              " 'พระนครศรีอยุธนา',\n",
              " 'พระนครศรีอยุธยา',\n",
              " 'พระนครศีรอยุธยา',\n",
              " 'พระนครศีอยุธยา',\n",
              " 'พระนตรศรีอยุธยา',\n",
              " 'พะเยา',\n",
              " 'พังงา',\n",
              " 'พัทลุง',\n",
              " 'พิจิตร',\n",
              " 'พิษณุโลก',\n",
              " 'ภูเก็ต',\n",
              " 'ภูเพียง',\n",
              " 'มหาสารคราม',\n",
              " 'มหาสารคาม',\n",
              " 'มาเลเซีย',\n",
              " 'มุกดาหาร',\n",
              " 'ยะลา',\n",
              " 'ยานนาวา',\n",
              " 'ยโสธร',\n",
              " 'ระนอง',\n",
              " 'ระยอง',\n",
              " 'ราชบุรี',\n",
              " 'ร้องกวาง',\n",
              " 'ร้อยเอ็ด',\n",
              " 'ร้อยเอ็็ด',\n",
              " 'ร้อยเอ้ด',\n",
              " 'ร้้อยเอ็ด',\n",
              " 'ลพบรี',\n",
              " 'ลพบุรี',\n",
              " 'ลพบุุรี',\n",
              " 'ลอง',\n",
              " 'ลำปาง',\n",
              " 'ลำพูน',\n",
              " 'วังชิ้น',\n",
              " 'ศรีษะเกษ',\n",
              " 'ศรีสะเกษ',\n",
              " 'ศรีีสะเกษ',\n",
              " 'ศีรษะเกษ',\n",
              " 'ศีรสะเกษ',\n",
              " 'สกลนคร',\n",
              " 'สงขขลา',\n",
              " 'สงขลา',\n",
              " 'สงขลา\\u200b',\n",
              " 'สตูล',\n",
              " 'สถานที่ทำงาน',\n",
              " 'สมทรสาคร',\n",
              " 'สมุทปราการ',\n",
              " 'สมุทรปราการ',\n",
              " 'สมุทรปาการ',\n",
              " 'สมุทรสงคราม',\n",
              " 'สมุทรสาคร',\n",
              " 'สมุทราปราการ',\n",
              " 'สมุทราสาคร',\n",
              " 'สมุทสงคราม',\n",
              " 'สมุทสาคร',\n",
              " 'สมุุทรปราการ',\n",
              " 'สมุุทรสงคราม',\n",
              " 'สมุุทรสาคร',\n",
              " 'สมุุทสาคร',\n",
              " 'สระบุรี',\n",
              " 'สระบุุรี',\n",
              " 'สระแก้ว',\n",
              " 'สรแก้ว',\n",
              " 'สอง',\n",
              " 'สองแคว',\n",
              " 'สิงห์บุรี',\n",
              " 'สุทรปราการ',\n",
              " 'สุพรรณบุรี',\n",
              " 'สุมทรสาคร',\n",
              " 'สุมุทรปราการ',\n",
              " 'สุมุทรสาคร',\n",
              " 'สุราษฎร์ธานี',\n",
              " 'สุรินทร์',\n",
              " 'สุุราษฎร์ธานี',\n",
              " 'สุโขทัย',\n",
              " 'สูงเม่น',\n",
              " 'หนองคาย',\n",
              " 'หนองบัวลำภู',\n",
              " 'หนองบัวลำภูู',\n",
              " 'หนองบัวลำำภู',\n",
              " 'หนองบััวลำภู',\n",
              " 'หนองม่วงไข่',\n",
              " 'อยุธยา',\n",
              " 'อำนาจเจริญ',\n",
              " 'อุดรธานี',\n",
              " 'อุดรธานีี',\n",
              " 'อุตรดิตถ์',\n",
              " 'อุทัยธานี',\n",
              " 'อุบลราขธานี',\n",
              " 'อุบลราชธานี',\n",
              " 'อุุดรธาน',\n",
              " 'อุุดรธานี',\n",
              " 'อุุตรดิตถ์',\n",
              " 'อุุทัยธานี',\n",
              " 'อ่างทอง',\n",
              " 'ูภูเก็ต',\n",
              " 'เชียงราย',\n",
              " 'เชียงใหม่',\n",
              " 'เด่นชัย',\n",
              " 'เพชบุรี',\n",
              " 'เพชรบุรี',\n",
              " 'เพชรบูรณ์',\n",
              " 'เพรชบุรี',\n",
              " 'เพรบุรี',\n",
              " 'เมือง',\n",
              " 'เมืองน่าน',\n",
              " 'เรือ',\n",
              " 'เลย',\n",
              " 'เวียงจันทร์',\n",
              " 'เวียงสา',\n",
              " 'แพร่',\n",
              " 'แม่ฮ่องสอน',\n",
              " 'ไม่มีข้อมูล',\n",
              " 'ไม่ระบุ'}"
            ]
          },
          "metadata": {
            "tags": []
          },
          "execution_count": 508
        }
      ]
    },
    {
      "cell_type": "code",
      "metadata": {
        "colab": {
          "base_uri": "https://localhost:8080/"
        },
        "id": "Y0oAXdtCRACo",
        "outputId": "6134febd-921c-4bd6-a99f-c4d2d14b09c5"
      },
      "source": [
        "fixed_cities = []  #สร้าง list ว่าง\n",
        "\n",
        "for city in all_cities:\n",
        "    # หาค่า mean ของเชียงใหม่\n",
        "    X_cases = data_cases2['province_of_onset'] == city\n",
        "    X_mean = data_cases2[X_cases]['age'].mean()\n",
        "\n",
        "    # เลือกมาเฉพาะ data เชียงใหม่\n",
        "    data_X = data_cases2[X_cases]\n",
        "\n",
        "    # เติมค่า mean แทน missing\n",
        "    data_X[['age']] = data_X[['age']].fillna(X_mean)\n",
        "\n",
        "    fixed_cities.append(data_X)\n",
        "\n",
        "\n",
        "data_cases2_nomissingage = pd.concat(fixed_cities)"
      ],
      "execution_count": 513,
      "outputs": [
        {
          "output_type": "stream",
          "text": [
            "/usr/local/lib/python3.7/dist-packages/pandas/core/frame.py:3069: SettingWithCopyWarning: \n",
            "A value is trying to be set on a copy of a slice from a DataFrame.\n",
            "Try using .loc[row_indexer,col_indexer] = value instead\n",
            "\n",
            "See the caveats in the documentation: https://pandas.pydata.org/pandas-docs/stable/user_guide/indexing.html#returning-a-view-versus-a-copy\n",
            "  self[k1] = value[k2]\n"
          ],
          "name": "stderr"
        }
      ]
    },
    {
      "cell_type": "code",
      "metadata": {
        "colab": {
          "base_uri": "https://localhost:8080/",
          "height": 449
        },
        "id": "nsApLyiYDqSm",
        "outputId": "b64f0a42-b5b3-4340-82b1-4702891deaa0"
      },
      "source": [
        "data_cases2_nomissingage"
      ],
      "execution_count": 514,
      "outputs": [
        {
          "output_type": "execute_result",
          "data": {
            "text/html": [
              "<div>\n",
              "<style scoped>\n",
              "    .dataframe tbody tr th:only-of-type {\n",
              "        vertical-align: middle;\n",
              "    }\n",
              "\n",
              "    .dataframe tbody tr th {\n",
              "        vertical-align: top;\n",
              "    }\n",
              "\n",
              "    .dataframe thead th {\n",
              "        text-align: right;\n",
              "    }\n",
              "</style>\n",
              "<table border=\"1\" class=\"dataframe\">\n",
              "  <thead>\n",
              "    <tr style=\"text-align: right;\">\n",
              "      <th></th>\n",
              "      <th>No.</th>\n",
              "      <th>announce_date</th>\n",
              "      <th>Notified date</th>\n",
              "      <th>sex</th>\n",
              "      <th>age</th>\n",
              "      <th>Unit</th>\n",
              "      <th>nationality</th>\n",
              "      <th>province_of_isolation</th>\n",
              "      <th>risk</th>\n",
              "      <th>province_of_onset</th>\n",
              "      <th>district_of_onset</th>\n",
              "    </tr>\n",
              "  </thead>\n",
              "  <tbody>\n",
              "    <tr>\n",
              "      <th>23</th>\n",
              "      <td>24</td>\n",
              "      <td>4/2/2020</td>\n",
              "      <td>NaN</td>\n",
              "      <td>หญิง</td>\n",
              "      <td>31.0</td>\n",
              "      <td>ปี</td>\n",
              "      <td>China</td>\n",
              "      <td>กระบี่</td>\n",
              "      <td>คนต่างชาติเดินทางมาจากต่างประเทศ</td>\n",
              "      <td>กระบี่</td>\n",
              "      <td>เกาะลันตา</td>\n",
              "    </tr>\n",
              "    <tr>\n",
              "      <th>386</th>\n",
              "      <td>387</td>\n",
              "      <td>21/3/2020</td>\n",
              "      <td>20/3/2020</td>\n",
              "      <td>ชาย</td>\n",
              "      <td>62.0</td>\n",
              "      <td>ปี</td>\n",
              "      <td>Denmark</td>\n",
              "      <td>กระบี่</td>\n",
              "      <td>คนต่างชาติเดินทางมาจากต่างประเทศ</td>\n",
              "      <td>กระบี่</td>\n",
              "      <td>เมือง</td>\n",
              "    </tr>\n",
              "    <tr>\n",
              "      <th>500</th>\n",
              "      <td>501</td>\n",
              "      <td>22/3/2020</td>\n",
              "      <td>22/3/2020</td>\n",
              "      <td>หญิง</td>\n",
              "      <td>39.0</td>\n",
              "      <td>ปี</td>\n",
              "      <td>Thailand</td>\n",
              "      <td>กระบี่</td>\n",
              "      <td>อาชีพเสี่ยง เช่น ทำงานในสถานที่แออัด หรือทำงาน...</td>\n",
              "      <td>กระบี่</td>\n",
              "      <td>เกาะลันตา</td>\n",
              "    </tr>\n",
              "    <tr>\n",
              "      <th>943</th>\n",
              "      <td>944</td>\n",
              "      <td>26/3/2020</td>\n",
              "      <td>25/3/2020</td>\n",
              "      <td>ชาย</td>\n",
              "      <td>20.0</td>\n",
              "      <td>ปี</td>\n",
              "      <td>Thailand</td>\n",
              "      <td>กระบี่</td>\n",
              "      <td>สถานบันเทิง</td>\n",
              "      <td>กระบี่</td>\n",
              "      <td>เมือง</td>\n",
              "    </tr>\n",
              "    <tr>\n",
              "      <th>954</th>\n",
              "      <td>955</td>\n",
              "      <td>26/3/2020</td>\n",
              "      <td>24/3/2020</td>\n",
              "      <td>หญิง</td>\n",
              "      <td>38.0</td>\n",
              "      <td>ปี</td>\n",
              "      <td>Denmark</td>\n",
              "      <td>กระบี่</td>\n",
              "      <td>สัมผัสใกล้ชิดกับผู้ป่วยยืนยันรายก่อนหน้านี้</td>\n",
              "      <td>กระบี่</td>\n",
              "      <td>NaN</td>\n",
              "    </tr>\n",
              "    <tr>\n",
              "      <th>...</th>\n",
              "      <td>...</td>\n",
              "      <td>...</td>\n",
              "      <td>...</td>\n",
              "      <td>...</td>\n",
              "      <td>...</td>\n",
              "      <td>...</td>\n",
              "      <td>...</td>\n",
              "      <td>...</td>\n",
              "      <td>...</td>\n",
              "      <td>...</td>\n",
              "      <td>...</td>\n",
              "    </tr>\n",
              "    <tr>\n",
              "      <th>304603</th>\n",
              "      <td>304604</td>\n",
              "      <td>8/7/2021</td>\n",
              "      <td>7/7/2021</td>\n",
              "      <td>ชาย</td>\n",
              "      <td>22.0</td>\n",
              "      <td>ปี</td>\n",
              "      <td>Thailand</td>\n",
              "      <td>อุดรธานี</td>\n",
              "      <td>อื่นๆ</td>\n",
              "      <td>อุุดรธานี</td>\n",
              "      <td>บ้านดุง</td>\n",
              "    </tr>\n",
              "    <tr>\n",
              "      <th>312786</th>\n",
              "      <td>312787</td>\n",
              "      <td>9/7/2021</td>\n",
              "      <td>8/7/2021</td>\n",
              "      <td>ชาย</td>\n",
              "      <td>19.0</td>\n",
              "      <td>ปี</td>\n",
              "      <td>Thailand</td>\n",
              "      <td>หนองบัวลำภู</td>\n",
              "      <td>อยู่ระหว่างการสอบสวน</td>\n",
              "      <td>อุุดรธานี</td>\n",
              "      <td>นาวัง</td>\n",
              "    </tr>\n",
              "    <tr>\n",
              "      <th>358874</th>\n",
              "      <td>358875</td>\n",
              "      <td>14/7/2021</td>\n",
              "      <td>13/7/2021</td>\n",
              "      <td>ชาย</td>\n",
              "      <td>41.0</td>\n",
              "      <td>ปี</td>\n",
              "      <td>Thailand</td>\n",
              "      <td>อุดรธานี</td>\n",
              "      <td>อยู่ระหว่างการสอบสวน</td>\n",
              "      <td>อุุดรธานี</td>\n",
              "      <td>หนองแสง</td>\n",
              "    </tr>\n",
              "    <tr>\n",
              "      <th>358879</th>\n",
              "      <td>358880</td>\n",
              "      <td>14/7/2021</td>\n",
              "      <td>13/7/2021</td>\n",
              "      <td>ชาย</td>\n",
              "      <td>43.0</td>\n",
              "      <td>ปี</td>\n",
              "      <td>Thailand</td>\n",
              "      <td>อุดรธานี</td>\n",
              "      <td>สัมผัสใกล้ชิดกับผู้ป่วยยืนยันรายก่อนหน้านี้</td>\n",
              "      <td>อุุดรธานี</td>\n",
              "      <td>เมืืองอุดรธานี</td>\n",
              "    </tr>\n",
              "    <tr>\n",
              "      <th>382163</th>\n",
              "      <td>382164</td>\n",
              "      <td>17/7/2021</td>\n",
              "      <td>16/7/2021</td>\n",
              "      <td>ชาย</td>\n",
              "      <td>11.0</td>\n",
              "      <td>ปี</td>\n",
              "      <td>Thailand</td>\n",
              "      <td>เพชรบูรณ์</td>\n",
              "      <td>สัมผัสใกล้ชิดกับผู้ป่วยยืนยันรายก่อนหน้านี้</td>\n",
              "      <td>อุุดรธานี</td>\n",
              "      <td>บ้านผือ</td>\n",
              "    </tr>\n",
              "  </tbody>\n",
              "</table>\n",
              "<p>512622 rows × 11 columns</p>\n",
              "</div>"
            ],
            "text/plain": [
              "           No. announce_date  ... province_of_onset district_of_onset\n",
              "23          24      4/2/2020  ...            กระบี่         เกาะลันตา\n",
              "386        387     21/3/2020  ...            กระบี่             เมือง\n",
              "500        501     22/3/2020  ...            กระบี่         เกาะลันตา\n",
              "943        944     26/3/2020  ...            กระบี่             เมือง\n",
              "954        955     26/3/2020  ...            กระบี่               NaN\n",
              "...        ...           ...  ...               ...               ...\n",
              "304603  304604      8/7/2021  ...         อุุดรธานี           บ้านดุง\n",
              "312786  312787      9/7/2021  ...         อุุดรธานี             นาวัง\n",
              "358874  358875     14/7/2021  ...         อุุดรธานี           หนองแสง\n",
              "358879  358880     14/7/2021  ...         อุุดรธานี    เมืืองอุดรธานี\n",
              "382163  382164     17/7/2021  ...         อุุดรธานี           บ้านผือ\n",
              "\n",
              "[512622 rows x 11 columns]"
            ]
          },
          "metadata": {
            "tags": []
          },
          "execution_count": 514
        }
      ]
    },
    {
      "cell_type": "code",
      "metadata": {
        "colab": {
          "base_uri": "https://localhost:8080/"
        },
        "id": "GQRQZg5_E2l2",
        "outputId": "eb5a003c-1e8e-4473-c959-3a325df44423"
      },
      "source": [
        "data_cases2_nomissingage.isnull().any() # เช็ค missing    ยังมีอยู่"
      ],
      "execution_count": 515,
      "outputs": [
        {
          "output_type": "execute_result",
          "data": {
            "text/plain": [
              "No.                      False\n",
              "announce_date            False\n",
              "Notified date             True\n",
              "sex                       True\n",
              "age                       True\n",
              "Unit                      True\n",
              "nationality               True\n",
              "province_of_isolation     True\n",
              "risk                      True\n",
              "province_of_onset        False\n",
              "district_of_onset         True\n",
              "dtype: bool"
            ]
          },
          "metadata": {
            "tags": []
          },
          "execution_count": 515
        }
      ]
    },
    {
      "cell_type": "code",
      "metadata": {
        "id": "T7jAR59SLsI0"
      },
      "source": [
        "data_cases2_nomissingage[['age']] = data_cases2_nomissingage[['age']].fillna(data_cases2_nomissingage['age'].mean())"
      ],
      "execution_count": 519,
      "outputs": []
    },
    {
      "cell_type": "code",
      "metadata": {
        "id": "NNK71xKDLDhK",
        "colab": {
          "base_uri": "https://localhost:8080/"
        },
        "outputId": "377e372d-ac76-4b58-abd3-bb07e76d2c78"
      },
      "source": [
        "data_cases2_nomissingage.isnull().any()"
      ],
      "execution_count": 520,
      "outputs": [
        {
          "output_type": "execute_result",
          "data": {
            "text/plain": [
              "No.                      False\n",
              "announce_date            False\n",
              "Notified date             True\n",
              "sex                       True\n",
              "age                      False\n",
              "Unit                      True\n",
              "nationality               True\n",
              "province_of_isolation     True\n",
              "risk                      True\n",
              "province_of_onset        False\n",
              "district_of_onset         True\n",
              "dtype: bool"
            ]
          },
          "metadata": {
            "tags": []
          },
          "execution_count": 520
        }
      ]
    },
    {
      "cell_type": "code",
      "metadata": {
        "colab": {
          "base_uri": "https://localhost:8080/",
          "height": 449
        },
        "id": "YHu8K93jSF5S",
        "outputId": "9adf9ab8-08a9-4d51-8549-b12a9b1cc98d"
      },
      "source": [
        "data_cases2_nomissingage"
      ],
      "execution_count": 522,
      "outputs": [
        {
          "output_type": "execute_result",
          "data": {
            "text/html": [
              "<div>\n",
              "<style scoped>\n",
              "    .dataframe tbody tr th:only-of-type {\n",
              "        vertical-align: middle;\n",
              "    }\n",
              "\n",
              "    .dataframe tbody tr th {\n",
              "        vertical-align: top;\n",
              "    }\n",
              "\n",
              "    .dataframe thead th {\n",
              "        text-align: right;\n",
              "    }\n",
              "</style>\n",
              "<table border=\"1\" class=\"dataframe\">\n",
              "  <thead>\n",
              "    <tr style=\"text-align: right;\">\n",
              "      <th></th>\n",
              "      <th>No.</th>\n",
              "      <th>announce_date</th>\n",
              "      <th>Notified date</th>\n",
              "      <th>sex</th>\n",
              "      <th>age</th>\n",
              "      <th>Unit</th>\n",
              "      <th>nationality</th>\n",
              "      <th>province_of_isolation</th>\n",
              "      <th>risk</th>\n",
              "      <th>province_of_onset</th>\n",
              "      <th>district_of_onset</th>\n",
              "    </tr>\n",
              "  </thead>\n",
              "  <tbody>\n",
              "    <tr>\n",
              "      <th>23</th>\n",
              "      <td>24</td>\n",
              "      <td>4/2/2020</td>\n",
              "      <td>NaN</td>\n",
              "      <td>หญิง</td>\n",
              "      <td>31.0</td>\n",
              "      <td>ปี</td>\n",
              "      <td>China</td>\n",
              "      <td>กระบี่</td>\n",
              "      <td>คนต่างชาติเดินทางมาจากต่างประเทศ</td>\n",
              "      <td>กระบี่</td>\n",
              "      <td>เกาะลันตา</td>\n",
              "    </tr>\n",
              "    <tr>\n",
              "      <th>386</th>\n",
              "      <td>387</td>\n",
              "      <td>21/3/2020</td>\n",
              "      <td>20/3/2020</td>\n",
              "      <td>ชาย</td>\n",
              "      <td>62.0</td>\n",
              "      <td>ปี</td>\n",
              "      <td>Denmark</td>\n",
              "      <td>กระบี่</td>\n",
              "      <td>คนต่างชาติเดินทางมาจากต่างประเทศ</td>\n",
              "      <td>กระบี่</td>\n",
              "      <td>เมือง</td>\n",
              "    </tr>\n",
              "    <tr>\n",
              "      <th>500</th>\n",
              "      <td>501</td>\n",
              "      <td>22/3/2020</td>\n",
              "      <td>22/3/2020</td>\n",
              "      <td>หญิง</td>\n",
              "      <td>39.0</td>\n",
              "      <td>ปี</td>\n",
              "      <td>Thailand</td>\n",
              "      <td>กระบี่</td>\n",
              "      <td>อาชีพเสี่ยง เช่น ทำงานในสถานที่แออัด หรือทำงาน...</td>\n",
              "      <td>กระบี่</td>\n",
              "      <td>เกาะลันตา</td>\n",
              "    </tr>\n",
              "    <tr>\n",
              "      <th>943</th>\n",
              "      <td>944</td>\n",
              "      <td>26/3/2020</td>\n",
              "      <td>25/3/2020</td>\n",
              "      <td>ชาย</td>\n",
              "      <td>20.0</td>\n",
              "      <td>ปี</td>\n",
              "      <td>Thailand</td>\n",
              "      <td>กระบี่</td>\n",
              "      <td>สถานบันเทิง</td>\n",
              "      <td>กระบี่</td>\n",
              "      <td>เมือง</td>\n",
              "    </tr>\n",
              "    <tr>\n",
              "      <th>954</th>\n",
              "      <td>955</td>\n",
              "      <td>26/3/2020</td>\n",
              "      <td>24/3/2020</td>\n",
              "      <td>หญิง</td>\n",
              "      <td>38.0</td>\n",
              "      <td>ปี</td>\n",
              "      <td>Denmark</td>\n",
              "      <td>กระบี่</td>\n",
              "      <td>สัมผัสใกล้ชิดกับผู้ป่วยยืนยันรายก่อนหน้านี้</td>\n",
              "      <td>กระบี่</td>\n",
              "      <td>NaN</td>\n",
              "    </tr>\n",
              "    <tr>\n",
              "      <th>...</th>\n",
              "      <td>...</td>\n",
              "      <td>...</td>\n",
              "      <td>...</td>\n",
              "      <td>...</td>\n",
              "      <td>...</td>\n",
              "      <td>...</td>\n",
              "      <td>...</td>\n",
              "      <td>...</td>\n",
              "      <td>...</td>\n",
              "      <td>...</td>\n",
              "      <td>...</td>\n",
              "    </tr>\n",
              "    <tr>\n",
              "      <th>304603</th>\n",
              "      <td>304604</td>\n",
              "      <td>8/7/2021</td>\n",
              "      <td>7/7/2021</td>\n",
              "      <td>ชาย</td>\n",
              "      <td>22.0</td>\n",
              "      <td>ปี</td>\n",
              "      <td>Thailand</td>\n",
              "      <td>อุดรธานี</td>\n",
              "      <td>อื่นๆ</td>\n",
              "      <td>อุุดรธานี</td>\n",
              "      <td>บ้านดุง</td>\n",
              "    </tr>\n",
              "    <tr>\n",
              "      <th>312786</th>\n",
              "      <td>312787</td>\n",
              "      <td>9/7/2021</td>\n",
              "      <td>8/7/2021</td>\n",
              "      <td>ชาย</td>\n",
              "      <td>19.0</td>\n",
              "      <td>ปี</td>\n",
              "      <td>Thailand</td>\n",
              "      <td>หนองบัวลำภู</td>\n",
              "      <td>อยู่ระหว่างการสอบสวน</td>\n",
              "      <td>อุุดรธานี</td>\n",
              "      <td>นาวัง</td>\n",
              "    </tr>\n",
              "    <tr>\n",
              "      <th>358874</th>\n",
              "      <td>358875</td>\n",
              "      <td>14/7/2021</td>\n",
              "      <td>13/7/2021</td>\n",
              "      <td>ชาย</td>\n",
              "      <td>41.0</td>\n",
              "      <td>ปี</td>\n",
              "      <td>Thailand</td>\n",
              "      <td>อุดรธานี</td>\n",
              "      <td>อยู่ระหว่างการสอบสวน</td>\n",
              "      <td>อุุดรธานี</td>\n",
              "      <td>หนองแสง</td>\n",
              "    </tr>\n",
              "    <tr>\n",
              "      <th>358879</th>\n",
              "      <td>358880</td>\n",
              "      <td>14/7/2021</td>\n",
              "      <td>13/7/2021</td>\n",
              "      <td>ชาย</td>\n",
              "      <td>43.0</td>\n",
              "      <td>ปี</td>\n",
              "      <td>Thailand</td>\n",
              "      <td>อุดรธานี</td>\n",
              "      <td>สัมผัสใกล้ชิดกับผู้ป่วยยืนยันรายก่อนหน้านี้</td>\n",
              "      <td>อุุดรธานี</td>\n",
              "      <td>เมืืองอุดรธานี</td>\n",
              "    </tr>\n",
              "    <tr>\n",
              "      <th>382163</th>\n",
              "      <td>382164</td>\n",
              "      <td>17/7/2021</td>\n",
              "      <td>16/7/2021</td>\n",
              "      <td>ชาย</td>\n",
              "      <td>11.0</td>\n",
              "      <td>ปี</td>\n",
              "      <td>Thailand</td>\n",
              "      <td>เพชรบูรณ์</td>\n",
              "      <td>สัมผัสใกล้ชิดกับผู้ป่วยยืนยันรายก่อนหน้านี้</td>\n",
              "      <td>อุุดรธานี</td>\n",
              "      <td>บ้านผือ</td>\n",
              "    </tr>\n",
              "  </tbody>\n",
              "</table>\n",
              "<p>512622 rows × 11 columns</p>\n",
              "</div>"
            ],
            "text/plain": [
              "           No. announce_date  ... province_of_onset district_of_onset\n",
              "23          24      4/2/2020  ...            กระบี่         เกาะลันตา\n",
              "386        387     21/3/2020  ...            กระบี่             เมือง\n",
              "500        501     22/3/2020  ...            กระบี่         เกาะลันตา\n",
              "943        944     26/3/2020  ...            กระบี่             เมือง\n",
              "954        955     26/3/2020  ...            กระบี่               NaN\n",
              "...        ...           ...  ...               ...               ...\n",
              "304603  304604      8/7/2021  ...         อุุดรธานี           บ้านดุง\n",
              "312786  312787      9/7/2021  ...         อุุดรธานี             นาวัง\n",
              "358874  358875     14/7/2021  ...         อุุดรธานี           หนองแสง\n",
              "358879  358880     14/7/2021  ...         อุุดรธานี    เมืืองอุดรธานี\n",
              "382163  382164     17/7/2021  ...         อุุดรธานี           บ้านผือ\n",
              "\n",
              "[512622 rows x 11 columns]"
            ]
          },
          "metadata": {
            "tags": []
          },
          "execution_count": 522
        }
      ]
    },
    {
      "cell_type": "markdown",
      "metadata": {
        "id": "hkR9Bp0QGnSE"
      },
      "source": [
        "##การเรียงข้อมูล [PD]"
      ]
    },
    {
      "cell_type": "code",
      "metadata": {
        "id": "pBfwUrixTLp0"
      },
      "source": [
        "data_cases2_nomissingage = data_cases2_nomissingage.sort_values(by=['No.'])"
      ],
      "execution_count": 528,
      "outputs": []
    },
    {
      "cell_type": "code",
      "metadata": {
        "id": "249PwZvjIOmV",
        "colab": {
          "base_uri": "https://localhost:8080/",
          "height": 516
        },
        "outputId": "17cab2c5-1086-40b3-c7e9-80960daeccf8"
      },
      "source": [
        "data_cases2_nomissingage"
      ],
      "execution_count": 529,
      "outputs": [
        {
          "output_type": "execute_result",
          "data": {
            "text/html": [
              "<div>\n",
              "<style scoped>\n",
              "    .dataframe tbody tr th:only-of-type {\n",
              "        vertical-align: middle;\n",
              "    }\n",
              "\n",
              "    .dataframe tbody tr th {\n",
              "        vertical-align: top;\n",
              "    }\n",
              "\n",
              "    .dataframe thead th {\n",
              "        text-align: right;\n",
              "    }\n",
              "</style>\n",
              "<table border=\"1\" class=\"dataframe\">\n",
              "  <thead>\n",
              "    <tr style=\"text-align: right;\">\n",
              "      <th></th>\n",
              "      <th>No.</th>\n",
              "      <th>announce_date</th>\n",
              "      <th>Notified date</th>\n",
              "      <th>sex</th>\n",
              "      <th>age</th>\n",
              "      <th>Unit</th>\n",
              "      <th>nationality</th>\n",
              "      <th>province_of_isolation</th>\n",
              "      <th>risk</th>\n",
              "      <th>province_of_onset</th>\n",
              "      <th>district_of_onset</th>\n",
              "    </tr>\n",
              "  </thead>\n",
              "  <tbody>\n",
              "    <tr>\n",
              "      <th>0</th>\n",
              "      <td>1</td>\n",
              "      <td>12/1/2020</td>\n",
              "      <td>NaN</td>\n",
              "      <td>หญิง</td>\n",
              "      <td>61.000000</td>\n",
              "      <td>ปี</td>\n",
              "      <td>China</td>\n",
              "      <td>กรุงเทพมหานคร</td>\n",
              "      <td>คนต่างชาติเดินทางมาจากต่างประเทศ</td>\n",
              "      <td>กรุงเทพมหานคร</td>\n",
              "      <td>NaN</td>\n",
              "    </tr>\n",
              "    <tr>\n",
              "      <th>1</th>\n",
              "      <td>2</td>\n",
              "      <td>17/1/2020</td>\n",
              "      <td>NaN</td>\n",
              "      <td>หญิง</td>\n",
              "      <td>74.000000</td>\n",
              "      <td>ปี</td>\n",
              "      <td>China</td>\n",
              "      <td>กรุงเทพมหานคร</td>\n",
              "      <td>คนต่างชาติเดินทางมาจากต่างประเทศ</td>\n",
              "      <td>กรุงเทพมหานคร</td>\n",
              "      <td>NaN</td>\n",
              "    </tr>\n",
              "    <tr>\n",
              "      <th>2</th>\n",
              "      <td>3</td>\n",
              "      <td>22/1/2020</td>\n",
              "      <td>NaN</td>\n",
              "      <td>หญิง</td>\n",
              "      <td>73.000000</td>\n",
              "      <td>ปี</td>\n",
              "      <td>Thailand</td>\n",
              "      <td>นครปฐม</td>\n",
              "      <td>คนต่างชาติเดินทางมาจากต่างประเทศ</td>\n",
              "      <td>นครปฐม</td>\n",
              "      <td>เมือง</td>\n",
              "    </tr>\n",
              "    <tr>\n",
              "      <th>3</th>\n",
              "      <td>4</td>\n",
              "      <td>22/1/2020</td>\n",
              "      <td>NaN</td>\n",
              "      <td>ชาย</td>\n",
              "      <td>68.000000</td>\n",
              "      <td>ปี</td>\n",
              "      <td>China</td>\n",
              "      <td>กรุงเทพมหานคร</td>\n",
              "      <td>คนต่างชาติเดินทางมาจากต่างประเทศ</td>\n",
              "      <td>กรุงเทพมหานคร</td>\n",
              "      <td>NaN</td>\n",
              "    </tr>\n",
              "    <tr>\n",
              "      <th>4</th>\n",
              "      <td>5</td>\n",
              "      <td>24/1/2020</td>\n",
              "      <td>NaN</td>\n",
              "      <td>หญิง</td>\n",
              "      <td>66.000000</td>\n",
              "      <td>ปี</td>\n",
              "      <td>China</td>\n",
              "      <td>นนทบุรี</td>\n",
              "      <td>คนต่างชาติเดินทางมาจากต่างประเทศ</td>\n",
              "      <td>กรุงเทพมหานคร</td>\n",
              "      <td>NaN</td>\n",
              "    </tr>\n",
              "    <tr>\n",
              "      <th>...</th>\n",
              "      <td>...</td>\n",
              "      <td>...</td>\n",
              "      <td>...</td>\n",
              "      <td>...</td>\n",
              "      <td>...</td>\n",
              "      <td>...</td>\n",
              "      <td>...</td>\n",
              "      <td>...</td>\n",
              "      <td>...</td>\n",
              "      <td>...</td>\n",
              "      <td>...</td>\n",
              "    </tr>\n",
              "    <tr>\n",
              "      <th>512617</th>\n",
              "      <td>512618</td>\n",
              "      <td>26/7/2021</td>\n",
              "      <td>25/7/2021</td>\n",
              "      <td>ชาย</td>\n",
              "      <td>35.378474</td>\n",
              "      <td>NaN</td>\n",
              "      <td>NaN</td>\n",
              "      <td>ชลบุรี</td>\n",
              "      <td>ทัณฑสถาน/เรือนจำ</td>\n",
              "      <td>ไม่มีข้อมูล</td>\n",
              "      <td>NaN</td>\n",
              "    </tr>\n",
              "    <tr>\n",
              "      <th>512618</th>\n",
              "      <td>512619</td>\n",
              "      <td>26/7/2021</td>\n",
              "      <td>25/7/2021</td>\n",
              "      <td>ชาย</td>\n",
              "      <td>35.378474</td>\n",
              "      <td>NaN</td>\n",
              "      <td>NaN</td>\n",
              "      <td>ชลบุรี</td>\n",
              "      <td>ทัณฑสถาน/เรือนจำ</td>\n",
              "      <td>ไม่มีข้อมูล</td>\n",
              "      <td>NaN</td>\n",
              "    </tr>\n",
              "    <tr>\n",
              "      <th>512619</th>\n",
              "      <td>512620</td>\n",
              "      <td>26/7/2021</td>\n",
              "      <td>25/7/2021</td>\n",
              "      <td>ชาย</td>\n",
              "      <td>35.378474</td>\n",
              "      <td>NaN</td>\n",
              "      <td>NaN</td>\n",
              "      <td>ชลบุรี</td>\n",
              "      <td>ทัณฑสถาน/เรือนจำ</td>\n",
              "      <td>ไม่มีข้อมูล</td>\n",
              "      <td>NaN</td>\n",
              "    </tr>\n",
              "    <tr>\n",
              "      <th>512620</th>\n",
              "      <td>512621</td>\n",
              "      <td>26/7/2021</td>\n",
              "      <td>25/7/2021</td>\n",
              "      <td>ชาย</td>\n",
              "      <td>35.378474</td>\n",
              "      <td>NaN</td>\n",
              "      <td>NaN</td>\n",
              "      <td>ชลบุรี</td>\n",
              "      <td>ทัณฑสถาน/เรือนจำ</td>\n",
              "      <td>ไม่มีข้อมูล</td>\n",
              "      <td>NaN</td>\n",
              "    </tr>\n",
              "    <tr>\n",
              "      <th>512621</th>\n",
              "      <td>512622</td>\n",
              "      <td>26/7/2021</td>\n",
              "      <td>25/7/2021</td>\n",
              "      <td>ชาย</td>\n",
              "      <td>35.378474</td>\n",
              "      <td>NaN</td>\n",
              "      <td>NaN</td>\n",
              "      <td>ชลบุรี</td>\n",
              "      <td>ทัณฑสถาน/เรือนจำ</td>\n",
              "      <td>ไม่มีข้อมูล</td>\n",
              "      <td>NaN</td>\n",
              "    </tr>\n",
              "  </tbody>\n",
              "</table>\n",
              "<p>512622 rows × 11 columns</p>\n",
              "</div>"
            ],
            "text/plain": [
              "           No. announce_date  ... province_of_onset district_of_onset\n",
              "0            1     12/1/2020  ...     กรุงเทพมหานคร               NaN\n",
              "1            2     17/1/2020  ...     กรุงเทพมหานคร               NaN\n",
              "2            3     22/1/2020  ...            นครปฐม             เมือง\n",
              "3            4     22/1/2020  ...     กรุงเทพมหานคร               NaN\n",
              "4            5     24/1/2020  ...     กรุงเทพมหานคร               NaN\n",
              "...        ...           ...  ...               ...               ...\n",
              "512617  512618     26/7/2021  ...       ไม่มีข้อมูล               NaN\n",
              "512618  512619     26/7/2021  ...       ไม่มีข้อมูล               NaN\n",
              "512619  512620     26/7/2021  ...       ไม่มีข้อมูล               NaN\n",
              "512620  512621     26/7/2021  ...       ไม่มีข้อมูล               NaN\n",
              "512621  512622     26/7/2021  ...       ไม่มีข้อมูล               NaN\n",
              "\n",
              "[512622 rows x 11 columns]"
            ]
          },
          "metadata": {
            "tags": []
          },
          "execution_count": 529
        }
      ]
    },
    {
      "cell_type": "markdown",
      "metadata": {
        "id": "0DLjMjD6JNGg"
      },
      "source": [
        "##Outlier"
      ]
    },
    {
      "cell_type": "code",
      "metadata": {
        "id": "3M2JIpDYJL2q"
      },
      "source": [
        "from matplotlib import pyplot as  plt"
      ],
      "execution_count": 526,
      "outputs": []
    },
    {
      "cell_type": "code",
      "metadata": {
        "id": "UqWRwjwKJsap",
        "colab": {
          "base_uri": "https://localhost:8080/",
          "height": 265
        },
        "outputId": "eb6c7263-8823-409f-8990-c9c72e3c6214"
      },
      "source": [
        "data_dict = plt.boxplot(data_cases2_nomissingage['age'])"
      ],
      "execution_count": 530,
      "outputs": [
        {
          "output_type": "display_data",
          "data": {
            "image/png": "[encoded data removed]",
            "text/plain": [
              "<Figure size 432x288 with 1 Axes>"
            ]
          },
          "metadata": {
            "tags": [],
            "needs_background": "light"
          }
        }
      ]
    },
    {
      "cell_type": "code",
      "metadata": {
        "colab": {
          "base_uri": "https://localhost:8080/"
        },
        "id": "V10qWblQTXQU",
        "outputId": "b5f10aa3-3390-44fb-9012-ee6198141465"
      },
      "source": [
        "data_dict # curly brackets"
      ],
      "execution_count": 531,
      "outputs": [
        {
          "output_type": "execute_result",
          "data": {
            "text/plain": [
              "{'boxes': [<matplotlib.lines.Line2D at 0x7ff527ad0a50>],\n",
              " 'caps': [<matplotlib.lines.Line2D at 0x7ff527b04a50>,\n",
              "  <matplotlib.lines.Line2D at 0x7ff527b04f90>],\n",
              " 'fliers': [<matplotlib.lines.Line2D at 0x7ff527ad5a90>],\n",
              " 'means': [],\n",
              " 'medians': [<matplotlib.lines.Line2D at 0x7ff527ad5550>],\n",
              " 'whiskers': [<matplotlib.lines.Line2D at 0x7ff527ad0f90>,\n",
              "  <matplotlib.lines.Line2D at 0x7ff527b04510>]}"
            ]
          },
          "metadata": {
            "tags": []
          },
          "execution_count": 531
        }
      ]
    },
    {
      "cell_type": "code",
      "metadata": {
        "colab": {
          "base_uri": "https://localhost:8080/"
        },
        "id": "DabdhL8zTbM5",
        "outputId": "7b023e23-fc3d-4a85-c45e-23fa4e8465be"
      },
      "source": [
        "data_dict['boxes']"
      ],
      "execution_count": 532,
      "outputs": [
        {
          "output_type": "execute_result",
          "data": {
            "text/plain": [
              "[<matplotlib.lines.Line2D at 0x7ff527ad0a50>]"
            ]
          },
          "metadata": {
            "tags": []
          },
          "execution_count": 532
        }
      ]
    },
    {
      "cell_type": "code",
      "metadata": {
        "colab": {
          "base_uri": "https://localhost:8080/"
        },
        "id": "e9a2XrwHTeOD",
        "outputId": "86eb050f-fc04-4f7c-d70b-6881ea5ff73f"
      },
      "source": [
        "data_dict['boxes'][0]"
      ],
      "execution_count": 533,
      "outputs": [
        {
          "output_type": "execute_result",
          "data": {
            "text/plain": [
              "<matplotlib.lines.Line2D at 0x7ff527ad0a50>"
            ]
          },
          "metadata": {
            "tags": []
          },
          "execution_count": 533
        }
      ]
    },
    {
      "cell_type": "code",
      "metadata": {
        "colab": {
          "base_uri": "https://localhost:8080/"
        },
        "id": "BoXHPvHeTi_s",
        "outputId": "30230940-97b1-45ac-ea3e-b6df4c01d661"
      },
      "source": [
        "data_dict['boxes'][0].get_ydata()"
      ],
      "execution_count": 534,
      "outputs": [
        {
          "output_type": "execute_result",
          "data": {
            "text/plain": [
              "array([26., 26., 44., 44., 26.])"
            ]
          },
          "metadata": {
            "tags": []
          },
          "execution_count": 534
        }
      ]
    },
    {
      "cell_type": "code",
      "metadata": {
        "id": "C4_UQttsTnab"
      },
      "source": [
        "Q1 = data_dict['boxes'][0].get_ydata()[0]"
      ],
      "execution_count": 535,
      "outputs": []
    },
    {
      "cell_type": "code",
      "metadata": {
        "colab": {
          "base_uri": "https://localhost:8080/"
        },
        "id": "dyneoGQcTqDV",
        "outputId": "97befd4e-42d9-481f-bd73-21fbed9daef0"
      },
      "source": [
        "Q1"
      ],
      "execution_count": 536,
      "outputs": [
        {
          "output_type": "execute_result",
          "data": {
            "text/plain": [
              "26.0"
            ]
          },
          "metadata": {
            "tags": []
          },
          "execution_count": 536
        }
      ]
    },
    {
      "cell_type": "code",
      "metadata": {
        "colab": {
          "base_uri": "https://localhost:8080/"
        },
        "id": "92SFQS20TtMs",
        "outputId": "e34a6656-26d6-4e18-8a69-e1ac1834b16a"
      },
      "source": [
        "data_dict['fliers'][0].get_ydata()"
      ],
      "execution_count": 537,
      "outputs": [
        {
          "output_type": "execute_result",
          "data": {
            "text/plain": [
              "array([74., 73., 73., ..., 83., 80., 75.])"
            ]
          },
          "metadata": {
            "tags": []
          },
          "execution_count": 537
        }
      ]
    },
    {
      "cell_type": "code",
      "metadata": {
        "colab": {
          "base_uri": "https://localhost:8080/"
        },
        "id": "wphsHAS4Txyu",
        "outputId": "fa455ea6-d4f5-418c-b8fd-1584001883ef"
      },
      "source": [
        "data_dict['caps'][0].get_ydata()"
      ],
      "execution_count": 538,
      "outputs": [
        {
          "output_type": "execute_result",
          "data": {
            "text/plain": [
              "array([1., 1.])"
            ]
          },
          "metadata": {
            "tags": []
          },
          "execution_count": 538
        }
      ]
    },
    {
      "cell_type": "code",
      "metadata": {
        "colab": {
          "base_uri": "https://localhost:8080/"
        },
        "id": "5ByHQ7rJT0ru",
        "outputId": "a8baff74-6240-4b60-e6ba-997d8e0cc30b"
      },
      "source": [
        "data_dict['caps'][0].get_ydata()[0]"
      ],
      "execution_count": 539,
      "outputs": [
        {
          "output_type": "execute_result",
          "data": {
            "text/plain": [
              "1.0"
            ]
          },
          "metadata": {
            "tags": []
          },
          "execution_count": 539
        }
      ]
    },
    {
      "cell_type": "code",
      "metadata": {
        "colab": {
          "base_uri": "https://localhost:8080/"
        },
        "id": "r6OkFG_-T3Rh",
        "outputId": "8edc20d9-193d-460d-cfa9-972cb0aa97ba"
      },
      "source": [
        "data_dict['caps'][1].get_ydata()"
      ],
      "execution_count": 540,
      "outputs": [
        {
          "output_type": "execute_result",
          "data": {
            "text/plain": [
              "array([71., 71.])"
            ]
          },
          "metadata": {
            "tags": []
          },
          "execution_count": 540
        }
      ]
    },
    {
      "cell_type": "code",
      "metadata": {
        "colab": {
          "base_uri": "https://localhost:8080/",
          "height": 516
        },
        "id": "4xmcLqawT6CT",
        "outputId": "cf8c6163-cee1-4737-f8e6-3c1dc2bf3a4a"
      },
      "source": [
        "cap1 = data_cases2_nomissingage['age'] >= data_dict['caps'][0].get_ydata()[0]\n",
        "cap2 = data_cases2_nomissingage['age'] <= data_dict['caps'][1].get_ydata()[0]\n",
        "\n",
        "data_cases2_nomissingage_nooutlier = data_cases2_nomissingage[cap1 & cap2]\n",
        "data_cases2_nomissingage_nooutlier"
      ],
      "execution_count": 541,
      "outputs": [
        {
          "output_type": "execute_result",
          "data": {
            "text/html": [
              "<div>\n",
              "<style scoped>\n",
              "    .dataframe tbody tr th:only-of-type {\n",
              "        vertical-align: middle;\n",
              "    }\n",
              "\n",
              "    .dataframe tbody tr th {\n",
              "        vertical-align: top;\n",
              "    }\n",
              "\n",
              "    .dataframe thead th {\n",
              "        text-align: right;\n",
              "    }\n",
              "</style>\n",
              "<table border=\"1\" class=\"dataframe\">\n",
              "  <thead>\n",
              "    <tr style=\"text-align: right;\">\n",
              "      <th></th>\n",
              "      <th>No.</th>\n",
              "      <th>announce_date</th>\n",
              "      <th>Notified date</th>\n",
              "      <th>sex</th>\n",
              "      <th>age</th>\n",
              "      <th>Unit</th>\n",
              "      <th>nationality</th>\n",
              "      <th>province_of_isolation</th>\n",
              "      <th>risk</th>\n",
              "      <th>province_of_onset</th>\n",
              "      <th>district_of_onset</th>\n",
              "    </tr>\n",
              "  </thead>\n",
              "  <tbody>\n",
              "    <tr>\n",
              "      <th>0</th>\n",
              "      <td>1</td>\n",
              "      <td>12/1/2020</td>\n",
              "      <td>NaN</td>\n",
              "      <td>หญิง</td>\n",
              "      <td>61.000000</td>\n",
              "      <td>ปี</td>\n",
              "      <td>China</td>\n",
              "      <td>กรุงเทพมหานคร</td>\n",
              "      <td>คนต่างชาติเดินทางมาจากต่างประเทศ</td>\n",
              "      <td>กรุงเทพมหานคร</td>\n",
              "      <td>NaN</td>\n",
              "    </tr>\n",
              "    <tr>\n",
              "      <th>3</th>\n",
              "      <td>4</td>\n",
              "      <td>22/1/2020</td>\n",
              "      <td>NaN</td>\n",
              "      <td>ชาย</td>\n",
              "      <td>68.000000</td>\n",
              "      <td>ปี</td>\n",
              "      <td>China</td>\n",
              "      <td>กรุงเทพมหานคร</td>\n",
              "      <td>คนต่างชาติเดินทางมาจากต่างประเทศ</td>\n",
              "      <td>กรุงเทพมหานคร</td>\n",
              "      <td>NaN</td>\n",
              "    </tr>\n",
              "    <tr>\n",
              "      <th>4</th>\n",
              "      <td>5</td>\n",
              "      <td>24/1/2020</td>\n",
              "      <td>NaN</td>\n",
              "      <td>หญิง</td>\n",
              "      <td>66.000000</td>\n",
              "      <td>ปี</td>\n",
              "      <td>China</td>\n",
              "      <td>นนทบุรี</td>\n",
              "      <td>คนต่างชาติเดินทางมาจากต่างประเทศ</td>\n",
              "      <td>กรุงเทพมหานคร</td>\n",
              "      <td>NaN</td>\n",
              "    </tr>\n",
              "    <tr>\n",
              "      <th>5</th>\n",
              "      <td>6</td>\n",
              "      <td>25/1/2020</td>\n",
              "      <td>NaN</td>\n",
              "      <td>หญิง</td>\n",
              "      <td>33.000000</td>\n",
              "      <td>ปี</td>\n",
              "      <td>China</td>\n",
              "      <td>กรุงเทพมหานคร</td>\n",
              "      <td>คนต่างชาติเดินทางมาจากต่างประเทศ</td>\n",
              "      <td>กรุงเทพมหานคร</td>\n",
              "      <td>NaN</td>\n",
              "    </tr>\n",
              "    <tr>\n",
              "      <th>6</th>\n",
              "      <td>7</td>\n",
              "      <td>26/1/2020</td>\n",
              "      <td>NaN</td>\n",
              "      <td>หญิง</td>\n",
              "      <td>57.000000</td>\n",
              "      <td>ปี</td>\n",
              "      <td>China</td>\n",
              "      <td>กรุงเทพมหานคร</td>\n",
              "      <td>คนต่างชาติเดินทางมาจากต่างประเทศ</td>\n",
              "      <td>กรุงเทพมหานคร</td>\n",
              "      <td>NaN</td>\n",
              "    </tr>\n",
              "    <tr>\n",
              "      <th>...</th>\n",
              "      <td>...</td>\n",
              "      <td>...</td>\n",
              "      <td>...</td>\n",
              "      <td>...</td>\n",
              "      <td>...</td>\n",
              "      <td>...</td>\n",
              "      <td>...</td>\n",
              "      <td>...</td>\n",
              "      <td>...</td>\n",
              "      <td>...</td>\n",
              "      <td>...</td>\n",
              "    </tr>\n",
              "    <tr>\n",
              "      <th>512617</th>\n",
              "      <td>512618</td>\n",
              "      <td>26/7/2021</td>\n",
              "      <td>25/7/2021</td>\n",
              "      <td>ชาย</td>\n",
              "      <td>35.378474</td>\n",
              "      <td>NaN</td>\n",
              "      <td>NaN</td>\n",
              "      <td>ชลบุรี</td>\n",
              "      <td>ทัณฑสถาน/เรือนจำ</td>\n",
              "      <td>ไม่มีข้อมูล</td>\n",
              "      <td>NaN</td>\n",
              "    </tr>\n",
              "    <tr>\n",
              "      <th>512618</th>\n",
              "      <td>512619</td>\n",
              "      <td>26/7/2021</td>\n",
              "      <td>25/7/2021</td>\n",
              "      <td>ชาย</td>\n",
              "      <td>35.378474</td>\n",
              "      <td>NaN</td>\n",
              "      <td>NaN</td>\n",
              "      <td>ชลบุรี</td>\n",
              "      <td>ทัณฑสถาน/เรือนจำ</td>\n",
              "      <td>ไม่มีข้อมูล</td>\n",
              "      <td>NaN</td>\n",
              "    </tr>\n",
              "    <tr>\n",
              "      <th>512619</th>\n",
              "      <td>512620</td>\n",
              "      <td>26/7/2021</td>\n",
              "      <td>25/7/2021</td>\n",
              "      <td>ชาย</td>\n",
              "      <td>35.378474</td>\n",
              "      <td>NaN</td>\n",
              "      <td>NaN</td>\n",
              "      <td>ชลบุรี</td>\n",
              "      <td>ทัณฑสถาน/เรือนจำ</td>\n",
              "      <td>ไม่มีข้อมูล</td>\n",
              "      <td>NaN</td>\n",
              "    </tr>\n",
              "    <tr>\n",
              "      <th>512620</th>\n",
              "      <td>512621</td>\n",
              "      <td>26/7/2021</td>\n",
              "      <td>25/7/2021</td>\n",
              "      <td>ชาย</td>\n",
              "      <td>35.378474</td>\n",
              "      <td>NaN</td>\n",
              "      <td>NaN</td>\n",
              "      <td>ชลบุรี</td>\n",
              "      <td>ทัณฑสถาน/เรือนจำ</td>\n",
              "      <td>ไม่มีข้อมูล</td>\n",
              "      <td>NaN</td>\n",
              "    </tr>\n",
              "    <tr>\n",
              "      <th>512621</th>\n",
              "      <td>512622</td>\n",
              "      <td>26/7/2021</td>\n",
              "      <td>25/7/2021</td>\n",
              "      <td>ชาย</td>\n",
              "      <td>35.378474</td>\n",
              "      <td>NaN</td>\n",
              "      <td>NaN</td>\n",
              "      <td>ชลบุรี</td>\n",
              "      <td>ทัณฑสถาน/เรือนจำ</td>\n",
              "      <td>ไม่มีข้อมูล</td>\n",
              "      <td>NaN</td>\n",
              "    </tr>\n",
              "  </tbody>\n",
              "</table>\n",
              "<p>502350 rows × 11 columns</p>\n",
              "</div>"
            ],
            "text/plain": [
              "           No. announce_date  ... province_of_onset district_of_onset\n",
              "0            1     12/1/2020  ...     กรุงเทพมหานคร               NaN\n",
              "3            4     22/1/2020  ...     กรุงเทพมหานคร               NaN\n",
              "4            5     24/1/2020  ...     กรุงเทพมหานคร               NaN\n",
              "5            6     25/1/2020  ...     กรุงเทพมหานคร               NaN\n",
              "6            7     26/1/2020  ...     กรุงเทพมหานคร               NaN\n",
              "...        ...           ...  ...               ...               ...\n",
              "512617  512618     26/7/2021  ...       ไม่มีข้อมูล               NaN\n",
              "512618  512619     26/7/2021  ...       ไม่มีข้อมูล               NaN\n",
              "512619  512620     26/7/2021  ...       ไม่มีข้อมูล               NaN\n",
              "512620  512621     26/7/2021  ...       ไม่มีข้อมูล               NaN\n",
              "512621  512622     26/7/2021  ...       ไม่มีข้อมูล               NaN\n",
              "\n",
              "[502350 rows x 11 columns]"
            ]
          },
          "metadata": {
            "tags": []
          },
          "execution_count": 541
        }
      ]
    },
    {
      "cell_type": "code",
      "metadata": {
        "colab": {
          "base_uri": "https://localhost:8080/",
          "height": 265
        },
        "id": "6IkmxjkyT9jg",
        "outputId": "e165b025-6583-41f7-db33-fe210bbb6648"
      },
      "source": [
        "data_dict = plt.boxplot(data_cases2_nomissingage_nooutlier['age'])"
      ],
      "execution_count": 542,
      "outputs": [
        {
          "output_type": "display_data",
          "data": {
            "image/png": "[encoded data removed]",
            "text/plain": [
              "<Figure size 432x288 with 1 Axes>"
            ]
          },
          "metadata": {
            "tags": [],
            "needs_background": "light"
          }
        }
      ]
    },
    {
      "cell_type": "markdown",
      "metadata": {
        "id": "lwkrjQMcUBnR"
      },
      "source": [
        "ตัด outlier แบบ manual"
      ]
    },
    {
      "cell_type": "code",
      "metadata": {
        "colab": {
          "base_uri": "https://localhost:8080/",
          "height": 516
        },
        "id": "4I6YmhiWUEjk",
        "outputId": "f43af7b1-cb1f-48a5-de23-c0007af5bacd"
      },
      "source": [
        "data_cases2_nomissingage[data_cases2_nomissingage['province_of_onset'] != 'ลอง']"
      ],
      "execution_count": 543,
      "outputs": [
        {
          "output_type": "execute_result",
          "data": {
            "text/html": [
              "<div>\n",
              "<style scoped>\n",
              "    .dataframe tbody tr th:only-of-type {\n",
              "        vertical-align: middle;\n",
              "    }\n",
              "\n",
              "    .dataframe tbody tr th {\n",
              "        vertical-align: top;\n",
              "    }\n",
              "\n",
              "    .dataframe thead th {\n",
              "        text-align: right;\n",
              "    }\n",
              "</style>\n",
              "<table border=\"1\" class=\"dataframe\">\n",
              "  <thead>\n",
              "    <tr style=\"text-align: right;\">\n",
              "      <th></th>\n",
              "      <th>No.</th>\n",
              "      <th>announce_date</th>\n",
              "      <th>Notified date</th>\n",
              "      <th>sex</th>\n",
              "      <th>age</th>\n",
              "      <th>Unit</th>\n",
              "      <th>nationality</th>\n",
              "      <th>province_of_isolation</th>\n",
              "      <th>risk</th>\n",
              "      <th>province_of_onset</th>\n",
              "      <th>district_of_onset</th>\n",
              "    </tr>\n",
              "  </thead>\n",
              "  <tbody>\n",
              "    <tr>\n",
              "      <th>0</th>\n",
              "      <td>1</td>\n",
              "      <td>12/1/2020</td>\n",
              "      <td>NaN</td>\n",
              "      <td>หญิง</td>\n",
              "      <td>61.000000</td>\n",
              "      <td>ปี</td>\n",
              "      <td>China</td>\n",
              "      <td>กรุงเทพมหานคร</td>\n",
              "      <td>คนต่างชาติเดินทางมาจากต่างประเทศ</td>\n",
              "      <td>กรุงเทพมหานคร</td>\n",
              "      <td>NaN</td>\n",
              "    </tr>\n",
              "    <tr>\n",
              "      <th>1</th>\n",
              "      <td>2</td>\n",
              "      <td>17/1/2020</td>\n",
              "      <td>NaN</td>\n",
              "      <td>หญิง</td>\n",
              "      <td>74.000000</td>\n",
              "      <td>ปี</td>\n",
              "      <td>China</td>\n",
              "      <td>กรุงเทพมหานคร</td>\n",
              "      <td>คนต่างชาติเดินทางมาจากต่างประเทศ</td>\n",
              "      <td>กรุงเทพมหานคร</td>\n",
              "      <td>NaN</td>\n",
              "    </tr>\n",
              "    <tr>\n",
              "      <th>2</th>\n",
              "      <td>3</td>\n",
              "      <td>22/1/2020</td>\n",
              "      <td>NaN</td>\n",
              "      <td>หญิง</td>\n",
              "      <td>73.000000</td>\n",
              "      <td>ปี</td>\n",
              "      <td>Thailand</td>\n",
              "      <td>นครปฐม</td>\n",
              "      <td>คนต่างชาติเดินทางมาจากต่างประเทศ</td>\n",
              "      <td>นครปฐม</td>\n",
              "      <td>เมือง</td>\n",
              "    </tr>\n",
              "    <tr>\n",
              "      <th>3</th>\n",
              "      <td>4</td>\n",
              "      <td>22/1/2020</td>\n",
              "      <td>NaN</td>\n",
              "      <td>ชาย</td>\n",
              "      <td>68.000000</td>\n",
              "      <td>ปี</td>\n",
              "      <td>China</td>\n",
              "      <td>กรุงเทพมหานคร</td>\n",
              "      <td>คนต่างชาติเดินทางมาจากต่างประเทศ</td>\n",
              "      <td>กรุงเทพมหานคร</td>\n",
              "      <td>NaN</td>\n",
              "    </tr>\n",
              "    <tr>\n",
              "      <th>4</th>\n",
              "      <td>5</td>\n",
              "      <td>24/1/2020</td>\n",
              "      <td>NaN</td>\n",
              "      <td>หญิง</td>\n",
              "      <td>66.000000</td>\n",
              "      <td>ปี</td>\n",
              "      <td>China</td>\n",
              "      <td>นนทบุรี</td>\n",
              "      <td>คนต่างชาติเดินทางมาจากต่างประเทศ</td>\n",
              "      <td>กรุงเทพมหานคร</td>\n",
              "      <td>NaN</td>\n",
              "    </tr>\n",
              "    <tr>\n",
              "      <th>...</th>\n",
              "      <td>...</td>\n",
              "      <td>...</td>\n",
              "      <td>...</td>\n",
              "      <td>...</td>\n",
              "      <td>...</td>\n",
              "      <td>...</td>\n",
              "      <td>...</td>\n",
              "      <td>...</td>\n",
              "      <td>...</td>\n",
              "      <td>...</td>\n",
              "      <td>...</td>\n",
              "    </tr>\n",
              "    <tr>\n",
              "      <th>512617</th>\n",
              "      <td>512618</td>\n",
              "      <td>26/7/2021</td>\n",
              "      <td>25/7/2021</td>\n",
              "      <td>ชาย</td>\n",
              "      <td>35.378474</td>\n",
              "      <td>NaN</td>\n",
              "      <td>NaN</td>\n",
              "      <td>ชลบุรี</td>\n",
              "      <td>ทัณฑสถาน/เรือนจำ</td>\n",
              "      <td>ไม่มีข้อมูล</td>\n",
              "      <td>NaN</td>\n",
              "    </tr>\n",
              "    <tr>\n",
              "      <th>512618</th>\n",
              "      <td>512619</td>\n",
              "      <td>26/7/2021</td>\n",
              "      <td>25/7/2021</td>\n",
              "      <td>ชาย</td>\n",
              "      <td>35.378474</td>\n",
              "      <td>NaN</td>\n",
              "      <td>NaN</td>\n",
              "      <td>ชลบุรี</td>\n",
              "      <td>ทัณฑสถาน/เรือนจำ</td>\n",
              "      <td>ไม่มีข้อมูล</td>\n",
              "      <td>NaN</td>\n",
              "    </tr>\n",
              "    <tr>\n",
              "      <th>512619</th>\n",
              "      <td>512620</td>\n",
              "      <td>26/7/2021</td>\n",
              "      <td>25/7/2021</td>\n",
              "      <td>ชาย</td>\n",
              "      <td>35.378474</td>\n",
              "      <td>NaN</td>\n",
              "      <td>NaN</td>\n",
              "      <td>ชลบุรี</td>\n",
              "      <td>ทัณฑสถาน/เรือนจำ</td>\n",
              "      <td>ไม่มีข้อมูล</td>\n",
              "      <td>NaN</td>\n",
              "    </tr>\n",
              "    <tr>\n",
              "      <th>512620</th>\n",
              "      <td>512621</td>\n",
              "      <td>26/7/2021</td>\n",
              "      <td>25/7/2021</td>\n",
              "      <td>ชาย</td>\n",
              "      <td>35.378474</td>\n",
              "      <td>NaN</td>\n",
              "      <td>NaN</td>\n",
              "      <td>ชลบุรี</td>\n",
              "      <td>ทัณฑสถาน/เรือนจำ</td>\n",
              "      <td>ไม่มีข้อมูล</td>\n",
              "      <td>NaN</td>\n",
              "    </tr>\n",
              "    <tr>\n",
              "      <th>512621</th>\n",
              "      <td>512622</td>\n",
              "      <td>26/7/2021</td>\n",
              "      <td>25/7/2021</td>\n",
              "      <td>ชาย</td>\n",
              "      <td>35.378474</td>\n",
              "      <td>NaN</td>\n",
              "      <td>NaN</td>\n",
              "      <td>ชลบุรี</td>\n",
              "      <td>ทัณฑสถาน/เรือนจำ</td>\n",
              "      <td>ไม่มีข้อมูล</td>\n",
              "      <td>NaN</td>\n",
              "    </tr>\n",
              "  </tbody>\n",
              "</table>\n",
              "<p>512616 rows × 11 columns</p>\n",
              "</div>"
            ],
            "text/plain": [
              "           No. announce_date  ... province_of_onset district_of_onset\n",
              "0            1     12/1/2020  ...     กรุงเทพมหานคร               NaN\n",
              "1            2     17/1/2020  ...     กรุงเทพมหานคร               NaN\n",
              "2            3     22/1/2020  ...            นครปฐม             เมือง\n",
              "3            4     22/1/2020  ...     กรุงเทพมหานคร               NaN\n",
              "4            5     24/1/2020  ...     กรุงเทพมหานคร               NaN\n",
              "...        ...           ...  ...               ...               ...\n",
              "512617  512618     26/7/2021  ...       ไม่มีข้อมูล               NaN\n",
              "512618  512619     26/7/2021  ...       ไม่มีข้อมูล               NaN\n",
              "512619  512620     26/7/2021  ...       ไม่มีข้อมูล               NaN\n",
              "512620  512621     26/7/2021  ...       ไม่มีข้อมูล               NaN\n",
              "512621  512622     26/7/2021  ...       ไม่มีข้อมูล               NaN\n",
              "\n",
              "[512616 rows x 11 columns]"
            ]
          },
          "metadata": {
            "tags": []
          },
          "execution_count": 543
        }
      ]
    },
    {
      "cell_type": "markdown",
      "metadata": {
        "id": "-GMOySiKSfYj"
      },
      "source": [
        "##Quiz5\n",
        "\n",
        "เขียนฟังก์ชั่น คำนวณ หา Q1,Q2,Q3,IQR,min,max โดยรับ input เป็น output ของ boxplot\n",
        "\n",
        "    ```python\n",
        "    \n",
        "def box_vals(box_out_dict):\n",
        "    #your code1\n",
        "    .\n",
        "    .\n",
        "    .\n",
        "    #your codex\n",
        "    return q1,q2,q3,iqr,vmin,vmix\n",
        "```"
      ]
    },
    {
      "cell_type": "code",
      "metadata": {
        "id": "-cJEf4x3Sgzm"
      },
      "source": [
        ""
      ],
      "execution_count": null,
      "outputs": []
    }
  ]
}