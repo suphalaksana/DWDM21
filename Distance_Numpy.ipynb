{
  "nbformat": 4,
  "nbformat_minor": 0,
  "metadata": {
    "colab": {
      "name": "Distance Numpy.ipynb",
      "provenance": [],
      "authorship_tag": "ABX9TyNMhytwelCDXoZ0ab61cOk6",
      "include_colab_link": true
    },
    "kernelspec": {
      "name": "python3",
      "display_name": "Python 3"
    },
    "language_info": {
      "name": "python"
    }
  },
  "cells": [
    {
      "cell_type": "markdown",
      "metadata": {
        "id": "view-in-github",
        "colab_type": "text"
      },
      "source": [
        "<a href=\"https://colab.research.google.com/github/suphalaksana/DWDM21/blob/main/Distance_Numpy.ipynb\" target=\"_parent\"><img src=\"https://colab.research.google.com/assets/colab-badge.svg\" alt=\"Open In Colab\"/></a>"
      ]
    },
    {
      "cell_type": "code",
      "metadata": {
        "id": "AVgVsgo3c2iS"
      },
      "source": [
        "import numpy as np  #package สำหรับทำงานกับข้อมูลที่เป็นตัวเลข (อยู่ในรูปแบบ matrix)"
      ],
      "execution_count": 1,
      "outputs": []
    },
    {
      "cell_type": "markdown",
      "metadata": {
        "id": "Raf3I1P-deTC"
      },
      "source": [
        "##Numpy Array มีกี่ dimensions ก็ได้"
      ]
    },
    {
      "cell_type": "markdown",
      "metadata": {
        "id": "-CN0ykkedlDd"
      },
      "source": [
        "###สร้าง  numpy array"
      ]
    },
    {
      "cell_type": "code",
      "metadata": {
        "id": "PHky8Brxdd53"
      },
      "source": [
        "np_a = np.array([[1,2,3],[4,5,6]])  #สร้าง numpy array ที่มี 2แถว 3หลัก"
      ],
      "execution_count": 2,
      "outputs": []
    },
    {
      "cell_type": "code",
      "metadata": {
        "colab": {
          "base_uri": "https://localhost:8080/"
        },
        "id": "GOYdhueZd_60",
        "outputId": "64be1355-08ac-4882-e69a-56f29483acf7"
      },
      "source": [
        "np_a"
      ],
      "execution_count": 3,
      "outputs": [
        {
          "output_type": "execute_result",
          "data": {
            "text/plain": [
              "array([[1, 2, 3],\n",
              "       [4, 5, 6]])"
            ]
          },
          "metadata": {},
          "execution_count": 3
        }
      ]
    },
    {
      "cell_type": "code",
      "metadata": {
        "colab": {
          "base_uri": "https://localhost:8080/"
        },
        "id": "PwHHj26seH5s",
        "outputId": "1e187bfb-8303-44b8-8ada-0e6981181522"
      },
      "source": [
        "np_a.shape"
      ],
      "execution_count": 4,
      "outputs": [
        {
          "output_type": "execute_result",
          "data": {
            "text/plain": [
              "(2, 3)"
            ]
          },
          "metadata": {},
          "execution_count": 4
        }
      ]
    },
    {
      "cell_type": "code",
      "metadata": {
        "colab": {
          "base_uri": "https://localhost:8080/"
        },
        "id": "oz9RdI00eLiM",
        "outputId": "a67aa8e5-48a5-4040-f78a-8f659d038942"
      },
      "source": [
        "np_b = np.array([[1,4],[2,5],[3,6]])  #กำหนดแถว,หลัก\n",
        "np_b"
      ],
      "execution_count": 5,
      "outputs": [
        {
          "output_type": "execute_result",
          "data": {
            "text/plain": [
              "array([[1, 4],\n",
              "       [2, 5],\n",
              "       [3, 6]])"
            ]
          },
          "metadata": {},
          "execution_count": 5
        }
      ]
    },
    {
      "cell_type": "markdown",
      "metadata": {
        "id": "TenbOxgqex5i"
      },
      "source": [
        "###matrix transpose กลับแถวเป็นหลักกลับหลักเป็นแถว"
      ]
    },
    {
      "cell_type": "code",
      "metadata": {
        "colab": {
          "base_uri": "https://localhost:8080/"
        },
        "id": "5CPN7XSkes2W",
        "outputId": "f72b8577-f563-42a8-cd26-54255e463c54"
      },
      "source": [
        "np_a.T"
      ],
      "execution_count": 6,
      "outputs": [
        {
          "output_type": "execute_result",
          "data": {
            "text/plain": [
              "array([[1, 4],\n",
              "       [2, 5],\n",
              "       [3, 6]])"
            ]
          },
          "metadata": {},
          "execution_count": 6
        }
      ]
    },
    {
      "cell_type": "markdown",
      "metadata": {
        "id": "UYsunkjWe9-I"
      },
      "source": [
        "###สร้าง matrix เริ่มต้น(zeros,ones)"
      ]
    },
    {
      "cell_type": "markdown",
      "metadata": {
        "id": "FCBvbbiCfYbE"
      },
      "source": [
        "ค่าเริ่มต้นมี0 กับ 1"
      ]
    },
    {
      "cell_type": "code",
      "metadata": {
        "colab": {
          "base_uri": "https://localhost:8080/"
        },
        "id": "ZPjLLIXwe7KJ",
        "outputId": "33f84114-72d6-4501-fb4f-9df0df1c54ed"
      },
      "source": [
        "np_z = np.zeros((4,5))  #4แถว 5 คอลัมน์\n",
        "np_z"
      ],
      "execution_count": 7,
      "outputs": [
        {
          "output_type": "execute_result",
          "data": {
            "text/plain": [
              "array([[0., 0., 0., 0., 0.],\n",
              "       [0., 0., 0., 0., 0.],\n",
              "       [0., 0., 0., 0., 0.],\n",
              "       [0., 0., 0., 0., 0.]])"
            ]
          },
          "metadata": {},
          "execution_count": 7
        }
      ]
    },
    {
      "cell_type": "code",
      "metadata": {
        "colab": {
          "base_uri": "https://localhost:8080/"
        },
        "id": "jZPFOY3ifquR",
        "outputId": "a09b0e3c-0c14-42d5-d5d3-106f8b14b50f"
      },
      "source": [
        "np_o = np.ones((5,6))\n",
        "np_o"
      ],
      "execution_count": 8,
      "outputs": [
        {
          "output_type": "execute_result",
          "data": {
            "text/plain": [
              "array([[1., 1., 1., 1., 1., 1.],\n",
              "       [1., 1., 1., 1., 1., 1.],\n",
              "       [1., 1., 1., 1., 1., 1.],\n",
              "       [1., 1., 1., 1., 1., 1.],\n",
              "       [1., 1., 1., 1., 1., 1.]])"
            ]
          },
          "metadata": {},
          "execution_count": 8
        }
      ]
    },
    {
      "cell_type": "code",
      "metadata": {
        "colab": {
          "base_uri": "https://localhost:8080/"
        },
        "id": "6a8yAlQQgARp",
        "outputId": "bdfef0be-2e60-43ef-da39-11831bdcca2a"
      },
      "source": [
        "np_200 = 200 * np.ones((4,7))\n",
        "np_200"
      ],
      "execution_count": 9,
      "outputs": [
        {
          "output_type": "execute_result",
          "data": {
            "text/plain": [
              "array([[200., 200., 200., 200., 200., 200., 200.],\n",
              "       [200., 200., 200., 200., 200., 200., 200.],\n",
              "       [200., 200., 200., 200., 200., 200., 200.],\n",
              "       [200., 200., 200., 200., 200., 200., 200.]])"
            ]
          },
          "metadata": {},
          "execution_count": 9
        }
      ]
    },
    {
      "cell_type": "markdown",
      "metadata": {
        "id": "BSFoLa0ygZpw"
      },
      "source": [
        "###สร้าง matrix random"
      ]
    },
    {
      "cell_type": "code",
      "metadata": {
        "colab": {
          "base_uri": "https://localhost:8080/"
        },
        "id": "2CU0WZ-KgMgJ",
        "outputId": "349321d3-739d-43f3-8071-4210c5520e34"
      },
      "source": [
        "np.random.randn(5,5) #matrix 5*5 #random เอามาจาก normal distribution ที่มี mu = 0 std =1"
      ],
      "execution_count": 10,
      "outputs": [
        {
          "output_type": "execute_result",
          "data": {
            "text/plain": [
              "array([[-0.22517125, -1.44411135, -0.40073789,  1.9302031 ,  0.43673279],\n",
              "       [ 0.26236058,  0.72471469, -0.07267261, -0.08540009, -1.839168  ],\n",
              "       [-0.72394819, -2.4123494 ,  0.1865316 , -0.08344411, -1.15740175],\n",
              "       [ 1.81192327, -0.12642458,  1.65280573, -0.13618788,  0.27196137],\n",
              "       [ 0.06757497,  3.0932857 , -0.91938649,  0.65569052, -1.46103816]])"
            ]
          },
          "metadata": {},
          "execution_count": 10
        }
      ]
    },
    {
      "cell_type": "code",
      "metadata": {
        "colab": {
          "base_uri": "https://localhost:8080/"
        },
        "id": "6yAWzCsVOmfk",
        "outputId": "2cd75276-d639-42af-9fee-dc3fc5a78763"
      },
      "source": [
        "2+(5*np.random.randn(3,3)) # random เลขมาจาก normal distribution ที่มี mu=2 std=5"
      ],
      "execution_count": 11,
      "outputs": [
        {
          "output_type": "execute_result",
          "data": {
            "text/plain": [
              "array([[-0.11587562,  4.30780056, -3.27134244],\n",
              "       [ 9.3983002 ,  9.09096912,  0.88535049],\n",
              "       [-1.49176913,  4.29128298, -4.26971354]])"
            ]
          },
          "metadata": {},
          "execution_count": 11
        }
      ]
    },
    {
      "cell_type": "code",
      "metadata": {
        "colab": {
          "base_uri": "https://localhost:8080/"
        },
        "id": "tLIxu90vOnT1",
        "outputId": "2cab0eb0-a3e6-42b6-e4ec-be932e5c34e6"
      },
      "source": [
        "np.random.randint(5,11,(4,5)) # random เลขจำนวนเต็ม ระหว่าง [5,11) ขนาด (4x5)"
      ],
      "execution_count": 12,
      "outputs": [
        {
          "output_type": "execute_result",
          "data": {
            "text/plain": [
              "array([[ 9,  6,  7,  8,  5],\n",
              "       [ 7,  5,  5,  9,  8],\n",
              "       [ 6, 10,  8,  7, 10],\n",
              "       [ 5, 10,  9, 10, 10]])"
            ]
          },
          "metadata": {},
          "execution_count": 12
        }
      ]
    },
    {
      "cell_type": "markdown",
      "metadata": {
        "id": "MPydAszhOvx6"
      },
      "source": [
        "##matrix properties"
      ]
    },
    {
      "cell_type": "code",
      "metadata": {
        "colab": {
          "base_uri": "https://localhost:8080/"
        },
        "id": "-rPYO_54OsNj",
        "outputId": "b06f8a9b-d66a-4186-d52a-956494676123"
      },
      "source": [
        "np_a"
      ],
      "execution_count": 13,
      "outputs": [
        {
          "output_type": "execute_result",
          "data": {
            "text/plain": [
              "array([[1, 2, 3],\n",
              "       [4, 5, 6]])"
            ]
          },
          "metadata": {},
          "execution_count": 13
        }
      ]
    },
    {
      "cell_type": "code",
      "metadata": {
        "colab": {
          "base_uri": "https://localhost:8080/"
        },
        "id": "yFG8dsPPO5Ad",
        "outputId": "cb518360-58ed-476a-9ba5-34edb5e2d4c5"
      },
      "source": [
        "np_a.T#Transpose"
      ],
      "execution_count": 14,
      "outputs": [
        {
          "output_type": "execute_result",
          "data": {
            "text/plain": [
              "array([[1, 4],\n",
              "       [2, 5],\n",
              "       [3, 6]])"
            ]
          },
          "metadata": {},
          "execution_count": 14
        }
      ]
    },
    {
      "cell_type": "code",
      "metadata": {
        "colab": {
          "base_uri": "https://localhost:8080/"
        },
        "id": "_Oyr9D64O-Zx",
        "outputId": "dac9c3a7-3e81-472e-d0e1-f74bf56c6390"
      },
      "source": [
        "1 + np_a #adding scalar to matrix #scalar เลขตัวเดียว"
      ],
      "execution_count": 15,
      "outputs": [
        {
          "output_type": "execute_result",
          "data": {
            "text/plain": [
              "array([[2, 3, 4],\n",
              "       [5, 6, 7]])"
            ]
          },
          "metadata": {},
          "execution_count": 15
        }
      ]
    },
    {
      "cell_type": "code",
      "metadata": {
        "colab": {
          "base_uri": "https://localhost:8080/"
        },
        "id": "k49YFBFJPZVk",
        "outputId": "37c098e7-8c53-483b-b160-9805a84bae9c"
      },
      "source": [
        "2 *  np_a #multipling scalar to matrix"
      ],
      "execution_count": 16,
      "outputs": [
        {
          "output_type": "execute_result",
          "data": {
            "text/plain": [
              "array([[ 2,  4,  6],\n",
              "       [ 8, 10, 12]])"
            ]
          },
          "metadata": {},
          "execution_count": 16
        }
      ]
    },
    {
      "cell_type": "code",
      "metadata": {
        "id": "gV2h9oJ4P6bK"
      },
      "source": [
        "np_c = np.array (([6,5,4],[3,2,1]))"
      ],
      "execution_count": 17,
      "outputs": []
    },
    {
      "cell_type": "code",
      "metadata": {
        "colab": {
          "base_uri": "https://localhost:8080/"
        },
        "id": "uk5y39oERTF0",
        "outputId": "c72b5011-88fc-4c42-8067-ff84b1bff283"
      },
      "source": [
        "np_c.shape#ขนาดไม่เท่ากัน เลยต้องทำให้เท่ากันถึงจะคูณกันได้"
      ],
      "execution_count": 18,
      "outputs": [
        {
          "output_type": "execute_result",
          "data": {
            "text/plain": [
              "(2, 3)"
            ]
          },
          "metadata": {},
          "execution_count": 18
        }
      ]
    },
    {
      "cell_type": "code",
      "metadata": {
        "colab": {
          "base_uri": "https://localhost:8080/"
        },
        "id": "vfOkhO4nRbw2",
        "outputId": "61b651da-1566-42c5-fb61-88ff32a6586e"
      },
      "source": [
        "np_a+np_c"
      ],
      "execution_count": 19,
      "outputs": [
        {
          "output_type": "execute_result",
          "data": {
            "text/plain": [
              "array([[7, 7, 7],\n",
              "       [7, 7, 7]])"
            ]
          },
          "metadata": {},
          "execution_count": 19
        }
      ]
    },
    {
      "cell_type": "code",
      "metadata": {
        "colab": {
          "base_uri": "https://localhost:8080/"
        },
        "id": "i2IG6-QiZTnc",
        "outputId": "6d253678-dd6b-4460-ccd3-572a92899d37"
      },
      "source": [
        "np_a.shape"
      ],
      "execution_count": 20,
      "outputs": [
        {
          "output_type": "execute_result",
          "data": {
            "text/plain": [
              "(2, 3)"
            ]
          },
          "metadata": {},
          "execution_count": 20
        }
      ]
    },
    {
      "cell_type": "code",
      "metadata": {
        "colab": {
          "base_uri": "https://localhost:8080/"
        },
        "id": "UNP_GRiSZYLA",
        "outputId": "aa025f0c-a307-4b8b-f9ae-2b3a94d71800"
      },
      "source": [
        "np_c.shape"
      ],
      "execution_count": 21,
      "outputs": [
        {
          "output_type": "execute_result",
          "data": {
            "text/plain": [
              "(2, 3)"
            ]
          },
          "metadata": {},
          "execution_count": 21
        }
      ]
    },
    {
      "cell_type": "code",
      "metadata": {
        "colab": {
          "base_uri": "https://localhost:8080/"
        },
        "id": "beDmmfBFZdjc",
        "outputId": "df57c9d3-f7f7-4588-8304-02cefe8ba1e9"
      },
      "source": [
        "np_c.T.shape"
      ],
      "execution_count": 22,
      "outputs": [
        {
          "output_type": "execute_result",
          "data": {
            "text/plain": [
              "(3, 2)"
            ]
          },
          "metadata": {},
          "execution_count": 22
        }
      ]
    },
    {
      "cell_type": "markdown",
      "metadata": {
        "id": "RPpGEvVdZoHS"
      },
      "source": [
        "![image.png](data:image/png;base64,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)"
      ]
    },
    {
      "cell_type": "code",
      "metadata": {
        "colab": {
          "base_uri": "https://localhost:8080/"
        },
        "id": "--3Z9pLMZstf",
        "outputId": "001aaa66-7f1d-4c67-f045-9c9c12c4e3fe"
      },
      "source": [
        "np.dot(np_a,np_c.T)  #multipling matrix to matrix   (a,b) x (b,c) = (a,c)"
      ],
      "execution_count": 23,
      "outputs": [
        {
          "output_type": "execute_result",
          "data": {
            "text/plain": [
              "array([[28, 10],\n",
              "       [73, 28]])"
            ]
          },
          "metadata": {},
          "execution_count": 23
        }
      ]
    },
    {
      "cell_type": "code",
      "metadata": {
        "id": "8VwJ-mfs1JbC"
      },
      "source": [
        ""
      ],
      "execution_count": null,
      "outputs": []
    },
    {
      "cell_type": "markdown",
      "metadata": {
        "id": "pxPwQEbuRgek"
      },
      "source": [
        "##Indexing &  Slicing"
      ]
    },
    {
      "cell_type": "code",
      "metadata": {
        "colab": {
          "base_uri": "https://localhost:8080/"
        },
        "id": "s9Hj2K5AReiN",
        "outputId": "e324be3a-ae5b-48e2-d1bf-24223a56bbd5"
      },
      "source": [
        "np_a"
      ],
      "execution_count": 24,
      "outputs": [
        {
          "output_type": "execute_result",
          "data": {
            "text/plain": [
              "array([[1, 2, 3],\n",
              "       [4, 5, 6]])"
            ]
          },
          "metadata": {},
          "execution_count": 24
        }
      ]
    },
    {
      "cell_type": "code",
      "metadata": {
        "colab": {
          "base_uri": "https://localhost:8080/"
        },
        "id": "TMG-8OBHSC2z",
        "outputId": "c741e4e1-946c-49f9-c3ab-8bb518895dee"
      },
      "source": [
        "np_a[1,1]  #แถวที่ 1 หลักที่ 1   แถวนอน หลักตั้ง"
      ],
      "execution_count": 25,
      "outputs": [
        {
          "output_type": "execute_result",
          "data": {
            "text/plain": [
              "5"
            ]
          },
          "metadata": {},
          "execution_count": 25
        }
      ]
    },
    {
      "cell_type": "code",
      "metadata": {
        "colab": {
          "base_uri": "https://localhost:8080/"
        },
        "id": "GOUFbdcPSlbu",
        "outputId": "2b526f13-d0de-44a3-a7b5-439719d2db2f"
      },
      "source": [
        "np_a[1,2]"
      ],
      "execution_count": 26,
      "outputs": [
        {
          "output_type": "execute_result",
          "data": {
            "text/plain": [
              "6"
            ]
          },
          "metadata": {},
          "execution_count": 26
        }
      ]
    },
    {
      "cell_type": "code",
      "metadata": {
        "colab": {
          "base_uri": "https://localhost:8080/"
        },
        "id": "DK137ESwTmIB",
        "outputId": "e4c13735-d300-4231-8cec-27dc6dfe6705"
      },
      "source": [
        "np_a[0,2]"
      ],
      "execution_count": 27,
      "outputs": [
        {
          "output_type": "execute_result",
          "data": {
            "text/plain": [
              "3"
            ]
          },
          "metadata": {},
          "execution_count": 27
        }
      ]
    },
    {
      "cell_type": "code",
      "metadata": {
        "colab": {
          "base_uri": "https://localhost:8080/"
        },
        "id": "Ull9c3f4SFGD",
        "outputId": "ffe8e515-1d65-45de-d6c2-47cde740d3bf"
      },
      "source": [
        "np_a[:2,:2]"
      ],
      "execution_count": 28,
      "outputs": [
        {
          "output_type": "execute_result",
          "data": {
            "text/plain": [
              "array([[1, 2],\n",
              "       [4, 5]])"
            ]
          },
          "metadata": {},
          "execution_count": 28
        }
      ]
    },
    {
      "cell_type": "code",
      "metadata": {
        "colab": {
          "base_uri": "https://localhost:8080/"
        },
        "id": "ccUeJTuWSZGd",
        "outputId": "09c5709f-2356-4cac-a1c9-09e7abcb3eb2"
      },
      "source": [
        "np_a[0,:]"
      ],
      "execution_count": 29,
      "outputs": [
        {
          "output_type": "execute_result",
          "data": {
            "text/plain": [
              "array([1, 2, 3])"
            ]
          },
          "metadata": {},
          "execution_count": 29
        }
      ]
    },
    {
      "cell_type": "markdown",
      "metadata": {
        "id": "JEUDGybMSv_Q"
      },
      "source": [
        "##Useful functions"
      ]
    },
    {
      "cell_type": "code",
      "metadata": {
        "colab": {
          "base_uri": "https://localhost:8080/"
        },
        "id": "zVpXYPZnS9Kt",
        "outputId": "5f0fe140-bee4-4928-f184-78e8b7610950"
      },
      "source": [
        "np_a"
      ],
      "execution_count": 30,
      "outputs": [
        {
          "output_type": "execute_result",
          "data": {
            "text/plain": [
              "array([[1, 2, 3],\n",
              "       [4, 5, 6]])"
            ]
          },
          "metadata": {},
          "execution_count": 30
        }
      ]
    },
    {
      "cell_type": "code",
      "metadata": {
        "colab": {
          "base_uri": "https://localhost:8080/"
        },
        "id": "QiOLdRQtSdhc",
        "outputId": "184a62be-5b14-4183-e261-281e8fd8c4a7"
      },
      "source": [
        "np.sum(np_a)  #เอาค่าใน a มาบวกกัน  #sum รวม"
      ],
      "execution_count": 31,
      "outputs": [
        {
          "output_type": "execute_result",
          "data": {
            "text/plain": [
              "21"
            ]
          },
          "metadata": {},
          "execution_count": 31
        }
      ]
    },
    {
      "cell_type": "code",
      "metadata": {
        "colab": {
          "base_uri": "https://localhost:8080/"
        },
        "id": "YXB5xtbIS_eb",
        "outputId": "45270d1f-992a-4872-b562-c3a7f11c79ac"
      },
      "source": [
        "np.sum(np_a,axis=0)  #axis=0 เอาค่าในแนวแกนนอนมาบวกกัน"
      ],
      "execution_count": 32,
      "outputs": [
        {
          "output_type": "execute_result",
          "data": {
            "text/plain": [
              "array([5, 7, 9])"
            ]
          },
          "metadata": {},
          "execution_count": 32
        }
      ]
    },
    {
      "cell_type": "code",
      "metadata": {
        "colab": {
          "base_uri": "https://localhost:8080/"
        },
        "id": "Q8vIl4YpTIxA",
        "outputId": "45e4c637-2b72-488c-dc89-322422e732c2"
      },
      "source": [
        "np.sum(np_a,axis=1)#axis=1 เอาค่าในแนวแกนตั้งมาบวกกัน  หรือหลัก  หลักกคือคอลัมน์"
      ],
      "execution_count": 33,
      "outputs": [
        {
          "output_type": "execute_result",
          "data": {
            "text/plain": [
              "array([ 6, 15])"
            ]
          },
          "metadata": {},
          "execution_count": 33
        }
      ]
    },
    {
      "cell_type": "code",
      "metadata": {
        "colab": {
          "base_uri": "https://localhost:8080/"
        },
        "id": "PRqcqQvDTYXN",
        "outputId": "f962af0d-8e27-431c-d50d-df9b488a5fd3"
      },
      "source": [
        "np.mean(np_a)"
      ],
      "execution_count": 34,
      "outputs": [
        {
          "output_type": "execute_result",
          "data": {
            "text/plain": [
              "3.5"
            ]
          },
          "metadata": {},
          "execution_count": 34
        }
      ]
    },
    {
      "cell_type": "code",
      "metadata": {
        "colab": {
          "base_uri": "https://localhost:8080/"
        },
        "id": "YaBY9C02TtQj",
        "outputId": "7e56d2bb-4fe6-4818-9d85-3aa1c0537348"
      },
      "source": [
        "np.mean(np_a,axis=0)  #หา mean ของ column  #ทำแบบนี้ได้ต้องเป็น squar matrix ด้านไม่เท่ากัน"
      ],
      "execution_count": 35,
      "outputs": [
        {
          "output_type": "execute_result",
          "data": {
            "text/plain": [
              "array([2.5, 3.5, 4.5])"
            ]
          },
          "metadata": {},
          "execution_count": 35
        }
      ]
    },
    {
      "cell_type": "markdown",
      "metadata": {
        "id": "J1BbuJ6wUy0Q"
      },
      "source": [
        "##วนลูปเอง"
      ]
    },
    {
      "cell_type": "markdown",
      "metadata": {
        "id": "3P9uKTJnU_qr"
      },
      "source": [
        "###summation"
      ]
    },
    {
      "cell_type": "code",
      "metadata": {
        "colab": {
          "base_uri": "https://localhost:8080/"
        },
        "id": "oJ1caMF0WqfA",
        "outputId": "9d208acf-eea9-4d5d-f45b-939efbd6e7ba"
      },
      "source": [
        "np_a.shape"
      ],
      "execution_count": 36,
      "outputs": [
        {
          "output_type": "execute_result",
          "data": {
            "text/plain": [
              "(2, 3)"
            ]
          },
          "metadata": {},
          "execution_count": 36
        }
      ]
    },
    {
      "cell_type": "markdown",
      "metadata": {
        "id": "wZjvCg9zZyqu"
      },
      "source": [
        "```np.sum(np_a)```"
      ]
    },
    {
      "cell_type": "code",
      "metadata": {
        "colab": {
          "base_uri": "https://localhost:8080/"
        },
        "id": "P_-F-eXaUPWI",
        "outputId": "eb00fe44-650b-4fdf-c0fd-cd59f81cce0f"
      },
      "source": [
        "sum_all = 0\n",
        "\n",
        "for row in range(np_a.shape[0]):\n",
        "    for col in range(np_a.shape[1]):\n",
        "        sum_all = sum_all + np_a[row,col]\n",
        "        print(f'we are at row={row},col={col} np_a[{row},{col}]={np_a[row,col]} sum_all={sum_all}')\n",
        "print(sum_all)"
      ],
      "execution_count": 37,
      "outputs": [
        {
          "output_type": "stream",
          "name": "stdout",
          "text": [
            "we are at row=0,col=0 np_a[0,0]=1 sum_all=1\n",
            "we are at row=0,col=1 np_a[0,1]=2 sum_all=3\n",
            "we are at row=0,col=2 np_a[0,2]=3 sum_all=6\n",
            "we are at row=1,col=0 np_a[1,0]=4 sum_all=10\n",
            "we are at row=1,col=1 np_a[1,1]=5 sum_all=15\n",
            "we are at row=1,col=2 np_a[1,2]=6 sum_all=21\n",
            "21\n"
          ]
        }
      ]
    },
    {
      "cell_type": "markdown",
      "metadata": {
        "id": "UsluI1P9Z2Zn"
      },
      "source": [
        "```np.sum(np_a,axis=0)```"
      ]
    },
    {
      "cell_type": "code",
      "metadata": {
        "colab": {
          "base_uri": "https://localhost:8080/"
        },
        "id": "zFWYsMmIVUF2",
        "outputId": "85a6c11e-a33e-4409-dbee-1d509c7a9deb"
      },
      "source": [
        "sum_all = np.zeros(np_a.shape[1])\n",
        "\n",
        "for row in range(np_a.shape[0]):\n",
        "    for col in range(np_a.shape[1]):\n",
        "        sum_all[col] = sum_all[col] + np_a[row,col]  #column เดียวกันมา sum รวมกัน\n",
        "print(sum_all)"
      ],
      "execution_count": 38,
      "outputs": [
        {
          "output_type": "stream",
          "name": "stdout",
          "text": [
            "[5. 7. 9.]\n"
          ]
        }
      ]
    },
    {
      "cell_type": "markdown",
      "metadata": {
        "id": "efXtlL22o3AB"
      },
      "source": [
        "Quiz กลุ่ม\n",
        "\n",
        "วนลูปหาค่า\n",
        "\n",
        "* ```np.sum(np_a,axis=1)``` sukuna /\n",
        "* ```np.mean(np_a)``` i love อ.ต้น /\n",
        "* ```np.mean(np_a,axis=0)``` natashar /\n",
        "* ```np.mean(np_a,axis=1)``` teletubby /\n",
        "* ```np.max(np_a)``` numba one /\n",
        "* ```np.max(np_a,axis=0)``` เอกาไร้สติ /\n",
        "* ```np.max(np_a,axis=1)``` sandbox /\n",
        "* ```np.min(np_a)``` ลูกหมี /\n",
        "* ```np.min(np_a,axis=0)``` wakame /\n",
        "* ```np.min(np_a,axis=1)``` แมวส้ม /"
      ]
    },
    {
      "cell_type": "code",
      "metadata": {
        "colab": {
          "base_uri": "https://localhost:8080/"
        },
        "id": "IEFmWjIxYGDs",
        "outputId": "16dd834c-b2ee-4973-9a54-f859d58894c7"
      },
      "source": [
        "#np.sum(np_a,axis=1)\n",
        "sum_all = np.zeros(np_a.shape[0])  #axis=0 แกนนอน แถว\n",
        "\n",
        "for row in range(np_a.shape[0]):\n",
        "    for col in range(np_a.shape[1]):\n",
        "        sum_all[row] = sum_all[row] + np_a[row,col]     \n",
        "print(sum_all)"
      ],
      "execution_count": 39,
      "outputs": [
        {
          "output_type": "stream",
          "name": "stdout",
          "text": [
            "[ 6. 15.]\n"
          ]
        }
      ]
    },
    {
      "cell_type": "code",
      "metadata": {
        "id": "4SlvSZpwav0M",
        "colab": {
          "base_uri": "https://localhost:8080/"
        },
        "outputId": "d6a41c81-17f8-4f23-fec0-3979d97b4666"
      },
      "source": [
        "# np.max(np_a,axis=1)\n",
        "max_all = np.zeros(np_a.shape[0])\n",
        "for row in range(np_a.shape[0]):\n",
        "    max_all[row] = max(np_a[row,:])\n",
        "print(max_all)"
      ],
      "execution_count": 40,
      "outputs": [
        {
          "output_type": "stream",
          "name": "stdout",
          "text": [
            "[3. 6.]\n"
          ]
        }
      ]
    },
    {
      "cell_type": "code",
      "metadata": {
        "colab": {
          "base_uri": "https://localhost:8080/"
        },
        "id": "KL8VuMv8dnRB",
        "outputId": "10cd706b-697c-4bff-b5d6-c28b0bf83c6d"
      },
      "source": [
        "#np.mean(np_a,axis=0)\n",
        "mean_all = np.zeros(np_a.shape[1])\n",
        "for row in range(np_a.shape[0]):\n",
        "     for col in range(np_a.shape[1]):\n",
        "          mean_all[col] = mean_all[col] + np_a[row,col]/np_a.shape[0]\n",
        "print(mean_all)"
      ],
      "execution_count": 41,
      "outputs": [
        {
          "output_type": "stream",
          "name": "stdout",
          "text": [
            "[2.5 3.5 4.5]\n"
          ]
        }
      ]
    },
    {
      "cell_type": "code",
      "metadata": {
        "colab": {
          "base_uri": "https://localhost:8080/"
        },
        "id": "nkL4nmose3yY",
        "outputId": "4d36726e-4272-45cf-a4d9-24ddc7b20d1e"
      },
      "source": [
        "#np.mean(np_a,axis=1)\n",
        "sum_all = np.zeros(np_a.shape[0])\n",
        "for row in range(np_a.shape[0]):\n",
        "    for col in range(np_a.shape[1]): \n",
        "        sum_all[row] = sum_all[row] + np_a[row,col]\n",
        "sum_all = sum_all/np_a.shape[1]\n",
        "print(sum_all)"
      ],
      "execution_count": 42,
      "outputs": [
        {
          "output_type": "stream",
          "name": "stdout",
          "text": [
            "[2. 5.]\n"
          ]
        }
      ]
    },
    {
      "cell_type": "code",
      "metadata": {
        "colab": {
          "base_uri": "https://localhost:8080/"
        },
        "id": "quWQF_yEgOzm",
        "outputId": "f7fa2626-390a-49ed-f32b-a4592cd3cd6a"
      },
      "source": [
        "#np.max(np_a)\n",
        "max_a = -100000000\n",
        "for row in range(np_a.shape[0]):\n",
        "    for col in range(np_a.shape[1]):\n",
        "        if np_a[row,col] > max_a :\n",
        "            max_a = np_a[row,col]\n",
        "print(max_a)"
      ],
      "execution_count": 43,
      "outputs": [
        {
          "output_type": "stream",
          "name": "stdout",
          "text": [
            "6\n"
          ]
        }
      ]
    },
    {
      "cell_type": "code",
      "metadata": {
        "colab": {
          "base_uri": "https://localhost:8080/"
        },
        "id": "LRGuywWlhAyZ",
        "outputId": "ab73e5b2-304d-47ca-8204-662c36741409"
      },
      "source": [
        "### 10. np.min(np_a,axis=1)\n",
        "min_row = np.zeros(np_a.shape[0])\n",
        "for row in range(np_a.shape[0]):\n",
        "   min_row[row] = min(np_a[row,:])\n",
        "print(min_row)"
      ],
      "execution_count": 44,
      "outputs": [
        {
          "output_type": "stream",
          "name": "stdout",
          "text": [
            "[1. 4.]\n"
          ]
        }
      ]
    },
    {
      "cell_type": "code",
      "metadata": {
        "colab": {
          "base_uri": "https://localhost:8080/"
        },
        "id": "z6A-Aw9eiHHD",
        "outputId": "dc436ce9-568c-449b-8fdf-68068a6c0053"
      },
      "source": [
        "# np.min(np_a,axis=0)\n",
        "min_all = np.zeros(np_a.shape[1])\n",
        "\n",
        "for col in range(np_a.shape[1]):\n",
        "    min_all[col] = min(np_a[:,col])\n",
        "print(min_all)"
      ],
      "execution_count": 45,
      "outputs": [
        {
          "output_type": "stream",
          "name": "stdout",
          "text": [
            "[1. 2. 3.]\n"
          ]
        }
      ]
    },
    {
      "cell_type": "code",
      "metadata": {
        "colab": {
          "base_uri": "https://localhost:8080/"
        },
        "id": "6a2EYE9Gixd4",
        "outputId": "972c0df7-058d-45ac-dfbe-4fc8585ae7e3"
      },
      "source": [
        "# np.min(np_a)  ลูกหมี\n",
        "minV = 100000\n",
        "for row in range(np_a.shape[0]):\n",
        "    for col in range(np_a.shape[1]):\n",
        "        if np_a[row,col] < minV:\n",
        "            minV = np_a[row,col]\n",
        "print(minV)\n"
      ],
      "execution_count": 46,
      "outputs": [
        {
          "output_type": "stream",
          "name": "stdout",
          "text": [
            "1\n"
          ]
        }
      ]
    },
    {
      "cell_type": "code",
      "metadata": {
        "colab": {
          "base_uri": "https://localhost:8080/"
        },
        "id": "T6-aXIFyjZBX",
        "outputId": "f9100a9b-a5b0-40c7-e898-85d400a96b5b"
      },
      "source": [
        "# np.max(np_a,axis=0)\n",
        "max_all = -100000 * np.ones(np_a.shape[1])\n",
        "for col in range(np_a.shape[1]):\n",
        "    for row in range(np_a.shape[0]):\n",
        "        if np_a[row,col] > max_all[col]: \n",
        "            max_all[col] = np_a[row,col]\n",
        "print(max_all)"
      ],
      "execution_count": 47,
      "outputs": [
        {
          "output_type": "stream",
          "name": "stdout",
          "text": [
            "[4. 5. 6.]\n"
          ]
        }
      ]
    },
    {
      "cell_type": "code",
      "metadata": {
        "colab": {
          "base_uri": "https://localhost:8080/"
        },
        "id": "xjm10yXRkhGn",
        "outputId": "71aed4f4-abe1-4c84-9e2d-380f227a825e"
      },
      "source": [
        "#np.mean(np_a)\n",
        "mean_all = 0\n",
        "for row in range(np_a.shape[0]):\n",
        "    for col in range(np_a.shape[1]):\n",
        "        mean_all = mean_all + np_a[row,col]\n",
        "mean_all = mean_all/(np_a.shape[0]*np_a.shape[1])\n",
        "print(mean_all)"
      ],
      "execution_count": 48,
      "outputs": [
        {
          "output_type": "stream",
          "name": "stdout",
          "text": [
            "3.5\n"
          ]
        }
      ]
    },
    {
      "cell_type": "markdown",
      "metadata": {
        "id": "Sv4-ce3xYdm7"
      },
      "source": [
        "##Distance matrix"
      ]
    },
    {
      "cell_type": "code",
      "metadata": {
        "id": "ulSDHQxXprPR",
        "colab": {
          "base_uri": "https://localhost:8080/"
        },
        "outputId": "a1202514-ce52-41ae-f3ce-c15f3f7cb856"
      },
      "source": [
        "data1 = np.array([[1,2],[3,5],[2,0],[4,5]])  #สร้างตารางข้อมูลเล็กๆ [x,y]  4แถว 2คอมลัมน์  2 มิติ\n",
        "data1"
      ],
      "execution_count": 49,
      "outputs": [
        {
          "output_type": "execute_result",
          "data": {
            "text/plain": [
              "array([[1, 2],\n",
              "       [3, 5],\n",
              "       [2, 0],\n",
              "       [4, 5]])"
            ]
          },
          "metadata": {},
          "execution_count": 49
        }
      ]
    },
    {
      "cell_type": "code",
      "metadata": {
        "colab": {
          "base_uri": "https://localhost:8080/",
          "height": 0
        },
        "id": "lhGwzLyeZEiW",
        "outputId": "b5df223b-f2df-4e09-fd08-43e0229cae76"
      },
      "source": [
        "from matplotlib import pyplot as plt  #plot\n",
        "plt.scatter(data1[:,0],data1[:,1])  #แกน x แกน y"
      ],
      "execution_count": 50,
      "outputs": [
        {
          "output_type": "execute_result",
          "data": {
            "text/plain": [
              "<matplotlib.collections.PathCollection at 0x7fc96a60b110>"
            ]
          },
          "metadata": {},
          "execution_count": 50
        },
        {
          "output_type": "display_data",
          "data": {
            "image/png": "[encoded data removed]",
            "text/plain": [
              "<Figure size 432x288 with 1 Axes>"
            ]
          },
          "metadata": {
            "needs_background": "light"
          }
        }
      ]
    },
    {
      "cell_type": "markdown",
      "metadata": {
        "id": "rv_6NmGWaZRS"
      },
      "source": [
        "## Euclidean Distance (L2-norm)\n",
        "$\\sqrt{(x_1-x_2)^2+(y_1-y_2)^2}$"
      ]
    },
    {
      "cell_type": "markdown",
      "metadata": {
        "id": "nAoyI9o1eKkM"
      },
      "source": [
        "dist(P1,P2)"
      ]
    },
    {
      "cell_type": "code",
      "metadata": {
        "colab": {
          "base_uri": "https://localhost:8080/"
        },
        "id": "sUeEWT4YZ5H9",
        "outputId": "a2d1366b-c485-4c24-837d-1598087290f2"
      },
      "source": [
        "dist_p1_p2 = np.sqrt(np.power(data1[0,0]-data1[1,0],2) + np.power(data1[0,1]-data1[1,1],2))  #เลข1 ,เลข 3 #np.power คือ ยกกำลัง\n",
        "dist_p1_p2  #นับตามแถว ตามหลักปกติ"
      ],
      "execution_count": 51,
      "outputs": [
        {
          "output_type": "execute_result",
          "data": {
            "text/plain": [
              "3.605551275463989"
            ]
          },
          "metadata": {},
          "execution_count": 51
        }
      ]
    },
    {
      "cell_type": "code",
      "metadata": {
        "colab": {
          "base_uri": "https://localhost:8080/"
        },
        "id": "drzw3BURdN2r",
        "outputId": "f6fdec8f-e7fc-496c-d8ee-b8ade956e5c6"
      },
      "source": [
        "dist_p1_p2 = np.power(np.power(data1[0,0]-data1[1,0],2) + np.power(data1[0,1]-data1[1,1],2),0.5)  \n",
        "dist_p1_p2  #ค่าเท่ากันกับข้างบน"
      ],
      "execution_count": 52,
      "outputs": [
        {
          "output_type": "execute_result",
          "data": {
            "text/plain": [
              "3.605551275463989"
            ]
          },
          "metadata": {},
          "execution_count": 52
        }
      ]
    },
    {
      "cell_type": "markdown",
      "metadata": {
        "id": "0P2_Pc4BenSy"
      },
      "source": [
        "dist(P2,P4)"
      ]
    },
    {
      "cell_type": "code",
      "metadata": {
        "colab": {
          "base_uri": "https://localhost:8080/"
        },
        "id": "ZIDMH71-d16g",
        "outputId": "3a18fd40-bd26-40a4-afd0-08ce7f30fe34"
      },
      "source": [
        "dist_p2_p4 = np.sqrt(np.power(data1[1,0]-data1[3,0],2) + np.power(data1[1,1]-data1[3,1],2))  \n",
        "dist_p2_p4 #ค่าเท่ากันกับข้างบน"
      ],
      "execution_count": 53,
      "outputs": [
        {
          "output_type": "execute_result",
          "data": {
            "text/plain": [
              "1.0"
            ]
          },
          "metadata": {},
          "execution_count": 53
        }
      ]
    },
    {
      "cell_type": "markdown",
      "metadata": {
        "id": "IxUiIuXyf67O"
      },
      "source": [
        "## Distance function"
      ]
    },
    {
      "cell_type": "markdown",
      "metadata": {
        "id": "TOlbDYHgh5b5"
      },
      "source": [
        "dimension = 2"
      ]
    },
    {
      "cell_type": "code",
      "metadata": {
        "id": "XKQmA0b1fpd2"
      },
      "source": [
        "def dist_l2(p1,p2):\n",
        "    return np.sqrt(np.power(p1[0]-p2[0],2) + np.power(p1[1]-p2[1],2))  "
      ],
      "execution_count": 54,
      "outputs": []
    },
    {
      "cell_type": "code",
      "metadata": {
        "colab": {
          "base_uri": "https://localhost:8080/"
        },
        "id": "T_Zb7xeHhfNc",
        "outputId": "111f8343-9f0b-40fd-d0c1-95833b4aac36"
      },
      "source": [
        "dist_l2(data1[0,:],data1[1,:])# data1[แถว1,ทุกๆหลัก],data1[แถว2,ทุกๆหลัก]"
      ],
      "execution_count": 55,
      "outputs": [
        {
          "output_type": "execute_result",
          "data": {
            "text/plain": [
              "3.605551275463989"
            ]
          },
          "metadata": {},
          "execution_count": 55
        }
      ]
    },
    {
      "cell_type": "code",
      "metadata": {
        "colab": {
          "base_uri": "https://localhost:8080/"
        },
        "id": "X299RdOXg832",
        "outputId": "8fd6ebbf-6ebd-4b9c-93ff-bbf8779fec31"
      },
      "source": [
        "dist_l2(data1[1,:],data1[3,:])  #ตัดเอาแถวที่ 1 มาทั้งหมด แถวที่ 3 ทั้งหมด"
      ],
      "execution_count": 56,
      "outputs": [
        {
          "output_type": "execute_result",
          "data": {
            "text/plain": [
              "1.0"
            ]
          },
          "metadata": {},
          "execution_count": 56
        }
      ]
    },
    {
      "cell_type": "code",
      "metadata": {
        "id": "WQvzz9KQhJVA"
      },
      "source": [
        ""
      ],
      "execution_count": 56,
      "outputs": []
    },
    {
      "cell_type": "markdown",
      "metadata": {
        "id": "w6QHnxy4h89C"
      },
      "source": [
        "dimension = n"
      ]
    },
    {
      "cell_type": "markdown",
      "metadata": {
        "id": "A3XB-ilRjY3r"
      },
      "source": [
        "มันจะบวกไปเรื่อยๆ เลยต้อง sum"
      ]
    },
    {
      "cell_type": "code",
      "metadata": {
        "id": "7Qvenh7Qh-w6"
      },
      "source": [
        "def dist_l2_n(p1,p2):\n",
        "    sum = 0\n",
        "    for i in range(len(p1)):\n",
        "        sum = sum + np.power (p1[i]-p2[i],2)\n",
        "    return np.sqrt(sum)"
      ],
      "execution_count": 77,
      "outputs": []
    },
    {
      "cell_type": "code",
      "metadata": {
        "colab": {
          "base_uri": "https://localhost:8080/"
        },
        "id": "ZwL-fa-uj7Fz",
        "outputId": "a654439a-e2e0-48d1-b2a0-ee95da3bc4d4"
      },
      "source": [
        "dist_l2_n(data1[0,:],data1[1,:])"
      ],
      "execution_count": 78,
      "outputs": [
        {
          "output_type": "execute_result",
          "data": {
            "text/plain": [
              "3.605551275463989"
            ]
          },
          "metadata": {},
          "execution_count": 78
        }
      ]
    },
    {
      "cell_type": "markdown",
      "metadata": {
        "id": "1MYNdwX7j_Hw"
      },
      "source": [
        "## Manhattan Distance (L1-norm)\n",
        "$|x_1-x_2|+|y_1-y_2|$"
      ]
    },
    {
      "cell_type": "markdown",
      "metadata": {
        "id": "XTujYJclkVah"
      },
      "source": [
        "#quiz6 \n",
        "เขียน function คำนวณ manhattan distance ของ ข้อมูล 2 dimensions"
      ]
    },
    {
      "cell_type": "code",
      "metadata": {
        "id": "6L5giUvZkAs9"
      },
      "source": [
        "dist_p2_p3 = np.fabs(np.power(data1[1,0]-data1[2,0],2) + np.power(data1[1,1]-data1[2,1],2))"
      ],
      "execution_count": 59,
      "outputs": []
    },
    {
      "cell_type": "code",
      "metadata": {
        "colab": {
          "base_uri": "https://localhost:8080/"
        },
        "id": "bcwljy1smjiJ",
        "outputId": "0771045a-6d9d-43f6-9a3b-1e9719438adb"
      },
      "source": [
        "dist_p2_p3"
      ],
      "execution_count": 60,
      "outputs": [
        {
          "output_type": "execute_result",
          "data": {
            "text/plain": [
              "26.0"
            ]
          },
          "metadata": {},
          "execution_count": 60
        }
      ]
    },
    {
      "cell_type": "markdown",
      "metadata": {
        "id": "a5ZYOJqiX3E_"
      },
      "source": [
        "##Hw11\n",
        "\n",
        "1.Function คำนวณ manhattan distance ของ ข้อมูล N dimensions\n",
        "\n",
        "2.Function คำนวณ L-$\\infty$ ของ ข้อมูล N dimensions\n",
        "\n",
        "3.Function คำนวณ Distance Matrix ด้วย Euclidean Distance (bonus)"
      ]
    },
    {
      "cell_type": "markdown",
      "metadata": {
        "id": "4yUr5RdKQjnG"
      },
      "source": [
        "###ข้อ1"
      ]
    },
    {
      "cell_type": "code",
      "metadata": {
        "id": "knKcZWIQX5d9"
      },
      "source": [
        "def dist_l1_N(p1,p2):\n",
        "    sum = 0\n",
        "    for i in range(len(p1)):\n",
        "        sum =  sum + np.abs(p1[i] - p2[i]) \n",
        "    return np.abs(sum)"
      ],
      "execution_count": 61,
      "outputs": []
    },
    {
      "cell_type": "code",
      "metadata": {
        "colab": {
          "base_uri": "https://localhost:8080/"
        },
        "id": "cRCi-q3LYDEb",
        "outputId": "ef8399fd-98d5-40e6-b129-06a971b4a590"
      },
      "source": [
        "dist_l1_N(data1[0,:],data1[1,:])"
      ],
      "execution_count": 62,
      "outputs": [
        {
          "output_type": "execute_result",
          "data": {
            "text/plain": [
              "5"
            ]
          },
          "metadata": {},
          "execution_count": 62
        }
      ]
    },
    {
      "cell_type": "code",
      "metadata": {
        "id": "21kYiWt4uhD9",
        "colab": {
          "base_uri": "https://localhost:8080/"
        },
        "outputId": "e04cce63-e8d1-46c2-9439-ddc13c6f99bb"
      },
      "source": [
        "dist_l1_N(data1[0,:],data1[3,:])"
      ],
      "execution_count": 63,
      "outputs": [
        {
          "output_type": "execute_result",
          "data": {
            "text/plain": [
              "6"
            ]
          },
          "metadata": {},
          "execution_count": 63
        }
      ]
    },
    {
      "cell_type": "markdown",
      "metadata": {
        "id": "4mTdm9BXQ2nM"
      },
      "source": [
        "###ข้อ2  หาแกนที่มีค่ามากสุด"
      ]
    },
    {
      "cell_type": "markdown",
      "metadata": {
        "id": "gOrjC2OhkQ4F"
      },
      "source": [
        "$d = max|x_1-x_2|$"
      ]
    },
    {
      "cell_type": "code",
      "metadata": {
        "id": "mb1dZipscMW3"
      },
      "source": [
        "def dist_linfinity_n(p1,p2):\n",
        "    for i in range(len(p1)):\n",
        "        max = np.abs(p1[i] - p2[i])\n",
        "    return max"
      ],
      "execution_count": 64,
      "outputs": []
    },
    {
      "cell_type": "markdown",
      "metadata": {
        "id": "hTEQnS55ckYW"
      },
      "source": [
        "X1 กับ X2"
      ]
    },
    {
      "cell_type": "code",
      "metadata": {
        "id": "xwdwQJ4ScZSP",
        "colab": {
          "base_uri": "https://localhost:8080/"
        },
        "outputId": "1c3ac089-0f50-45c8-a9db-8dd1612afc72"
      },
      "source": [
        "dist_linfinity_n(data1[0,:],data1[1,:])"
      ],
      "execution_count": 65,
      "outputs": [
        {
          "output_type": "execute_result",
          "data": {
            "text/plain": [
              "3"
            ]
          },
          "metadata": {},
          "execution_count": 65
        }
      ]
    },
    {
      "cell_type": "markdown",
      "metadata": {
        "id": "MHqKonqBcvaV"
      },
      "source": [
        "X4 กับ X3"
      ]
    },
    {
      "cell_type": "code",
      "metadata": {
        "id": "uCts6aMzco3b",
        "colab": {
          "base_uri": "https://localhost:8080/"
        },
        "outputId": "6fc49620-e859-4c2b-f4a9-61eef23d9b3e"
      },
      "source": [
        "dist_linfinity_n(data1[3,:],data1[2,:])"
      ],
      "execution_count": 66,
      "outputs": [
        {
          "output_type": "execute_result",
          "data": {
            "text/plain": [
              "5"
            ]
          },
          "metadata": {},
          "execution_count": 66
        }
      ]
    },
    {
      "cell_type": "markdown",
      "metadata": {
        "id": "NIsiwE5-Icav"
      },
      "source": [
        "###แก้ข้อ 2 "
      ]
    },
    {
      "cell_type": "code",
      "metadata": {
        "id": "_4JfVQjfj8cH"
      },
      "source": [
        "def dist_linf_n(p1,p2):\n",
        "    maxv = -10000\n",
        "    for i in range(len(p1)):\n",
        "        this_dist = np.abs(p1[i]-p2[i])\n",
        "        if this_dist > maxv:\n",
        "            maxv = this_dist\n",
        "    return maxv"
      ],
      "execution_count": 69,
      "outputs": []
    },
    {
      "cell_type": "code",
      "metadata": {
        "id": "kdZXyaAJJL88",
        "colab": {
          "base_uri": "https://localhost:8080/"
        },
        "outputId": "b3c77028-0d9f-42dc-ee45-90a3010d51f8"
      },
      "source": [
        "dist_linf_n(data1[0,:],data1[2,:])"
      ],
      "execution_count": 70,
      "outputs": [
        {
          "output_type": "execute_result",
          "data": {
            "text/plain": [
              "2"
            ]
          },
          "metadata": {},
          "execution_count": 70
        }
      ]
    },
    {
      "cell_type": "code",
      "metadata": {
        "id": "v9mT_Ne9JPPt",
        "colab": {
          "base_uri": "https://localhost:8080/"
        },
        "outputId": "378638ef-1a56-495c-894a-fc78522417ae"
      },
      "source": [
        "dist_linf_n([-20,2,7],[0,5,9])"
      ],
      "execution_count": 71,
      "outputs": [
        {
          "output_type": "execute_result",
          "data": {
            "text/plain": [
              "20"
            ]
          },
          "metadata": {},
          "execution_count": 71
        }
      ]
    },
    {
      "cell_type": "markdown",
      "metadata": {
        "id": "0QA5SEbGReGq"
      },
      "source": [
        "###ข้อ3"
      ]
    },
    {
      "cell_type": "code",
      "metadata": {
        "id": "hey7NnHgpZGf",
        "colab": {
          "base_uri": "https://localhost:8080/"
        },
        "outputId": "e373188b-aaa2-4ef4-8d55-b13f9f1ada2c"
      },
      "source": [
        "from scipy.spatial import distance\n",
        "data1 = np.array([[1,2],[3,5],[2,0],[4,5]])\n",
        "d = distance.euclidean([1,3,2,4],[2,5,0,5])  #([P1 ตัวหน้าทุกตัว],[P2 ตัวหลังทุกตัว])\n",
        "print(d)"
      ],
      "execution_count": 72,
      "outputs": [
        {
          "output_type": "stream",
          "name": "stdout",
          "text": [
            "3.1622776601683795\n"
          ]
        }
      ]
    },
    {
      "cell_type": "markdown",
      "metadata": {
        "id": "xq5iWQt5N_vX"
      },
      "source": [
        "###แก้ข้อ 3"
      ]
    },
    {
      "cell_type": "code",
      "metadata": {
        "id": "cH-pf7TdJ_dn"
      },
      "source": [
        "def dist_mat_eud(data):\n",
        "    d_mat = np.zeros((data.shape[0],data.shape[0]))\n",
        "    for i in range(data.shape[0]):\n",
        "        for j in range(data.shape[0]):\n",
        "            d_mat[i,j] = dist_l2_n(data[i,:],data[j,:])\n",
        "    return d_mat"
      ],
      "execution_count": 79,
      "outputs": []
    },
    {
      "cell_type": "code",
      "metadata": {
        "id": "eoeaZ3uvNMXf",
        "colab": {
          "base_uri": "https://localhost:8080/"
        },
        "outputId": "1e9a7c68-890f-48be-8a0b-a5516826d4b6"
      },
      "source": [
        "dist_mat_eud(data1)"
      ],
      "execution_count": 80,
      "outputs": [
        {
          "output_type": "execute_result",
          "data": {
            "text/plain": [
              "array([[0.        , 3.60555128, 2.23606798, 4.24264069],\n",
              "       [3.60555128, 0.        , 5.09901951, 1.        ],\n",
              "       [2.23606798, 5.09901951, 0.        , 5.38516481],\n",
              "       [4.24264069, 1.        , 5.38516481, 0.        ]])"
            ]
          },
          "metadata": {},
          "execution_count": 80
        }
      ]
    },
    {
      "cell_type": "markdown",
      "metadata": {
        "id": "spAjWmWOkFCQ"
      },
      "source": [
        "##Distance of Binary  Value"
      ]
    },
    {
      "cell_type": "markdown",
      "metadata": {
        "id": "pRRN12TMkDhc"
      },
      "source": [
        "Create Table\n",
        "\n",
        "![Screen Shot 2564-09-14 at 11.28.55.png](data:image/png;base64,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)"
      ]
    },
    {
      "cell_type": "code",
      "metadata": {
        "id": "5eaN8pCEoKkl"
      },
      "source": [
        "import pandas as pd"
      ],
      "execution_count": 81,
      "outputs": []
    },
    {
      "cell_type": "code",
      "metadata": {
        "id": "-P5gw6ztNPKP",
        "colab": {
          "base_uri": "https://localhost:8080/",
          "height": 142
        },
        "outputId": "4b4f2c07-9b60-468c-8134-b58276892f08"
      },
      "source": [
        "records = [['Jack',1,1,0,1,0,0,0], #ใส่ค่าลงไปในแต่ละ record  แปลงเป็นตัวเลขเพื่อความง่าย\n",
        "           ['Mary',0,1,0,1,0,1,0],\n",
        "           ['Jim',1,1,1,0,0,0,0]]\n",
        "labels = ['Name','Gender','Fever','Cough','Test-1','Test-2','Test-3','Test-4']  #ใส่หัวตาราง\n",
        "\n",
        "binary_table = pd.DataFrame.from_records(records,columns=labels) #แปลงเป็นตาราง panda\n",
        "binary_table"
      ],
      "execution_count": 82,
      "outputs": [
        {
          "output_type": "execute_result",
          "data": {
            "text/html": [
              "<div>\n",
              "<style scoped>\n",
              "    .dataframe tbody tr th:only-of-type {\n",
              "        vertical-align: middle;\n",
              "    }\n",
              "\n",
              "    .dataframe tbody tr th {\n",
              "        vertical-align: top;\n",
              "    }\n",
              "\n",
              "    .dataframe thead th {\n",
              "        text-align: right;\n",
              "    }\n",
              "</style>\n",
              "<table border=\"1\" class=\"dataframe\">\n",
              "  <thead>\n",
              "    <tr style=\"text-align: right;\">\n",
              "      <th></th>\n",
              "      <th>Name</th>\n",
              "      <th>Gender</th>\n",
              "      <th>Fever</th>\n",
              "      <th>Cough</th>\n",
              "      <th>Test-1</th>\n",
              "      <th>Test-2</th>\n",
              "      <th>Test-3</th>\n",
              "      <th>Test-4</th>\n",
              "    </tr>\n",
              "  </thead>\n",
              "  <tbody>\n",
              "    <tr>\n",
              "      <th>0</th>\n",
              "      <td>Jack</td>\n",
              "      <td>1</td>\n",
              "      <td>1</td>\n",
              "      <td>0</td>\n",
              "      <td>1</td>\n",
              "      <td>0</td>\n",
              "      <td>0</td>\n",
              "      <td>0</td>\n",
              "    </tr>\n",
              "    <tr>\n",
              "      <th>1</th>\n",
              "      <td>Mary</td>\n",
              "      <td>0</td>\n",
              "      <td>1</td>\n",
              "      <td>0</td>\n",
              "      <td>1</td>\n",
              "      <td>0</td>\n",
              "      <td>1</td>\n",
              "      <td>0</td>\n",
              "    </tr>\n",
              "    <tr>\n",
              "      <th>2</th>\n",
              "      <td>Jim</td>\n",
              "      <td>1</td>\n",
              "      <td>1</td>\n",
              "      <td>1</td>\n",
              "      <td>0</td>\n",
              "      <td>0</td>\n",
              "      <td>0</td>\n",
              "      <td>0</td>\n",
              "    </tr>\n",
              "  </tbody>\n",
              "</table>\n",
              "</div>"
            ],
            "text/plain": [
              "   Name  Gender  Fever  Cough  Test-1  Test-2  Test-3  Test-4\n",
              "0  Jack       1      1      0       1       0       0       0\n",
              "1  Mary       0      1      0       1       0       1       0\n",
              "2   Jim       1      1      1       0       0       0       0"
            ]
          },
          "metadata": {},
          "execution_count": 82
        }
      ]
    },
    {
      "cell_type": "code",
      "metadata": {
        "id": "Cux9VPoGoJGM"
      },
      "source": [
        "def dist_binary_symmetric(p1,p2):\n",
        "    q = 0.  #ค่า 1,1\n",
        "    r = 0.   # 0,1\n",
        "    s = 0.   #1,0\n",
        "    t = 0.    #0,0\n",
        "    for i in range(len(p1)):  #วนทุกๆ dimension\n",
        "        \n",
        "        if (p1[i] == 1) and (p2[i] == 1):\n",
        "            q = q + 1\n",
        "        \n",
        "        if (p1[i] == 0) and (p2[i] == 1):  #\n",
        "            r = r + 1\n",
        "        \n",
        "        if (p1[i] == 1) and (p2[i] == 0):\n",
        "            s = s + 1\n",
        "\n",
        "        if (p1[i] == 0) and (p2[i] == 0):\n",
        "            t = t + 1\n",
        "    return (r+s)/(q+r+s+t)"
      ],
      "execution_count": 83,
      "outputs": []
    },
    {
      "cell_type": "code",
      "metadata": {
        "id": "QeFUO_9Qr-aa",
        "colab": {
          "base_uri": "https://localhost:8080/"
        },
        "outputId": "99762490-963b-4074-f1ab-61a1ca504670"
      },
      "source": [
        "dist_binary_symmetric(binary_table.iloc[0,1:],binary_table.iloc[1,1:])   #หลักที่ 1 เป็นต้นไป  "
      ],
      "execution_count": 84,
      "outputs": [
        {
          "output_type": "execute_result",
          "data": {
            "text/plain": [
              "0.2857142857142857"
            ]
          },
          "metadata": {},
          "execution_count": 84
        }
      ]
    }
  ]
}