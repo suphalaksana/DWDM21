{
  "nbformat": 4,
  "nbformat_minor": 0,
  "metadata": {
    "colab": {
      "name": "Distance Numpy.ipynb",
      "provenance": [],
      "authorship_tag": "ABX9TyN8Gm7wC3IPn0jiCq44FeMi",
      "include_colab_link": true
    },
    "kernelspec": {
      "name": "python3",
      "display_name": "Python 3"
    },
    "language_info": {
      "name": "python"
    }
  },
  "cells": [
    {
      "cell_type": "markdown",
      "metadata": {
        "id": "view-in-github",
        "colab_type": "text"
      },
      "source": [
        "<a href=\"https://colab.research.google.com/github/suphalaksana/DWDM21/blob/main/Distance_Numpy.ipynb\" target=\"_parent\"><img src=\"https://colab.research.google.com/assets/colab-badge.svg\" alt=\"Open In Colab\"/></a>"
      ]
    },
    {
      "cell_type": "code",
      "metadata": {
        "id": "AVgVsgo3c2iS"
      },
      "source": [
        "import numpy as np  #package สำหรับทำงานกับข้อมูลที่เป็นตัวเลข (อยู่ในรูปแบบ matrix)"
      ],
      "execution_count": 1,
      "outputs": []
    },
    {
      "cell_type": "markdown",
      "metadata": {
        "id": "Raf3I1P-deTC"
      },
      "source": [
        "##Numpy Array มีกี่ dimensions ก็ได้"
      ]
    },
    {
      "cell_type": "markdown",
      "metadata": {
        "id": "-CN0ykkedlDd"
      },
      "source": [
        "###สร้าง  numpy array"
      ]
    },
    {
      "cell_type": "code",
      "metadata": {
        "id": "PHky8Brxdd53"
      },
      "source": [
        "np_a = np.array([[1,2,3],[4,5,6]])  #สร้าง numpy array ที่มี 2แถว 3หลัก"
      ],
      "execution_count": 2,
      "outputs": []
    },
    {
      "cell_type": "code",
      "metadata": {
        "colab": {
          "base_uri": "https://localhost:8080/"
        },
        "id": "GOYdhueZd_60",
        "outputId": "ea5c8520-d8f8-4d3f-a8bf-996838ee0fbb"
      },
      "source": [
        "np_a"
      ],
      "execution_count": 3,
      "outputs": [
        {
          "output_type": "execute_result",
          "data": {
            "text/plain": [
              "array([[1, 2, 3],\n",
              "       [4, 5, 6]])"
            ]
          },
          "metadata": {},
          "execution_count": 3
        }
      ]
    },
    {
      "cell_type": "code",
      "metadata": {
        "colab": {
          "base_uri": "https://localhost:8080/"
        },
        "id": "PwHHj26seH5s",
        "outputId": "2bdb4b37-f624-4641-b52b-e0ec72f83768"
      },
      "source": [
        "np_a.shape"
      ],
      "execution_count": 4,
      "outputs": [
        {
          "output_type": "execute_result",
          "data": {
            "text/plain": [
              "(2, 3)"
            ]
          },
          "metadata": {},
          "execution_count": 4
        }
      ]
    },
    {
      "cell_type": "code",
      "metadata": {
        "colab": {
          "base_uri": "https://localhost:8080/"
        },
        "id": "oz9RdI00eLiM",
        "outputId": "78231804-ffdf-46de-b74d-ba25f62bc1e4"
      },
      "source": [
        "np_b = np.array([[1,4],[2,5],[3,6]])  #กำหนดแถว,หลัก\n",
        "np_b"
      ],
      "execution_count": 5,
      "outputs": [
        {
          "output_type": "execute_result",
          "data": {
            "text/plain": [
              "array([[1, 4],\n",
              "       [2, 5],\n",
              "       [3, 6]])"
            ]
          },
          "metadata": {},
          "execution_count": 5
        }
      ]
    },
    {
      "cell_type": "markdown",
      "metadata": {
        "id": "TenbOxgqex5i"
      },
      "source": [
        "###matrix transpose กลับแถวเป็นหลักกลับหลักเป็นแถว"
      ]
    },
    {
      "cell_type": "code",
      "metadata": {
        "colab": {
          "base_uri": "https://localhost:8080/"
        },
        "id": "5CPN7XSkes2W",
        "outputId": "f6ffcc82-1ed3-4356-dcfa-d05981c342c1"
      },
      "source": [
        "np_a.T"
      ],
      "execution_count": 6,
      "outputs": [
        {
          "output_type": "execute_result",
          "data": {
            "text/plain": [
              "array([[1, 4],\n",
              "       [2, 5],\n",
              "       [3, 6]])"
            ]
          },
          "metadata": {},
          "execution_count": 6
        }
      ]
    },
    {
      "cell_type": "markdown",
      "metadata": {
        "id": "UYsunkjWe9-I"
      },
      "source": [
        "###สร้าง matrix เริ่มต้น(zeros,ones)"
      ]
    },
    {
      "cell_type": "markdown",
      "metadata": {
        "id": "FCBvbbiCfYbE"
      },
      "source": [
        "ค่าเริ่มต้นมี0 กับ 1"
      ]
    },
    {
      "cell_type": "code",
      "metadata": {
        "colab": {
          "base_uri": "https://localhost:8080/"
        },
        "id": "ZPjLLIXwe7KJ",
        "outputId": "18c4d13d-4e09-45d8-f74b-24b199f28702"
      },
      "source": [
        "np_z = np.zeros((4,5))  #4แถว 5 คอลัมน์\n",
        "np_z"
      ],
      "execution_count": 7,
      "outputs": [
        {
          "output_type": "execute_result",
          "data": {
            "text/plain": [
              "array([[0., 0., 0., 0., 0.],\n",
              "       [0., 0., 0., 0., 0.],\n",
              "       [0., 0., 0., 0., 0.],\n",
              "       [0., 0., 0., 0., 0.]])"
            ]
          },
          "metadata": {},
          "execution_count": 7
        }
      ]
    },
    {
      "cell_type": "code",
      "metadata": {
        "colab": {
          "base_uri": "https://localhost:8080/"
        },
        "id": "jZPFOY3ifquR",
        "outputId": "41bb7d8f-9c33-4fbb-f2f4-1584123d2767"
      },
      "source": [
        "np_o = np.ones((5,6))\n",
        "np_o"
      ],
      "execution_count": 8,
      "outputs": [
        {
          "output_type": "execute_result",
          "data": {
            "text/plain": [
              "array([[1., 1., 1., 1., 1., 1.],\n",
              "       [1., 1., 1., 1., 1., 1.],\n",
              "       [1., 1., 1., 1., 1., 1.],\n",
              "       [1., 1., 1., 1., 1., 1.],\n",
              "       [1., 1., 1., 1., 1., 1.]])"
            ]
          },
          "metadata": {},
          "execution_count": 8
        }
      ]
    },
    {
      "cell_type": "code",
      "metadata": {
        "colab": {
          "base_uri": "https://localhost:8080/"
        },
        "id": "6a8yAlQQgARp",
        "outputId": "0cbfb1f8-914a-4cd9-f199-e40735cf466b"
      },
      "source": [
        "np_200 = 200 * np.ones((4,7))\n",
        "np_200"
      ],
      "execution_count": 9,
      "outputs": [
        {
          "output_type": "execute_result",
          "data": {
            "text/plain": [
              "array([[200., 200., 200., 200., 200., 200., 200.],\n",
              "       [200., 200., 200., 200., 200., 200., 200.],\n",
              "       [200., 200., 200., 200., 200., 200., 200.],\n",
              "       [200., 200., 200., 200., 200., 200., 200.]])"
            ]
          },
          "metadata": {},
          "execution_count": 9
        }
      ]
    },
    {
      "cell_type": "markdown",
      "metadata": {
        "id": "BSFoLa0ygZpw"
      },
      "source": [
        "###สร้าง matrix random"
      ]
    },
    {
      "cell_type": "code",
      "metadata": {
        "colab": {
          "base_uri": "https://localhost:8080/"
        },
        "id": "2CU0WZ-KgMgJ",
        "outputId": "2c81368b-f125-409e-e322-9b56b77cdd17"
      },
      "source": [
        "np.random.randn(5,5) #matrix 5*5 #random เอามาจาก normal distribution ที่มี mu = 0 std =1"
      ],
      "execution_count": 10,
      "outputs": [
        {
          "output_type": "execute_result",
          "data": {
            "text/plain": [
              "array([[ 0.56638447,  1.10770726, -0.84501261, -1.06611418,  0.51629185],\n",
              "       [ 0.20887907,  0.23071472, -0.77363166, -0.77792245, -0.29867286],\n",
              "       [ 1.19644276,  0.7844961 ,  0.97800453,  0.64780086, -1.39036576],\n",
              "       [ 1.20228998,  1.15757947,  1.51759796,  0.16017394, -0.5145826 ],\n",
              "       [-0.74078188, -0.23013737,  0.29795477, -1.51063213,  1.17702291]])"
            ]
          },
          "metadata": {},
          "execution_count": 10
        }
      ]
    },
    {
      "cell_type": "code",
      "metadata": {
        "colab": {
          "base_uri": "https://localhost:8080/"
        },
        "id": "6yAWzCsVOmfk",
        "outputId": "cacd30d0-ebf7-4335-e877-abf6382d625f"
      },
      "source": [
        "2+(5*np.random.randn(3,3)) # random เลขมาจาก normal distribution ที่มี mu=2 std=5"
      ],
      "execution_count": 11,
      "outputs": [
        {
          "output_type": "execute_result",
          "data": {
            "text/plain": [
              "array([[ -1.43888718,   4.05410168,  -3.68172187],\n",
              "       [  3.0394371 , -14.12191231,  -3.42335011],\n",
              "       [  4.28677078,  -3.37003183,  -7.96737123]])"
            ]
          },
          "metadata": {},
          "execution_count": 11
        }
      ]
    },
    {
      "cell_type": "code",
      "metadata": {
        "colab": {
          "base_uri": "https://localhost:8080/"
        },
        "id": "tLIxu90vOnT1",
        "outputId": "089ec760-9c17-4bfe-c408-d443623d14b7"
      },
      "source": [
        "np.random.randint(5,11,(4,5)) # random เลขจำนวนเต็ม ระหว่าง [5,11) ขนาด (4x5)"
      ],
      "execution_count": 12,
      "outputs": [
        {
          "output_type": "execute_result",
          "data": {
            "text/plain": [
              "array([[10, 10,  7,  5,  9],\n",
              "       [ 8, 10,  6,  6,  5],\n",
              "       [ 8,  6, 10, 10,  9],\n",
              "       [ 9,  7,  6, 10,  6]])"
            ]
          },
          "metadata": {},
          "execution_count": 12
        }
      ]
    },
    {
      "cell_type": "markdown",
      "metadata": {
        "id": "MPydAszhOvx6"
      },
      "source": [
        "##matrix properties"
      ]
    },
    {
      "cell_type": "code",
      "metadata": {
        "colab": {
          "base_uri": "https://localhost:8080/"
        },
        "id": "-rPYO_54OsNj",
        "outputId": "27b97161-cfc4-44c2-b2a8-e65df662a368"
      },
      "source": [
        "np_a"
      ],
      "execution_count": 13,
      "outputs": [
        {
          "output_type": "execute_result",
          "data": {
            "text/plain": [
              "array([[1, 2, 3],\n",
              "       [4, 5, 6]])"
            ]
          },
          "metadata": {},
          "execution_count": 13
        }
      ]
    },
    {
      "cell_type": "code",
      "metadata": {
        "colab": {
          "base_uri": "https://localhost:8080/"
        },
        "id": "yFG8dsPPO5Ad",
        "outputId": "691e90c2-f0c6-4900-bbb5-15056ea4e703"
      },
      "source": [
        "np_a.T#Transpose"
      ],
      "execution_count": 14,
      "outputs": [
        {
          "output_type": "execute_result",
          "data": {
            "text/plain": [
              "array([[1, 4],\n",
              "       [2, 5],\n",
              "       [3, 6]])"
            ]
          },
          "metadata": {},
          "execution_count": 14
        }
      ]
    },
    {
      "cell_type": "code",
      "metadata": {
        "colab": {
          "base_uri": "https://localhost:8080/"
        },
        "id": "_Oyr9D64O-Zx",
        "outputId": "268fe9cd-9180-4413-caa5-5a71aed1831d"
      },
      "source": [
        "1 + np_a #adding scalar to matrix #scalar เลขตัวเดียว"
      ],
      "execution_count": 15,
      "outputs": [
        {
          "output_type": "execute_result",
          "data": {
            "text/plain": [
              "array([[2, 3, 4],\n",
              "       [5, 6, 7]])"
            ]
          },
          "metadata": {},
          "execution_count": 15
        }
      ]
    },
    {
      "cell_type": "code",
      "metadata": {
        "colab": {
          "base_uri": "https://localhost:8080/"
        },
        "id": "k49YFBFJPZVk",
        "outputId": "4b492fd7-d4b9-4fc4-9c24-e8d71196bc12"
      },
      "source": [
        "2 *  np_a #multipling scalar to matrix"
      ],
      "execution_count": 16,
      "outputs": [
        {
          "output_type": "execute_result",
          "data": {
            "text/plain": [
              "array([[ 2,  4,  6],\n",
              "       [ 8, 10, 12]])"
            ]
          },
          "metadata": {},
          "execution_count": 16
        }
      ]
    },
    {
      "cell_type": "code",
      "metadata": {
        "id": "gV2h9oJ4P6bK"
      },
      "source": [
        "np_c = np.array (([6,5,4],[3,2,1]))"
      ],
      "execution_count": 17,
      "outputs": []
    },
    {
      "cell_type": "code",
      "metadata": {
        "colab": {
          "base_uri": "https://localhost:8080/"
        },
        "id": "uk5y39oERTF0",
        "outputId": "23bcd816-4c81-4260-e2cf-0cb80b95df42"
      },
      "source": [
        "np_c.shape#ขนาดไม่เท่ากัน เลยต้องทำให้เท่ากันถึงจะคูณกันได้"
      ],
      "execution_count": 18,
      "outputs": [
        {
          "output_type": "execute_result",
          "data": {
            "text/plain": [
              "(2, 3)"
            ]
          },
          "metadata": {},
          "execution_count": 18
        }
      ]
    },
    {
      "cell_type": "code",
      "metadata": {
        "colab": {
          "base_uri": "https://localhost:8080/"
        },
        "id": "vfOkhO4nRbw2",
        "outputId": "7188d476-c3e5-42b2-caf7-9fa04ccb4e5c"
      },
      "source": [
        "np_a+np_c"
      ],
      "execution_count": 19,
      "outputs": [
        {
          "output_type": "execute_result",
          "data": {
            "text/plain": [
              "array([[7, 7, 7],\n",
              "       [7, 7, 7]])"
            ]
          },
          "metadata": {},
          "execution_count": 19
        }
      ]
    },
    {
      "cell_type": "code",
      "metadata": {
        "colab": {
          "base_uri": "https://localhost:8080/"
        },
        "id": "i2IG6-QiZTnc",
        "outputId": "2f7210f0-8a79-4b9b-c228-aa2037b0d3e2"
      },
      "source": [
        "np_a.shape"
      ],
      "execution_count": 20,
      "outputs": [
        {
          "output_type": "execute_result",
          "data": {
            "text/plain": [
              "(2, 3)"
            ]
          },
          "metadata": {},
          "execution_count": 20
        }
      ]
    },
    {
      "cell_type": "code",
      "metadata": {
        "colab": {
          "base_uri": "https://localhost:8080/"
        },
        "id": "UNP_GRiSZYLA",
        "outputId": "0730f50c-84cf-40a5-ec09-0d63face9a0b"
      },
      "source": [
        "np_c.shape"
      ],
      "execution_count": 21,
      "outputs": [
        {
          "output_type": "execute_result",
          "data": {
            "text/plain": [
              "(2, 3)"
            ]
          },
          "metadata": {},
          "execution_count": 21
        }
      ]
    },
    {
      "cell_type": "code",
      "metadata": {
        "colab": {
          "base_uri": "https://localhost:8080/"
        },
        "id": "beDmmfBFZdjc",
        "outputId": "8e72a41e-215c-4b03-a0ed-eb26529db115"
      },
      "source": [
        "np_c.T.shape"
      ],
      "execution_count": 22,
      "outputs": [
        {
          "output_type": "execute_result",
          "data": {
            "text/plain": [
              "(3, 2)"
            ]
          },
          "metadata": {},
          "execution_count": 22
        }
      ]
    },
    {
      "cell_type": "markdown",
      "metadata": {
        "id": "RPpGEvVdZoHS"
      },
      "source": [
        "![image.png](data:image/png;base64,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)"
      ]
    },
    {
      "cell_type": "code",
      "metadata": {
        "colab": {
          "base_uri": "https://localhost:8080/"
        },
        "id": "--3Z9pLMZstf",
        "outputId": "0ad4b0f9-eb38-46dd-bd37-2bb443b3bb07"
      },
      "source": [
        "np.dot(np_a,np_c.T)  #multipling matrix to matrix   (a,b) x (b,c) = (a,c)"
      ],
      "execution_count": 23,
      "outputs": [
        {
          "output_type": "execute_result",
          "data": {
            "text/plain": [
              "array([[28, 10],\n",
              "       [73, 28]])"
            ]
          },
          "metadata": {},
          "execution_count": 23
        }
      ]
    },
    {
      "cell_type": "markdown",
      "metadata": {
        "id": "pxPwQEbuRgek"
      },
      "source": [
        "##Indexing &  Slicing"
      ]
    },
    {
      "cell_type": "code",
      "metadata": {
        "colab": {
          "base_uri": "https://localhost:8080/"
        },
        "id": "s9Hj2K5AReiN",
        "outputId": "47772af3-4651-4e52-cde8-c375d82c5f64"
      },
      "source": [
        "np_a"
      ],
      "execution_count": 24,
      "outputs": [
        {
          "output_type": "execute_result",
          "data": {
            "text/plain": [
              "array([[1, 2, 3],\n",
              "       [4, 5, 6]])"
            ]
          },
          "metadata": {},
          "execution_count": 24
        }
      ]
    },
    {
      "cell_type": "code",
      "metadata": {
        "colab": {
          "base_uri": "https://localhost:8080/"
        },
        "id": "TMG-8OBHSC2z",
        "outputId": "139a7d72-c75f-4a9b-e42f-21273c7afe51"
      },
      "source": [
        "np_a[1,1]  #แถวที่ 1 หลักที่ 1   แถวนอน หลักตั้ง"
      ],
      "execution_count": 25,
      "outputs": [
        {
          "output_type": "execute_result",
          "data": {
            "text/plain": [
              "5"
            ]
          },
          "metadata": {},
          "execution_count": 25
        }
      ]
    },
    {
      "cell_type": "code",
      "metadata": {
        "colab": {
          "base_uri": "https://localhost:8080/"
        },
        "id": "GOUFbdcPSlbu",
        "outputId": "417e65f5-1740-49a1-95ca-378c1ba5683d"
      },
      "source": [
        "np_a[1,2]"
      ],
      "execution_count": 26,
      "outputs": [
        {
          "output_type": "execute_result",
          "data": {
            "text/plain": [
              "6"
            ]
          },
          "metadata": {},
          "execution_count": 26
        }
      ]
    },
    {
      "cell_type": "code",
      "metadata": {
        "colab": {
          "base_uri": "https://localhost:8080/"
        },
        "id": "DK137ESwTmIB",
        "outputId": "31283221-0fa9-4a4b-8540-64148c06bf33"
      },
      "source": [
        "np_a[0,2]"
      ],
      "execution_count": 27,
      "outputs": [
        {
          "output_type": "execute_result",
          "data": {
            "text/plain": [
              "3"
            ]
          },
          "metadata": {},
          "execution_count": 27
        }
      ]
    },
    {
      "cell_type": "code",
      "metadata": {
        "colab": {
          "base_uri": "https://localhost:8080/"
        },
        "id": "Ull9c3f4SFGD",
        "outputId": "a2d9d978-dfec-4fd5-a1d7-2d0e3c3d7fce"
      },
      "source": [
        "np_a[:2,:2]"
      ],
      "execution_count": 28,
      "outputs": [
        {
          "output_type": "execute_result",
          "data": {
            "text/plain": [
              "array([[1, 2],\n",
              "       [4, 5]])"
            ]
          },
          "metadata": {},
          "execution_count": 28
        }
      ]
    },
    {
      "cell_type": "code",
      "metadata": {
        "colab": {
          "base_uri": "https://localhost:8080/"
        },
        "id": "ccUeJTuWSZGd",
        "outputId": "ee5d1bb5-dcb5-4b3c-b462-296b8c824e41"
      },
      "source": [
        "np_a[0,:]"
      ],
      "execution_count": 29,
      "outputs": [
        {
          "output_type": "execute_result",
          "data": {
            "text/plain": [
              "array([1, 2, 3])"
            ]
          },
          "metadata": {},
          "execution_count": 29
        }
      ]
    },
    {
      "cell_type": "markdown",
      "metadata": {
        "id": "JEUDGybMSv_Q"
      },
      "source": [
        "##Useful functions"
      ]
    },
    {
      "cell_type": "code",
      "metadata": {
        "colab": {
          "base_uri": "https://localhost:8080/"
        },
        "id": "zVpXYPZnS9Kt",
        "outputId": "6f833bd9-1229-411c-c18a-3221fe9e5342"
      },
      "source": [
        "np_a"
      ],
      "execution_count": 30,
      "outputs": [
        {
          "output_type": "execute_result",
          "data": {
            "text/plain": [
              "array([[1, 2, 3],\n",
              "       [4, 5, 6]])"
            ]
          },
          "metadata": {},
          "execution_count": 30
        }
      ]
    },
    {
      "cell_type": "code",
      "metadata": {
        "colab": {
          "base_uri": "https://localhost:8080/"
        },
        "id": "QiOLdRQtSdhc",
        "outputId": "ffe03ffa-a47a-4c95-b0c4-957f807e3603"
      },
      "source": [
        "np.sum(np_a)  #เอาค่าใน a มาบวกกัน  #sum รวม"
      ],
      "execution_count": 31,
      "outputs": [
        {
          "output_type": "execute_result",
          "data": {
            "text/plain": [
              "21"
            ]
          },
          "metadata": {},
          "execution_count": 31
        }
      ]
    },
    {
      "cell_type": "code",
      "metadata": {
        "colab": {
          "base_uri": "https://localhost:8080/"
        },
        "id": "YXB5xtbIS_eb",
        "outputId": "0395625f-e98e-46ff-b07f-84019c8bd33b"
      },
      "source": [
        "np.sum(np_a,axis=0)  #axis=0 เอาค่าในแนวแกนนอนมาบวกกัน"
      ],
      "execution_count": 32,
      "outputs": [
        {
          "output_type": "execute_result",
          "data": {
            "text/plain": [
              "array([5, 7, 9])"
            ]
          },
          "metadata": {},
          "execution_count": 32
        }
      ]
    },
    {
      "cell_type": "code",
      "metadata": {
        "colab": {
          "base_uri": "https://localhost:8080/"
        },
        "id": "Q8vIl4YpTIxA",
        "outputId": "1a4541fd-503b-44eb-ac37-8e52cba42e88"
      },
      "source": [
        "np.sum(np_a,axis=1)#axis=1 เอาค่าในแนวแกนตั้งมาบวกกัน  หรือหลัก  หลักกคือคอลัมน์"
      ],
      "execution_count": 33,
      "outputs": [
        {
          "output_type": "execute_result",
          "data": {
            "text/plain": [
              "array([ 6, 15])"
            ]
          },
          "metadata": {},
          "execution_count": 33
        }
      ]
    },
    {
      "cell_type": "code",
      "metadata": {
        "colab": {
          "base_uri": "https://localhost:8080/"
        },
        "id": "PRqcqQvDTYXN",
        "outputId": "51c1c7b3-5b4f-42d5-acdb-b1bee78a4a5e"
      },
      "source": [
        "np.mean(np_a)"
      ],
      "execution_count": 34,
      "outputs": [
        {
          "output_type": "execute_result",
          "data": {
            "text/plain": [
              "3.5"
            ]
          },
          "metadata": {},
          "execution_count": 34
        }
      ]
    },
    {
      "cell_type": "code",
      "metadata": {
        "colab": {
          "base_uri": "https://localhost:8080/"
        },
        "id": "YaBY9C02TtQj",
        "outputId": "984d8ba0-736f-481e-a038-d5d046a9e14e"
      },
      "source": [
        "np.mean(np_a,axis=0)  #หา mean ของ column  #ทำแบบนี้ได้ต้องเป็น squar matrix ด้านไม่เท่ากัน"
      ],
      "execution_count": 35,
      "outputs": [
        {
          "output_type": "execute_result",
          "data": {
            "text/plain": [
              "array([2.5, 3.5, 4.5])"
            ]
          },
          "metadata": {},
          "execution_count": 35
        }
      ]
    },
    {
      "cell_type": "markdown",
      "metadata": {
        "id": "J1BbuJ6wUy0Q"
      },
      "source": [
        "##วนลูปเอง"
      ]
    },
    {
      "cell_type": "markdown",
      "metadata": {
        "id": "3P9uKTJnU_qr"
      },
      "source": [
        "###summation"
      ]
    },
    {
      "cell_type": "code",
      "metadata": {
        "colab": {
          "base_uri": "https://localhost:8080/"
        },
        "id": "oJ1caMF0WqfA",
        "outputId": "61732e21-f366-4959-944b-6bc82c14ba46"
      },
      "source": [
        "np_a.shape"
      ],
      "execution_count": 36,
      "outputs": [
        {
          "output_type": "execute_result",
          "data": {
            "text/plain": [
              "(2, 3)"
            ]
          },
          "metadata": {},
          "execution_count": 36
        }
      ]
    },
    {
      "cell_type": "markdown",
      "metadata": {
        "id": "wZjvCg9zZyqu"
      },
      "source": [
        "```np.sum(np_a)```"
      ]
    },
    {
      "cell_type": "code",
      "metadata": {
        "colab": {
          "base_uri": "https://localhost:8080/"
        },
        "id": "P_-F-eXaUPWI",
        "outputId": "9c3992d0-33ba-4cf2-8d6f-b88d7b64e705"
      },
      "source": [
        "sum_all = 0\n",
        "\n",
        "for row in range(np_a.shape[0]):\n",
        "    for col in range(np_a.shape[1]):\n",
        "        sum_all = sum_all + np_a[row,col]\n",
        "        print(f'we are at row={row},col={col} np_a[{row},{col}]={np_a[row,col]} sum_all={sum_all}')\n",
        "print(sum_all)"
      ],
      "execution_count": 37,
      "outputs": [
        {
          "output_type": "stream",
          "name": "stdout",
          "text": [
            "we are at row=0,col=0 np_a[0,0]=1 sum_all=1\n",
            "we are at row=0,col=1 np_a[0,1]=2 sum_all=3\n",
            "we are at row=0,col=2 np_a[0,2]=3 sum_all=6\n",
            "we are at row=1,col=0 np_a[1,0]=4 sum_all=10\n",
            "we are at row=1,col=1 np_a[1,1]=5 sum_all=15\n",
            "we are at row=1,col=2 np_a[1,2]=6 sum_all=21\n",
            "21\n"
          ]
        }
      ]
    },
    {
      "cell_type": "markdown",
      "metadata": {
        "id": "UsluI1P9Z2Zn"
      },
      "source": [
        "```np.sum(np_a,axis=0)```"
      ]
    },
    {
      "cell_type": "code",
      "metadata": {
        "colab": {
          "base_uri": "https://localhost:8080/"
        },
        "id": "zFWYsMmIVUF2",
        "outputId": "f563fb84-075b-4d68-829e-a2b4d981f11f"
      },
      "source": [
        "sum_all = np.zeros(np_a.shape[1])\n",
        "\n",
        "for row in range(np_a.shape[0]):\n",
        "    for col in range(np_a.shape[1]):\n",
        "        sum_all[col] = sum_all[col] + np_a[row,col]  #column เดียวกันมา sum รวมกัน\n",
        "print(sum_all)"
      ],
      "execution_count": 38,
      "outputs": [
        {
          "output_type": "stream",
          "name": "stdout",
          "text": [
            "[5. 7. 9.]\n"
          ]
        }
      ]
    },
    {
      "cell_type": "markdown",
      "metadata": {
        "id": "efXtlL22o3AB"
      },
      "source": [
        "Quiz กลุ่ม\n",
        "\n",
        "วนลูปหาค่า\n",
        "\n",
        "* ```np.sum(np_a,axis=1)``` sukuna /\n",
        "* ```np.mean(np_a)``` i love อ.ต้น /\n",
        "* ```np.mean(np_a,axis=0)``` natashar /\n",
        "* ```np.mean(np_a,axis=1)``` teletubby /\n",
        "* ```np.max(np_a)``` numba one /\n",
        "* ```np.max(np_a,axis=0)``` เอกาไร้สติ /\n",
        "* ```np.max(np_a,axis=1)``` sandbox /\n",
        "* ```np.min(np_a)``` ลูกหมี /\n",
        "* ```np.min(np_a,axis=0)``` wakame /\n",
        "* ```np.min(np_a,axis=1)``` แมวส้ม /"
      ]
    },
    {
      "cell_type": "code",
      "metadata": {
        "colab": {
          "base_uri": "https://localhost:8080/"
        },
        "id": "IEFmWjIxYGDs",
        "outputId": "69425100-a0c4-4d1d-e467-8a0a4684719d"
      },
      "source": [
        "#np.sum(np_a,axis=1)\n",
        "sum_all = np.zeros(np_a.shape[0])  #axis=0 แกนนอน แถว\n",
        "\n",
        "for row in range(np_a.shape[0]):\n",
        "    for col in range(np_a.shape[1]):\n",
        "        sum_all[row] = sum_all[row] + np_a[row,col]     \n",
        "print(sum_all)"
      ],
      "execution_count": 39,
      "outputs": [
        {
          "output_type": "stream",
          "name": "stdout",
          "text": [
            "[ 6. 15.]\n"
          ]
        }
      ]
    },
    {
      "cell_type": "code",
      "metadata": {
        "id": "4SlvSZpwav0M",
        "colab": {
          "base_uri": "https://localhost:8080/"
        },
        "outputId": "9fe3f9c4-23d9-4247-86cb-024fdc71e857"
      },
      "source": [
        "# np.max(np_a,axis=1)\n",
        "max_all = np.zeros(np_a.shape[0])\n",
        "for row in range(np_a.shape[0]):\n",
        "    max_all[row] = max(np_a[row,:])\n",
        "print(max_all)"
      ],
      "execution_count": 40,
      "outputs": [
        {
          "output_type": "stream",
          "name": "stdout",
          "text": [
            "[3. 6.]\n"
          ]
        }
      ]
    },
    {
      "cell_type": "code",
      "metadata": {
        "colab": {
          "base_uri": "https://localhost:8080/"
        },
        "id": "KL8VuMv8dnRB",
        "outputId": "70db5906-ed67-466e-9492-cbac84ab4bd8"
      },
      "source": [
        "#np.mean(np_a,axis=0)\n",
        "mean_all = np.zeros(np_a.shape[1])\n",
        "for row in range(np_a.shape[0]):\n",
        "     for col in range(np_a.shape[1]):\n",
        "          mean_all[col] = mean_all[col] + np_a[row,col]/np_a.shape[0]\n",
        "print(mean_all)"
      ],
      "execution_count": 41,
      "outputs": [
        {
          "output_type": "stream",
          "name": "stdout",
          "text": [
            "[2.5 3.5 4.5]\n"
          ]
        }
      ]
    },
    {
      "cell_type": "code",
      "metadata": {
        "colab": {
          "base_uri": "https://localhost:8080/"
        },
        "id": "nkL4nmose3yY",
        "outputId": "12b39398-48b8-49a6-c037-8fcb3c62accf"
      },
      "source": [
        "#np.mean(np_a,axis=1)\n",
        "sum_all = np.zeros(np_a.shape[0])\n",
        "for row in range(np_a.shape[0]):\n",
        "    for col in range(np_a.shape[1]): \n",
        "        sum_all[row] = sum_all[row] + np_a[row,col]\n",
        "sum_all = sum_all/np_a.shape[1]\n",
        "print(sum_all)"
      ],
      "execution_count": 42,
      "outputs": [
        {
          "output_type": "stream",
          "name": "stdout",
          "text": [
            "[2. 5.]\n"
          ]
        }
      ]
    },
    {
      "cell_type": "code",
      "metadata": {
        "colab": {
          "base_uri": "https://localhost:8080/"
        },
        "id": "quWQF_yEgOzm",
        "outputId": "b374a298-f587-4542-fe78-65804ac8c6be"
      },
      "source": [
        "#np.max(np_a)\n",
        "max_a = -100000000\n",
        "for row in range(np_a.shape[0]):\n",
        "    for col in range(np_a.shape[1]):\n",
        "        if np_a[row,col] > max_a :\n",
        "            max_a = np_a[row,col]\n",
        "print(max_a)"
      ],
      "execution_count": 43,
      "outputs": [
        {
          "output_type": "stream",
          "name": "stdout",
          "text": [
            "6\n"
          ]
        }
      ]
    },
    {
      "cell_type": "code",
      "metadata": {
        "colab": {
          "base_uri": "https://localhost:8080/"
        },
        "id": "LRGuywWlhAyZ",
        "outputId": "14b5c179-4c48-475c-c20b-43b54340364d"
      },
      "source": [
        "### 10. np.min(np_a,axis=1)\n",
        "min_row = np.zeros(np_a.shape[0])\n",
        "for row in range(np_a.shape[0]):\n",
        "   min_row[row] = min(np_a[row,:])\n",
        "print(min_row)"
      ],
      "execution_count": 44,
      "outputs": [
        {
          "output_type": "stream",
          "name": "stdout",
          "text": [
            "[1. 4.]\n"
          ]
        }
      ]
    },
    {
      "cell_type": "code",
      "metadata": {
        "colab": {
          "base_uri": "https://localhost:8080/"
        },
        "id": "z6A-Aw9eiHHD",
        "outputId": "0a2a46fd-47f5-4180-b89d-b48528051b8a"
      },
      "source": [
        "# np.min(np_a,axis=0)\n",
        "min_all = np.zeros(np_a.shape[1])\n",
        "\n",
        "for col in range(np_a.shape[1]):\n",
        "    min_all[col] = min(np_a[:,col])\n",
        "print(min_all)"
      ],
      "execution_count": 45,
      "outputs": [
        {
          "output_type": "stream",
          "name": "stdout",
          "text": [
            "[1. 2. 3.]\n"
          ]
        }
      ]
    },
    {
      "cell_type": "code",
      "metadata": {
        "colab": {
          "base_uri": "https://localhost:8080/"
        },
        "id": "6a2EYE9Gixd4",
        "outputId": "b99ffb5a-52ab-4c40-8a58-c152592bee49"
      },
      "source": [
        "# np.min(np_a)  ลูกหมี\n",
        "minV = 100000\n",
        "for row in range(np_a.shape[0]):\n",
        "    for col in range(np_a.shape[1]):\n",
        "        if np_a[row,col] < minV:\n",
        "            minV = np_a[row,col]\n",
        "print(minV)\n"
      ],
      "execution_count": 46,
      "outputs": [
        {
          "output_type": "stream",
          "name": "stdout",
          "text": [
            "1\n"
          ]
        }
      ]
    },
    {
      "cell_type": "code",
      "metadata": {
        "colab": {
          "base_uri": "https://localhost:8080/"
        },
        "id": "T6-aXIFyjZBX",
        "outputId": "c07b06b1-0183-471a-fdff-d6c093ad945d"
      },
      "source": [
        "# np.max(np_a,axis=0)\n",
        "max_all = -100000 * np.ones(np_a.shape[1])\n",
        "for col in range(np_a.shape[1]):\n",
        "    for row in range(np_a.shape[0]):\n",
        "        if np_a[row,col] > max_all[col]: \n",
        "            max_all[col] = np_a[row,col]\n",
        "print(max_all)"
      ],
      "execution_count": 47,
      "outputs": [
        {
          "output_type": "stream",
          "name": "stdout",
          "text": [
            "[4. 5. 6.]\n"
          ]
        }
      ]
    },
    {
      "cell_type": "code",
      "metadata": {
        "colab": {
          "base_uri": "https://localhost:8080/"
        },
        "id": "xjm10yXRkhGn",
        "outputId": "f8d2f556-e296-4692-e515-4938fbc73a50"
      },
      "source": [
        "#np.mean(np_a)\n",
        "mean_all = 0\n",
        "for row in range(np_a.shape[0]):\n",
        "    for col in range(np_a.shape[1]):\n",
        "        mean_all = mean_all + np_a[row,col]\n",
        "mean_all = mean_all/(np_a.shape[0]*np_a.shape[1])\n",
        "print(mean_all)"
      ],
      "execution_count": 48,
      "outputs": [
        {
          "output_type": "stream",
          "name": "stdout",
          "text": [
            "3.5\n"
          ]
        }
      ]
    },
    {
      "cell_type": "markdown",
      "metadata": {
        "id": "Sv4-ce3xYdm7"
      },
      "source": [
        "##Distance matrix"
      ]
    },
    {
      "cell_type": "code",
      "metadata": {
        "id": "ulSDHQxXprPR",
        "colab": {
          "base_uri": "https://localhost:8080/"
        },
        "outputId": "4d4c549e-b21d-41c3-d699-23ef7dcd9f2d"
      },
      "source": [
        "data1 = np.array([[1,2],[3,5],[2,0],[4,5]])  #สร้างตารางข้อมูลเล็กๆ [x,y]  4แถว 2คอมลัมน์  2 มิติ\n",
        "data1"
      ],
      "execution_count": 49,
      "outputs": [
        {
          "output_type": "execute_result",
          "data": {
            "text/plain": [
              "array([[1, 2],\n",
              "       [3, 5],\n",
              "       [2, 0],\n",
              "       [4, 5]])"
            ]
          },
          "metadata": {},
          "execution_count": 49
        }
      ]
    },
    {
      "cell_type": "code",
      "metadata": {
        "colab": {
          "base_uri": "https://localhost:8080/",
          "height": 282
        },
        "id": "lhGwzLyeZEiW",
        "outputId": "ba1615a6-96cb-49ff-eaa4-87a4fe081f93"
      },
      "source": [
        "from matplotlib import pyplot as plt  #plot\n",
        "plt.scatter(data1[:,0],data1[:,1])  #แกน x แกน y"
      ],
      "execution_count": 52,
      "outputs": [
        {
          "output_type": "execute_result",
          "data": {
            "text/plain": [
              "<matplotlib.collections.PathCollection at 0x7f6cf718dd50>"
            ]
          },
          "metadata": {},
          "execution_count": 52
        },
        {
          "output_type": "display_data",
          "data": {
            "image/png": "[encoded data removed]",
            "text/plain": [
              "<Figure size 432x288 with 1 Axes>"
            ]
          },
          "metadata": {
            "needs_background": "light"
          }
        }
      ]
    },
    {
      "cell_type": "markdown",
      "metadata": {
        "id": "rv_6NmGWaZRS"
      },
      "source": [
        "## Euclidean Distance (L2-norm)\n",
        "$\\sqrt{(x_1-x_2)^2+(y_1-y_2)^2}$"
      ]
    },
    {
      "cell_type": "markdown",
      "metadata": {
        "id": "nAoyI9o1eKkM"
      },
      "source": [
        "dist(P1,P2)"
      ]
    },
    {
      "cell_type": "code",
      "metadata": {
        "colab": {
          "base_uri": "https://localhost:8080/"
        },
        "id": "sUeEWT4YZ5H9",
        "outputId": "943f5cc9-768e-4b82-f6d5-ec5b6a752b08"
      },
      "source": [
        "dist_p1_p2 = np.sqrt(np.power(data1[0,0]-data1[1,0],2) + np.power(data1[0,1]-data1[1,1],2))  #เลข1 ,เลข 3 \n",
        "dist_p1_p2  #นับตามแถว ตามหลักปกติ"
      ],
      "execution_count": 57,
      "outputs": [
        {
          "output_type": "execute_result",
          "data": {
            "text/plain": [
              "3.605551275463989"
            ]
          },
          "metadata": {},
          "execution_count": 57
        }
      ]
    },
    {
      "cell_type": "code",
      "metadata": {
        "colab": {
          "base_uri": "https://localhost:8080/"
        },
        "id": "drzw3BURdN2r",
        "outputId": "d7ad1176-e87a-4b20-d288-5a65528b724a"
      },
      "source": [
        "dist_p1_p2 = np.power(np.power(data1[0,0]-data1[1,0],2) + np.power(data1[0,1]-data1[1,1],2),0.5)  \n",
        "dist_p1_p2  #ค่าเท่ากันกับข้างบน"
      ],
      "execution_count": 59,
      "outputs": [
        {
          "output_type": "execute_result",
          "data": {
            "text/plain": [
              "3.605551275463989"
            ]
          },
          "metadata": {},
          "execution_count": 59
        }
      ]
    },
    {
      "cell_type": "markdown",
      "metadata": {
        "id": "0P2_Pc4BenSy"
      },
      "source": [
        "dist(P2,P4)"
      ]
    },
    {
      "cell_type": "code",
      "metadata": {
        "colab": {
          "base_uri": "https://localhost:8080/"
        },
        "id": "ZIDMH71-d16g",
        "outputId": "0f94c1ad-7a25-4e21-8051-f544d348380b"
      },
      "source": [
        "dist_p2_p4 = np.sqrt(np.power(data1[1,0]-data1[3,0],2) + np.power(data1[1,1]-data1[3,1],2))  \n",
        "dist_p2_p4 #ค่าเท่ากันกับข้างบน"
      ],
      "execution_count": 61,
      "outputs": [
        {
          "output_type": "execute_result",
          "data": {
            "text/plain": [
              "1.0"
            ]
          },
          "metadata": {},
          "execution_count": 61
        }
      ]
    },
    {
      "cell_type": "markdown",
      "metadata": {
        "id": "IxUiIuXyf67O"
      },
      "source": [
        "## Distance function"
      ]
    },
    {
      "cell_type": "markdown",
      "metadata": {
        "id": "TOlbDYHgh5b5"
      },
      "source": [
        "dimension = 2"
      ]
    },
    {
      "cell_type": "code",
      "metadata": {
        "id": "XKQmA0b1fpd2"
      },
      "source": [
        "def dist_l2(p1,p2):\n",
        "    return np.sqrt(np.power(p1[0]-p2[0],2) + np.power(p1[1]-p2[1],2))  "
      ],
      "execution_count": 67,
      "outputs": []
    },
    {
      "cell_type": "code",
      "metadata": {
        "colab": {
          "base_uri": "https://localhost:8080/"
        },
        "id": "T_Zb7xeHhfNc",
        "outputId": "3150cb69-de4c-4d04-bf57-769f672dcadc"
      },
      "source": [
        "dist_l2(data1[0,:],data1[1,:])"
      ],
      "execution_count": 69,
      "outputs": [
        {
          "output_type": "execute_result",
          "data": {
            "text/plain": [
              "3.605551275463989"
            ]
          },
          "metadata": {},
          "execution_count": 69
        }
      ]
    },
    {
      "cell_type": "code",
      "metadata": {
        "colab": {
          "base_uri": "https://localhost:8080/"
        },
        "id": "X299RdOXg832",
        "outputId": "682a26ca-63aa-4c9c-ac18-793adec9f694"
      },
      "source": [
        "dist_l2(data1[1,:],data1[3,:])  #ตัดเอาแถวที่ 1 มาทั้งหมด แถวที่ 3 ทั้งหมด"
      ],
      "execution_count": 71,
      "outputs": [
        {
          "output_type": "execute_result",
          "data": {
            "text/plain": [
              "1.0"
            ]
          },
          "metadata": {},
          "execution_count": 71
        }
      ]
    },
    {
      "cell_type": "code",
      "metadata": {
        "id": "WQvzz9KQhJVA"
      },
      "source": [
        ""
      ],
      "execution_count": null,
      "outputs": []
    },
    {
      "cell_type": "markdown",
      "metadata": {
        "id": "w6QHnxy4h89C"
      },
      "source": [
        "dimension = n"
      ]
    },
    {
      "cell_type": "markdown",
      "metadata": {
        "id": "A3XB-ilRjY3r"
      },
      "source": [
        "มันจะบวกไปเรื่อยๆ เลยต้อง sum"
      ]
    },
    {
      "cell_type": "code",
      "metadata": {
        "id": "7Qvenh7Qh-w6"
      },
      "source": [
        "def dist_l2(p1,p2):\n",
        "    sum = 0\n",
        "    for i in range(len(p1)):\n",
        "        sum = sum + np.power (p1[i]-p2[i],2)\n",
        "    return np.sqrt(sum)"
      ],
      "execution_count": 72,
      "outputs": []
    },
    {
      "cell_type": "code",
      "metadata": {
        "colab": {
          "base_uri": "https://localhost:8080/"
        },
        "id": "ZwL-fa-uj7Fz",
        "outputId": "024aec91-d348-4acb-9cbf-f99435036951"
      },
      "source": [
        "dist_l2(data1[0,:],data1[1,:])"
      ],
      "execution_count": 73,
      "outputs": [
        {
          "output_type": "execute_result",
          "data": {
            "text/plain": [
              "3.605551275463989"
            ]
          },
          "metadata": {},
          "execution_count": 73
        }
      ]
    },
    {
      "cell_type": "markdown",
      "metadata": {
        "id": "1MYNdwX7j_Hw"
      },
      "source": [
        "## Manhattan Distance (L1-norm)\n",
        "$|x_1-x_2|+|y_1-y_2|$"
      ]
    },
    {
      "cell_type": "markdown",
      "metadata": {
        "id": "XTujYJclkVah"
      },
      "source": [
        "#quiz6 \n",
        "เขียน function คำนวณ manhattan distance ของ ข้อมูล 2 dimensions"
      ]
    },
    {
      "cell_type": "code",
      "metadata": {
        "id": "6L5giUvZkAs9"
      },
      "source": [
        "dist_p2_p3 = np.fabs(np.power(data1[1,0]-data1[2,0],2) + np.power(data1[1,1]-data1[2,1],2))"
      ],
      "execution_count": 74,
      "outputs": []
    },
    {
      "cell_type": "code",
      "metadata": {
        "colab": {
          "base_uri": "https://localhost:8080/"
        },
        "id": "bcwljy1smjiJ",
        "outputId": "968f4965-e6ee-4294-e34a-b8de0ccf0dfd"
      },
      "source": [
        "dist_p2_p3"
      ],
      "execution_count": 75,
      "outputs": [
        {
          "output_type": "execute_result",
          "data": {
            "text/plain": [
              "26.0"
            ]
          },
          "metadata": {},
          "execution_count": 75
        }
      ]
    },
    {
      "cell_type": "code",
      "metadata": {
        "id": "DEPucFhumkDP"
      },
      "source": [
        ""
      ],
      "execution_count": null,
      "outputs": []
    }
  ]
}