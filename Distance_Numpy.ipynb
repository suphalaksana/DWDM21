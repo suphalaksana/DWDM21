{
  "nbformat": 4,
  "nbformat_minor": 0,
  "metadata": {
    "colab": {
      "name": "Distance Numpy.ipynb",
      "provenance": [],
      "authorship_tag": "ABX9TyP29cyU8pdawgGpJu1Kzt/Z",
      "include_colab_link": true
    },
    "kernelspec": {
      "name": "python3",
      "display_name": "Python 3"
    },
    "language_info": {
      "name": "python"
    }
  },
  "cells": [
    {
      "cell_type": "markdown",
      "metadata": {
        "id": "view-in-github",
        "colab_type": "text"
      },
      "source": [
        "<a href=\"https://colab.research.google.com/github/suphalaksana/DWDM21/blob/main/Distance_Numpy.ipynb\" target=\"_parent\"><img src=\"https://colab.research.google.com/assets/colab-badge.svg\" alt=\"Open In Colab\"/></a>"
      ]
    },
    {
      "cell_type": "code",
      "metadata": {
        "id": "AVgVsgo3c2iS"
      },
      "source": [
        "import numpy as np  #package สำหรับทำงานกับข้อมูลที่เป็นตัวเลข (อยู่ในรูปแบบ matrix)"
      ],
      "execution_count": 2,
      "outputs": []
    },
    {
      "cell_type": "markdown",
      "metadata": {
        "id": "Raf3I1P-deTC"
      },
      "source": [
        "##Numpy Array มีกี่ dimensions ก็ได้"
      ]
    },
    {
      "cell_type": "markdown",
      "metadata": {
        "id": "-CN0ykkedlDd"
      },
      "source": [
        "###สร้าง  numpy array"
      ]
    },
    {
      "cell_type": "code",
      "metadata": {
        "id": "PHky8Brxdd53"
      },
      "source": [
        "np_a = np.array([[1,2,3],[4,5,6]])  #สร้าง numpy array ที่มี 2แถว 3หลัก"
      ],
      "execution_count": 3,
      "outputs": []
    },
    {
      "cell_type": "code",
      "metadata": {
        "colab": {
          "base_uri": "https://localhost:8080/"
        },
        "id": "GOYdhueZd_60",
        "outputId": "e7d7e47f-ce5c-46cb-af90-9b6628e35867"
      },
      "source": [
        "np_a"
      ],
      "execution_count": 4,
      "outputs": [
        {
          "output_type": "execute_result",
          "data": {
            "text/plain": [
              "array([[1, 2, 3],\n",
              "       [4, 5, 6]])"
            ]
          },
          "metadata": {},
          "execution_count": 4
        }
      ]
    },
    {
      "cell_type": "code",
      "metadata": {
        "colab": {
          "base_uri": "https://localhost:8080/"
        },
        "id": "PwHHj26seH5s",
        "outputId": "e10c7cf0-fe96-46bb-9e06-cf5d948e706a"
      },
      "source": [
        "np_a.shape"
      ],
      "execution_count": 5,
      "outputs": [
        {
          "output_type": "execute_result",
          "data": {
            "text/plain": [
              "(2, 3)"
            ]
          },
          "metadata": {},
          "execution_count": 5
        }
      ]
    },
    {
      "cell_type": "code",
      "metadata": {
        "colab": {
          "base_uri": "https://localhost:8080/"
        },
        "id": "oz9RdI00eLiM",
        "outputId": "c2d459d2-c613-41d4-e2f2-64ff4d1a61f0"
      },
      "source": [
        "np_b = np.array([[1,4],[2,5],[3,6]])  #กำหนดแถว,หลัก\n",
        "np_b"
      ],
      "execution_count": 8,
      "outputs": [
        {
          "output_type": "execute_result",
          "data": {
            "text/plain": [
              "array([[1, 4],\n",
              "       [2, 5],\n",
              "       [3, 6]])"
            ]
          },
          "metadata": {},
          "execution_count": 8
        }
      ]
    },
    {
      "cell_type": "markdown",
      "metadata": {
        "id": "TenbOxgqex5i"
      },
      "source": [
        "###matrix transpose กลับแถวเป็นหลักกลับหลักเป็นแถว"
      ]
    },
    {
      "cell_type": "code",
      "metadata": {
        "colab": {
          "base_uri": "https://localhost:8080/"
        },
        "id": "5CPN7XSkes2W",
        "outputId": "28122f20-c992-45cb-af35-de1008c7e806"
      },
      "source": [
        "np_a.T"
      ],
      "execution_count": 9,
      "outputs": [
        {
          "output_type": "execute_result",
          "data": {
            "text/plain": [
              "array([[1, 4],\n",
              "       [2, 5],\n",
              "       [3, 6]])"
            ]
          },
          "metadata": {},
          "execution_count": 9
        }
      ]
    },
    {
      "cell_type": "markdown",
      "metadata": {
        "id": "UYsunkjWe9-I"
      },
      "source": [
        "###สร้าง matrix เริ่มต้น(zeros,ones)"
      ]
    },
    {
      "cell_type": "markdown",
      "metadata": {
        "id": "FCBvbbiCfYbE"
      },
      "source": [
        "ค่าเริ่มต้นมี0 กับ 1"
      ]
    },
    {
      "cell_type": "code",
      "metadata": {
        "colab": {
          "base_uri": "https://localhost:8080/"
        },
        "id": "ZPjLLIXwe7KJ",
        "outputId": "e5bcb5ce-81eb-45ce-8ddb-dc6bd26bb652"
      },
      "source": [
        "np_z = np.zeros((4,5))  #4แถว 5 คอลัมน์\n",
        "np_z"
      ],
      "execution_count": 10,
      "outputs": [
        {
          "output_type": "execute_result",
          "data": {
            "text/plain": [
              "array([[0., 0., 0., 0., 0.],\n",
              "       [0., 0., 0., 0., 0.],\n",
              "       [0., 0., 0., 0., 0.],\n",
              "       [0., 0., 0., 0., 0.]])"
            ]
          },
          "metadata": {},
          "execution_count": 10
        }
      ]
    },
    {
      "cell_type": "code",
      "metadata": {
        "colab": {
          "base_uri": "https://localhost:8080/"
        },
        "id": "jZPFOY3ifquR",
        "outputId": "2fee1af2-4b73-4f8b-cb16-523fc5810539"
      },
      "source": [
        "np_o = np.ones((5,6))\n",
        "np_o"
      ],
      "execution_count": 11,
      "outputs": [
        {
          "output_type": "execute_result",
          "data": {
            "text/plain": [
              "array([[1., 1., 1., 1., 1., 1.],\n",
              "       [1., 1., 1., 1., 1., 1.],\n",
              "       [1., 1., 1., 1., 1., 1.],\n",
              "       [1., 1., 1., 1., 1., 1.],\n",
              "       [1., 1., 1., 1., 1., 1.]])"
            ]
          },
          "metadata": {},
          "execution_count": 11
        }
      ]
    },
    {
      "cell_type": "code",
      "metadata": {
        "colab": {
          "base_uri": "https://localhost:8080/"
        },
        "id": "6a8yAlQQgARp",
        "outputId": "c8dd0136-10c2-4215-b699-94940de28fe1"
      },
      "source": [
        "np_200 = 200 * np.ones((4,7))\n",
        "np_200"
      ],
      "execution_count": 12,
      "outputs": [
        {
          "output_type": "execute_result",
          "data": {
            "text/plain": [
              "array([[200., 200., 200., 200., 200., 200., 200.],\n",
              "       [200., 200., 200., 200., 200., 200., 200.],\n",
              "       [200., 200., 200., 200., 200., 200., 200.],\n",
              "       [200., 200., 200., 200., 200., 200., 200.]])"
            ]
          },
          "metadata": {},
          "execution_count": 12
        }
      ]
    },
    {
      "cell_type": "markdown",
      "metadata": {
        "id": "BSFoLa0ygZpw"
      },
      "source": [
        "###สร้าง matrix random"
      ]
    },
    {
      "cell_type": "code",
      "metadata": {
        "colab": {
          "base_uri": "https://localhost:8080/"
        },
        "id": "2CU0WZ-KgMgJ",
        "outputId": "7708646c-4016-4d47-8356-70215c614cc3"
      },
      "source": [
        "np.random.randn(5,5) #matrix 5*5 #random เอามาจาก normal distribution ที่มี nu = 0 std =1"
      ],
      "execution_count": 13,
      "outputs": [
        {
          "output_type": "execute_result",
          "data": {
            "text/plain": [
              "array([[ 6.10473166e-01, -1.63246261e-01, -1.02551270e-01,\n",
              "        -2.49541371e-01, -9.93829079e-02],\n",
              "       [ 1.41506759e+00, -1.95198956e+00, -2.77494310e-01,\n",
              "         8.90368457e-01,  2.18776473e+00],\n",
              "       [ 7.14912982e-01,  8.24286238e-01, -1.98377342e-01,\n",
              "         2.26219068e-04, -1.08521908e+00],\n",
              "       [ 2.57779232e-01,  6.42949631e-02,  3.41635348e-01,\n",
              "         2.98268546e-01, -2.84494979e-01],\n",
              "       [ 3.10286002e-01,  8.11064155e-01, -1.23481465e+00,\n",
              "        -4.19266293e-01, -7.39934518e-01]])"
            ]
          },
          "metadata": {},
          "execution_count": 13
        }
      ]
    },
    {
      "cell_type": "code",
      "metadata": {
        "id": "nSh-cwBrhH2T"
      },
      "source": [
        "2+"
      ],
      "execution_count": null,
      "outputs": []
    }
  ]
}